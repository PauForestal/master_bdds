{
  "nbformat": 4,
  "nbformat_minor": 0,
  "metadata": {
    "colab": {
      "name": "M2_AI2_VallejoPaula.ipynb",
      "provenance": [],
      "collapsed_sections": [],
      "toc_visible": true,
      "mount_file_id": "10RTlq5Nrqpin4JEAR0nMEm2vihUWmiX5",
      "authorship_tag": "ABX9TyPRh2MDfJe9tFhZsV9YIIQn",
      "include_colab_link": true
    },
    "kernelspec": {
      "name": "python3",
      "display_name": "Python 3"
    },
    "language_info": {
      "name": "python"
    }
  },
  "cells": [
    {
      "cell_type": "markdown",
      "metadata": {
        "id": "view-in-github",
        "colab_type": "text"
      },
      "source": [
        "<a href=\"https://colab.research.google.com/github/PauForestal/master_bdds/blob/main/M2_AI2_VallejoPaula.ipynb\" target=\"_parent\"><img src=\"https://colab.research.google.com/assets/colab-badge.svg\" alt=\"Open In Colab\"/></a>"
      ]
    },
    {
      "cell_type": "code",
      "execution_count": null,
      "metadata": {
        "id": "IlpJC6U88EeY"
      },
      "outputs": [],
      "source": [
        "import pandas as pd\n",
        "import numpy as np\n",
        "import scipy.stats as ss\n",
        "import matplotlib.pyplot as plt\n",
        "import seaborn as sns\n",
        "\n",
        "%matplotlib inline"
      ]
    },
    {
      "cell_type": "code",
      "source": [
        "df = pd.read_csv('https://raw.githubusercontent.com/PauForestal/master_bdds/main/Modulo2/datos_facturas.csv', sep=\";\", decimal = ',')"
      ],
      "metadata": {
        "id": "DTx7xv7J84pw"
      },
      "execution_count": null,
      "outputs": []
    },
    {
      "cell_type": "code",
      "source": [
        "#df.sort_values('total_pagado', ascending=True)\n",
        "df.head()"
      ],
      "metadata": {
        "colab": {
          "base_uri": "https://localhost:8080/",
          "height": 204
        },
        "id": "yFZaM_d-Dl9V",
        "outputId": "ccda3c6d-e415-4e46-f055-0dcd217a67b6"
      },
      "execution_count": null,
      "outputs": [
        {
          "output_type": "execute_result",
          "data": {
            "text/html": [
              "\n",
              "  <div id=\"df-a46c9705-da21-4f35-a8d0-e6a07cb117e1\">\n",
              "    <div class=\"colab-df-container\">\n",
              "      <div>\n",
              "<style scoped>\n",
              "    .dataframe tbody tr th:only-of-type {\n",
              "        vertical-align: middle;\n",
              "    }\n",
              "\n",
              "    .dataframe tbody tr th {\n",
              "        vertical-align: top;\n",
              "    }\n",
              "\n",
              "    .dataframe thead th {\n",
              "        text-align: right;\n",
              "    }\n",
              "</style>\n",
              "<table border=\"1\" class=\"dataframe\">\n",
              "  <thead>\n",
              "    <tr style=\"text-align: right;\">\n",
              "      <th></th>\n",
              "      <th>id</th>\n",
              "      <th>fecha</th>\n",
              "      <th>mes</th>\n",
              "      <th>cliente</th>\n",
              "      <th>factura_pagada</th>\n",
              "      <th>importe_factura</th>\n",
              "      <th>tipo_IVA</th>\n",
              "      <th>porcentaje_IVA</th>\n",
              "      <th>IVA</th>\n",
              "      <th>total_pagado</th>\n",
              "    </tr>\n",
              "  </thead>\n",
              "  <tbody>\n",
              "    <tr>\n",
              "      <th>0</th>\n",
              "      <td>1</td>\n",
              "      <td>01/01/2010</td>\n",
              "      <td>Enero</td>\n",
              "      <td>clienteA</td>\n",
              "      <td>si</td>\n",
              "      <td>100</td>\n",
              "      <td>normal</td>\n",
              "      <td>18</td>\n",
              "      <td>18.0</td>\n",
              "      <td>118.0</td>\n",
              "    </tr>\n",
              "    <tr>\n",
              "      <th>1</th>\n",
              "      <td>2</td>\n",
              "      <td>02/01/2010</td>\n",
              "      <td>Enero</td>\n",
              "      <td>clienteB</td>\n",
              "      <td>no</td>\n",
              "      <td>150</td>\n",
              "      <td>normal</td>\n",
              "      <td>18</td>\n",
              "      <td>27.0</td>\n",
              "      <td>177.0</td>\n",
              "    </tr>\n",
              "    <tr>\n",
              "      <th>2</th>\n",
              "      <td>3</td>\n",
              "      <td>03/01/2010</td>\n",
              "      <td>Enero</td>\n",
              "      <td>clienteC</td>\n",
              "      <td>si</td>\n",
              "      <td>75</td>\n",
              "      <td>normal</td>\n",
              "      <td>18</td>\n",
              "      <td>13.5</td>\n",
              "      <td>88.5</td>\n",
              "    </tr>\n",
              "    <tr>\n",
              "      <th>3</th>\n",
              "      <td>4</td>\n",
              "      <td>04/01/2010</td>\n",
              "      <td>Enero</td>\n",
              "      <td>clienteD</td>\n",
              "      <td>si</td>\n",
              "      <td>200</td>\n",
              "      <td>normal</td>\n",
              "      <td>18</td>\n",
              "      <td>36.0</td>\n",
              "      <td>236.0</td>\n",
              "    </tr>\n",
              "    <tr>\n",
              "      <th>4</th>\n",
              "      <td>5</td>\n",
              "      <td>05/01/2010</td>\n",
              "      <td>Enero</td>\n",
              "      <td>clienteA</td>\n",
              "      <td>no</td>\n",
              "      <td>125</td>\n",
              "      <td>normal</td>\n",
              "      <td>18</td>\n",
              "      <td>22.5</td>\n",
              "      <td>147.5</td>\n",
              "    </tr>\n",
              "  </tbody>\n",
              "</table>\n",
              "</div>\n",
              "      <button class=\"colab-df-convert\" onclick=\"convertToInteractive('df-a46c9705-da21-4f35-a8d0-e6a07cb117e1')\"\n",
              "              title=\"Convert this dataframe to an interactive table.\"\n",
              "              style=\"display:none;\">\n",
              "        \n",
              "  <svg xmlns=\"http://www.w3.org/2000/svg\" height=\"24px\"viewBox=\"0 0 24 24\"\n",
              "       width=\"24px\">\n",
              "    <path d=\"M0 0h24v24H0V0z\" fill=\"none\"/>\n",
              "    <path d=\"M18.56 5.44l.94 2.06.94-2.06 2.06-.94-2.06-.94-.94-2.06-.94 2.06-2.06.94zm-11 1L8.5 8.5l.94-2.06 2.06-.94-2.06-.94L8.5 2.5l-.94 2.06-2.06.94zm10 10l.94 2.06.94-2.06 2.06-.94-2.06-.94-.94-2.06-.94 2.06-2.06.94z\"/><path d=\"M17.41 7.96l-1.37-1.37c-.4-.4-.92-.59-1.43-.59-.52 0-1.04.2-1.43.59L10.3 9.45l-7.72 7.72c-.78.78-.78 2.05 0 2.83L4 21.41c.39.39.9.59 1.41.59.51 0 1.02-.2 1.41-.59l7.78-7.78 2.81-2.81c.8-.78.8-2.07 0-2.86zM5.41 20L4 18.59l7.72-7.72 1.47 1.35L5.41 20z\"/>\n",
              "  </svg>\n",
              "      </button>\n",
              "      \n",
              "  <style>\n",
              "    .colab-df-container {\n",
              "      display:flex;\n",
              "      flex-wrap:wrap;\n",
              "      gap: 12px;\n",
              "    }\n",
              "\n",
              "    .colab-df-convert {\n",
              "      background-color: #E8F0FE;\n",
              "      border: none;\n",
              "      border-radius: 50%;\n",
              "      cursor: pointer;\n",
              "      display: none;\n",
              "      fill: #1967D2;\n",
              "      height: 32px;\n",
              "      padding: 0 0 0 0;\n",
              "      width: 32px;\n",
              "    }\n",
              "\n",
              "    .colab-df-convert:hover {\n",
              "      background-color: #E2EBFA;\n",
              "      box-shadow: 0px 1px 2px rgba(60, 64, 67, 0.3), 0px 1px 3px 1px rgba(60, 64, 67, 0.15);\n",
              "      fill: #174EA6;\n",
              "    }\n",
              "\n",
              "    [theme=dark] .colab-df-convert {\n",
              "      background-color: #3B4455;\n",
              "      fill: #D2E3FC;\n",
              "    }\n",
              "\n",
              "    [theme=dark] .colab-df-convert:hover {\n",
              "      background-color: #434B5C;\n",
              "      box-shadow: 0px 1px 3px 1px rgba(0, 0, 0, 0.15);\n",
              "      filter: drop-shadow(0px 1px 2px rgba(0, 0, 0, 0.3));\n",
              "      fill: #FFFFFF;\n",
              "    }\n",
              "  </style>\n",
              "\n",
              "      <script>\n",
              "        const buttonEl =\n",
              "          document.querySelector('#df-a46c9705-da21-4f35-a8d0-e6a07cb117e1 button.colab-df-convert');\n",
              "        buttonEl.style.display =\n",
              "          google.colab.kernel.accessAllowed ? 'block' : 'none';\n",
              "\n",
              "        async function convertToInteractive(key) {\n",
              "          const element = document.querySelector('#df-a46c9705-da21-4f35-a8d0-e6a07cb117e1');\n",
              "          const dataTable =\n",
              "            await google.colab.kernel.invokeFunction('convertToInteractive',\n",
              "                                                     [key], {});\n",
              "          if (!dataTable) return;\n",
              "\n",
              "          const docLinkHtml = 'Like what you see? Visit the ' +\n",
              "            '<a target=\"_blank\" href=https://colab.research.google.com/notebooks/data_table.ipynb>data table notebook</a>'\n",
              "            + ' to learn more about interactive tables.';\n",
              "          element.innerHTML = '';\n",
              "          dataTable['output_type'] = 'display_data';\n",
              "          await google.colab.output.renderOutput(dataTable, element);\n",
              "          const docLink = document.createElement('div');\n",
              "          docLink.innerHTML = docLinkHtml;\n",
              "          element.appendChild(docLink);\n",
              "        }\n",
              "      </script>\n",
              "    </div>\n",
              "  </div>\n",
              "  "
            ],
            "text/plain": [
              "   id       fecha    mes   cliente  ... tipo_IVA  porcentaje_IVA   IVA  total_pagado\n",
              "0   1  01/01/2010  Enero  clienteA  ...   normal              18  18.0         118.0\n",
              "1   2  02/01/2010  Enero  clienteB  ...   normal              18  27.0         177.0\n",
              "2   3  03/01/2010  Enero  clienteC  ...   normal              18  13.5          88.5\n",
              "3   4  04/01/2010  Enero  clienteD  ...   normal              18  36.0         236.0\n",
              "4   5  05/01/2010  Enero  clienteA  ...   normal              18  22.5         147.5\n",
              "\n",
              "[5 rows x 10 columns]"
            ]
          },
          "metadata": {},
          "execution_count": 3
        }
      ]
    },
    {
      "cell_type": "code",
      "source": [
        "df.info()"
      ],
      "metadata": {
        "colab": {
          "base_uri": "https://localhost:8080/"
        },
        "id": "xZsjei3HHcqp",
        "outputId": "bc734253-7f80-43dc-f283-d62c2ccb7f5c"
      },
      "execution_count": null,
      "outputs": [
        {
          "output_type": "stream",
          "name": "stdout",
          "text": [
            "<class 'pandas.core.frame.DataFrame'>\n",
            "RangeIndex: 45 entries, 0 to 44\n",
            "Data columns (total 10 columns):\n",
            " #   Column           Non-Null Count  Dtype  \n",
            "---  ------           --------------  -----  \n",
            " 0   id               45 non-null     int64  \n",
            " 1   fecha            45 non-null     object \n",
            " 2   mes              45 non-null     object \n",
            " 3   cliente          45 non-null     object \n",
            " 4   factura_pagada   45 non-null     object \n",
            " 5   importe_factura  45 non-null     int64  \n",
            " 6   tipo_IVA         45 non-null     object \n",
            " 7   porcentaje_IVA   45 non-null     int64  \n",
            " 8   IVA              45 non-null     float64\n",
            " 9   total_pagado     45 non-null     float64\n",
            "dtypes: float64(2), int64(3), object(5)\n",
            "memory usage: 3.6+ KB\n"
          ]
        }
      ]
    },
    {
      "cell_type": "code",
      "source": [
        "df.describe(include=[np.number])"
      ],
      "metadata": {
        "colab": {
          "base_uri": "https://localhost:8080/",
          "height": 297
        },
        "id": "8Shx2lqiIQiw",
        "outputId": "da576631-e44c-4ae3-f10d-d41023ad6789"
      },
      "execution_count": null,
      "outputs": [
        {
          "output_type": "execute_result",
          "data": {
            "text/html": [
              "\n",
              "  <div id=\"df-a8aea777-4488-4bf9-929a-ee81c146a1dd\">\n",
              "    <div class=\"colab-df-container\">\n",
              "      <div>\n",
              "<style scoped>\n",
              "    .dataframe tbody tr th:only-of-type {\n",
              "        vertical-align: middle;\n",
              "    }\n",
              "\n",
              "    .dataframe tbody tr th {\n",
              "        vertical-align: top;\n",
              "    }\n",
              "\n",
              "    .dataframe thead th {\n",
              "        text-align: right;\n",
              "    }\n",
              "</style>\n",
              "<table border=\"1\" class=\"dataframe\">\n",
              "  <thead>\n",
              "    <tr style=\"text-align: right;\">\n",
              "      <th></th>\n",
              "      <th>id</th>\n",
              "      <th>importe_factura</th>\n",
              "      <th>porcentaje_IVA</th>\n",
              "      <th>IVA</th>\n",
              "      <th>total_pagado</th>\n",
              "    </tr>\n",
              "  </thead>\n",
              "  <tbody>\n",
              "    <tr>\n",
              "      <th>count</th>\n",
              "      <td>45.000000</td>\n",
              "      <td>45.000000</td>\n",
              "      <td>45.000000</td>\n",
              "      <td>45.000000</td>\n",
              "      <td>45.000000</td>\n",
              "    </tr>\n",
              "    <tr>\n",
              "      <th>mean</th>\n",
              "      <td>23.000000</td>\n",
              "      <td>126.777778</td>\n",
              "      <td>16.000000</td>\n",
              "      <td>20.531111</td>\n",
              "      <td>147.308889</td>\n",
              "    </tr>\n",
              "    <tr>\n",
              "      <th>std</th>\n",
              "      <td>13.133926</td>\n",
              "      <td>49.026379</td>\n",
              "      <td>4.045199</td>\n",
              "      <td>10.026461</td>\n",
              "      <td>57.936116</td>\n",
              "    </tr>\n",
              "    <tr>\n",
              "      <th>min</th>\n",
              "      <td>1.000000</td>\n",
              "      <td>25.000000</td>\n",
              "      <td>8.000000</td>\n",
              "      <td>2.400000</td>\n",
              "      <td>29.500000</td>\n",
              "    </tr>\n",
              "    <tr>\n",
              "      <th>25%</th>\n",
              "      <td>12.000000</td>\n",
              "      <td>100.000000</td>\n",
              "      <td>18.000000</td>\n",
              "      <td>13.500000</td>\n",
              "      <td>108.000000</td>\n",
              "    </tr>\n",
              "    <tr>\n",
              "      <th>50%</th>\n",
              "      <td>23.000000</td>\n",
              "      <td>125.000000</td>\n",
              "      <td>18.000000</td>\n",
              "      <td>18.000000</td>\n",
              "      <td>135.000000</td>\n",
              "    </tr>\n",
              "    <tr>\n",
              "      <th>75%</th>\n",
              "      <td>34.000000</td>\n",
              "      <td>175.000000</td>\n",
              "      <td>18.000000</td>\n",
              "      <td>27.000000</td>\n",
              "      <td>189.000000</td>\n",
              "    </tr>\n",
              "    <tr>\n",
              "      <th>max</th>\n",
              "      <td>45.000000</td>\n",
              "      <td>200.000000</td>\n",
              "      <td>18.000000</td>\n",
              "      <td>36.000000</td>\n",
              "      <td>236.000000</td>\n",
              "    </tr>\n",
              "  </tbody>\n",
              "</table>\n",
              "</div>\n",
              "      <button class=\"colab-df-convert\" onclick=\"convertToInteractive('df-a8aea777-4488-4bf9-929a-ee81c146a1dd')\"\n",
              "              title=\"Convert this dataframe to an interactive table.\"\n",
              "              style=\"display:none;\">\n",
              "        \n",
              "  <svg xmlns=\"http://www.w3.org/2000/svg\" height=\"24px\"viewBox=\"0 0 24 24\"\n",
              "       width=\"24px\">\n",
              "    <path d=\"M0 0h24v24H0V0z\" fill=\"none\"/>\n",
              "    <path d=\"M18.56 5.44l.94 2.06.94-2.06 2.06-.94-2.06-.94-.94-2.06-.94 2.06-2.06.94zm-11 1L8.5 8.5l.94-2.06 2.06-.94-2.06-.94L8.5 2.5l-.94 2.06-2.06.94zm10 10l.94 2.06.94-2.06 2.06-.94-2.06-.94-.94-2.06-.94 2.06-2.06.94z\"/><path d=\"M17.41 7.96l-1.37-1.37c-.4-.4-.92-.59-1.43-.59-.52 0-1.04.2-1.43.59L10.3 9.45l-7.72 7.72c-.78.78-.78 2.05 0 2.83L4 21.41c.39.39.9.59 1.41.59.51 0 1.02-.2 1.41-.59l7.78-7.78 2.81-2.81c.8-.78.8-2.07 0-2.86zM5.41 20L4 18.59l7.72-7.72 1.47 1.35L5.41 20z\"/>\n",
              "  </svg>\n",
              "      </button>\n",
              "      \n",
              "  <style>\n",
              "    .colab-df-container {\n",
              "      display:flex;\n",
              "      flex-wrap:wrap;\n",
              "      gap: 12px;\n",
              "    }\n",
              "\n",
              "    .colab-df-convert {\n",
              "      background-color: #E8F0FE;\n",
              "      border: none;\n",
              "      border-radius: 50%;\n",
              "      cursor: pointer;\n",
              "      display: none;\n",
              "      fill: #1967D2;\n",
              "      height: 32px;\n",
              "      padding: 0 0 0 0;\n",
              "      width: 32px;\n",
              "    }\n",
              "\n",
              "    .colab-df-convert:hover {\n",
              "      background-color: #E2EBFA;\n",
              "      box-shadow: 0px 1px 2px rgba(60, 64, 67, 0.3), 0px 1px 3px 1px rgba(60, 64, 67, 0.15);\n",
              "      fill: #174EA6;\n",
              "    }\n",
              "\n",
              "    [theme=dark] .colab-df-convert {\n",
              "      background-color: #3B4455;\n",
              "      fill: #D2E3FC;\n",
              "    }\n",
              "\n",
              "    [theme=dark] .colab-df-convert:hover {\n",
              "      background-color: #434B5C;\n",
              "      box-shadow: 0px 1px 3px 1px rgba(0, 0, 0, 0.15);\n",
              "      filter: drop-shadow(0px 1px 2px rgba(0, 0, 0, 0.3));\n",
              "      fill: #FFFFFF;\n",
              "    }\n",
              "  </style>\n",
              "\n",
              "      <script>\n",
              "        const buttonEl =\n",
              "          document.querySelector('#df-a8aea777-4488-4bf9-929a-ee81c146a1dd button.colab-df-convert');\n",
              "        buttonEl.style.display =\n",
              "          google.colab.kernel.accessAllowed ? 'block' : 'none';\n",
              "\n",
              "        async function convertToInteractive(key) {\n",
              "          const element = document.querySelector('#df-a8aea777-4488-4bf9-929a-ee81c146a1dd');\n",
              "          const dataTable =\n",
              "            await google.colab.kernel.invokeFunction('convertToInteractive',\n",
              "                                                     [key], {});\n",
              "          if (!dataTable) return;\n",
              "\n",
              "          const docLinkHtml = 'Like what you see? Visit the ' +\n",
              "            '<a target=\"_blank\" href=https://colab.research.google.com/notebooks/data_table.ipynb>data table notebook</a>'\n",
              "            + ' to learn more about interactive tables.';\n",
              "          element.innerHTML = '';\n",
              "          dataTable['output_type'] = 'display_data';\n",
              "          await google.colab.output.renderOutput(dataTable, element);\n",
              "          const docLink = document.createElement('div');\n",
              "          docLink.innerHTML = docLinkHtml;\n",
              "          element.appendChild(docLink);\n",
              "        }\n",
              "      </script>\n",
              "    </div>\n",
              "  </div>\n",
              "  "
            ],
            "text/plain": [
              "              id  importe_factura  porcentaje_IVA        IVA  total_pagado\n",
              "count  45.000000        45.000000       45.000000  45.000000     45.000000\n",
              "mean   23.000000       126.777778       16.000000  20.531111    147.308889\n",
              "std    13.133926        49.026379        4.045199  10.026461     57.936116\n",
              "min     1.000000        25.000000        8.000000   2.400000     29.500000\n",
              "25%    12.000000       100.000000       18.000000  13.500000    108.000000\n",
              "50%    23.000000       125.000000       18.000000  18.000000    135.000000\n",
              "75%    34.000000       175.000000       18.000000  27.000000    189.000000\n",
              "max    45.000000       200.000000       18.000000  36.000000    236.000000"
            ]
          },
          "metadata": {},
          "execution_count": 5
        }
      ]
    },
    {
      "cell_type": "markdown",
      "source": [
        "## **1. MEDIDAS DE CENTRALIZACIÓN**\n",
        "\n",
        "---\n",
        "\n"
      ],
      "metadata": {
        "id": "_3swakMkEtPC"
      }
    },
    {
      "cell_type": "code",
      "source": [
        "dict_mean_median = {}\n",
        "dict_mode = {}\n",
        "\n",
        "for col, types in df.dtypes.items():\n",
        "    if col != 'id' and types != 'object':\n",
        "        columns_name = []\n",
        "        index_name = ['mean','median','mode']\n",
        "        columns_name.append(col)\n",
        "        dict_mean_median[col] = df[col].agg([\"mean\",\"median\"])\n",
        "        dict_mode[col] = df[col].mode().to_list()\n",
        "\n",
        "df_mean_median = pd.DataFrame(dict_mean_median).reset_index()\n",
        "df_mean_median.columns = ['medidas','importe_factura','porcentaje_IVA','IVA','total_pagado']\n",
        "\n",
        "df_mode = pd.DataFrame.from_dict(dict_mode,orient='index').transpose()\n",
        "df_mode['medidas'] = ['moda1','moda2']\n",
        "df_mode = df_mode[['medidas','importe_factura','porcentaje_IVA','IVA','total_pagado']]\n",
        "\n",
        "central_tendency = pd.merge(df_mean_median, df_mode, how='outer')\n",
        "central_tendency"
      ],
      "metadata": {
        "colab": {
          "base_uri": "https://localhost:8080/",
          "height": 173
        },
        "id": "4kpfdPYTlmJn",
        "outputId": "75121078-b791-4d01-a0f0-1c4c49821eb1"
      },
      "execution_count": null,
      "outputs": [
        {
          "output_type": "execute_result",
          "data": {
            "text/html": [
              "\n",
              "  <div id=\"df-07b4ce18-2c17-4af0-a149-5a4bcf567444\">\n",
              "    <div class=\"colab-df-container\">\n",
              "      <div>\n",
              "<style scoped>\n",
              "    .dataframe tbody tr th:only-of-type {\n",
              "        vertical-align: middle;\n",
              "    }\n",
              "\n",
              "    .dataframe tbody tr th {\n",
              "        vertical-align: top;\n",
              "    }\n",
              "\n",
              "    .dataframe thead th {\n",
              "        text-align: right;\n",
              "    }\n",
              "</style>\n",
              "<table border=\"1\" class=\"dataframe\">\n",
              "  <thead>\n",
              "    <tr style=\"text-align: right;\">\n",
              "      <th></th>\n",
              "      <th>medidas</th>\n",
              "      <th>importe_factura</th>\n",
              "      <th>porcentaje_IVA</th>\n",
              "      <th>IVA</th>\n",
              "      <th>total_pagado</th>\n",
              "    </tr>\n",
              "  </thead>\n",
              "  <tbody>\n",
              "    <tr>\n",
              "      <th>0</th>\n",
              "      <td>mean</td>\n",
              "      <td>126.777778</td>\n",
              "      <td>16.0</td>\n",
              "      <td>20.531111</td>\n",
              "      <td>147.308889</td>\n",
              "    </tr>\n",
              "    <tr>\n",
              "      <th>1</th>\n",
              "      <td>median</td>\n",
              "      <td>125.000000</td>\n",
              "      <td>18.0</td>\n",
              "      <td>18.000000</td>\n",
              "      <td>135.000000</td>\n",
              "    </tr>\n",
              "    <tr>\n",
              "      <th>2</th>\n",
              "      <td>moda1</td>\n",
              "      <td>100.000000</td>\n",
              "      <td>18.0</td>\n",
              "      <td>18.000000</td>\n",
              "      <td>118.000000</td>\n",
              "    </tr>\n",
              "    <tr>\n",
              "      <th>3</th>\n",
              "      <td>moda2</td>\n",
              "      <td>NaN</td>\n",
              "      <td>NaN</td>\n",
              "      <td>36.000000</td>\n",
              "      <td>236.000000</td>\n",
              "    </tr>\n",
              "  </tbody>\n",
              "</table>\n",
              "</div>\n",
              "      <button class=\"colab-df-convert\" onclick=\"convertToInteractive('df-07b4ce18-2c17-4af0-a149-5a4bcf567444')\"\n",
              "              title=\"Convert this dataframe to an interactive table.\"\n",
              "              style=\"display:none;\">\n",
              "        \n",
              "  <svg xmlns=\"http://www.w3.org/2000/svg\" height=\"24px\"viewBox=\"0 0 24 24\"\n",
              "       width=\"24px\">\n",
              "    <path d=\"M0 0h24v24H0V0z\" fill=\"none\"/>\n",
              "    <path d=\"M18.56 5.44l.94 2.06.94-2.06 2.06-.94-2.06-.94-.94-2.06-.94 2.06-2.06.94zm-11 1L8.5 8.5l.94-2.06 2.06-.94-2.06-.94L8.5 2.5l-.94 2.06-2.06.94zm10 10l.94 2.06.94-2.06 2.06-.94-2.06-.94-.94-2.06-.94 2.06-2.06.94z\"/><path d=\"M17.41 7.96l-1.37-1.37c-.4-.4-.92-.59-1.43-.59-.52 0-1.04.2-1.43.59L10.3 9.45l-7.72 7.72c-.78.78-.78 2.05 0 2.83L4 21.41c.39.39.9.59 1.41.59.51 0 1.02-.2 1.41-.59l7.78-7.78 2.81-2.81c.8-.78.8-2.07 0-2.86zM5.41 20L4 18.59l7.72-7.72 1.47 1.35L5.41 20z\"/>\n",
              "  </svg>\n",
              "      </button>\n",
              "      \n",
              "  <style>\n",
              "    .colab-df-container {\n",
              "      display:flex;\n",
              "      flex-wrap:wrap;\n",
              "      gap: 12px;\n",
              "    }\n",
              "\n",
              "    .colab-df-convert {\n",
              "      background-color: #E8F0FE;\n",
              "      border: none;\n",
              "      border-radius: 50%;\n",
              "      cursor: pointer;\n",
              "      display: none;\n",
              "      fill: #1967D2;\n",
              "      height: 32px;\n",
              "      padding: 0 0 0 0;\n",
              "      width: 32px;\n",
              "    }\n",
              "\n",
              "    .colab-df-convert:hover {\n",
              "      background-color: #E2EBFA;\n",
              "      box-shadow: 0px 1px 2px rgba(60, 64, 67, 0.3), 0px 1px 3px 1px rgba(60, 64, 67, 0.15);\n",
              "      fill: #174EA6;\n",
              "    }\n",
              "\n",
              "    [theme=dark] .colab-df-convert {\n",
              "      background-color: #3B4455;\n",
              "      fill: #D2E3FC;\n",
              "    }\n",
              "\n",
              "    [theme=dark] .colab-df-convert:hover {\n",
              "      background-color: #434B5C;\n",
              "      box-shadow: 0px 1px 3px 1px rgba(0, 0, 0, 0.15);\n",
              "      filter: drop-shadow(0px 1px 2px rgba(0, 0, 0, 0.3));\n",
              "      fill: #FFFFFF;\n",
              "    }\n",
              "  </style>\n",
              "\n",
              "      <script>\n",
              "        const buttonEl =\n",
              "          document.querySelector('#df-07b4ce18-2c17-4af0-a149-5a4bcf567444 button.colab-df-convert');\n",
              "        buttonEl.style.display =\n",
              "          google.colab.kernel.accessAllowed ? 'block' : 'none';\n",
              "\n",
              "        async function convertToInteractive(key) {\n",
              "          const element = document.querySelector('#df-07b4ce18-2c17-4af0-a149-5a4bcf567444');\n",
              "          const dataTable =\n",
              "            await google.colab.kernel.invokeFunction('convertToInteractive',\n",
              "                                                     [key], {});\n",
              "          if (!dataTable) return;\n",
              "\n",
              "          const docLinkHtml = 'Like what you see? Visit the ' +\n",
              "            '<a target=\"_blank\" href=https://colab.research.google.com/notebooks/data_table.ipynb>data table notebook</a>'\n",
              "            + ' to learn more about interactive tables.';\n",
              "          element.innerHTML = '';\n",
              "          dataTable['output_type'] = 'display_data';\n",
              "          await google.colab.output.renderOutput(dataTable, element);\n",
              "          const docLink = document.createElement('div');\n",
              "          docLink.innerHTML = docLinkHtml;\n",
              "          element.appendChild(docLink);\n",
              "        }\n",
              "      </script>\n",
              "    </div>\n",
              "  </div>\n",
              "  "
            ],
            "text/plain": [
              "  medidas  importe_factura  porcentaje_IVA        IVA  total_pagado\n",
              "0    mean       126.777778            16.0  20.531111    147.308889\n",
              "1  median       125.000000            18.0  18.000000    135.000000\n",
              "2   moda1       100.000000            18.0  18.000000    118.000000\n",
              "3   moda2              NaN             NaN  36.000000    236.000000"
            ]
          },
          "metadata": {},
          "execution_count": 6
        }
      ]
    },
    {
      "cell_type": "code",
      "source": [
        "def central_tendency(col):\n",
        "  mean = f'MEAN: {round(df[col].mean(),2)}'\n",
        "  median = f'MEDIAN: {df[col].median()}'\n",
        "  mode = f'MODE: {df[col].mode().to_list()}'\n",
        "  print(f'Las medidas de tendencia central para la variable \"{col}\" son:\\n\\n{mean}\\n{median}\\n{mode}\\n')"
      ],
      "metadata": {
        "id": "N0bNA-KdJB_A"
      },
      "execution_count": null,
      "outputs": []
    },
    {
      "cell_type": "code",
      "source": [
        "central_tendency('total_pagado')"
      ],
      "metadata": {
        "id": "jHpsbPvJmpec",
        "colab": {
          "base_uri": "https://localhost:8080/"
        },
        "outputId": "b4da3057-928d-4fc0-d2d5-825773eb172d"
      },
      "execution_count": null,
      "outputs": [
        {
          "output_type": "stream",
          "name": "stdout",
          "text": [
            "Las medidas de tendencia central para la variable \"total_pagado\" son:\n",
            "\n",
            "MEAN: 147.31\n",
            "MEDIAN: 135.0\n",
            "MODE: [118.0, 236.0]\n",
            "\n"
          ]
        }
      ]
    },
    {
      "cell_type": "code",
      "source": [
        "for col, types in df.dtypes.items():\n",
        "    if col != 'id' and types != 'object':\n",
        "        central_tendency(col)    "
      ],
      "metadata": {
        "id": "qRBh7NA9oP4N",
        "colab": {
          "base_uri": "https://localhost:8080/"
        },
        "outputId": "c295b863-d62d-4002-b8ac-04c58371cd9f"
      },
      "execution_count": null,
      "outputs": [
        {
          "output_type": "stream",
          "name": "stdout",
          "text": [
            "Las medidas de tendencia central para la variable \"importe_factura\" son:\n",
            "\n",
            "MEAN: 126.78\n",
            "MEDIAN: 125.0\n",
            "MODE: [100]\n",
            "\n",
            "Las medidas de tendencia central para la variable \"porcentaje_IVA\" son:\n",
            "\n",
            "MEAN: 16.0\n",
            "MEDIAN: 18.0\n",
            "MODE: [18]\n",
            "\n",
            "Las medidas de tendencia central para la variable \"IVA\" son:\n",
            "\n",
            "MEAN: 20.53\n",
            "MEDIAN: 18.0\n",
            "MODE: [18.0, 36.0]\n",
            "\n",
            "Las medidas de tendencia central para la variable \"total_pagado\" son:\n",
            "\n",
            "MEAN: 147.31\n",
            "MEDIAN: 135.0\n",
            "MODE: [118.0, 236.0]\n",
            "\n"
          ]
        }
      ]
    },
    {
      "cell_type": "markdown",
      "source": [
        "## **2. MEDIDAS DE DISPERSION**\n",
        "\n",
        "---"
      ],
      "metadata": {
        "id": "GBiQaX3oEkKC"
      }
    },
    {
      "cell_type": "code",
      "source": [
        "def dispersion_measure(col):\n",
        "    range = np.max(df[col]) - np.min(df[col])\n",
        "    variance = round(np.var(df[col], ddof=1),2)\n",
        "    standard_deviation = round(np.std(df[col], ddof=1),2)\n",
        "    cv = '{:.2%}'.format(standard_deviation / np.mean(df[col]))\n",
        "    print(f'Las medidas de dispersión para la variable \"{col}\" son:\\n\\nRANGE: {range}\\nVARIANCE: {variance}\\nSTANDARD DEVIATION: {standard_deviation}\\nCORRELATION COEFFICIENT: {cv}')"
      ],
      "metadata": {
        "id": "PiKW1hyzo0ML"
      },
      "execution_count": null,
      "outputs": []
    },
    {
      "cell_type": "code",
      "source": [
        "dispersion_measure('total_pagado')"
      ],
      "metadata": {
        "colab": {
          "base_uri": "https://localhost:8080/"
        },
        "id": "6naj6AE-r7N3",
        "outputId": "b406d49c-2737-44df-f079-3cfafcdf0e9a"
      },
      "execution_count": null,
      "outputs": [
        {
          "output_type": "stream",
          "name": "stdout",
          "text": [
            "Las medidas de dispersión para la variable \"total_pagado\" son:\n",
            "\n",
            "RANGE: 206.5\n",
            "VARIANCE: 3356.59\n",
            "STANDARD DEVIATION: 57.94\n",
            "CORRELATION COEFFICIENT: 39.33%\n"
          ]
        }
      ]
    },
    {
      "cell_type": "markdown",
      "source": [
        "## **3. MEDIDAS DE POSICIÓN**\n",
        "\n",
        "---"
      ],
      "metadata": {
        "id": "mq-KQogZEwba"
      }
    },
    {
      "cell_type": "code",
      "source": [
        "def position_measure(col):\n",
        "  IQR = ss.iqr(df[col], interpolation='midpoint')\n",
        "  #Q1 = np.percentile(df[col], 25, interpolation='midpoint')\n",
        "  Q1 = df[col].quantile(0.25)\n",
        "  #D3 = np.percentile(df[col], 90, interpolation='midpoint')\n",
        "  D3 = df[col].quantile(0.9)\n",
        "  print(f'INTERQUARTILE RANGE: {IQR}\\nQ1: {Q1}\\nD3: {D3}')"
      ],
      "metadata": {
        "id": "h8kwA5KI3_v9"
      },
      "execution_count": 83,
      "outputs": []
    },
    {
      "cell_type": "code",
      "source": [
        "position_measure('total_pagado')"
      ],
      "metadata": {
        "colab": {
          "base_uri": "https://localhost:8080/"
        },
        "id": "zV3HzSLh4TAd",
        "outputId": "889ead23-feb9-46e2-92d0-0e13b99dd3d8"
      },
      "execution_count": null,
      "outputs": [
        {
          "output_type": "stream",
          "name": "stdout",
          "text": [
            "INTERQUARTILE RANGE: 81.0\n",
            "FIRST QUARTILE: 108.0\n",
            "DECILE: 236.0\n"
          ]
        }
      ]
    },
    {
      "cell_type": "code",
      "source": [
        "df['Decile_rank'] = pd.qcut(df['total_pagado'], q=10, duplicates='drop')"
      ],
      "metadata": {
        "id": "WsEQY_YN-8T7"
      },
      "execution_count": 82,
      "outputs": []
    },
    {
      "cell_type": "markdown",
      "source": [
        "## **4. MEDIDAS DE CONCENTRACIÓN y FORMA (DISTRIBUCIÓN)**\n",
        "\n",
        "---"
      ],
      "metadata": {
        "id": "Kyl06h8P1Lrd"
      }
    },
    {
      "cell_type": "code",
      "source": [
        "def distribution_measure(col):\n",
        "    asimetria = round(df[col].skew(), 3)\n",
        "    curtosis = round(df[col].kurt(), 3)\n",
        "    print(f'Las medidas de distribución (o concentración y forma) para la variable \"{col}\" son:\\n\\nASIMETRIA: {asimetria},\\nCURTOSIS: {curtosis}\\n')"
      ],
      "metadata": {
        "id": "49s8Pz98_UJ4"
      },
      "execution_count": null,
      "outputs": []
    },
    {
      "cell_type": "code",
      "source": [
        "distribution_measure('total_pagado')\n",
        "\n",
        "mean=df['total_pagado'].mean()\n",
        "median=df['total_pagado'].median()\n",
        "mode=df['total_pagado'].mode()\n",
        "\n",
        "fig, ax = plt.subplots(figsize=(10,6))\n",
        "\n",
        "sns.distplot(df['total_pagado']);\n",
        "\n",
        "plt.title('Grafico de distribución de la variable \"total_pagado\"')\n",
        "plt.axvline(mean, color='green', label='Mean')\n",
        "plt.axvline(median, color='blue', label='Median', linestyle = '--')\n",
        "plt.axvline(mode[0], color='red', label='Mode1')\n",
        "plt.axvline(mode[1], color='orange', label='Mode2')\n",
        "plt.legend();"
      ],
      "metadata": {
        "colab": {
          "base_uri": "https://localhost:8080/",
          "height": 544
        },
        "id": "ck-ESuR4Hjvr",
        "outputId": "76a493a0-c89c-4973-e9b1-e9723f1a8266"
      },
      "execution_count": null,
      "outputs": [
        {
          "output_type": "stream",
          "name": "stdout",
          "text": [
            "Las medidas de distribución (o concentración y forma) para la variable \"total_pagado\" son:\n",
            "\n",
            "ASIMETRIA: 0.096,\n",
            "CURTOSIS: -0.799\n",
            "\n"
          ]
        },
        {
          "output_type": "stream",
          "name": "stderr",
          "text": [
            "/usr/local/lib/python3.7/dist-packages/seaborn/distributions.py:2619: FutureWarning: `distplot` is a deprecated function and will be removed in a future version. Please adapt your code to use either `displot` (a figure-level function with similar flexibility) or `histplot` (an axes-level function for histograms).\n",
            "  warnings.warn(msg, FutureWarning)\n"
          ]
        },
        {
          "output_type": "display_data",
          "data": {
            "image/png": "[encoded data removed]",
            "text/plain": [
              "<Figure size 720x432 with 1 Axes>"
            ]
          },
          "metadata": {
            "needs_background": "light"
          }
        }
      ]
    },
    {
      "cell_type": "markdown",
      "source": [
        "## **5. ANÁLISIS BOXPLOT Y SUS MEDIDAS**\n",
        "\n",
        "\n",
        "---"
      ],
      "metadata": {
        "id": "zBfV9OE51ez1"
      }
    },
    {
      "cell_type": "code",
      "source": [
        "data = df['total_pagado']\n",
        "bp = plt.boxplot(data, showmeans=True)\n",
        "\n",
        "medians = [round(item.get_ydata()[0], 1) for item in bp['medians']]\n",
        "means = [round(item.get_ydata()[0], 1) for item in bp['means']]\n",
        "minimums = [round(item.get_ydata()[0], 1) for item in bp['caps']][::2]\n",
        "maximums = [round(item.get_ydata()[0], 1) for item in bp['caps']][1::2]\n",
        "q1 = [round(min(item.get_ydata()), 1) for item in bp['boxes']]\n",
        "q3 = [round(max(item.get_ydata()), 1) for item in bp['boxes']]\n",
        "fliers = [item.get_ydata() for item in bp['fliers']]\n",
        "lower_outliers = []\n",
        "upper_outliers = []\n",
        "\n",
        "for i in range(len(fliers)):\n",
        "    lower_outliers_by_box = []\n",
        "    upper_outliers_by_box = []\n",
        "    for outlier in fliers[i]:\n",
        "        if outlier < q1[i]:\n",
        "            lower_outliers_by_box.append(round(outlier, 1))\n",
        "        else:\n",
        "            upper_outliers_by_box.append(round(outlier, 1))\n",
        "    lower_outliers.append(lower_outliers_by_box)\n",
        "    upper_outliers.append(upper_outliers_by_box)    \n",
        "    \n",
        "stats = [medians, means, minimums, maximums, q1, q3, lower_outliers, upper_outliers]\n",
        "stats_names = ['Median', 'Mean', 'Minimum', 'Maximum', 'Q1', 'Q3', 'Lower outliers', 'Upper outliers']\n",
        "\n",
        "for j in range(len(stats)):\n",
        "    print(f'{stats_names[j]}: {stats[j][i]}')\n",
        "\n",
        "print('\\n')"
      ],
      "metadata": {
        "colab": {
          "base_uri": "https://localhost:8080/",
          "height": 435
        },
        "id": "x9taShmCMl7D",
        "outputId": "8eb8d551-6332-4efb-8a97-b82a21ce1587"
      },
      "execution_count": null,
      "outputs": [
        {
          "output_type": "stream",
          "name": "stdout",
          "text": [
            "Median: 135.0\n",
            "Mean: 147.3\n",
            "Minimum: 29.5\n",
            "Maximum: 236.0\n",
            "Q1: 108.0\n",
            "Q3: 189.0\n",
            "Lower outliers: []\n",
            "Upper outliers: []\n",
            "\n",
            "\n"
          ]
        },
        {
          "output_type": "display_data",
          "data": {
            "image/png": "[encoded data removed]",
            "text/plain": [
              "<Figure size 432x288 with 1 Axes>"
            ]
          },
          "metadata": {
            "needs_background": "light"
          }
        }
      ]
    },
    {
      "cell_type": "markdown",
      "source": [
        "## **6. ANÁLISIS DE PAGO DE FACTURAS POR CLIENTE**\n",
        "\n",
        "---"
      ],
      "metadata": {
        "id": "jHWgBX1O11ii"
      }
    },
    {
      "cell_type": "code",
      "source": [
        "df.groupby('cliente')['total_pagado'].sum()"
      ],
      "metadata": {
        "colab": {
          "base_uri": "https://localhost:8080/"
        },
        "id": "TwOi4dBMbpGH",
        "outputId": "bc0defbf-6f15-4018-b482-a6ae2a4db5f5"
      },
      "execution_count": null,
      "outputs": [
        {
          "output_type": "execute_result",
          "data": {
            "text/plain": [
              "cliente\n",
              "clienteA    2099.0\n",
              "clienteB    1337.0\n",
              "clienteC    1154.5\n",
              "clienteD    2038.4\n",
              "Name: total_pagado, dtype: float64"
            ]
          },
          "metadata": {},
          "execution_count": 27
        }
      ]
    },
    {
      "cell_type": "code",
      "source": [
        "df.query('factura_pagada == \"si\"').groupby('cliente')['total_pagado'].sum()"
      ],
      "metadata": {
        "colab": {
          "base_uri": "https://localhost:8080/"
        },
        "id": "fAsADUZFfP9_",
        "outputId": "1ce2de29-1a1f-406d-a21a-0282bfb247f0"
      },
      "execution_count": null,
      "outputs": [
        {
          "output_type": "execute_result",
          "data": {
            "text/plain": [
              "cliente\n",
              "clienteA    1534.0\n",
              "clienteB     924.0\n",
              "clienteC     584.5\n",
              "clienteD    1534.0\n",
              "Name: total_pagado, dtype: float64"
            ]
          },
          "metadata": {},
          "execution_count": 28
        }
      ]
    },
    {
      "cell_type": "markdown",
      "source": [
        "## **7. ANÁLISIS DE FACTURAS NO PAGADAS POR CLIENTE, EN EL MES DE FEBRERO**\n",
        "\n",
        "---"
      ],
      "metadata": {
        "id": "9DWQAfjn11TB"
      }
    },
    {
      "cell_type": "code",
      "source": [
        "df.query('factura_pagada == \"no\" and mes == \"Febrero\"').groupby(['cliente','mes','factura_pagada']).agg({'total_pagado': 'sum', 'factura_pagada': 'count'}).sort_values('total_pagado', ascending=False)"
      ],
      "metadata": {
        "colab": {
          "base_uri": "https://localhost:8080/",
          "height": 204
        },
        "id": "F6c6be_bfUbu",
        "outputId": "b86cb7a9-ceb4-454e-ae2a-324fc43d7761"
      },
      "execution_count": null,
      "outputs": [
        {
          "output_type": "execute_result",
          "data": {
            "text/html": [
              "\n",
              "  <div id=\"df-7f26a7b6-b2a2-4081-a7ca-93788f2b9c7d\">\n",
              "    <div class=\"colab-df-container\">\n",
              "      <div>\n",
              "<style scoped>\n",
              "    .dataframe tbody tr th:only-of-type {\n",
              "        vertical-align: middle;\n",
              "    }\n",
              "\n",
              "    .dataframe tbody tr th {\n",
              "        vertical-align: top;\n",
              "    }\n",
              "\n",
              "    .dataframe thead th {\n",
              "        text-align: right;\n",
              "    }\n",
              "</style>\n",
              "<table border=\"1\" class=\"dataframe\">\n",
              "  <thead>\n",
              "    <tr style=\"text-align: right;\">\n",
              "      <th></th>\n",
              "      <th></th>\n",
              "      <th></th>\n",
              "      <th>total_pagado</th>\n",
              "      <th>factura_pagada</th>\n",
              "    </tr>\n",
              "    <tr>\n",
              "      <th>cliente</th>\n",
              "      <th>mes</th>\n",
              "      <th>factura_pagada</th>\n",
              "      <th></th>\n",
              "      <th></th>\n",
              "    </tr>\n",
              "  </thead>\n",
              "  <tbody>\n",
              "    <tr>\n",
              "      <th>clienteC</th>\n",
              "      <th>Febrero</th>\n",
              "      <th>no</th>\n",
              "      <td>285.0</td>\n",
              "      <td>2</td>\n",
              "    </tr>\n",
              "    <tr>\n",
              "      <th>clienteA</th>\n",
              "      <th>Febrero</th>\n",
              "      <th>no</th>\n",
              "      <td>135.0</td>\n",
              "      <td>1</td>\n",
              "    </tr>\n",
              "    <tr>\n",
              "      <th>clienteB</th>\n",
              "      <th>Febrero</th>\n",
              "      <th>no</th>\n",
              "      <td>59.0</td>\n",
              "      <td>1</td>\n",
              "    </tr>\n",
              "    <tr>\n",
              "      <th>clienteD</th>\n",
              "      <th>Febrero</th>\n",
              "      <th>no</th>\n",
              "      <td>32.4</td>\n",
              "      <td>1</td>\n",
              "    </tr>\n",
              "  </tbody>\n",
              "</table>\n",
              "</div>\n",
              "      <button class=\"colab-df-convert\" onclick=\"convertToInteractive('df-7f26a7b6-b2a2-4081-a7ca-93788f2b9c7d')\"\n",
              "              title=\"Convert this dataframe to an interactive table.\"\n",
              "              style=\"display:none;\">\n",
              "        \n",
              "  <svg xmlns=\"http://www.w3.org/2000/svg\" height=\"24px\"viewBox=\"0 0 24 24\"\n",
              "       width=\"24px\">\n",
              "    <path d=\"M0 0h24v24H0V0z\" fill=\"none\"/>\n",
              "    <path d=\"M18.56 5.44l.94 2.06.94-2.06 2.06-.94-2.06-.94-.94-2.06-.94 2.06-2.06.94zm-11 1L8.5 8.5l.94-2.06 2.06-.94-2.06-.94L8.5 2.5l-.94 2.06-2.06.94zm10 10l.94 2.06.94-2.06 2.06-.94-2.06-.94-.94-2.06-.94 2.06-2.06.94z\"/><path d=\"M17.41 7.96l-1.37-1.37c-.4-.4-.92-.59-1.43-.59-.52 0-1.04.2-1.43.59L10.3 9.45l-7.72 7.72c-.78.78-.78 2.05 0 2.83L4 21.41c.39.39.9.59 1.41.59.51 0 1.02-.2 1.41-.59l7.78-7.78 2.81-2.81c.8-.78.8-2.07 0-2.86zM5.41 20L4 18.59l7.72-7.72 1.47 1.35L5.41 20z\"/>\n",
              "  </svg>\n",
              "      </button>\n",
              "      \n",
              "  <style>\n",
              "    .colab-df-container {\n",
              "      display:flex;\n",
              "      flex-wrap:wrap;\n",
              "      gap: 12px;\n",
              "    }\n",
              "\n",
              "    .colab-df-convert {\n",
              "      background-color: #E8F0FE;\n",
              "      border: none;\n",
              "      border-radius: 50%;\n",
              "      cursor: pointer;\n",
              "      display: none;\n",
              "      fill: #1967D2;\n",
              "      height: 32px;\n",
              "      padding: 0 0 0 0;\n",
              "      width: 32px;\n",
              "    }\n",
              "\n",
              "    .colab-df-convert:hover {\n",
              "      background-color: #E2EBFA;\n",
              "      box-shadow: 0px 1px 2px rgba(60, 64, 67, 0.3), 0px 1px 3px 1px rgba(60, 64, 67, 0.15);\n",
              "      fill: #174EA6;\n",
              "    }\n",
              "\n",
              "    [theme=dark] .colab-df-convert {\n",
              "      background-color: #3B4455;\n",
              "      fill: #D2E3FC;\n",
              "    }\n",
              "\n",
              "    [theme=dark] .colab-df-convert:hover {\n",
              "      background-color: #434B5C;\n",
              "      box-shadow: 0px 1px 3px 1px rgba(0, 0, 0, 0.15);\n",
              "      filter: drop-shadow(0px 1px 2px rgba(0, 0, 0, 0.3));\n",
              "      fill: #FFFFFF;\n",
              "    }\n",
              "  </style>\n",
              "\n",
              "      <script>\n",
              "        const buttonEl =\n",
              "          document.querySelector('#df-7f26a7b6-b2a2-4081-a7ca-93788f2b9c7d button.colab-df-convert');\n",
              "        buttonEl.style.display =\n",
              "          google.colab.kernel.accessAllowed ? 'block' : 'none';\n",
              "\n",
              "        async function convertToInteractive(key) {\n",
              "          const element = document.querySelector('#df-7f26a7b6-b2a2-4081-a7ca-93788f2b9c7d');\n",
              "          const dataTable =\n",
              "            await google.colab.kernel.invokeFunction('convertToInteractive',\n",
              "                                                     [key], {});\n",
              "          if (!dataTable) return;\n",
              "\n",
              "          const docLinkHtml = 'Like what you see? Visit the ' +\n",
              "            '<a target=\"_blank\" href=https://colab.research.google.com/notebooks/data_table.ipynb>data table notebook</a>'\n",
              "            + ' to learn more about interactive tables.';\n",
              "          element.innerHTML = '';\n",
              "          dataTable['output_type'] = 'display_data';\n",
              "          await google.colab.output.renderOutput(dataTable, element);\n",
              "          const docLink = document.createElement('div');\n",
              "          docLink.innerHTML = docLinkHtml;\n",
              "          element.appendChild(docLink);\n",
              "        }\n",
              "      </script>\n",
              "    </div>\n",
              "  </div>\n",
              "  "
            ],
            "text/plain": [
              "                                 total_pagado  factura_pagada\n",
              "cliente  mes     factura_pagada                              \n",
              "clienteC Febrero no                     285.0               2\n",
              "clienteA Febrero no                     135.0               1\n",
              "clienteB Febrero no                      59.0               1\n",
              "clienteD Febrero no                      32.4               1"
            ]
          },
          "metadata": {},
          "execution_count": 44
        }
      ]
    },
    {
      "cell_type": "markdown",
      "source": [
        "## **8. GRAFICO DE DISPERSIÓN ENTRE TOTAL PAGADO DE FACTURAS E IVA APLICADO**\n",
        "\n",
        "---"
      ],
      "metadata": {
        "id": "I-u2A63W11Dn"
      }
    },
    {
      "cell_type": "code",
      "source": [
        "# diagrama de dispersión\n",
        "sns.set_theme(style=\"darkgrid\")\n",
        "\n",
        "sns.relplot(x='total_pagado', y='IVA', hue='tipo_IVA', style='factura_pagada', data=df);"
      ],
      "metadata": {
        "colab": {
          "base_uri": "https://localhost:8080/",
          "height": 365
        },
        "id": "iM_-jQ6ZhgkE",
        "outputId": "f3d8ca05-59e8-4738-9708-8b787b05b396"
      },
      "execution_count": null,
      "outputs": [
        {
          "output_type": "display_data",
          "data": {
            "image/png": "[encoded data removed]",
            "text/plain": [
              "<Figure size 472.1x360 with 1 Axes>"
            ]
          },
          "metadata": {}
        }
      ]
    },
    {
      "cell_type": "code",
      "source": [
        "sns.relplot(x='IVA', y='total_pagado', hue='tipo_IVA', style='factura_pagada', data=df);"
      ],
      "metadata": {
        "colab": {
          "base_uri": "https://localhost:8080/",
          "height": 365
        },
        "id": "kroK34W8q0l2",
        "outputId": "deaae365-33ab-4288-a573-de515d7b633d"
      },
      "execution_count": null,
      "outputs": [
        {
          "output_type": "display_data",
          "data": {
            "image/png": "[encoded data removed]",
            "text/plain": [
              "<Figure size 472.1x360 with 1 Axes>"
            ]
          },
          "metadata": {}
        }
      ]
    },
    {
      "cell_type": "markdown",
      "source": [
        "## **7. COVARIANZA ENTRE TOTAL PAGADO E IVA APLICADO**\n",
        "\n",
        "---"
      ],
      "metadata": {
        "id": "swjTIKhe10uI"
      }
    },
    {
      "cell_type": "code",
      "source": [
        "def cov(a,b):\n",
        "  cov = round(((df[a] -  df[a].mean()) * (df[b] -  df[b].mean())).sum() / (df.shape[0] - 1),2)\n",
        "  return cov"
      ],
      "metadata": {
        "id": "MaKl9bHIvLq_"
      },
      "execution_count": 80,
      "outputs": []
    },
    {
      "cell_type": "code",
      "source": [
        "cov('IVA','total_pagado')"
      ],
      "metadata": {
        "colab": {
          "base_uri": "https://localhost:8080/"
        },
        "id": "-jWkf_P90P7U",
        "outputId": "0ed8532d-3cc2-48e3-efec-08ae5cddef6d"
      },
      "execution_count": 81,
      "outputs": [
        {
          "output_type": "execute_result",
          "data": {
            "text/plain": [
              "526.77"
            ]
          },
          "metadata": {},
          "execution_count": 81
        }
      ]
    },
    {
      "cell_type": "code",
      "source": [
        "df[['total_pagado','IVA']].corr()"
      ],
      "metadata": {
        "colab": {
          "base_uri": "https://localhost:8080/",
          "height": 111
        },
        "id": "BcPZMr98z2Ev",
        "outputId": "e718860d-3835-4023-ded5-7e12c8d4cfdb"
      },
      "execution_count": 76,
      "outputs": [
        {
          "output_type": "execute_result",
          "data": {
            "text/html": [
              "\n",
              "  <div id=\"df-51dc5ec7-2abc-43ca-9d10-fc1eb740a856\">\n",
              "    <div class=\"colab-df-container\">\n",
              "      <div>\n",
              "<style scoped>\n",
              "    .dataframe tbody tr th:only-of-type {\n",
              "        vertical-align: middle;\n",
              "    }\n",
              "\n",
              "    .dataframe tbody tr th {\n",
              "        vertical-align: top;\n",
              "    }\n",
              "\n",
              "    .dataframe thead th {\n",
              "        text-align: right;\n",
              "    }\n",
              "</style>\n",
              "<table border=\"1\" class=\"dataframe\">\n",
              "  <thead>\n",
              "    <tr style=\"text-align: right;\">\n",
              "      <th></th>\n",
              "      <th>total_pagado</th>\n",
              "      <th>IVA</th>\n",
              "    </tr>\n",
              "  </thead>\n",
              "  <tbody>\n",
              "    <tr>\n",
              "      <th>total_pagado</th>\n",
              "      <td>1.000000</td>\n",
              "      <td>0.906824</td>\n",
              "    </tr>\n",
              "    <tr>\n",
              "      <th>IVA</th>\n",
              "      <td>0.906824</td>\n",
              "      <td>1.000000</td>\n",
              "    </tr>\n",
              "  </tbody>\n",
              "</table>\n",
              "</div>\n",
              "      <button class=\"colab-df-convert\" onclick=\"convertToInteractive('df-51dc5ec7-2abc-43ca-9d10-fc1eb740a856')\"\n",
              "              title=\"Convert this dataframe to an interactive table.\"\n",
              "              style=\"display:none;\">\n",
              "        \n",
              "  <svg xmlns=\"http://www.w3.org/2000/svg\" height=\"24px\"viewBox=\"0 0 24 24\"\n",
              "       width=\"24px\">\n",
              "    <path d=\"M0 0h24v24H0V0z\" fill=\"none\"/>\n",
              "    <path d=\"M18.56 5.44l.94 2.06.94-2.06 2.06-.94-2.06-.94-.94-2.06-.94 2.06-2.06.94zm-11 1L8.5 8.5l.94-2.06 2.06-.94-2.06-.94L8.5 2.5l-.94 2.06-2.06.94zm10 10l.94 2.06.94-2.06 2.06-.94-2.06-.94-.94-2.06-.94 2.06-2.06.94z\"/><path d=\"M17.41 7.96l-1.37-1.37c-.4-.4-.92-.59-1.43-.59-.52 0-1.04.2-1.43.59L10.3 9.45l-7.72 7.72c-.78.78-.78 2.05 0 2.83L4 21.41c.39.39.9.59 1.41.59.51 0 1.02-.2 1.41-.59l7.78-7.78 2.81-2.81c.8-.78.8-2.07 0-2.86zM5.41 20L4 18.59l7.72-7.72 1.47 1.35L5.41 20z\"/>\n",
              "  </svg>\n",
              "      </button>\n",
              "      \n",
              "  <style>\n",
              "    .colab-df-container {\n",
              "      display:flex;\n",
              "      flex-wrap:wrap;\n",
              "      gap: 12px;\n",
              "    }\n",
              "\n",
              "    .colab-df-convert {\n",
              "      background-color: #E8F0FE;\n",
              "      border: none;\n",
              "      border-radius: 50%;\n",
              "      cursor: pointer;\n",
              "      display: none;\n",
              "      fill: #1967D2;\n",
              "      height: 32px;\n",
              "      padding: 0 0 0 0;\n",
              "      width: 32px;\n",
              "    }\n",
              "\n",
              "    .colab-df-convert:hover {\n",
              "      background-color: #E2EBFA;\n",
              "      box-shadow: 0px 1px 2px rgba(60, 64, 67, 0.3), 0px 1px 3px 1px rgba(60, 64, 67, 0.15);\n",
              "      fill: #174EA6;\n",
              "    }\n",
              "\n",
              "    [theme=dark] .colab-df-convert {\n",
              "      background-color: #3B4455;\n",
              "      fill: #D2E3FC;\n",
              "    }\n",
              "\n",
              "    [theme=dark] .colab-df-convert:hover {\n",
              "      background-color: #434B5C;\n",
              "      box-shadow: 0px 1px 3px 1px rgba(0, 0, 0, 0.15);\n",
              "      filter: drop-shadow(0px 1px 2px rgba(0, 0, 0, 0.3));\n",
              "      fill: #FFFFFF;\n",
              "    }\n",
              "  </style>\n",
              "\n",
              "      <script>\n",
              "        const buttonEl =\n",
              "          document.querySelector('#df-51dc5ec7-2abc-43ca-9d10-fc1eb740a856 button.colab-df-convert');\n",
              "        buttonEl.style.display =\n",
              "          google.colab.kernel.accessAllowed ? 'block' : 'none';\n",
              "\n",
              "        async function convertToInteractive(key) {\n",
              "          const element = document.querySelector('#df-51dc5ec7-2abc-43ca-9d10-fc1eb740a856');\n",
              "          const dataTable =\n",
              "            await google.colab.kernel.invokeFunction('convertToInteractive',\n",
              "                                                     [key], {});\n",
              "          if (!dataTable) return;\n",
              "\n",
              "          const docLinkHtml = 'Like what you see? Visit the ' +\n",
              "            '<a target=\"_blank\" href=https://colab.research.google.com/notebooks/data_table.ipynb>data table notebook</a>'\n",
              "            + ' to learn more about interactive tables.';\n",
              "          element.innerHTML = '';\n",
              "          dataTable['output_type'] = 'display_data';\n",
              "          await google.colab.output.renderOutput(dataTable, element);\n",
              "          const docLink = document.createElement('div');\n",
              "          docLink.innerHTML = docLinkHtml;\n",
              "          element.appendChild(docLink);\n",
              "        }\n",
              "      </script>\n",
              "    </div>\n",
              "  </div>\n",
              "  "
            ],
            "text/plain": [
              "              total_pagado       IVA\n",
              "total_pagado      1.000000  0.906824\n",
              "IVA               0.906824  1.000000"
            ]
          },
          "metadata": {},
          "execution_count": 76
        }
      ]
    },
    {
      "cell_type": "markdown",
      "source": [
        "- REVISAR PREGUNTA 3 RELACIONADO A LOS DECILES\n",
        "- REVISAR GRAFICO DE DISPERSIÓN\n",
        "- REVISAR COVARIANZA..."
      ],
      "metadata": {
        "id": "PEiomrzl4bOj"
      }
    }
  ]
}