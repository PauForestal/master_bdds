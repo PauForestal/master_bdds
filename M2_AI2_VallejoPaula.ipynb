{
  "nbformat": 4,
  "nbformat_minor": 0,
  "metadata": {
    "colab": {
      "name": "M2_AI2_VallejoPaula.ipynb",
      "provenance": [],
      "collapsed_sections": [],
      "toc_visible": true,
      "mount_file_id": "10RTlq5Nrqpin4JEAR0nMEm2vihUWmiX5",
      "authorship_tag": "ABX9TyO4oVy4ZT1YHKrQi0jM0ITt",
      "include_colab_link": true
    },
    "kernelspec": {
      "name": "python3",
      "display_name": "Python 3"
    },
    "language_info": {
      "name": "python"
    }
  },
  "cells": [
    {
      "cell_type": "markdown",
      "metadata": {
        "id": "view-in-github",
        "colab_type": "text"
      },
      "source": [
        "<a href=\"https://colab.research.google.com/github/PauForestal/master_bdds/blob/main/M2_AI2_VallejoPaula.ipynb\" target=\"_parent\"><img src=\"https://colab.research.google.com/assets/colab-badge.svg\" alt=\"Open In Colab\"/></a>"
      ]
    },
    {
      "cell_type": "code",
      "execution_count": 2,
      "metadata": {
        "id": "IlpJC6U88EeY"
      },
      "outputs": [],
      "source": [
        "import pandas as pd\n",
        "import numpy as np\n",
        "import scipy.stats as ss\n",
        "import matplotlib.pyplot as plt\n",
        "import seaborn as sns\n",
        "\n",
        "%matplotlib inline"
      ]
    },
    {
      "cell_type": "markdown",
      "source": [
        "## **PRELIMINAR: LECTURA Y REVISIÓN DE DATAFRAME**\n",
        "\n",
        "---"
      ],
      "metadata": {
        "id": "K2mJcUG-BCM3"
      }
    },
    {
      "cell_type": "code",
      "source": [
        "df = pd.read_csv('https://raw.githubusercontent.com/PauForestal/master_bdds/main/Modulo2/datos_facturas.csv', sep=\";\", decimal = ',')"
      ],
      "metadata": {
        "id": "DTx7xv7J84pw"
      },
      "execution_count": 3,
      "outputs": []
    },
    {
      "cell_type": "code",
      "source": [
        "#df.sort_values('total_pagado', ascending=True)\n",
        "df.sample(10)"
      ],
      "metadata": {
        "colab": {
          "base_uri": "https://localhost:8080/",
          "height": 363
        },
        "id": "yFZaM_d-Dl9V",
        "outputId": "2de5dea1-31a3-48f1-a7f8-0cf6b6b0b8e1"
      },
      "execution_count": 57,
      "outputs": [
        {
          "output_type": "execute_result",
          "data": {
            "text/html": [
              "\n",
              "  <div id=\"df-8de02f53-e5ae-44b8-a170-64c2f3d82752\">\n",
              "    <div class=\"colab-df-container\">\n",
              "      <div>\n",
              "<style scoped>\n",
              "    .dataframe tbody tr th:only-of-type {\n",
              "        vertical-align: middle;\n",
              "    }\n",
              "\n",
              "    .dataframe tbody tr th {\n",
              "        vertical-align: top;\n",
              "    }\n",
              "\n",
              "    .dataframe thead th {\n",
              "        text-align: right;\n",
              "    }\n",
              "</style>\n",
              "<table border=\"1\" class=\"dataframe\">\n",
              "  <thead>\n",
              "    <tr style=\"text-align: right;\">\n",
              "      <th></th>\n",
              "      <th>id</th>\n",
              "      <th>fecha</th>\n",
              "      <th>mes</th>\n",
              "      <th>cliente</th>\n",
              "      <th>factura_pagada</th>\n",
              "      <th>importe_factura</th>\n",
              "      <th>tipo_IVA</th>\n",
              "      <th>porcentaje_IVA</th>\n",
              "      <th>IVA</th>\n",
              "      <th>total_pagado</th>\n",
              "    </tr>\n",
              "  </thead>\n",
              "  <tbody>\n",
              "    <tr>\n",
              "      <th>17</th>\n",
              "      <td>18</td>\n",
              "      <td>18/01/2010</td>\n",
              "      <td>Enero</td>\n",
              "      <td>clienteA</td>\n",
              "      <td>si</td>\n",
              "      <td>150</td>\n",
              "      <td>normal</td>\n",
              "      <td>18</td>\n",
              "      <td>27.0</td>\n",
              "      <td>177.0</td>\n",
              "    </tr>\n",
              "    <tr>\n",
              "      <th>18</th>\n",
              "      <td>19</td>\n",
              "      <td>19/01/2010</td>\n",
              "      <td>Enero</td>\n",
              "      <td>clienteB</td>\n",
              "      <td>si</td>\n",
              "      <td>75</td>\n",
              "      <td>normal</td>\n",
              "      <td>18</td>\n",
              "      <td>13.5</td>\n",
              "      <td>88.5</td>\n",
              "    </tr>\n",
              "    <tr>\n",
              "      <th>41</th>\n",
              "      <td>42</td>\n",
              "      <td>11/02/2010</td>\n",
              "      <td>Febrero</td>\n",
              "      <td>clienteA</td>\n",
              "      <td>no</td>\n",
              "      <td>125</td>\n",
              "      <td>reducido</td>\n",
              "      <td>8</td>\n",
              "      <td>10.0</td>\n",
              "      <td>135.0</td>\n",
              "    </tr>\n",
              "    <tr>\n",
              "      <th>3</th>\n",
              "      <td>4</td>\n",
              "      <td>04/01/2010</td>\n",
              "      <td>Enero</td>\n",
              "      <td>clienteD</td>\n",
              "      <td>si</td>\n",
              "      <td>200</td>\n",
              "      <td>normal</td>\n",
              "      <td>18</td>\n",
              "      <td>36.0</td>\n",
              "      <td>236.0</td>\n",
              "    </tr>\n",
              "    <tr>\n",
              "      <th>22</th>\n",
              "      <td>23</td>\n",
              "      <td>23/01/2010</td>\n",
              "      <td>Enero</td>\n",
              "      <td>clienteB</td>\n",
              "      <td>no</td>\n",
              "      <td>150</td>\n",
              "      <td>normal</td>\n",
              "      <td>18</td>\n",
              "      <td>27.0</td>\n",
              "      <td>177.0</td>\n",
              "    </tr>\n",
              "    <tr>\n",
              "      <th>27</th>\n",
              "      <td>28</td>\n",
              "      <td>28/01/2010</td>\n",
              "      <td>Enero</td>\n",
              "      <td>clienteC</td>\n",
              "      <td>si</td>\n",
              "      <td>175</td>\n",
              "      <td>reducido</td>\n",
              "      <td>8</td>\n",
              "      <td>14.0</td>\n",
              "      <td>189.0</td>\n",
              "    </tr>\n",
              "    <tr>\n",
              "      <th>32</th>\n",
              "      <td>33</td>\n",
              "      <td>02/02/2010</td>\n",
              "      <td>Febrero</td>\n",
              "      <td>clienteD</td>\n",
              "      <td>si</td>\n",
              "      <td>75</td>\n",
              "      <td>normal</td>\n",
              "      <td>18</td>\n",
              "      <td>13.5</td>\n",
              "      <td>88.5</td>\n",
              "    </tr>\n",
              "    <tr>\n",
              "      <th>37</th>\n",
              "      <td>38</td>\n",
              "      <td>07/02/2010</td>\n",
              "      <td>Febrero</td>\n",
              "      <td>clienteA</td>\n",
              "      <td>si</td>\n",
              "      <td>100</td>\n",
              "      <td>normal</td>\n",
              "      <td>18</td>\n",
              "      <td>18.0</td>\n",
              "      <td>118.0</td>\n",
              "    </tr>\n",
              "    <tr>\n",
              "      <th>10</th>\n",
              "      <td>11</td>\n",
              "      <td>11/01/2010</td>\n",
              "      <td>Enero</td>\n",
              "      <td>clienteC</td>\n",
              "      <td>no</td>\n",
              "      <td>150</td>\n",
              "      <td>normal</td>\n",
              "      <td>18</td>\n",
              "      <td>27.0</td>\n",
              "      <td>177.0</td>\n",
              "    </tr>\n",
              "    <tr>\n",
              "      <th>38</th>\n",
              "      <td>39</td>\n",
              "      <td>08/02/2010</td>\n",
              "      <td>Febrero</td>\n",
              "      <td>clienteA</td>\n",
              "      <td>si</td>\n",
              "      <td>150</td>\n",
              "      <td>normal</td>\n",
              "      <td>18</td>\n",
              "      <td>27.0</td>\n",
              "      <td>177.0</td>\n",
              "    </tr>\n",
              "  </tbody>\n",
              "</table>\n",
              "</div>\n",
              "      <button class=\"colab-df-convert\" onclick=\"convertToInteractive('df-8de02f53-e5ae-44b8-a170-64c2f3d82752')\"\n",
              "              title=\"Convert this dataframe to an interactive table.\"\n",
              "              style=\"display:none;\">\n",
              "        \n",
              "  <svg xmlns=\"http://www.w3.org/2000/svg\" height=\"24px\"viewBox=\"0 0 24 24\"\n",
              "       width=\"24px\">\n",
              "    <path d=\"M0 0h24v24H0V0z\" fill=\"none\"/>\n",
              "    <path d=\"M18.56 5.44l.94 2.06.94-2.06 2.06-.94-2.06-.94-.94-2.06-.94 2.06-2.06.94zm-11 1L8.5 8.5l.94-2.06 2.06-.94-2.06-.94L8.5 2.5l-.94 2.06-2.06.94zm10 10l.94 2.06.94-2.06 2.06-.94-2.06-.94-.94-2.06-.94 2.06-2.06.94z\"/><path d=\"M17.41 7.96l-1.37-1.37c-.4-.4-.92-.59-1.43-.59-.52 0-1.04.2-1.43.59L10.3 9.45l-7.72 7.72c-.78.78-.78 2.05 0 2.83L4 21.41c.39.39.9.59 1.41.59.51 0 1.02-.2 1.41-.59l7.78-7.78 2.81-2.81c.8-.78.8-2.07 0-2.86zM5.41 20L4 18.59l7.72-7.72 1.47 1.35L5.41 20z\"/>\n",
              "  </svg>\n",
              "      </button>\n",
              "      \n",
              "  <style>\n",
              "    .colab-df-container {\n",
              "      display:flex;\n",
              "      flex-wrap:wrap;\n",
              "      gap: 12px;\n",
              "    }\n",
              "\n",
              "    .colab-df-convert {\n",
              "      background-color: #E8F0FE;\n",
              "      border: none;\n",
              "      border-radius: 50%;\n",
              "      cursor: pointer;\n",
              "      display: none;\n",
              "      fill: #1967D2;\n",
              "      height: 32px;\n",
              "      padding: 0 0 0 0;\n",
              "      width: 32px;\n",
              "    }\n",
              "\n",
              "    .colab-df-convert:hover {\n",
              "      background-color: #E2EBFA;\n",
              "      box-shadow: 0px 1px 2px rgba(60, 64, 67, 0.3), 0px 1px 3px 1px rgba(60, 64, 67, 0.15);\n",
              "      fill: #174EA6;\n",
              "    }\n",
              "\n",
              "    [theme=dark] .colab-df-convert {\n",
              "      background-color: #3B4455;\n",
              "      fill: #D2E3FC;\n",
              "    }\n",
              "\n",
              "    [theme=dark] .colab-df-convert:hover {\n",
              "      background-color: #434B5C;\n",
              "      box-shadow: 0px 1px 3px 1px rgba(0, 0, 0, 0.15);\n",
              "      filter: drop-shadow(0px 1px 2px rgba(0, 0, 0, 0.3));\n",
              "      fill: #FFFFFF;\n",
              "    }\n",
              "  </style>\n",
              "\n",
              "      <script>\n",
              "        const buttonEl =\n",
              "          document.querySelector('#df-8de02f53-e5ae-44b8-a170-64c2f3d82752 button.colab-df-convert');\n",
              "        buttonEl.style.display =\n",
              "          google.colab.kernel.accessAllowed ? 'block' : 'none';\n",
              "\n",
              "        async function convertToInteractive(key) {\n",
              "          const element = document.querySelector('#df-8de02f53-e5ae-44b8-a170-64c2f3d82752');\n",
              "          const dataTable =\n",
              "            await google.colab.kernel.invokeFunction('convertToInteractive',\n",
              "                                                     [key], {});\n",
              "          if (!dataTable) return;\n",
              "\n",
              "          const docLinkHtml = 'Like what you see? Visit the ' +\n",
              "            '<a target=\"_blank\" href=https://colab.research.google.com/notebooks/data_table.ipynb>data table notebook</a>'\n",
              "            + ' to learn more about interactive tables.';\n",
              "          element.innerHTML = '';\n",
              "          dataTable['output_type'] = 'display_data';\n",
              "          await google.colab.output.renderOutput(dataTable, element);\n",
              "          const docLink = document.createElement('div');\n",
              "          docLink.innerHTML = docLinkHtml;\n",
              "          element.appendChild(docLink);\n",
              "        }\n",
              "      </script>\n",
              "    </div>\n",
              "  </div>\n",
              "  "
            ],
            "text/plain": [
              "    id       fecha      mes  ... porcentaje_IVA   IVA  total_pagado\n",
              "17  18  18/01/2010    Enero  ...             18  27.0         177.0\n",
              "18  19  19/01/2010    Enero  ...             18  13.5          88.5\n",
              "41  42  11/02/2010  Febrero  ...              8  10.0         135.0\n",
              "3    4  04/01/2010    Enero  ...             18  36.0         236.0\n",
              "22  23  23/01/2010    Enero  ...             18  27.0         177.0\n",
              "27  28  28/01/2010    Enero  ...              8  14.0         189.0\n",
              "32  33  02/02/2010  Febrero  ...             18  13.5          88.5\n",
              "37  38  07/02/2010  Febrero  ...             18  18.0         118.0\n",
              "10  11  11/01/2010    Enero  ...             18  27.0         177.0\n",
              "38  39  08/02/2010  Febrero  ...             18  27.0         177.0\n",
              "\n",
              "[10 rows x 10 columns]"
            ]
          },
          "metadata": {},
          "execution_count": 57
        }
      ]
    },
    {
      "cell_type": "code",
      "source": [
        "df.info()"
      ],
      "metadata": {
        "colab": {
          "base_uri": "https://localhost:8080/"
        },
        "id": "xZsjei3HHcqp",
        "outputId": "a3222fb9-ab11-4523-8e14-64f229516622"
      },
      "execution_count": 5,
      "outputs": [
        {
          "output_type": "stream",
          "name": "stdout",
          "text": [
            "<class 'pandas.core.frame.DataFrame'>\n",
            "RangeIndex: 45 entries, 0 to 44\n",
            "Data columns (total 10 columns):\n",
            " #   Column           Non-Null Count  Dtype  \n",
            "---  ------           --------------  -----  \n",
            " 0   id               45 non-null     int64  \n",
            " 1   fecha            45 non-null     object \n",
            " 2   mes              45 non-null     object \n",
            " 3   cliente          45 non-null     object \n",
            " 4   factura_pagada   45 non-null     object \n",
            " 5   importe_factura  45 non-null     int64  \n",
            " 6   tipo_IVA         45 non-null     object \n",
            " 7   porcentaje_IVA   45 non-null     int64  \n",
            " 8   IVA              45 non-null     float64\n",
            " 9   total_pagado     45 non-null     float64\n",
            "dtypes: float64(2), int64(3), object(5)\n",
            "memory usage: 3.6+ KB\n"
          ]
        }
      ]
    },
    {
      "cell_type": "code",
      "source": [
        "df.describe(include=[np.number])"
      ],
      "metadata": {
        "colab": {
          "base_uri": "https://localhost:8080/",
          "height": 300
        },
        "id": "8Shx2lqiIQiw",
        "outputId": "dd8b3bc6-83bc-4a40-ad18-720fb75aef4c"
      },
      "execution_count": 6,
      "outputs": [
        {
          "output_type": "execute_result",
          "data": {
            "text/html": [
              "\n",
              "  <div id=\"df-920ee485-86ca-4d35-939f-b4c6e61bd253\">\n",
              "    <div class=\"colab-df-container\">\n",
              "      <div>\n",
              "<style scoped>\n",
              "    .dataframe tbody tr th:only-of-type {\n",
              "        vertical-align: middle;\n",
              "    }\n",
              "\n",
              "    .dataframe tbody tr th {\n",
              "        vertical-align: top;\n",
              "    }\n",
              "\n",
              "    .dataframe thead th {\n",
              "        text-align: right;\n",
              "    }\n",
              "</style>\n",
              "<table border=\"1\" class=\"dataframe\">\n",
              "  <thead>\n",
              "    <tr style=\"text-align: right;\">\n",
              "      <th></th>\n",
              "      <th>id</th>\n",
              "      <th>importe_factura</th>\n",
              "      <th>porcentaje_IVA</th>\n",
              "      <th>IVA</th>\n",
              "      <th>total_pagado</th>\n",
              "    </tr>\n",
              "  </thead>\n",
              "  <tbody>\n",
              "    <tr>\n",
              "      <th>count</th>\n",
              "      <td>45.000000</td>\n",
              "      <td>45.000000</td>\n",
              "      <td>45.000000</td>\n",
              "      <td>45.000000</td>\n",
              "      <td>45.000000</td>\n",
              "    </tr>\n",
              "    <tr>\n",
              "      <th>mean</th>\n",
              "      <td>23.000000</td>\n",
              "      <td>126.777778</td>\n",
              "      <td>16.000000</td>\n",
              "      <td>20.531111</td>\n",
              "      <td>147.308889</td>\n",
              "    </tr>\n",
              "    <tr>\n",
              "      <th>std</th>\n",
              "      <td>13.133926</td>\n",
              "      <td>49.026379</td>\n",
              "      <td>4.045199</td>\n",
              "      <td>10.026461</td>\n",
              "      <td>57.936116</td>\n",
              "    </tr>\n",
              "    <tr>\n",
              "      <th>min</th>\n",
              "      <td>1.000000</td>\n",
              "      <td>25.000000</td>\n",
              "      <td>8.000000</td>\n",
              "      <td>2.400000</td>\n",
              "      <td>29.500000</td>\n",
              "    </tr>\n",
              "    <tr>\n",
              "      <th>25%</th>\n",
              "      <td>12.000000</td>\n",
              "      <td>100.000000</td>\n",
              "      <td>18.000000</td>\n",
              "      <td>13.500000</td>\n",
              "      <td>108.000000</td>\n",
              "    </tr>\n",
              "    <tr>\n",
              "      <th>50%</th>\n",
              "      <td>23.000000</td>\n",
              "      <td>125.000000</td>\n",
              "      <td>18.000000</td>\n",
              "      <td>18.000000</td>\n",
              "      <td>135.000000</td>\n",
              "    </tr>\n",
              "    <tr>\n",
              "      <th>75%</th>\n",
              "      <td>34.000000</td>\n",
              "      <td>175.000000</td>\n",
              "      <td>18.000000</td>\n",
              "      <td>27.000000</td>\n",
              "      <td>189.000000</td>\n",
              "    </tr>\n",
              "    <tr>\n",
              "      <th>max</th>\n",
              "      <td>45.000000</td>\n",
              "      <td>200.000000</td>\n",
              "      <td>18.000000</td>\n",
              "      <td>36.000000</td>\n",
              "      <td>236.000000</td>\n",
              "    </tr>\n",
              "  </tbody>\n",
              "</table>\n",
              "</div>\n",
              "      <button class=\"colab-df-convert\" onclick=\"convertToInteractive('df-920ee485-86ca-4d35-939f-b4c6e61bd253')\"\n",
              "              title=\"Convert this dataframe to an interactive table.\"\n",
              "              style=\"display:none;\">\n",
              "        \n",
              "  <svg xmlns=\"http://www.w3.org/2000/svg\" height=\"24px\"viewBox=\"0 0 24 24\"\n",
              "       width=\"24px\">\n",
              "    <path d=\"M0 0h24v24H0V0z\" fill=\"none\"/>\n",
              "    <path d=\"M18.56 5.44l.94 2.06.94-2.06 2.06-.94-2.06-.94-.94-2.06-.94 2.06-2.06.94zm-11 1L8.5 8.5l.94-2.06 2.06-.94-2.06-.94L8.5 2.5l-.94 2.06-2.06.94zm10 10l.94 2.06.94-2.06 2.06-.94-2.06-.94-.94-2.06-.94 2.06-2.06.94z\"/><path d=\"M17.41 7.96l-1.37-1.37c-.4-.4-.92-.59-1.43-.59-.52 0-1.04.2-1.43.59L10.3 9.45l-7.72 7.72c-.78.78-.78 2.05 0 2.83L4 21.41c.39.39.9.59 1.41.59.51 0 1.02-.2 1.41-.59l7.78-7.78 2.81-2.81c.8-.78.8-2.07 0-2.86zM5.41 20L4 18.59l7.72-7.72 1.47 1.35L5.41 20z\"/>\n",
              "  </svg>\n",
              "      </button>\n",
              "      \n",
              "  <style>\n",
              "    .colab-df-container {\n",
              "      display:flex;\n",
              "      flex-wrap:wrap;\n",
              "      gap: 12px;\n",
              "    }\n",
              "\n",
              "    .colab-df-convert {\n",
              "      background-color: #E8F0FE;\n",
              "      border: none;\n",
              "      border-radius: 50%;\n",
              "      cursor: pointer;\n",
              "      display: none;\n",
              "      fill: #1967D2;\n",
              "      height: 32px;\n",
              "      padding: 0 0 0 0;\n",
              "      width: 32px;\n",
              "    }\n",
              "\n",
              "    .colab-df-convert:hover {\n",
              "      background-color: #E2EBFA;\n",
              "      box-shadow: 0px 1px 2px rgba(60, 64, 67, 0.3), 0px 1px 3px 1px rgba(60, 64, 67, 0.15);\n",
              "      fill: #174EA6;\n",
              "    }\n",
              "\n",
              "    [theme=dark] .colab-df-convert {\n",
              "      background-color: #3B4455;\n",
              "      fill: #D2E3FC;\n",
              "    }\n",
              "\n",
              "    [theme=dark] .colab-df-convert:hover {\n",
              "      background-color: #434B5C;\n",
              "      box-shadow: 0px 1px 3px 1px rgba(0, 0, 0, 0.15);\n",
              "      filter: drop-shadow(0px 1px 2px rgba(0, 0, 0, 0.3));\n",
              "      fill: #FFFFFF;\n",
              "    }\n",
              "  </style>\n",
              "\n",
              "      <script>\n",
              "        const buttonEl =\n",
              "          document.querySelector('#df-920ee485-86ca-4d35-939f-b4c6e61bd253 button.colab-df-convert');\n",
              "        buttonEl.style.display =\n",
              "          google.colab.kernel.accessAllowed ? 'block' : 'none';\n",
              "\n",
              "        async function convertToInteractive(key) {\n",
              "          const element = document.querySelector('#df-920ee485-86ca-4d35-939f-b4c6e61bd253');\n",
              "          const dataTable =\n",
              "            await google.colab.kernel.invokeFunction('convertToInteractive',\n",
              "                                                     [key], {});\n",
              "          if (!dataTable) return;\n",
              "\n",
              "          const docLinkHtml = 'Like what you see? Visit the ' +\n",
              "            '<a target=\"_blank\" href=https://colab.research.google.com/notebooks/data_table.ipynb>data table notebook</a>'\n",
              "            + ' to learn more about interactive tables.';\n",
              "          element.innerHTML = '';\n",
              "          dataTable['output_type'] = 'display_data';\n",
              "          await google.colab.output.renderOutput(dataTable, element);\n",
              "          const docLink = document.createElement('div');\n",
              "          docLink.innerHTML = docLinkHtml;\n",
              "          element.appendChild(docLink);\n",
              "        }\n",
              "      </script>\n",
              "    </div>\n",
              "  </div>\n",
              "  "
            ],
            "text/plain": [
              "              id  importe_factura  porcentaje_IVA        IVA  total_pagado\n",
              "count  45.000000        45.000000       45.000000  45.000000     45.000000\n",
              "mean   23.000000       126.777778       16.000000  20.531111    147.308889\n",
              "std    13.133926        49.026379        4.045199  10.026461     57.936116\n",
              "min     1.000000        25.000000        8.000000   2.400000     29.500000\n",
              "25%    12.000000       100.000000       18.000000  13.500000    108.000000\n",
              "50%    23.000000       125.000000       18.000000  18.000000    135.000000\n",
              "75%    34.000000       175.000000       18.000000  27.000000    189.000000\n",
              "max    45.000000       200.000000       18.000000  36.000000    236.000000"
            ]
          },
          "metadata": {},
          "execution_count": 6
        }
      ]
    },
    {
      "cell_type": "code",
      "source": [
        "df.total_pagado.sum()"
      ],
      "metadata": {
        "colab": {
          "base_uri": "https://localhost:8080/"
        },
        "id": "jCS8XWnyCb3a",
        "outputId": "595051c5-54cd-4e23-d9d6-6adbe315f2a9"
      },
      "execution_count": 12,
      "outputs": [
        {
          "output_type": "execute_result",
          "data": {
            "text/plain": [
              "6628.9"
            ]
          },
          "metadata": {},
          "execution_count": 12
        }
      ]
    },
    {
      "cell_type": "code",
      "source": [
        "df.groupby(['factura_pagada']).agg({'total_pagado': 'sum'})"
      ],
      "metadata": {
        "colab": {
          "base_uri": "https://localhost:8080/",
          "height": 143
        },
        "id": "8XTeJ4MKBo31",
        "outputId": "a1688a1c-62ad-43a0-e03a-88ff7edc93a0"
      },
      "execution_count": 11,
      "outputs": [
        {
          "output_type": "execute_result",
          "data": {
            "text/html": [
              "\n",
              "  <div id=\"df-b2c18277-9375-4df0-9ced-d544c9c33f5a\">\n",
              "    <div class=\"colab-df-container\">\n",
              "      <div>\n",
              "<style scoped>\n",
              "    .dataframe tbody tr th:only-of-type {\n",
              "        vertical-align: middle;\n",
              "    }\n",
              "\n",
              "    .dataframe tbody tr th {\n",
              "        vertical-align: top;\n",
              "    }\n",
              "\n",
              "    .dataframe thead th {\n",
              "        text-align: right;\n",
              "    }\n",
              "</style>\n",
              "<table border=\"1\" class=\"dataframe\">\n",
              "  <thead>\n",
              "    <tr style=\"text-align: right;\">\n",
              "      <th></th>\n",
              "      <th>total_pagado</th>\n",
              "    </tr>\n",
              "    <tr>\n",
              "      <th>factura_pagada</th>\n",
              "      <th></th>\n",
              "    </tr>\n",
              "  </thead>\n",
              "  <tbody>\n",
              "    <tr>\n",
              "      <th>no</th>\n",
              "      <td>2052.4</td>\n",
              "    </tr>\n",
              "    <tr>\n",
              "      <th>si</th>\n",
              "      <td>4576.5</td>\n",
              "    </tr>\n",
              "  </tbody>\n",
              "</table>\n",
              "</div>\n",
              "      <button class=\"colab-df-convert\" onclick=\"convertToInteractive('df-b2c18277-9375-4df0-9ced-d544c9c33f5a')\"\n",
              "              title=\"Convert this dataframe to an interactive table.\"\n",
              "              style=\"display:none;\">\n",
              "        \n",
              "  <svg xmlns=\"http://www.w3.org/2000/svg\" height=\"24px\"viewBox=\"0 0 24 24\"\n",
              "       width=\"24px\">\n",
              "    <path d=\"M0 0h24v24H0V0z\" fill=\"none\"/>\n",
              "    <path d=\"M18.56 5.44l.94 2.06.94-2.06 2.06-.94-2.06-.94-.94-2.06-.94 2.06-2.06.94zm-11 1L8.5 8.5l.94-2.06 2.06-.94-2.06-.94L8.5 2.5l-.94 2.06-2.06.94zm10 10l.94 2.06.94-2.06 2.06-.94-2.06-.94-.94-2.06-.94 2.06-2.06.94z\"/><path d=\"M17.41 7.96l-1.37-1.37c-.4-.4-.92-.59-1.43-.59-.52 0-1.04.2-1.43.59L10.3 9.45l-7.72 7.72c-.78.78-.78 2.05 0 2.83L4 21.41c.39.39.9.59 1.41.59.51 0 1.02-.2 1.41-.59l7.78-7.78 2.81-2.81c.8-.78.8-2.07 0-2.86zM5.41 20L4 18.59l7.72-7.72 1.47 1.35L5.41 20z\"/>\n",
              "  </svg>\n",
              "      </button>\n",
              "      \n",
              "  <style>\n",
              "    .colab-df-container {\n",
              "      display:flex;\n",
              "      flex-wrap:wrap;\n",
              "      gap: 12px;\n",
              "    }\n",
              "\n",
              "    .colab-df-convert {\n",
              "      background-color: #E8F0FE;\n",
              "      border: none;\n",
              "      border-radius: 50%;\n",
              "      cursor: pointer;\n",
              "      display: none;\n",
              "      fill: #1967D2;\n",
              "      height: 32px;\n",
              "      padding: 0 0 0 0;\n",
              "      width: 32px;\n",
              "    }\n",
              "\n",
              "    .colab-df-convert:hover {\n",
              "      background-color: #E2EBFA;\n",
              "      box-shadow: 0px 1px 2px rgba(60, 64, 67, 0.3), 0px 1px 3px 1px rgba(60, 64, 67, 0.15);\n",
              "      fill: #174EA6;\n",
              "    }\n",
              "\n",
              "    [theme=dark] .colab-df-convert {\n",
              "      background-color: #3B4455;\n",
              "      fill: #D2E3FC;\n",
              "    }\n",
              "\n",
              "    [theme=dark] .colab-df-convert:hover {\n",
              "      background-color: #434B5C;\n",
              "      box-shadow: 0px 1px 3px 1px rgba(0, 0, 0, 0.15);\n",
              "      filter: drop-shadow(0px 1px 2px rgba(0, 0, 0, 0.3));\n",
              "      fill: #FFFFFF;\n",
              "    }\n",
              "  </style>\n",
              "\n",
              "      <script>\n",
              "        const buttonEl =\n",
              "          document.querySelector('#df-b2c18277-9375-4df0-9ced-d544c9c33f5a button.colab-df-convert');\n",
              "        buttonEl.style.display =\n",
              "          google.colab.kernel.accessAllowed ? 'block' : 'none';\n",
              "\n",
              "        async function convertToInteractive(key) {\n",
              "          const element = document.querySelector('#df-b2c18277-9375-4df0-9ced-d544c9c33f5a');\n",
              "          const dataTable =\n",
              "            await google.colab.kernel.invokeFunction('convertToInteractive',\n",
              "                                                     [key], {});\n",
              "          if (!dataTable) return;\n",
              "\n",
              "          const docLinkHtml = 'Like what you see? Visit the ' +\n",
              "            '<a target=\"_blank\" href=https://colab.research.google.com/notebooks/data_table.ipynb>data table notebook</a>'\n",
              "            + ' to learn more about interactive tables.';\n",
              "          element.innerHTML = '';\n",
              "          dataTable['output_type'] = 'display_data';\n",
              "          await google.colab.output.renderOutput(dataTable, element);\n",
              "          const docLink = document.createElement('div');\n",
              "          docLink.innerHTML = docLinkHtml;\n",
              "          element.appendChild(docLink);\n",
              "        }\n",
              "      </script>\n",
              "    </div>\n",
              "  </div>\n",
              "  "
            ],
            "text/plain": [
              "                total_pagado\n",
              "factura_pagada              \n",
              "no                    2052.4\n",
              "si                    4576.5"
            ]
          },
          "metadata": {},
          "execution_count": 11
        }
      ]
    },
    {
      "cell_type": "code",
      "source": [
        "df.groupby(['mes']).agg({'total_pagado': 'sum'})"
      ],
      "metadata": {
        "colab": {
          "base_uri": "https://localhost:8080/",
          "height": 143
        },
        "id": "sPrU6XtmDwxt",
        "outputId": "70ce9e6f-e840-4d33-c760-8e49d93ae3f4"
      },
      "execution_count": 21,
      "outputs": [
        {
          "output_type": "execute_result",
          "data": {
            "text/html": [
              "\n",
              "  <div id=\"df-12f64d8f-7ee8-41d9-8dda-40b5c3c4242b\">\n",
              "    <div class=\"colab-df-container\">\n",
              "      <div>\n",
              "<style scoped>\n",
              "    .dataframe tbody tr th:only-of-type {\n",
              "        vertical-align: middle;\n",
              "    }\n",
              "\n",
              "    .dataframe tbody tr th {\n",
              "        vertical-align: top;\n",
              "    }\n",
              "\n",
              "    .dataframe thead th {\n",
              "        text-align: right;\n",
              "    }\n",
              "</style>\n",
              "<table border=\"1\" class=\"dataframe\">\n",
              "  <thead>\n",
              "    <tr style=\"text-align: right;\">\n",
              "      <th></th>\n",
              "      <th>total_pagado</th>\n",
              "    </tr>\n",
              "    <tr>\n",
              "      <th>mes</th>\n",
              "      <th></th>\n",
              "    </tr>\n",
              "  </thead>\n",
              "  <tbody>\n",
              "    <tr>\n",
              "      <th>Enero</th>\n",
              "      <td>4790.0</td>\n",
              "    </tr>\n",
              "    <tr>\n",
              "      <th>Febrero</th>\n",
              "      <td>1838.9</td>\n",
              "    </tr>\n",
              "  </tbody>\n",
              "</table>\n",
              "</div>\n",
              "      <button class=\"colab-df-convert\" onclick=\"convertToInteractive('df-12f64d8f-7ee8-41d9-8dda-40b5c3c4242b')\"\n",
              "              title=\"Convert this dataframe to an interactive table.\"\n",
              "              style=\"display:none;\">\n",
              "        \n",
              "  <svg xmlns=\"http://www.w3.org/2000/svg\" height=\"24px\"viewBox=\"0 0 24 24\"\n",
              "       width=\"24px\">\n",
              "    <path d=\"M0 0h24v24H0V0z\" fill=\"none\"/>\n",
              "    <path d=\"M18.56 5.44l.94 2.06.94-2.06 2.06-.94-2.06-.94-.94-2.06-.94 2.06-2.06.94zm-11 1L8.5 8.5l.94-2.06 2.06-.94-2.06-.94L8.5 2.5l-.94 2.06-2.06.94zm10 10l.94 2.06.94-2.06 2.06-.94-2.06-.94-.94-2.06-.94 2.06-2.06.94z\"/><path d=\"M17.41 7.96l-1.37-1.37c-.4-.4-.92-.59-1.43-.59-.52 0-1.04.2-1.43.59L10.3 9.45l-7.72 7.72c-.78.78-.78 2.05 0 2.83L4 21.41c.39.39.9.59 1.41.59.51 0 1.02-.2 1.41-.59l7.78-7.78 2.81-2.81c.8-.78.8-2.07 0-2.86zM5.41 20L4 18.59l7.72-7.72 1.47 1.35L5.41 20z\"/>\n",
              "  </svg>\n",
              "      </button>\n",
              "      \n",
              "  <style>\n",
              "    .colab-df-container {\n",
              "      display:flex;\n",
              "      flex-wrap:wrap;\n",
              "      gap: 12px;\n",
              "    }\n",
              "\n",
              "    .colab-df-convert {\n",
              "      background-color: #E8F0FE;\n",
              "      border: none;\n",
              "      border-radius: 50%;\n",
              "      cursor: pointer;\n",
              "      display: none;\n",
              "      fill: #1967D2;\n",
              "      height: 32px;\n",
              "      padding: 0 0 0 0;\n",
              "      width: 32px;\n",
              "    }\n",
              "\n",
              "    .colab-df-convert:hover {\n",
              "      background-color: #E2EBFA;\n",
              "      box-shadow: 0px 1px 2px rgba(60, 64, 67, 0.3), 0px 1px 3px 1px rgba(60, 64, 67, 0.15);\n",
              "      fill: #174EA6;\n",
              "    }\n",
              "\n",
              "    [theme=dark] .colab-df-convert {\n",
              "      background-color: #3B4455;\n",
              "      fill: #D2E3FC;\n",
              "    }\n",
              "\n",
              "    [theme=dark] .colab-df-convert:hover {\n",
              "      background-color: #434B5C;\n",
              "      box-shadow: 0px 1px 3px 1px rgba(0, 0, 0, 0.15);\n",
              "      filter: drop-shadow(0px 1px 2px rgba(0, 0, 0, 0.3));\n",
              "      fill: #FFFFFF;\n",
              "    }\n",
              "  </style>\n",
              "\n",
              "      <script>\n",
              "        const buttonEl =\n",
              "          document.querySelector('#df-12f64d8f-7ee8-41d9-8dda-40b5c3c4242b button.colab-df-convert');\n",
              "        buttonEl.style.display =\n",
              "          google.colab.kernel.accessAllowed ? 'block' : 'none';\n",
              "\n",
              "        async function convertToInteractive(key) {\n",
              "          const element = document.querySelector('#df-12f64d8f-7ee8-41d9-8dda-40b5c3c4242b');\n",
              "          const dataTable =\n",
              "            await google.colab.kernel.invokeFunction('convertToInteractive',\n",
              "                                                     [key], {});\n",
              "          if (!dataTable) return;\n",
              "\n",
              "          const docLinkHtml = 'Like what you see? Visit the ' +\n",
              "            '<a target=\"_blank\" href=https://colab.research.google.com/notebooks/data_table.ipynb>data table notebook</a>'\n",
              "            + ' to learn more about interactive tables.';\n",
              "          element.innerHTML = '';\n",
              "          dataTable['output_type'] = 'display_data';\n",
              "          await google.colab.output.renderOutput(dataTable, element);\n",
              "          const docLink = document.createElement('div');\n",
              "          docLink.innerHTML = docLinkHtml;\n",
              "          element.appendChild(docLink);\n",
              "        }\n",
              "      </script>\n",
              "    </div>\n",
              "  </div>\n",
              "  "
            ],
            "text/plain": [
              "         total_pagado\n",
              "mes                  \n",
              "Enero          4790.0\n",
              "Febrero        1838.9"
            ]
          },
          "metadata": {},
          "execution_count": 21
        }
      ]
    },
    {
      "cell_type": "code",
      "source": [
        "df.groupby(['tipo_IVA']).agg({'total_pagado': 'sum'})"
      ],
      "metadata": {
        "colab": {
          "base_uri": "https://localhost:8080/",
          "height": 143
        },
        "id": "jftUNP2RH8Re",
        "outputId": "cca63ca6-aa22-4d0a-eee3-5f1143bdd62f"
      },
      "execution_count": 23,
      "outputs": [
        {
          "output_type": "execute_result",
          "data": {
            "text/html": [
              "\n",
              "  <div id=\"df-58cae1e3-49f4-4c6f-9c45-272c57842c4d\">\n",
              "    <div class=\"colab-df-container\">\n",
              "      <div>\n",
              "<style scoped>\n",
              "    .dataframe tbody tr th:only-of-type {\n",
              "        vertical-align: middle;\n",
              "    }\n",
              "\n",
              "    .dataframe tbody tr th {\n",
              "        vertical-align: top;\n",
              "    }\n",
              "\n",
              "    .dataframe thead th {\n",
              "        text-align: right;\n",
              "    }\n",
              "</style>\n",
              "<table border=\"1\" class=\"dataframe\">\n",
              "  <thead>\n",
              "    <tr style=\"text-align: right;\">\n",
              "      <th></th>\n",
              "      <th>total_pagado</th>\n",
              "    </tr>\n",
              "    <tr>\n",
              "      <th>tipo_IVA</th>\n",
              "      <th></th>\n",
              "    </tr>\n",
              "  </thead>\n",
              "  <tbody>\n",
              "    <tr>\n",
              "      <th>normal</th>\n",
              "      <td>5516.5</td>\n",
              "    </tr>\n",
              "    <tr>\n",
              "      <th>reducido</th>\n",
              "      <td>1112.4</td>\n",
              "    </tr>\n",
              "  </tbody>\n",
              "</table>\n",
              "</div>\n",
              "      <button class=\"colab-df-convert\" onclick=\"convertToInteractive('df-58cae1e3-49f4-4c6f-9c45-272c57842c4d')\"\n",
              "              title=\"Convert this dataframe to an interactive table.\"\n",
              "              style=\"display:none;\">\n",
              "        \n",
              "  <svg xmlns=\"http://www.w3.org/2000/svg\" height=\"24px\"viewBox=\"0 0 24 24\"\n",
              "       width=\"24px\">\n",
              "    <path d=\"M0 0h24v24H0V0z\" fill=\"none\"/>\n",
              "    <path d=\"M18.56 5.44l.94 2.06.94-2.06 2.06-.94-2.06-.94-.94-2.06-.94 2.06-2.06.94zm-11 1L8.5 8.5l.94-2.06 2.06-.94-2.06-.94L8.5 2.5l-.94 2.06-2.06.94zm10 10l.94 2.06.94-2.06 2.06-.94-2.06-.94-.94-2.06-.94 2.06-2.06.94z\"/><path d=\"M17.41 7.96l-1.37-1.37c-.4-.4-.92-.59-1.43-.59-.52 0-1.04.2-1.43.59L10.3 9.45l-7.72 7.72c-.78.78-.78 2.05 0 2.83L4 21.41c.39.39.9.59 1.41.59.51 0 1.02-.2 1.41-.59l7.78-7.78 2.81-2.81c.8-.78.8-2.07 0-2.86zM5.41 20L4 18.59l7.72-7.72 1.47 1.35L5.41 20z\"/>\n",
              "  </svg>\n",
              "      </button>\n",
              "      \n",
              "  <style>\n",
              "    .colab-df-container {\n",
              "      display:flex;\n",
              "      flex-wrap:wrap;\n",
              "      gap: 12px;\n",
              "    }\n",
              "\n",
              "    .colab-df-convert {\n",
              "      background-color: #E8F0FE;\n",
              "      border: none;\n",
              "      border-radius: 50%;\n",
              "      cursor: pointer;\n",
              "      display: none;\n",
              "      fill: #1967D2;\n",
              "      height: 32px;\n",
              "      padding: 0 0 0 0;\n",
              "      width: 32px;\n",
              "    }\n",
              "\n",
              "    .colab-df-convert:hover {\n",
              "      background-color: #E2EBFA;\n",
              "      box-shadow: 0px 1px 2px rgba(60, 64, 67, 0.3), 0px 1px 3px 1px rgba(60, 64, 67, 0.15);\n",
              "      fill: #174EA6;\n",
              "    }\n",
              "\n",
              "    [theme=dark] .colab-df-convert {\n",
              "      background-color: #3B4455;\n",
              "      fill: #D2E3FC;\n",
              "    }\n",
              "\n",
              "    [theme=dark] .colab-df-convert:hover {\n",
              "      background-color: #434B5C;\n",
              "      box-shadow: 0px 1px 3px 1px rgba(0, 0, 0, 0.15);\n",
              "      filter: drop-shadow(0px 1px 2px rgba(0, 0, 0, 0.3));\n",
              "      fill: #FFFFFF;\n",
              "    }\n",
              "  </style>\n",
              "\n",
              "      <script>\n",
              "        const buttonEl =\n",
              "          document.querySelector('#df-58cae1e3-49f4-4c6f-9c45-272c57842c4d button.colab-df-convert');\n",
              "        buttonEl.style.display =\n",
              "          google.colab.kernel.accessAllowed ? 'block' : 'none';\n",
              "\n",
              "        async function convertToInteractive(key) {\n",
              "          const element = document.querySelector('#df-58cae1e3-49f4-4c6f-9c45-272c57842c4d');\n",
              "          const dataTable =\n",
              "            await google.colab.kernel.invokeFunction('convertToInteractive',\n",
              "                                                     [key], {});\n",
              "          if (!dataTable) return;\n",
              "\n",
              "          const docLinkHtml = 'Like what you see? Visit the ' +\n",
              "            '<a target=\"_blank\" href=https://colab.research.google.com/notebooks/data_table.ipynb>data table notebook</a>'\n",
              "            + ' to learn more about interactive tables.';\n",
              "          element.innerHTML = '';\n",
              "          dataTable['output_type'] = 'display_data';\n",
              "          await google.colab.output.renderOutput(dataTable, element);\n",
              "          const docLink = document.createElement('div');\n",
              "          docLink.innerHTML = docLinkHtml;\n",
              "          element.appendChild(docLink);\n",
              "        }\n",
              "      </script>\n",
              "    </div>\n",
              "  </div>\n",
              "  "
            ],
            "text/plain": [
              "          total_pagado\n",
              "tipo_IVA              \n",
              "normal          5516.5\n",
              "reducido        1112.4"
            ]
          },
          "metadata": {},
          "execution_count": 23
        }
      ]
    },
    {
      "cell_type": "code",
      "source": [
        "print('No pagado:',\"{:.2%}\".format(2052.4/6628.9),'- Pagado:',\"{:.2%}\".format(4576.5/6628.9))"
      ],
      "metadata": {
        "colab": {
          "base_uri": "https://localhost:8080/"
        },
        "id": "C0kzJ3ZDCgM_",
        "outputId": "9c6d0670-4150-4c14-c131-1ee158474ded"
      },
      "execution_count": 20,
      "outputs": [
        {
          "output_type": "stream",
          "name": "stdout",
          "text": [
            "No pagado: 30.96% - Pagado: 69.04%\n"
          ]
        }
      ]
    },
    {
      "cell_type": "markdown",
      "source": [
        "El dataframe cuenta con una dimensión de 9 columnas y 45 filas y entrega información respecto a los distintos clientes, facturas (pagadas o no) e IVA aplicado a cada una de ellas.\n",
        "\n",
        "En términos generales, hay un 31% de facturas no pagadas y un 69% de facturas pagadas. Este análisis se está realizando en los meses de enero y febrero."
      ],
      "metadata": {
        "id": "zuPYbJ8oBQ6Y"
      }
    },
    {
      "cell_type": "markdown",
      "source": [
        "En relación al tipo de variables, se concluye lo siguiente respecto de las 9 presentes en este DataFrame:\n",
        "- ***ID:*** Es una variable cuantitativa discreta (es finita y en función de la cantidad de facturas ingresadas al df). Es un identificador correlativo y secuencial del número de registros de facturas.\n",
        "- ***Fecha:*** Variable Cuantitativa Continua. Es la fecha en que se generó la factura\n",
        "- ***Mes:*** Variable Categórica ordinal, indica el nombre del mes en el que se generó la factura.\n",
        "- ***Cliente:*** Variable Categórica Nominal. Indica el tipo de cliente.\n",
        "- ***Factura Pagada:*** Variable Categórica Binaria (toma sólo 2 valores, sí o no). Indica si la factura está pagada o no en la fecha de generación.\n",
        "- ***Importe factura:*** Esta es una variable Cuantitativa Continua (tiene relación con un monto de factura que puede tomar cualquier valor). Esta variable indica el importe neto sin el IVA aplicado.\n",
        "- ***Tipo de IVA:*** Esta variable indica el tipo de Impuesto aplicado a la factura y es una variable Categórica Ordinal puesto que, además de ser descriptiva, se puede ordenar y entender si el IVA aplicado es menor o mayor. \n",
        "- ***Porcentaje de IVA:*** Variable Cuantitativa Discreta ya que toma los valores que se han definido por ley. Esta variable indica el porcentaje a gravar en la factura.\n",
        "- ***IVA:*** Es una variable Cuantitativa Continua ya que es la multiplicación de dos variables numéricas, una continua y otra discreta. Su resultado es una Variable Cuantitativa Continua. Indica el monto de IVA a pagar en la factura.\n",
        "- ***Total pagado:***Variable Cuantitativa Continua. Indica el monto bruto de la factura (esto es el neto más el importe IVA)."
      ],
      "metadata": {
        "id": "eTm4PTymD-th"
      }
    },
    {
      "cell_type": "markdown",
      "source": [
        "## **1. MEDIDAS DE CENTRALIZACIÓN**\n",
        "\n",
        "---\n",
        "\n"
      ],
      "metadata": {
        "id": "_3swakMkEtPC"
      }
    },
    {
      "cell_type": "code",
      "source": [
        "#Función que permite calcular las medidas de tendencia central, según la columna que se le pase.\n",
        "def central_tendency(col):\n",
        "    mean = f'MEAN: {round(df[col].mean(),2)}'\n",
        "    median = f'MEDIAN: {df[col].median()}'\n",
        "    mode = f'MODE: {df[col].mode().to_list()}'\n",
        "    print(f'Las medidas de tendencia central para la variable \"{col}\" son:\\n\\n{mean}\\n{median}\\n{mode}\\n')"
      ],
      "metadata": {
        "id": "N0bNA-KdJB_A"
      },
      "execution_count": 25,
      "outputs": []
    },
    {
      "cell_type": "code",
      "source": [
        "#Iteración para identificar las columnas numéricas y excluir el id. Las columnas resultantes entran a la función anteriormente descrita, para tener una visión general de ellas.\n",
        "for col, types in df.dtypes.items():\n",
        "    if col != 'id' and types != 'object':\n",
        "        central_tendency(col)    "
      ],
      "metadata": {
        "id": "qRBh7NA9oP4N",
        "colab": {
          "base_uri": "https://localhost:8080/"
        },
        "outputId": "b44c409d-6c4d-4ce8-9d31-42e9f993c669"
      },
      "execution_count": 26,
      "outputs": [
        {
          "output_type": "stream",
          "name": "stdout",
          "text": [
            "Las medidas de tendencia central para la variable \"importe_factura\" son:\n",
            "\n",
            "MEAN: 126.78\n",
            "MEDIAN: 125.0\n",
            "MODE: [100]\n",
            "\n",
            "Las medidas de tendencia central para la variable \"porcentaje_IVA\" son:\n",
            "\n",
            "MEAN: 16.0\n",
            "MEDIAN: 18.0\n",
            "MODE: [18]\n",
            "\n",
            "Las medidas de tendencia central para la variable \"IVA\" son:\n",
            "\n",
            "MEAN: 20.53\n",
            "MEDIAN: 18.0\n",
            "MODE: [18.0, 36.0]\n",
            "\n",
            "Las medidas de tendencia central para la variable \"total_pagado\" son:\n",
            "\n",
            "MEAN: 147.31\n",
            "MEDIAN: 135.0\n",
            "MODE: [118.0, 236.0]\n",
            "\n"
          ]
        }
      ]
    },
    {
      "cell_type": "code",
      "source": [
        "central_tendency('total_pagado')"
      ],
      "metadata": {
        "id": "jHpsbPvJmpec",
        "colab": {
          "base_uri": "https://localhost:8080/"
        },
        "outputId": "8405e90d-f9e5-48a4-a5b1-3c84103f4c38"
      },
      "execution_count": 8,
      "outputs": [
        {
          "output_type": "stream",
          "name": "stdout",
          "text": [
            "Las medidas de tendencia central para la variable \"total_pagado\" son:\n",
            "\n",
            "MEAN: 147.31\n",
            "MEDIAN: 135.0\n",
            "MODE: [118.0, 236.0]\n",
            "\n"
          ]
        }
      ]
    },
    {
      "cell_type": "markdown",
      "source": [
        "Las medidas de centralización para la variable \"Total Pagado\" son las siguientes:\n",
        "\n",
        "- Media: 147.31\n",
        "- Mediana: 135.0\n",
        "- Moda: [118.0, 236.0]\n",
        "\n",
        "Esto quiere decir que el promedio del total pagado es de 147.31, el valor que se encuentra en la mitad del intervalo de las facturas pagadas y ordenadas es 135 y la moda es bimodal, presentando dos valores que se repiten en la misma cantidad: 118 y 236.\n",
        "\n",
        "Como complemento, al analizar las otras variables cuantitativas, es interesante destacar que el porcentaje de IVA que más se aplica es 18%."
      ],
      "metadata": {
        "id": "7hrTPgknKDSk"
      }
    },
    {
      "cell_type": "markdown",
      "source": [
        "## **2. MEDIDAS DE DISPERSION**\n",
        "\n",
        "---"
      ],
      "metadata": {
        "id": "GBiQaX3oEkKC"
      }
    },
    {
      "cell_type": "code",
      "source": [
        "#Función para determinar las medidas de dispersión. Permite calcularlas según la columna que se quiera analizar.\n",
        "def dispersion_measure(col):\n",
        "    range = np.max(df[col]) - np.min(df[col])\n",
        "    variance = round(np.var(df[col], ddof=1),2)\n",
        "    standard_deviation = round(np.std(df[col], ddof=1),2)\n",
        "    cv = '{:.2%}'.format(standard_deviation / np.mean(df[col]))\n",
        "    print(f'Las medidas de dispersión para la variable \"{col}\" son:\\n\\nRANGO: {range}\\nVARIANZA: {variance}\\nDESVIACIÓN ESTÁNDAR: {standard_deviation}\\nCOEFICIENTE DE VARIACIÓN: {cv}\\n')"
      ],
      "metadata": {
        "id": "PiKW1hyzo0ML"
      },
      "execution_count": 33,
      "outputs": []
    },
    {
      "cell_type": "code",
      "source": [
        "#Iteración para identificar las columnas numéricas y excluir el id. Las columnas resultantes entran a la función anteriormente descrita, para tener una visión general de ellas.\n",
        "for col, types in df.dtypes.items():\n",
        "    if col != 'id' and types != 'object':\n",
        "        dispersion_measure(col)   "
      ],
      "metadata": {
        "colab": {
          "base_uri": "https://localhost:8080/"
        },
        "id": "Kb7empbYMjyL",
        "outputId": "1f8a64a9-8ce0-42a0-b0cc-d65425cc00f4"
      },
      "execution_count": 34,
      "outputs": [
        {
          "output_type": "stream",
          "name": "stdout",
          "text": [
            "Las medidas de dispersión para la variable \"importe_factura\" son:\n",
            "\n",
            "RANGO: 175\n",
            "VARIANZA: 2403.59\n",
            "DESVIACIÓN ESTÁNDAR: 49.03\n",
            "COEFICIENTE DE VARIACIÓN: 38.67%\n",
            "\n",
            "Las medidas de dispersión para la variable \"porcentaje_IVA\" son:\n",
            "\n",
            "RANGO: 10\n",
            "VARIANZA: 16.36\n",
            "DESVIACIÓN ESTÁNDAR: 4.05\n",
            "COEFICIENTE DE VARIACIÓN: 25.31%\n",
            "\n",
            "Las medidas de dispersión para la variable \"IVA\" son:\n",
            "\n",
            "RANGO: 33.6\n",
            "VARIANZA: 100.53\n",
            "DESVIACIÓN ESTÁNDAR: 10.03\n",
            "COEFICIENTE DE VARIACIÓN: 48.85%\n",
            "\n",
            "Las medidas de dispersión para la variable \"total_pagado\" son:\n",
            "\n",
            "RANGO: 206.5\n",
            "VARIANZA: 3356.59\n",
            "DESVIACIÓN ESTÁNDAR: 57.94\n",
            "COEFICIENTE DE VARIACIÓN: 39.33%\n",
            "\n"
          ]
        }
      ]
    },
    {
      "cell_type": "code",
      "source": [
        "dispersion_measure('total_pagado')"
      ],
      "metadata": {
        "colab": {
          "base_uri": "https://localhost:8080/"
        },
        "id": "6naj6AE-r7N3",
        "outputId": "0d8308c6-1fac-4928-bee4-e99db3785f34"
      },
      "execution_count": 35,
      "outputs": [
        {
          "output_type": "stream",
          "name": "stdout",
          "text": [
            "Las medidas de dispersión para la variable \"total_pagado\" son:\n",
            "\n",
            "RANGO: 206.5\n",
            "VARIANZA: 3356.59\n",
            "DESVIACIÓN ESTÁNDAR: 57.94\n",
            "COEFICIENTE DE VARIACIÓN: 39.33%\n",
            "\n"
          ]
        }
      ]
    },
    {
      "cell_type": "code",
      "source": [
        ""
      ],
      "metadata": {
        "id": "0KdvCFKBQ7nY"
      },
      "execution_count": null,
      "outputs": []
    },
    {
      "cell_type": "markdown",
      "source": [
        "En relación a las medidas de dispersión, podemos observar que el rango del total pagado de facturas es de 206.5, esta es la diferencia entre el mayor valor y el menor valor de esta variable.\n",
        "\n",
        "La varianza, permite entender cómo los datos varían respecto de la media. Esta medida se calcula al cuadrado ya que así permite eliminar el error que se podría dar al realizar la suma si las distancias son negativas. \n",
        "\n",
        "Dado que esta medida es difícil de analizar y comparar (debido a que está al cuadrado) se calcula la desviación estándar que no es más que la raíz cuadrada de la varianza.\n",
        "\n",
        "La desviación estándar es de 57.94.\n",
        "\n",
        "El coeficiente de variación es la desviación estándar dividido por la media y para el caso del total pagado es de 39.33%, esta es la forma más simple de entender la variabilidad de los casos o cuánto se mueven los datos respecto de su media."
      ],
      "metadata": {
        "id": "KVOc0gNyN_rK"
      }
    },
    {
      "cell_type": "markdown",
      "source": [
        "## **3. MEDIDAS DE POSICIÓN**\n",
        "\n",
        "---"
      ],
      "metadata": {
        "id": "mq-KQogZEwba"
      }
    },
    {
      "cell_type": "code",
      "source": [
        "#Función para determinar las medidas de posición. Permite calcularlas según la columna que se quiera analizar.\n",
        "def position_measure(col):\n",
        "  IQR = ss.iqr(df[col], interpolation='midpoint')\n",
        "  #Q1 = np.percentile(df[col], 25, interpolation='midpoint')\n",
        "  Q1 = df[col].quantile(0.25)\n",
        "  #D3 = np.percentile(df[col], 90, interpolation='midpoint')\n",
        "  D3 = df[col].quantile(0.3)\n",
        "  print(f'Las medidas de posición para la variable \"{col}\" son:\\nIQR: {IQR}\\nQ1: {Q1}\\nD3: {D3}')"
      ],
      "metadata": {
        "id": "h8kwA5KI3_v9"
      },
      "execution_count": 60,
      "outputs": []
    },
    {
      "cell_type": "code",
      "source": [
        "#Iteración para identificar las columnas numéricas y excluir el id. Las columnas resultantes entran a la función anteriormente descrita, para tener una visión general de ellas.\n",
        "for col, types in df.dtypes.items():\n",
        "    if col != 'id' and types != 'object':\n",
        "        position_measure(col)"
      ],
      "metadata": {
        "colab": {
          "base_uri": "https://localhost:8080/"
        },
        "id": "0uSuvSzRSmS5",
        "outputId": "35e2ef48-89e1-4d3b-f049-07989f083477"
      },
      "execution_count": 46,
      "outputs": [
        {
          "output_type": "stream",
          "name": "stdout",
          "text": [
            "Las medidas de posición para la variable \"importe_factura\" son:\n",
            "IQR: 75.0\n",
            "Q1: 100.0\n",
            "D3: 100.0\n",
            "Las medidas de posición para la variable \"porcentaje_IVA\" son:\n",
            "IQR: 0.0\n",
            "Q1: 18.0\n",
            "D3: 18.0\n",
            "Las medidas de posición para la variable \"IVA\" son:\n",
            "IQR: 13.5\n",
            "Q1: 13.5\n",
            "D3: 13.5\n",
            "Las medidas de posición para la variable \"total_pagado\" son:\n",
            "IQR: 81.0\n",
            "Q1: 108.0\n",
            "D3: 118.0\n"
          ]
        }
      ]
    },
    {
      "cell_type": "code",
      "source": [
        "position_measure('total_pagado')"
      ],
      "metadata": {
        "colab": {
          "base_uri": "https://localhost:8080/"
        },
        "id": "zV3HzSLh4TAd",
        "outputId": "9a845a7e-bf5d-4eaa-ff88-5306614040c5"
      },
      "execution_count": 47,
      "outputs": [
        {
          "output_type": "stream",
          "name": "stdout",
          "text": [
            "Las medidas de posición para la variable \"total_pagado\" son:\n",
            "IQR: 81.0\n",
            "Q1: 108.0\n",
            "D3: 118.0\n"
          ]
        }
      ]
    },
    {
      "cell_type": "markdown",
      "source": [
        "En relación a las medidas de posición para la variable \"total_pagado\", se puede observar que el rango intercuartil es de 81, esto quiere decir que la diferencia entre el tercer cuartil y el primer cuartil es de 81, por lo que el 50% de los datos están entre los valores 108 y 189 del total pagado.\n",
        "\n",
        "El tercer decil de los datos corresponde a 118."
      ],
      "metadata": {
        "id": "g22l8LqpVBW9"
      }
    },
    {
      "cell_type": "code",
      "source": [
        "#Segunda parte de la pregunta 3\n",
        "D9 = df['total_pagado'].quantile(0.9)\n",
        "cantidad_facturas = df.query('total_pagado >= @D9').total_pagado.count()\n",
        "id_factura = df.query('total_pagado >= @D9').id.unique()\n",
        "\n",
        "print(f'La cantidad de facturas que tienen cómo mínimo el 10% del total pagado son {cantidad_facturas} y su valor es mayor o igual a: {D9}\\n')\n",
        "print(f'Las facturas que tienen como mínimo el 10% del total pagado son las siguientes: {id_factura}')"
      ],
      "metadata": {
        "colab": {
          "base_uri": "https://localhost:8080/"
        },
        "id": "jKqb8Q0NT0Ok",
        "outputId": "d2d33585-f189-44c4-9543-910beb31cee4"
      },
      "execution_count": 61,
      "outputs": [
        {
          "output_type": "stream",
          "name": "stdout",
          "text": [
            "La cantidad de facturas que tienen cómo mínimo el 10% del total pagado son 8 y su valor es mayor o igual a: 236.0\n",
            "\n",
            "Las facturas que tienen como mínimo el 10% del total pagado son las siguientes: [ 4  8 13 20 25 29 34 41]\n"
          ]
        }
      ]
    },
    {
      "cell_type": "markdown",
      "source": [
        "## **4. MEDIDAS DE CONCENTRACIÓN y FORMA (DISTRIBUCIÓN)**\n",
        "\n",
        "---"
      ],
      "metadata": {
        "id": "Kyl06h8P1Lrd"
      }
    },
    {
      "cell_type": "code",
      "source": [
        "#Función para determinar las medidas de distribución. Permite calcularlas según la columna que se quiera analizar.\n",
        "def distribution_measure(col):\n",
        "    asimetria = round(df[col].skew(), 3)\n",
        "    curtosis = round(df[col].kurt(), 3)\n",
        "    print(f'\\n\\n\\nLas medidas de distribución (o concentración y forma) para la variable \"{col}\" son:\\n\\nASIMETRIA: {asimetria},\\nCURTOSIS: {curtosis}\\n')"
      ],
      "metadata": {
        "id": "49s8Pz98_UJ4"
      },
      "execution_count": 65,
      "outputs": []
    },
    {
      "cell_type": "code",
      "source": [
        "mean=df['total_pagado'].mean()\n",
        "median=df['total_pagado'].median()\n",
        "mode=df['total_pagado'].mode()\n",
        "\n",
        "fig, ax = plt.subplots(figsize=(10,6))\n",
        "\n",
        "sns.distplot(df['total_pagado']);\n",
        "\n",
        "plt.title('Gráfico de Distribución de la variable \"total_pagado\"')\n",
        "plt.axvline(mean, color='red', label='Mean')\n",
        "plt.axvline(median, color='green', label='Median', linestyle = '--')\n",
        "plt.axvline(mode[0], color='blue', label='Mode1')\n",
        "plt.axvline(mode[1], color='orange', label='Mode2')\n",
        "plt.legend();\n",
        "\n",
        "distribution_measure('total_pagado')"
      ],
      "metadata": {
        "colab": {
          "base_uri": "https://localhost:8080/",
          "height": 599
        },
        "id": "ck-ESuR4Hjvr",
        "outputId": "42966dbb-e30d-495d-c986-f404ed223961"
      },
      "execution_count": 66,
      "outputs": [
        {
          "output_type": "stream",
          "name": "stderr",
          "text": [
            "/usr/local/lib/python3.7/dist-packages/seaborn/distributions.py:2619: FutureWarning: `distplot` is a deprecated function and will be removed in a future version. Please adapt your code to use either `displot` (a figure-level function with similar flexibility) or `histplot` (an axes-level function for histograms).\n",
            "  warnings.warn(msg, FutureWarning)\n"
          ]
        },
        {
          "output_type": "stream",
          "name": "stdout",
          "text": [
            "\n",
            "\n",
            "\n",
            "Las medidas de distribución (o concentración y forma) para la variable \"total_pagado\" son:\n",
            "\n",
            "ASIMETRIA: 0.096,\n",
            "CURTOSIS: -0.799\n",
            "\n"
          ]
        },
        {
          "output_type": "display_data",
          "data": {
            "image/png": "[encoded data removed]",
            "text/plain": [
              "<Figure size 720x432 with 1 Axes>"
            ]
          },
          "metadata": {
            "needs_background": "light"
          }
        }
      ]
    },
    {
      "cell_type": "markdown",
      "source": [
        "En relación a las medidas de concentración y forma, observamos que la asimetría toma un valor positivo por lo que tiene una asimetría positiva (la cola de la distribución se desplaza hacia la derecha, esto quiere decir que la mayoría de los datos se distribuyen a la derecha de la media (Se observa en el gráfico, donde la media es la línea roja y esta a su vez es mayor que la mediana y el primer valor de la moda).\n",
        "\n",
        "La curtosis toma un valor negativo, esto quiere decir (y tal como se observa en la gráfica) que la distribución de los datos es Platicúrtica, o bien que los datos están dispersos (no concentrados hacia la media)."
      ],
      "metadata": {
        "id": "9J3R6PK2X4dJ"
      }
    },
    {
      "cell_type": "markdown",
      "source": [
        "## **5. ANÁLISIS BOXPLOT Y SUS MEDIDAS**\n",
        "\n",
        "\n",
        "---"
      ],
      "metadata": {
        "id": "zBfV9OE51ez1"
      }
    },
    {
      "cell_type": "code",
      "source": [
        "data = df['total_pagado']\n",
        "bp = plt.boxplot(data, showmeans=True)\n",
        "\n",
        "medians = [round(item.get_ydata()[0], 1) for item in bp['medians']]\n",
        "means = [round(item.get_ydata()[0], 1) for item in bp['means']]\n",
        "minimums = [round(item.get_ydata()[0], 1) for item in bp['caps']][::2]\n",
        "maximums = [round(item.get_ydata()[0], 1) for item in bp['caps']][1::2]\n",
        "q1 = [round(min(item.get_ydata()), 1) for item in bp['boxes']]\n",
        "q3 = [round(max(item.get_ydata()), 1) for item in bp['boxes']]\n",
        "fliers = [item.get_ydata() for item in bp['fliers']]\n",
        "lower_outliers = []\n",
        "upper_outliers = []\n",
        "\n",
        "for i in range(len(fliers)):\n",
        "    lower_outliers_by_box = []\n",
        "    upper_outliers_by_box = []\n",
        "    for outlier in fliers[i]:\n",
        "        if outlier < q1[i]:\n",
        "            lower_outliers_by_box.append(round(outlier, 1))\n",
        "        else:\n",
        "            upper_outliers_by_box.append(round(outlier, 1))\n",
        "    lower_outliers.append(lower_outliers_by_box)\n",
        "    upper_outliers.append(upper_outliers_by_box)    \n",
        "    \n",
        "stats = [medians, means, minimums, maximums, q1, q3, lower_outliers, upper_outliers]\n",
        "stats_names = ['Median', 'Mean', 'Minimum', 'Maximum', 'Q1', 'Q3', 'Lower outliers', 'Upper outliers']\n",
        "\n",
        "for j in range(len(stats)):\n",
        "    print(f'{stats_names[j]}: {stats[j][i]}')\n",
        "\n",
        "print('\\n')"
      ],
      "metadata": {
        "colab": {
          "base_uri": "https://localhost:8080/",
          "height": 439
        },
        "id": "x9taShmCMl7D",
        "outputId": "71c7a239-015d-4e9c-82d3-cdf2bef5749f"
      },
      "execution_count": 17,
      "outputs": [
        {
          "output_type": "stream",
          "name": "stdout",
          "text": [
            "Median: 135.0\n",
            "Mean: 147.3\n",
            "Minimum: 29.5\n",
            "Maximum: 236.0\n",
            "Q1: 108.0\n",
            "Q3: 189.0\n",
            "Lower outliers: []\n",
            "Upper outliers: []\n",
            "\n",
            "\n"
          ]
        },
        {
          "output_type": "display_data",
          "data": {
            "image/png": "[encoded data removed]",
            "text/plain": [
              "<Figure size 432x288 with 1 Axes>"
            ]
          },
          "metadata": {
            "needs_background": "light"
          }
        }
      ]
    },
    {
      "cell_type": "markdown",
      "source": [
        "En el gráfico de boxplot se observa la asimetría positiva de los datos del total pagado. Es interesante observar que estos datos no presentan outliers."
      ],
      "metadata": {
        "id": "KE6AB6OfatJ7"
      }
    },
    {
      "cell_type": "markdown",
      "source": [
        "## **6. ANÁLISIS DE PAGO DE FACTURAS POR CLIENTE**\n",
        "\n",
        "---"
      ],
      "metadata": {
        "id": "jHWgBX1O11ii"
      }
    },
    {
      "cell_type": "code",
      "source": [
        "df.query('factura_pagada == \"si\"').groupby('cliente')['total_pagado'].sum()"
      ],
      "metadata": {
        "colab": {
          "base_uri": "https://localhost:8080/"
        },
        "id": "fAsADUZFfP9_",
        "outputId": "11b15471-1c94-4ca0-a22b-255732e72f5b"
      },
      "execution_count": 19,
      "outputs": [
        {
          "output_type": "execute_result",
          "data": {
            "text/plain": [
              "cliente\n",
              "clienteA    1534.0\n",
              "clienteB     924.0\n",
              "clienteC     584.5\n",
              "clienteD    1534.0\n",
              "Name: total_pagado, dtype: float64"
            ]
          },
          "metadata": {},
          "execution_count": 19
        }
      ]
    },
    {
      "cell_type": "markdown",
      "source": [
        "Aquellos clientes que sí han pagado sus facturas son el cliente A y D, pagando un total ambos de 1.534 UM (unidades monetarias)."
      ],
      "metadata": {
        "id": "qc2ucKnNa7Ur"
      }
    },
    {
      "cell_type": "markdown",
      "source": [
        "## **7. ANÁLISIS DE FACTURAS NO PAGADAS POR CLIENTE, EN EL MES DE FEBRERO**\n",
        "\n",
        "---"
      ],
      "metadata": {
        "id": "9DWQAfjn11TB"
      }
    },
    {
      "cell_type": "code",
      "source": [
        "df.query('factura_pagada == \"no\" and mes == \"Febrero\"').groupby(['cliente','mes','factura_pagada']).agg({'total_pagado': 'sum', 'factura_pagada': 'count'}).sort_values('total_pagado', ascending=False)"
      ],
      "metadata": {
        "colab": {
          "base_uri": "https://localhost:8080/",
          "height": 206
        },
        "id": "F6c6be_bfUbu",
        "outputId": "4b61e0d1-65d5-4eed-9fd8-71799a742e34"
      },
      "execution_count": 20,
      "outputs": [
        {
          "output_type": "execute_result",
          "data": {
            "text/html": [
              "\n",
              "  <div id=\"df-a5236e96-2464-40fc-a089-d2f85d2b6ba8\">\n",
              "    <div class=\"colab-df-container\">\n",
              "      <div>\n",
              "<style scoped>\n",
              "    .dataframe tbody tr th:only-of-type {\n",
              "        vertical-align: middle;\n",
              "    }\n",
              "\n",
              "    .dataframe tbody tr th {\n",
              "        vertical-align: top;\n",
              "    }\n",
              "\n",
              "    .dataframe thead th {\n",
              "        text-align: right;\n",
              "    }\n",
              "</style>\n",
              "<table border=\"1\" class=\"dataframe\">\n",
              "  <thead>\n",
              "    <tr style=\"text-align: right;\">\n",
              "      <th></th>\n",
              "      <th></th>\n",
              "      <th></th>\n",
              "      <th>total_pagado</th>\n",
              "      <th>factura_pagada</th>\n",
              "    </tr>\n",
              "    <tr>\n",
              "      <th>cliente</th>\n",
              "      <th>mes</th>\n",
              "      <th>factura_pagada</th>\n",
              "      <th></th>\n",
              "      <th></th>\n",
              "    </tr>\n",
              "  </thead>\n",
              "  <tbody>\n",
              "    <tr>\n",
              "      <th>clienteC</th>\n",
              "      <th>Febrero</th>\n",
              "      <th>no</th>\n",
              "      <td>285.0</td>\n",
              "      <td>2</td>\n",
              "    </tr>\n",
              "    <tr>\n",
              "      <th>clienteA</th>\n",
              "      <th>Febrero</th>\n",
              "      <th>no</th>\n",
              "      <td>135.0</td>\n",
              "      <td>1</td>\n",
              "    </tr>\n",
              "    <tr>\n",
              "      <th>clienteB</th>\n",
              "      <th>Febrero</th>\n",
              "      <th>no</th>\n",
              "      <td>59.0</td>\n",
              "      <td>1</td>\n",
              "    </tr>\n",
              "    <tr>\n",
              "      <th>clienteD</th>\n",
              "      <th>Febrero</th>\n",
              "      <th>no</th>\n",
              "      <td>32.4</td>\n",
              "      <td>1</td>\n",
              "    </tr>\n",
              "  </tbody>\n",
              "</table>\n",
              "</div>\n",
              "      <button class=\"colab-df-convert\" onclick=\"convertToInteractive('df-a5236e96-2464-40fc-a089-d2f85d2b6ba8')\"\n",
              "              title=\"Convert this dataframe to an interactive table.\"\n",
              "              style=\"display:none;\">\n",
              "        \n",
              "  <svg xmlns=\"http://www.w3.org/2000/svg\" height=\"24px\"viewBox=\"0 0 24 24\"\n",
              "       width=\"24px\">\n",
              "    <path d=\"M0 0h24v24H0V0z\" fill=\"none\"/>\n",
              "    <path d=\"M18.56 5.44l.94 2.06.94-2.06 2.06-.94-2.06-.94-.94-2.06-.94 2.06-2.06.94zm-11 1L8.5 8.5l.94-2.06 2.06-.94-2.06-.94L8.5 2.5l-.94 2.06-2.06.94zm10 10l.94 2.06.94-2.06 2.06-.94-2.06-.94-.94-2.06-.94 2.06-2.06.94z\"/><path d=\"M17.41 7.96l-1.37-1.37c-.4-.4-.92-.59-1.43-.59-.52 0-1.04.2-1.43.59L10.3 9.45l-7.72 7.72c-.78.78-.78 2.05 0 2.83L4 21.41c.39.39.9.59 1.41.59.51 0 1.02-.2 1.41-.59l7.78-7.78 2.81-2.81c.8-.78.8-2.07 0-2.86zM5.41 20L4 18.59l7.72-7.72 1.47 1.35L5.41 20z\"/>\n",
              "  </svg>\n",
              "      </button>\n",
              "      \n",
              "  <style>\n",
              "    .colab-df-container {\n",
              "      display:flex;\n",
              "      flex-wrap:wrap;\n",
              "      gap: 12px;\n",
              "    }\n",
              "\n",
              "    .colab-df-convert {\n",
              "      background-color: #E8F0FE;\n",
              "      border: none;\n",
              "      border-radius: 50%;\n",
              "      cursor: pointer;\n",
              "      display: none;\n",
              "      fill: #1967D2;\n",
              "      height: 32px;\n",
              "      padding: 0 0 0 0;\n",
              "      width: 32px;\n",
              "    }\n",
              "\n",
              "    .colab-df-convert:hover {\n",
              "      background-color: #E2EBFA;\n",
              "      box-shadow: 0px 1px 2px rgba(60, 64, 67, 0.3), 0px 1px 3px 1px rgba(60, 64, 67, 0.15);\n",
              "      fill: #174EA6;\n",
              "    }\n",
              "\n",
              "    [theme=dark] .colab-df-convert {\n",
              "      background-color: #3B4455;\n",
              "      fill: #D2E3FC;\n",
              "    }\n",
              "\n",
              "    [theme=dark] .colab-df-convert:hover {\n",
              "      background-color: #434B5C;\n",
              "      box-shadow: 0px 1px 3px 1px rgba(0, 0, 0, 0.15);\n",
              "      filter: drop-shadow(0px 1px 2px rgba(0, 0, 0, 0.3));\n",
              "      fill: #FFFFFF;\n",
              "    }\n",
              "  </style>\n",
              "\n",
              "      <script>\n",
              "        const buttonEl =\n",
              "          document.querySelector('#df-a5236e96-2464-40fc-a089-d2f85d2b6ba8 button.colab-df-convert');\n",
              "        buttonEl.style.display =\n",
              "          google.colab.kernel.accessAllowed ? 'block' : 'none';\n",
              "\n",
              "        async function convertToInteractive(key) {\n",
              "          const element = document.querySelector('#df-a5236e96-2464-40fc-a089-d2f85d2b6ba8');\n",
              "          const dataTable =\n",
              "            await google.colab.kernel.invokeFunction('convertToInteractive',\n",
              "                                                     [key], {});\n",
              "          if (!dataTable) return;\n",
              "\n",
              "          const docLinkHtml = 'Like what you see? Visit the ' +\n",
              "            '<a target=\"_blank\" href=https://colab.research.google.com/notebooks/data_table.ipynb>data table notebook</a>'\n",
              "            + ' to learn more about interactive tables.';\n",
              "          element.innerHTML = '';\n",
              "          dataTable['output_type'] = 'display_data';\n",
              "          await google.colab.output.renderOutput(dataTable, element);\n",
              "          const docLink = document.createElement('div');\n",
              "          docLink.innerHTML = docLinkHtml;\n",
              "          element.appendChild(docLink);\n",
              "        }\n",
              "      </script>\n",
              "    </div>\n",
              "  </div>\n",
              "  "
            ],
            "text/plain": [
              "                                 total_pagado  factura_pagada\n",
              "cliente  mes     factura_pagada                              \n",
              "clienteC Febrero no                     285.0               2\n",
              "clienteA Febrero no                     135.0               1\n",
              "clienteB Febrero no                      59.0               1\n",
              "clienteD Febrero no                      32.4               1"
            ]
          },
          "metadata": {},
          "execution_count": 20
        }
      ]
    },
    {
      "cell_type": "markdown",
      "source": [
        "Durante el mes de febrero hay cuatro clientes que no han pagado facturas, no obstante el cliente C es el que tiene mayor monto adeudado; 285 es el monto y 2 es la cantidad de facturas no pagadas por este cliente."
      ],
      "metadata": {
        "id": "IDHWZ0mGbDYN"
      }
    },
    {
      "cell_type": "markdown",
      "source": [
        "## **8. GRAFICO DE DISPERSIÓN ENTRE TOTAL PAGADO DE FACTURAS E IVA APLICADO**\n",
        "\n",
        "---"
      ],
      "metadata": {
        "id": "I-u2A63W11Dn"
      }
    },
    {
      "cell_type": "code",
      "source": [
        "sns.relplot(x='IVA', y='total_pagado', hue='tipo_IVA', style='factura_pagada', data=df);"
      ],
      "metadata": {
        "colab": {
          "base_uri": "https://localhost:8080/",
          "height": 365
        },
        "id": "kroK34W8q0l2",
        "outputId": "1192cf12-8b26-4791-b993-6d102b1d035e"
      },
      "execution_count": 22,
      "outputs": [
        {
          "output_type": "display_data",
          "data": {
            "image/png": "[encoded data removed]",
            "text/plain": [
              "<Figure size 472.1x360 with 1 Axes>"
            ]
          },
          "metadata": {}
        }
      ]
    },
    {
      "cell_type": "markdown",
      "source": [
        "En el gráfico de dispersión anterior, se puede ver claramente que hay una relación positiva entre el total pagado y el IVA (a medida que aumenta el IVA también aumenta el total pagado), también se puede ver (al agrupar por el tipo de IVA) que es interesante que quienes no han pagado son quienes tienen el menor IVA aplicado)"
      ],
      "metadata": {
        "id": "UEsq_a3xbd0h"
      }
    },
    {
      "cell_type": "markdown",
      "source": [
        "## **7. COVARIANZA ENTRE TOTAL PAGADO E IVA APLICADO**\n",
        "\n",
        "---"
      ],
      "metadata": {
        "id": "swjTIKhe10uI"
      }
    },
    {
      "cell_type": "code",
      "source": [
        "def cov(a,b):\n",
        "  cov = round(((df[a] -  df[a].mean()) * (df[b] -  df[b].mean())).sum() / (df.shape[0] - 1),2)\n",
        "  return cov"
      ],
      "metadata": {
        "id": "MaKl9bHIvLq_"
      },
      "execution_count": 23,
      "outputs": []
    },
    {
      "cell_type": "code",
      "source": [
        "cov('IVA','total_pagado')"
      ],
      "metadata": {
        "colab": {
          "base_uri": "https://localhost:8080/"
        },
        "id": "-jWkf_P90P7U",
        "outputId": "dd520a12-5a28-4650-a15c-f93bebf314de"
      },
      "execution_count": 24,
      "outputs": [
        {
          "output_type": "execute_result",
          "data": {
            "text/plain": [
              "526.77"
            ]
          },
          "metadata": {},
          "execution_count": 24
        }
      ]
    },
    {
      "cell_type": "code",
      "source": [
        "df[['total_pagado','IVA']].corr()"
      ],
      "metadata": {
        "colab": {
          "base_uri": "https://localhost:8080/",
          "height": 112
        },
        "id": "BcPZMr98z2Ev",
        "outputId": "e8507584-5bb7-4fcc-c7a8-b049f9bf6def"
      },
      "execution_count": 25,
      "outputs": [
        {
          "output_type": "execute_result",
          "data": {
            "text/html": [
              "\n",
              "  <div id=\"df-d9f06022-d79f-4ff7-aedc-fc952ba6ea62\">\n",
              "    <div class=\"colab-df-container\">\n",
              "      <div>\n",
              "<style scoped>\n",
              "    .dataframe tbody tr th:only-of-type {\n",
              "        vertical-align: middle;\n",
              "    }\n",
              "\n",
              "    .dataframe tbody tr th {\n",
              "        vertical-align: top;\n",
              "    }\n",
              "\n",
              "    .dataframe thead th {\n",
              "        text-align: right;\n",
              "    }\n",
              "</style>\n",
              "<table border=\"1\" class=\"dataframe\">\n",
              "  <thead>\n",
              "    <tr style=\"text-align: right;\">\n",
              "      <th></th>\n",
              "      <th>total_pagado</th>\n",
              "      <th>IVA</th>\n",
              "    </tr>\n",
              "  </thead>\n",
              "  <tbody>\n",
              "    <tr>\n",
              "      <th>total_pagado</th>\n",
              "      <td>1.000000</td>\n",
              "      <td>0.906824</td>\n",
              "    </tr>\n",
              "    <tr>\n",
              "      <th>IVA</th>\n",
              "      <td>0.906824</td>\n",
              "      <td>1.000000</td>\n",
              "    </tr>\n",
              "  </tbody>\n",
              "</table>\n",
              "</div>\n",
              "      <button class=\"colab-df-convert\" onclick=\"convertToInteractive('df-d9f06022-d79f-4ff7-aedc-fc952ba6ea62')\"\n",
              "              title=\"Convert this dataframe to an interactive table.\"\n",
              "              style=\"display:none;\">\n",
              "        \n",
              "  <svg xmlns=\"http://www.w3.org/2000/svg\" height=\"24px\"viewBox=\"0 0 24 24\"\n",
              "       width=\"24px\">\n",
              "    <path d=\"M0 0h24v24H0V0z\" fill=\"none\"/>\n",
              "    <path d=\"M18.56 5.44l.94 2.06.94-2.06 2.06-.94-2.06-.94-.94-2.06-.94 2.06-2.06.94zm-11 1L8.5 8.5l.94-2.06 2.06-.94-2.06-.94L8.5 2.5l-.94 2.06-2.06.94zm10 10l.94 2.06.94-2.06 2.06-.94-2.06-.94-.94-2.06-.94 2.06-2.06.94z\"/><path d=\"M17.41 7.96l-1.37-1.37c-.4-.4-.92-.59-1.43-.59-.52 0-1.04.2-1.43.59L10.3 9.45l-7.72 7.72c-.78.78-.78 2.05 0 2.83L4 21.41c.39.39.9.59 1.41.59.51 0 1.02-.2 1.41-.59l7.78-7.78 2.81-2.81c.8-.78.8-2.07 0-2.86zM5.41 20L4 18.59l7.72-7.72 1.47 1.35L5.41 20z\"/>\n",
              "  </svg>\n",
              "      </button>\n",
              "      \n",
              "  <style>\n",
              "    .colab-df-container {\n",
              "      display:flex;\n",
              "      flex-wrap:wrap;\n",
              "      gap: 12px;\n",
              "    }\n",
              "\n",
              "    .colab-df-convert {\n",
              "      background-color: #E8F0FE;\n",
              "      border: none;\n",
              "      border-radius: 50%;\n",
              "      cursor: pointer;\n",
              "      display: none;\n",
              "      fill: #1967D2;\n",
              "      height: 32px;\n",
              "      padding: 0 0 0 0;\n",
              "      width: 32px;\n",
              "    }\n",
              "\n",
              "    .colab-df-convert:hover {\n",
              "      background-color: #E2EBFA;\n",
              "      box-shadow: 0px 1px 2px rgba(60, 64, 67, 0.3), 0px 1px 3px 1px rgba(60, 64, 67, 0.15);\n",
              "      fill: #174EA6;\n",
              "    }\n",
              "\n",
              "    [theme=dark] .colab-df-convert {\n",
              "      background-color: #3B4455;\n",
              "      fill: #D2E3FC;\n",
              "    }\n",
              "\n",
              "    [theme=dark] .colab-df-convert:hover {\n",
              "      background-color: #434B5C;\n",
              "      box-shadow: 0px 1px 3px 1px rgba(0, 0, 0, 0.15);\n",
              "      filter: drop-shadow(0px 1px 2px rgba(0, 0, 0, 0.3));\n",
              "      fill: #FFFFFF;\n",
              "    }\n",
              "  </style>\n",
              "\n",
              "      <script>\n",
              "        const buttonEl =\n",
              "          document.querySelector('#df-d9f06022-d79f-4ff7-aedc-fc952ba6ea62 button.colab-df-convert');\n",
              "        buttonEl.style.display =\n",
              "          google.colab.kernel.accessAllowed ? 'block' : 'none';\n",
              "\n",
              "        async function convertToInteractive(key) {\n",
              "          const element = document.querySelector('#df-d9f06022-d79f-4ff7-aedc-fc952ba6ea62');\n",
              "          const dataTable =\n",
              "            await google.colab.kernel.invokeFunction('convertToInteractive',\n",
              "                                                     [key], {});\n",
              "          if (!dataTable) return;\n",
              "\n",
              "          const docLinkHtml = 'Like what you see? Visit the ' +\n",
              "            '<a target=\"_blank\" href=https://colab.research.google.com/notebooks/data_table.ipynb>data table notebook</a>'\n",
              "            + ' to learn more about interactive tables.';\n",
              "          element.innerHTML = '';\n",
              "          dataTable['output_type'] = 'display_data';\n",
              "          await google.colab.output.renderOutput(dataTable, element);\n",
              "          const docLink = document.createElement('div');\n",
              "          docLink.innerHTML = docLinkHtml;\n",
              "          element.appendChild(docLink);\n",
              "        }\n",
              "      </script>\n",
              "    </div>\n",
              "  </div>\n",
              "  "
            ],
            "text/plain": [
              "              total_pagado       IVA\n",
              "total_pagado      1.000000  0.906824\n",
              "IVA               0.906824  1.000000"
            ]
          },
          "metadata": {},
          "execution_count": 25
        }
      ]
    },
    {
      "cell_type": "markdown",
      "source": [
        "En relación a la Covarianza entre las variables IVA y Total Pagado, ésta es de 526,77. Adicionalmente se calcula la correlación entre ellas y se puede evidenciar que están fuertemente relacionadas (con un coeficiente de más de 0,9)."
      ],
      "metadata": {
        "id": "Md7LKGbWbyU3"
      }
    },
    {
      "cell_type": "code",
      "source": [
        ""
      ],
      "metadata": {
        "id": "d_0AWLbYb_0x"
      },
      "execution_count": null,
      "outputs": []
    }
  ]
}