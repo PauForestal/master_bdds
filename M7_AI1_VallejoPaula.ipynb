{
  "nbformat": 4,
  "nbformat_minor": 0,
  "metadata": {
    "colab": {
      "name": "M7_AI1_VallejoPaula_v2.ipynb",
      "provenance": [],
      "collapsed_sections": [],
      "authorship_tag": "ABX9TyMp7r88mnKM/inaIXdvjaWA",
      "include_colab_link": true
    },
    "kernelspec": {
      "name": "python3",
      "display_name": "Python 3"
    },
    "language_info": {
      "name": "python"
    }
  },
  "cells": [
    {
      "cell_type": "markdown",
      "metadata": {
        "id": "view-in-github",
        "colab_type": "text"
      },
      "source": [
        "<a href=\"https://colab.research.google.com/github/PauForestal/master_bdds/blob/main/M7_AI1_VallejoPaula.ipynb\" target=\"_parent\"><img src=\"https://colab.research.google.com/assets/colab-badge.svg\" alt=\"Open In Colab\"/></a>"
      ]
    },
    {
      "cell_type": "markdown",
      "source": [
        "## **<center>Máster en Big Data & Data Science**\n",
        "### **<center>Institut de Formació Contínua-IL3 - Universitat de Barcelona**\n",
        "\n",
        "### **Módulo 7 | Actividad Individual 1**\n",
        "#### **Padawan: Paula Vallejo Vargas**\n",
        "\n",
        "---\n",
        "---"
      ],
      "metadata": {
        "id": "LlMOVCAN5Np9"
      }
    },
    {
      "cell_type": "markdown",
      "source": [
        "## **Descripción de la tarea**\n",
        "\n",
        "#### Contexto\n",
        "\n",
        "En esta práctica realizaremos clasificación de imágenes con Support Vector Machine. Para ello, utilizaremos dos datasets: MNIST y Fashion-MNIST. \n",
        "\n",
        "**MNIST**\n",
        "\n",
        "Es un dataset de dígitos de MNIST (Modified-NIST, del Instituto Nacional de Estándares y Tecnología de EEUU).\n",
        "\n",
        "Consta de 60.000 imágenes de entrenamiento y 10.000 de prueba. El tamaño de la imagen es de 28 x 28 píxeles. Cada imagen está etiquetada de 0 a 9 en función del dígito representado. \n",
        "\n",
        "Se utiliza como banco de pruebas para clasificar imágenes con algoritmos de Machine Learning. \n",
        "\n",
        "**Fashion-MNIST**\n",
        "\n",
        "Es un dataset de imágenes de artículos de moda de la empresa Zalando. Fue concebido para sustituir a MNIST porque requiere modelos de clasificación más complejos. \n",
        "\n",
        "Mantiene las características de MNIST en cuanto a número de imágenes (60.000 de entrenamiento y 10.000 de prueba), tamaño de las imágenes (28 x 28 píxeles) y número de clases (10). \n",
        "\n",
        "Se diferencia en el contenido de las imágenes: 10 tipos de artículos de moda, en lugar de los 10 dígitos. \n",
        "\n",
        "El objetivo es comparar el resultado (accuracy) en función del dataset y el tipo de kernel SVM."
      ],
      "metadata": {
        "id": "KsdpziXw6cLw"
      }
    },
    {
      "cell_type": "markdown",
      "source": [
        "## **Importación de Librerías necesarias**"
      ],
      "metadata": {
        "id": "xHUvUcf56w1O"
      }
    },
    {
      "cell_type": "code",
      "execution_count": 39,
      "metadata": {
        "id": "JICiHyl9AUGO"
      },
      "outputs": [],
      "source": [
        "from time import time\n",
        "import datetime\n",
        "import numpy as np\n",
        "\n",
        "import tensorflow as tf\n",
        "\n",
        "from sklearn.model_selection import train_test_split\n",
        "\n",
        "from sklearn.svm import SVC\n",
        "from sklearn.model_selection import learning_curve,GridSearchCV\n",
        "from sklearn.metrics import confusion_matrix,classification_report\n",
        "\n",
        "from matplotlib import pyplot as plt\n",
        "%matplotlib inline"
      ]
    },
    {
      "cell_type": "markdown",
      "source": [
        "## **Lectura del dataset desde TensorFlow**"
      ],
      "metadata": {
        "id": "bsYvJmfb63Wc"
      }
    },
    {
      "cell_type": "markdown",
      "source": [
        "## **Primer Dataset: MNIST**"
      ],
      "metadata": {
        "id": "AbD6_3DZB-NV"
      }
    },
    {
      "cell_type": "code",
      "source": [
        "(X1_train, y1_train), (X1_test, y1_test) = tf.keras.datasets.mnist.load_data()\n",
        "\n",
        "print(f'Dataset MNIST:\\nShape X1_train: {X1_train.shape},\\nShape y1_train: {y1_train.shape},\\nShape X1_test: {X1_test.shape}, \\nShape y1_test: {y1_test.shape}')"
      ],
      "metadata": {
        "colab": {
          "base_uri": "https://localhost:8080/"
        },
        "id": "lM7AIkm1AVms",
        "outputId": "f3eb938d-2812-4729-9f57-a12185af194b"
      },
      "execution_count": 40,
      "outputs": [
        {
          "output_type": "stream",
          "name": "stdout",
          "text": [
            "Dataset MNIST:\n",
            "Shape X1_train: (60000, 28, 28),\n",
            "Shape y1_train: (60000,),\n",
            "Shape X1_test: (10000, 28, 28), \n",
            "Shape y1_test: (10000,)\n"
          ]
        }
      ]
    },
    {
      "cell_type": "markdown",
      "source": [
        "#### *Revisión dataset*"
      ],
      "metadata": {
        "id": "f8F0Y7Yc6-bk"
      }
    },
    {
      "cell_type": "code",
      "source": [
        "for i in range(25):\n",
        "    plt.subplot(5,5,i+1)\n",
        "    plt.xticks([])\n",
        "    plt.yticks([])\n",
        "    plt.imshow(X1_train[i]) #imshow  takes an array ( with dimension = 2, RGB or B/W) and gives you the image that corresponds to it\n",
        "plt.show() "
      ],
      "metadata": {
        "colab": {
          "base_uri": "https://localhost:8080/",
          "height": 252
        },
        "id": "SPg0eUYBAXsR",
        "outputId": "68d03a8a-1492-4967-e625-e4838adf31bf"
      },
      "execution_count": 3,
      "outputs": [
        {
          "output_type": "display_data",
          "data": {
            "text/plain": [
              "<Figure size 432x288 with 25 Axes>"
            ],
            "image/png": "[encoded data removed]"
          },
          "metadata": {}
        }
      ]
    },
    {
      "cell_type": "markdown",
      "source": [
        "# **Conversión para pasar de 3d-array a 2d-array (con “reshape”)**"
      ],
      "metadata": {
        "id": "V1zIn2hK7XHw"
      }
    },
    {
      "cell_type": "markdown",
      "source": [
        "Dado que son imágenes de 28x28 pixeles, se hace un reshape para pasar de 3D a 2D y así transformar cada feature (columna) en 1 pixel. Es por ello que la cantidad de features establecidas será de 784 (28x28)"
      ],
      "metadata": {
        "id": "Oark5Rz27ako"
      }
    },
    {
      "cell_type": "code",
      "source": [
        "X1_train = X1_train.reshape(60000,-1) # convertimos el array de 60000x28x28 en otro de 60000x787\n",
        "X1_test = X1_test.reshape(10000,-1) # convertimos el array de 10000x28x28 en otro de 10000x787"
      ],
      "metadata": {
        "id": "WHJIqGgXAbIG"
      },
      "execution_count": 43,
      "outputs": []
    },
    {
      "cell_type": "markdown",
      "source": [
        "# **Normalización de datos**"
      ],
      "metadata": {
        "id": "nPYPpzxd7h2o"
      }
    },
    {
      "cell_type": "markdown",
      "source": [
        "Esto se realiza dado que las features o características se encuentran en el rango de 0 a 255 pixeles."
      ],
      "metadata": {
        "id": "r-9Gm_pj7_xU"
      }
    },
    {
      "cell_type": "code",
      "source": [
        "# Normalizing the data\n",
        "X1_train = X1_train/255.0\n",
        "X1_test = X1_test/255.0"
      ],
      "metadata": {
        "id": "faph6sH4AdqR"
      },
      "execution_count": 42,
      "outputs": []
    },
    {
      "cell_type": "markdown",
      "source": [
        "## **Definición del tamaño de la muestra**"
      ],
      "metadata": {
        "id": "1rJ6cenZ8R9x"
      }
    },
    {
      "cell_type": "markdown",
      "source": [
        "Se utilizará una muestra de 20.000 observaciones para el entrenamiento y testeo del modelo."
      ],
      "metadata": {
        "id": "r8zdF4oQ8g0z"
      }
    },
    {
      "cell_type": "code",
      "source": [
        "X1_train = X1_train[0:20000]\n",
        "y1_train = y1_train[0:20000]\n",
        "\n",
        "print(f'Dataset MNIST:\\nShape X1_train: {X1_train.shape},\\nShape y1_train: {y1_train.shape},\\nShape X1_test: {X1_test.shape}, \\nShape y1_test: {y1_test.shape}')"
      ],
      "metadata": {
        "colab": {
          "base_uri": "https://localhost:8080/"
        },
        "id": "S2PpYFD6A1Fj",
        "outputId": "778a9438-d3f7-4f05-fcec-cbfd8f1facfa"
      },
      "execution_count": 6,
      "outputs": [
        {
          "output_type": "stream",
          "name": "stdout",
          "text": [
            "\n",
            "Dataset MNIST:\n",
            "Shape X1_train: (20000, 784),\n",
            "Shape y1_train: (20000,),\n",
            "Shape X1_test: (10000, 784), \n",
            "Shape y1_test: (10000,)\n"
          ]
        }
      ]
    },
    {
      "cell_type": "markdown",
      "source": [
        "## **Definición de datos de entrenamiento y testeo, según tamaño de muestra definido anteriormente**"
      ],
      "metadata": {
        "id": "ZFZF8qWb8noe"
      }
    },
    {
      "cell_type": "code",
      "source": [
        "# train test split\n",
        "X_train, X_test, y_train, y_test = train_test_split(X1_train, y1_train, test_size = 0.3, random_state = 10)"
      ],
      "metadata": {
        "id": "w5BJA3rxA1If"
      },
      "execution_count": 8,
      "outputs": []
    },
    {
      "cell_type": "markdown",
      "source": [
        "En el siguiente paso se realizará una comparación de dos modelos: Kernel lineal y otro no lineal llamado Kernel radial o Gaussiano.\n",
        "\n",
        "Esta comparación se realizará mediante una búsqueda *grid* y se eligirá la mejor combinación (esto se realiza mediante validación cruzada).\n",
        "\n",
        "Las combinaciones para el entrenamiento de ambos modelos estarán centradas en el parámetro **C** que nos permitirá determinar la variable de ajuste, y el tipo de kernel que como se dijo anteriormente, será lineal o gaussiano.\n",
        "\n",
        "Adicionalmente, se obtendrá el tiempo de procesamiento para encontrar la mejor combinación. Este factor es muy relevante ya que con el se puede determinar si se justifica o no el costo computacional de modificar o hacer variaciones en el modelo."
      ],
      "metadata": {
        "id": "xFicLGjD8z7l"
      }
    },
    {
      "cell_type": "code",
      "source": [
        "parameters = [{'kernel': ['linear'], 'C': [1, 10, 100, 1000]},\n",
        "              {'kernel': ['rbf'], 'C': [1, 10, 100, 1000]}\n",
        "              ]\n",
        "\n",
        "timeIni = time()\n",
        "grid = GridSearchCV(SVC(), parameters)\n",
        "grid.fit(X_train, y_train)\n",
        "timeEnd = time()\n",
        "timeDiff = datetime.datetime.fromtimestamp(timeEnd-timeIni).strftime(\"%M:%S:%f\")\n",
        "\n",
        "print(\"La mejor parametrización para la SVM (en el conjunto de training) es: \", grid.best_params_)\n",
        "print(\"Tiempo necesario para su cómputo: \", timeDiff)"
      ],
      "metadata": {
        "colab": {
          "base_uri": "https://localhost:8080/"
        },
        "id": "1MafnX6hNUWT",
        "outputId": "de3a9c47-59ae-49c8-d72b-8bd4e432dd0f"
      },
      "execution_count": 13,
      "outputs": [
        {
          "output_type": "stream",
          "name": "stdout",
          "text": [
            "La mejor parametrización para la SVM (en el conjunto de training) es:  {'C': 10, 'kernel': 'rbf'}\n",
            "Tiempo necesario para su cómputo:  10:38:930142\n"
          ]
        }
      ]
    },
    {
      "cell_type": "markdown",
      "source": [
        "Una vez que hemos definido cuál es el conjunto de parámetros optimos para obtener el mejor modelo entrenado, es importante revisar la performance del modelo con datos no evaluados anteriormente, de esta manera podemos determinar si hay o no una mejor combinación de parámetros. Esta evaluación se realizará utilizando los datos de test obtenidos mediante el proceso de determinación de datos de entrenamiento y testeo en paso anterior.\n",
        "\n",
        "En este paso, se realizará un loop con los distintos valores de C ya utilizados y se contrastará con los datos de testeo para determinar el accuracy del modelo con esos parámetros específicos. Así podremos verificar, o no, cuál es realmente el mejor modelo según el nivel de precisión logrado en la detección de categorías con datos nuevos."
      ],
      "metadata": {
        "id": "4imtx0sO_RuF"
      }
    },
    {
      "cell_type": "code",
      "source": [
        "minAcc = 100\n",
        "maxAcc = 0\n",
        "rapidoAcc = 0\n",
        "lentoAcc = 0\n",
        "mejorTime = 0\n",
        "peorTime = 0\n",
        "minTime = 1000000000\n",
        "maxTime = 0\n",
        "\n",
        "mejorModelo = SVC()\n",
        "peorModelo = SVC()\n",
        "rapidoModelo = SVC()\n",
        "lentoModelo = SVC()"
      ],
      "metadata": {
        "id": "8Ej66WTsA1aK"
      },
      "execution_count": 14,
      "outputs": []
    },
    {
      "cell_type": "code",
      "source": [
        "kernel = \"linear\"\n",
        "\n",
        "for c in (1, 10, 100, 1000):\n",
        "  print(\"Kernel lineal con C=\", c)\n",
        "  \n",
        "  timeIni = time()\n",
        "  modelo = SVC(kernel = kernel, C=c).fit(X_train, y_train)\n",
        "  print(modelo)\n",
        "  timeEnd = time()\n",
        "  timeDiff = datetime.datetime.fromtimestamp(timeEnd-timeIni).strftime(\"%M:%S:%f\")\n",
        "\n",
        "  acc = modelo.score(X_test, y_test)\n",
        "  print(\"Precisión (accuracy): \", acc)\n",
        "  print(\"Tiempo entrenamiento: \", timeDiff)\n",
        "\n",
        "  predicciones = modelo.predict(X_test)\n",
        "  print(\"Matriz de confusión:\")\n",
        "  print(confusion_matrix(y_test, predicciones))\n",
        "  print(classification_report(y_test, predicciones))\n",
        "  print(\"---------------------------------------\")\n",
        "  print()\n",
        "\n",
        "  if (maxAcc < acc):\n",
        "      maxAcc = acc\n",
        "      mejorTime = timeEnd-timeIni\n",
        "      mejorModelo = modelo\n",
        "\n",
        "  if (minAcc > acc):\n",
        "      minAcc = acc\n",
        "      peorTime = timeEnd-timeIni\n",
        "      peorModelo = modelo\n",
        "\n",
        "  if (timeEnd-timeIni > maxTime):\n",
        "      lentoAcc = acc\n",
        "      maxTime = timeEnd-timeIni\n",
        "      lentoModelo = modelo\n",
        "\n",
        "  if (timeEnd-timeIni < minTime):\n",
        "      rapidoAcc = acc\n",
        "      minTime = timeEnd-timeIni\n",
        "      rapidoModelo = modelo"
      ],
      "metadata": {
        "colab": {
          "base_uri": "https://localhost:8080/"
        },
        "id": "Y7bvz5JVA1c4",
        "outputId": "6c61d81d-7d60-47ac-a0a8-36467674d5e2"
      },
      "execution_count": 15,
      "outputs": [
        {
          "output_type": "stream",
          "name": "stdout",
          "text": [
            "Kernel lineal con C= 1\n",
            "SVC(C=1, kernel='linear')\n",
            "Precisión (accuracy):  0.9228333333333333\n",
            "Tiempo entrenamiento:  00:13:820624\n",
            "Matriz de confusión:\n",
            "[[594   0   1   0   0   5   4   1   0   0]\n",
            " [  0 680   0   2   1   2   1   0   3   0]\n",
            " [  4  10 561   7   6   6   4   7  13   0]\n",
            " [  2   5  17 544   1  12   1   6   8   2]\n",
            " [  4   4   3   1 560   0   5   3   0  17]\n",
            " [  9   5   4  21   2 464   6   0   4   4]\n",
            " [  6   2  10   1   3   6 528   0   3   0]\n",
            " [  0   1   3   3  10   0   0 576   2  13]\n",
            " [  5  14  16  31   2  14   7   1 484   8]\n",
            " [  6   4   2  15  20   5   2  22   3 546]]\n",
            "              precision    recall  f1-score   support\n",
            "\n",
            "           0       0.94      0.98      0.96       605\n",
            "           1       0.94      0.99      0.96       689\n",
            "           2       0.91      0.91      0.91       618\n",
            "           3       0.87      0.91      0.89       598\n",
            "           4       0.93      0.94      0.93       597\n",
            "           5       0.90      0.89      0.90       519\n",
            "           6       0.95      0.94      0.95       559\n",
            "           7       0.94      0.95      0.94       608\n",
            "           8       0.93      0.83      0.88       582\n",
            "           9       0.93      0.87      0.90       625\n",
            "\n",
            "    accuracy                           0.92      6000\n",
            "   macro avg       0.92      0.92      0.92      6000\n",
            "weighted avg       0.92      0.92      0.92      6000\n",
            "\n",
            "---------------------------------------\n",
            "\n",
            "Kernel lineal con C= 10\n",
            "SVC(C=10, kernel='linear')\n",
            "Precisión (accuracy):  0.9141666666666667\n",
            "Tiempo entrenamiento:  00:12:514349\n",
            "Matriz de confusión:\n",
            "[[593   0   1   0   0   5   4   1   1   0]\n",
            " [  0 680   0   2   1   2   1   0   3   0]\n",
            " [  4   8 560   9   8   7   4   7  11   0]\n",
            " [  2   4  15 537   1  16   1   6  13   3]\n",
            " [  4   4   2   2 552   0   6   4   0  23]\n",
            " [  9   6   1  27   2 461   6   0   4   3]\n",
            " [  6   3  11   1   4   6 526   0   2   0]\n",
            " [  0   1   3   3   9   0   0 573   3  16]\n",
            " [  6  17  18  42   2  16   7   1 466   7]\n",
            " [  6   5   2  16  25   3   2  25   4 537]]\n",
            "              precision    recall  f1-score   support\n",
            "\n",
            "           0       0.94      0.98      0.96       605\n",
            "           1       0.93      0.99      0.96       689\n",
            "           2       0.91      0.91      0.91       618\n",
            "           3       0.84      0.90      0.87       598\n",
            "           4       0.91      0.92      0.92       597\n",
            "           5       0.89      0.89      0.89       519\n",
            "           6       0.94      0.94      0.94       559\n",
            "           7       0.93      0.94      0.94       608\n",
            "           8       0.92      0.80      0.86       582\n",
            "           9       0.91      0.86      0.88       625\n",
            "\n",
            "    accuracy                           0.91      6000\n",
            "   macro avg       0.91      0.91      0.91      6000\n",
            "weighted avg       0.91      0.91      0.91      6000\n",
            "\n",
            "---------------------------------------\n",
            "\n",
            "Kernel lineal con C= 100\n",
            "SVC(C=100, kernel='linear')\n",
            "Precisión (accuracy):  0.9141666666666667\n",
            "Tiempo entrenamiento:  00:12:390429\n",
            "Matriz de confusión:\n",
            "[[593   0   1   0   0   5   4   1   1   0]\n",
            " [  0 680   0   2   1   2   1   0   3   0]\n",
            " [  4   8 560   9   8   7   4   7  11   0]\n",
            " [  2   4  15 537   1  16   1   6  13   3]\n",
            " [  4   4   2   2 552   0   6   4   0  23]\n",
            " [  9   6   1  27   2 461   6   0   4   3]\n",
            " [  6   3  11   1   4   6 526   0   2   0]\n",
            " [  0   1   3   3   9   0   0 573   3  16]\n",
            " [  6  17  18  42   2  16   7   1 466   7]\n",
            " [  6   5   2  16  25   3   2  25   4 537]]\n",
            "              precision    recall  f1-score   support\n",
            "\n",
            "           0       0.94      0.98      0.96       605\n",
            "           1       0.93      0.99      0.96       689\n",
            "           2       0.91      0.91      0.91       618\n",
            "           3       0.84      0.90      0.87       598\n",
            "           4       0.91      0.92      0.92       597\n",
            "           5       0.89      0.89      0.89       519\n",
            "           6       0.94      0.94      0.94       559\n",
            "           7       0.93      0.94      0.94       608\n",
            "           8       0.92      0.80      0.86       582\n",
            "           9       0.91      0.86      0.88       625\n",
            "\n",
            "    accuracy                           0.91      6000\n",
            "   macro avg       0.91      0.91      0.91      6000\n",
            "weighted avg       0.91      0.91      0.91      6000\n",
            "\n",
            "---------------------------------------\n",
            "\n",
            "Kernel lineal con C= 1000\n",
            "SVC(C=1000, kernel='linear')\n",
            "Precisión (accuracy):  0.9141666666666667\n",
            "Tiempo entrenamiento:  00:12:586486\n",
            "Matriz de confusión:\n",
            "[[593   0   1   0   0   5   4   1   1   0]\n",
            " [  0 680   0   2   1   2   1   0   3   0]\n",
            " [  4   8 560   9   8   7   4   7  11   0]\n",
            " [  2   4  15 537   1  16   1   6  13   3]\n",
            " [  4   4   2   2 552   0   6   4   0  23]\n",
            " [  9   6   1  27   2 461   6   0   4   3]\n",
            " [  6   3  11   1   4   6 526   0   2   0]\n",
            " [  0   1   3   3   9   0   0 573   3  16]\n",
            " [  6  17  18  42   2  16   7   1 466   7]\n",
            " [  6   5   2  16  25   3   2  25   4 537]]\n",
            "              precision    recall  f1-score   support\n",
            "\n",
            "           0       0.94      0.98      0.96       605\n",
            "           1       0.93      0.99      0.96       689\n",
            "           2       0.91      0.91      0.91       618\n",
            "           3       0.84      0.90      0.87       598\n",
            "           4       0.91      0.92      0.92       597\n",
            "           5       0.89      0.89      0.89       519\n",
            "           6       0.94      0.94      0.94       559\n",
            "           7       0.93      0.94      0.94       608\n",
            "           8       0.92      0.80      0.86       582\n",
            "           9       0.91      0.86      0.88       625\n",
            "\n",
            "    accuracy                           0.91      6000\n",
            "   macro avg       0.91      0.91      0.91      6000\n",
            "weighted avg       0.91      0.91      0.91      6000\n",
            "\n",
            "---------------------------------------\n",
            "\n"
          ]
        }
      ]
    },
    {
      "cell_type": "code",
      "source": [
        "kernel = \"rbf\"\n",
        "\n",
        "for c in (1, 10, 100, 1000):\n",
        "    print(\"Kernel Gaussiano con C=\", c)\n",
        "    timeIni = time()\n",
        "    modelo = SVC(kernel = kernel, C=c).fit(X_train, y_train)\n",
        "    print(modelo.fit(X_train, y_train))\n",
        "    timeEnd = time()\n",
        "    timeDiff = datetime.datetime.fromtimestamp(timeEnd-timeIni).strftime(\"%M:%S:%f\")\n",
        "\n",
        "    acc = modelo.score(X_test, y_test)\n",
        "    print(\"Precisión (accuracy): \", acc)\n",
        "    print(\"Tiempo entrenamiento: \", timeDiff)\n",
        "\n",
        "    predicciones = modelo.predict(X_test)\n",
        "    print(\"Matriz de confusión:\")\n",
        "    print(confusion_matrix(y_test, predicciones))\n",
        "    print(classification_report(y_test, predicciones))\n",
        "    print(\"---------------------------------------\")\n",
        "    print()\n",
        "\n",
        "    if (maxAcc < acc):\n",
        "      maxAcc = acc\n",
        "      mejorTime = timeEnd-timeIni\n",
        "      mejorModelo = modelo\n",
        "\n",
        "    if (minAcc > acc):\n",
        "      minAcc = acc\n",
        "      peorTime = timeEnd-timeIni\n",
        "      peorModelo = modelo\n",
        "\n",
        "    if (timeEnd-timeIni > maxTime):\n",
        "      lentoAcc = acc\n",
        "      maxTime = timeEnd-timeIni\n",
        "      lentoModelo = modelo\n",
        "\n",
        "    if (timeEnd-timeIni < minTime):\n",
        "      rapidoAcc = acc\n",
        "      minTime = timeEnd-timeIni\n",
        "      rapidoModelo = modelo"
      ],
      "metadata": {
        "colab": {
          "base_uri": "https://localhost:8080/"
        },
        "id": "m7KWoN94A1fs",
        "outputId": "234ad246-9235-4434-b7b8-daec8d570125"
      },
      "execution_count": 16,
      "outputs": [
        {
          "output_type": "stream",
          "name": "stdout",
          "text": [
            "Kernel Gaussiano con C= 1\n",
            "SVC(C=1)\n",
            "Precisión (accuracy):  0.9661666666666666\n",
            "Tiempo entrenamiento:  00:37:349811\n",
            "Matriz de confusión:\n",
            "[[602   0   0   0   0   2   0   0   1   0]\n",
            " [  0 684   1   0   1   2   0   0   1   0]\n",
            " [  4   2 593   4   5   0   1   5   4   0]\n",
            " [  0   2   8 571   0   2   1   5   6   3]\n",
            " [  0   2   2   0 578   0   2   1   0  12]\n",
            " [  6   1   0  12   1 496   1   0   0   2]\n",
            " [  4   1   0   1   2   2 547   0   2   0]\n",
            " [  0   0   0   0   4   0   0 594   2   8]\n",
            " [  1   5   1   5   3   4   3   1 554   5]\n",
            " [  2   3   0  12  13   2   1   9   5 578]]\n",
            "              precision    recall  f1-score   support\n",
            "\n",
            "           0       0.97      1.00      0.98       605\n",
            "           1       0.98      0.99      0.98       689\n",
            "           2       0.98      0.96      0.97       618\n",
            "           3       0.94      0.95      0.95       598\n",
            "           4       0.95      0.97      0.96       597\n",
            "           5       0.97      0.96      0.96       519\n",
            "           6       0.98      0.98      0.98       559\n",
            "           7       0.97      0.98      0.97       608\n",
            "           8       0.96      0.95      0.96       582\n",
            "           9       0.95      0.92      0.94       625\n",
            "\n",
            "    accuracy                           0.97      6000\n",
            "   macro avg       0.97      0.97      0.97      6000\n",
            "weighted avg       0.97      0.97      0.97      6000\n",
            "\n",
            "---------------------------------------\n",
            "\n",
            "Kernel Gaussiano con C= 10\n",
            "SVC(C=10)\n",
            "Precisión (accuracy):  0.9755\n",
            "Tiempo entrenamiento:  00:35:086962\n",
            "Matriz de confusión:\n",
            "[[603   0   0   0   0   2   0   0   0   0]\n",
            " [  0 686   0   0   1   2   0   0   0   0]\n",
            " [  1   4 603   1   4   0   0   4   1   0]\n",
            " [  0   0   5 580   0   2   1   5   4   1]\n",
            " [  0   3   0   0 583   0   2   1   0   8]\n",
            " [  2   0   0  11   1 501   1   0   0   3]\n",
            " [  3   0   0   0   0   0 554   0   2   0]\n",
            " [  0   0   0   1   3   0   0 595   2   7]\n",
            " [  2   3   1   2   1   7   3   0 558   5]\n",
            " [  2   2   1   8   7   3   2   7   3 590]]\n",
            "              precision    recall  f1-score   support\n",
            "\n",
            "           0       0.98      1.00      0.99       605\n",
            "           1       0.98      1.00      0.99       689\n",
            "           2       0.99      0.98      0.98       618\n",
            "           3       0.96      0.97      0.97       598\n",
            "           4       0.97      0.98      0.97       597\n",
            "           5       0.97      0.97      0.97       519\n",
            "           6       0.98      0.99      0.99       559\n",
            "           7       0.97      0.98      0.98       608\n",
            "           8       0.98      0.96      0.97       582\n",
            "           9       0.96      0.94      0.95       625\n",
            "\n",
            "    accuracy                           0.98      6000\n",
            "   macro avg       0.98      0.98      0.98      6000\n",
            "weighted avg       0.98      0.98      0.98      6000\n",
            "\n",
            "---------------------------------------\n",
            "\n",
            "Kernel Gaussiano con C= 100\n",
            "SVC(C=100)\n",
            "Precisión (accuracy):  0.9755\n",
            "Tiempo entrenamiento:  00:36:534842\n",
            "Matriz de confusión:\n",
            "[[603   0   0   0   0   2   0   0   0   0]\n",
            " [  0 686   0   0   1   2   0   0   0   0]\n",
            " [  1   4 603   1   4   0   0   4   1   0]\n",
            " [  0   0   5 580   0   2   1   5   4   1]\n",
            " [  0   3   0   0 583   0   2   1   0   8]\n",
            " [  2   0   0  11   1 501   1   0   0   3]\n",
            " [  3   0   0   0   0   0 554   0   2   0]\n",
            " [  0   0   0   1   3   0   0 595   2   7]\n",
            " [  2   3   1   2   1   7   3   0 558   5]\n",
            " [  2   2   1   8   7   3   2   7   3 590]]\n",
            "              precision    recall  f1-score   support\n",
            "\n",
            "           0       0.98      1.00      0.99       605\n",
            "           1       0.98      1.00      0.99       689\n",
            "           2       0.99      0.98      0.98       618\n",
            "           3       0.96      0.97      0.97       598\n",
            "           4       0.97      0.98      0.97       597\n",
            "           5       0.97      0.97      0.97       519\n",
            "           6       0.98      0.99      0.99       559\n",
            "           7       0.97      0.98      0.98       608\n",
            "           8       0.98      0.96      0.97       582\n",
            "           9       0.96      0.94      0.95       625\n",
            "\n",
            "    accuracy                           0.98      6000\n",
            "   macro avg       0.98      0.98      0.98      6000\n",
            "weighted avg       0.98      0.98      0.98      6000\n",
            "\n",
            "---------------------------------------\n",
            "\n",
            "Kernel Gaussiano con C= 1000\n",
            "SVC(C=1000)\n",
            "Precisión (accuracy):  0.9755\n",
            "Tiempo entrenamiento:  00:34:738794\n",
            "Matriz de confusión:\n",
            "[[603   0   0   0   0   2   0   0   0   0]\n",
            " [  0 686   0   0   1   2   0   0   0   0]\n",
            " [  1   4 603   1   4   0   0   4   1   0]\n",
            " [  0   0   5 580   0   2   1   5   4   1]\n",
            " [  0   3   0   0 583   0   2   1   0   8]\n",
            " [  2   0   0  11   1 501   1   0   0   3]\n",
            " [  3   0   0   0   0   0 554   0   2   0]\n",
            " [  0   0   0   1   3   0   0 595   2   7]\n",
            " [  2   3   1   2   1   7   3   0 558   5]\n",
            " [  2   2   1   8   7   3   2   7   3 590]]\n",
            "              precision    recall  f1-score   support\n",
            "\n",
            "           0       0.98      1.00      0.99       605\n",
            "           1       0.98      1.00      0.99       689\n",
            "           2       0.99      0.98      0.98       618\n",
            "           3       0.96      0.97      0.97       598\n",
            "           4       0.97      0.98      0.97       597\n",
            "           5       0.97      0.97      0.97       519\n",
            "           6       0.98      0.99      0.99       559\n",
            "           7       0.97      0.98      0.98       608\n",
            "           8       0.98      0.96      0.97       582\n",
            "           9       0.96      0.94      0.95       625\n",
            "\n",
            "    accuracy                           0.98      6000\n",
            "   macro avg       0.98      0.98      0.98      6000\n",
            "weighted avg       0.98      0.98      0.98      6000\n",
            "\n",
            "---------------------------------------\n",
            "\n"
          ]
        }
      ]
    },
    {
      "cell_type": "code",
      "source": [
        "print(\"El mejor modelo es: \", mejorModelo.kernel)\n",
        "print(mejorModelo)\n",
        "print(\"Accuracy: \", maxAcc)\n",
        "print(\"Tiempo: \", datetime.datetime.fromtimestamp(mejorTime).strftime(\"%M:%S:%f\"))\n",
        "print()\n",
        "\n",
        "print(\"El peor modelo es: \", peorModelo.kernel)\n",
        "print(peorModelo)\n",
        "print(\"Accuracy: \", minAcc)\n",
        "print(\"Tiempo: \", datetime.datetime.fromtimestamp(peorTime).strftime(\"%M:%S:%f\"))\n",
        "print()\n",
        "\n",
        "print(\"El modelo más rápido es: \", rapidoModelo.kernel)\n",
        "print(rapidoModelo)\n",
        "print(\"Accuracy: \", rapidoAcc)\n",
        "print(\"Tiempo: \", datetime.datetime.fromtimestamp(minTime).strftime(\"%M:%S:%f\"))\n",
        "print()\n",
        "\n",
        "print(\"El modelo más lento es: \", lentoModelo.kernel)\n",
        "print(lentoModelo)\n",
        "print(\"Accuracy: \", lentoAcc)\n",
        "print(\"Tiempo: \", datetime.datetime.fromtimestamp(maxTime).strftime(\"%M:%S:%f\"))"
      ],
      "metadata": {
        "colab": {
          "base_uri": "https://localhost:8080/"
        },
        "id": "jQSmm-QMA1i4",
        "outputId": "3a8d2ef4-b406-40a5-9057-a47e5d563393"
      },
      "execution_count": 17,
      "outputs": [
        {
          "output_type": "stream",
          "name": "stdout",
          "text": [
            "El mejor modelo es:  rbf\n",
            "SVC(C=10)\n",
            "Accuracy:  0.9755\n",
            "Tiempo:  00:35:086962\n",
            "\n",
            "El peor modelo es:  linear\n",
            "SVC(C=10, kernel='linear')\n",
            "Accuracy:  0.9141666666666667\n",
            "Tiempo:  00:12:514349\n",
            "\n",
            "El modelo más rápido es:  linear\n",
            "SVC(C=100, kernel='linear')\n",
            "Accuracy:  0.9141666666666667\n",
            "Tiempo:  00:12:390429\n",
            "\n",
            "El modelo más lento es:  rbf\n",
            "SVC(C=1)\n",
            "Accuracy:  0.9661666666666666\n",
            "Tiempo:  00:37:349811\n"
          ]
        }
      ]
    },
    {
      "cell_type": "markdown",
      "source": [
        "Luego de realizar el proceso anterior, en que hemos entrenado un set de datos de 14.000 observaciones y lo hemos podido testear con otro de 6.000 observaciones, podemos comprobar que el mejor modelo es aquel que se entrena mediante Kernel Gaussiano, con un valor de la variable de ajuste de 10 (c=10). Con esto, obtenemos una accuracy o precisión del 97,6% y un tiempo de ejecución de 35 minutos.\n",
        "\n",
        "Finalmente, volvemos a validar el modelo, esta vez con los datos apartados al principio (X1_test). Estos datos no han sido ingresados al modelo para entrenar ni testear, por lo que nos permitirá realizar una validación bastante buena de nuestro modelo."
      ],
      "metadata": {
        "id": "kJTpSeF5AluC"
      }
    },
    {
      "cell_type": "code",
      "source": [
        "acc = mejorModelo.score(X1_test, y1_test)\n",
        "print(\"Precisión (accuracy): \", acc)\n",
        "print(\"Tiempo entrenamiento: \", timeDiff)\n",
        "\n",
        "predicciones = mejorModelo.predict(X1_test)\n",
        "print(\"Matriz de confusión:\")\n",
        "print(confusion_matrix(y1_test, predicciones))\n",
        "print(classification_report(y1_test, predicciones))\n",
        "print(\"---------------------------------------\")\n",
        "print()"
      ],
      "metadata": {
        "colab": {
          "base_uri": "https://localhost:8080/"
        },
        "id": "WsTqY1cpA1mO",
        "outputId": "c41704de-fcfb-4f48-b59f-28d26d0ce04a"
      },
      "execution_count": 18,
      "outputs": [
        {
          "output_type": "stream",
          "name": "stdout",
          "text": [
            "Precisión (accuracy):  0.9722\n",
            "Tiempo entrenamiento:  00:34:738794\n",
            "Matriz de confusión:\n",
            "[[ 969    0    1    0    0    2    4    1    3    0]\n",
            " [   0 1128    2    1    0    3    1    0    0    0]\n",
            " [   6    1 1003    0    2    0    1    9    8    2]\n",
            " [   0    1    4  986    1    5    0    4    7    2]\n",
            " [   1    1    3    0  953    0    5    1    2   16]\n",
            " [   4    0    0   15    1  859    6    1    4    2]\n",
            " [   7    3    1    0    3    6  936    0    2    0]\n",
            " [   0   10   14    1    3    0    0  988    1   11]\n",
            " [   3    1    1   10    4    4    2    5  941    3]\n",
            " [   5    5    0   10   15    1    0   10    4  959]]\n",
            "              precision    recall  f1-score   support\n",
            "\n",
            "           0       0.97      0.99      0.98       980\n",
            "           1       0.98      0.99      0.99      1135\n",
            "           2       0.97      0.97      0.97      1032\n",
            "           3       0.96      0.98      0.97      1010\n",
            "           4       0.97      0.97      0.97       982\n",
            "           5       0.98      0.96      0.97       892\n",
            "           6       0.98      0.98      0.98       958\n",
            "           7       0.97      0.96      0.97      1028\n",
            "           8       0.97      0.97      0.97       974\n",
            "           9       0.96      0.95      0.96      1009\n",
            "\n",
            "    accuracy                           0.97     10000\n",
            "   macro avg       0.97      0.97      0.97     10000\n",
            "weighted avg       0.97      0.97      0.97     10000\n",
            "\n",
            "---------------------------------------\n",
            "\n"
          ]
        }
      ]
    },
    {
      "cell_type": "markdown",
      "source": [
        "Tal como se suponía, efectivamente hemos podido validar el modelo, con una precisión entre 97,2% y 97,6% t y un tiempo de entrenamiento de 35 minutos aproximadamente."
      ],
      "metadata": {
        "id": "NlwnNcxdBlin"
      }
    },
    {
      "cell_type": "markdown",
      "source": [
        "## **Segundo Dataset: FASHION MNIST**"
      ],
      "metadata": {
        "id": "PLZ5NXJkByjN"
      }
    },
    {
      "cell_type": "code",
      "source": [
        "(X2_train, y2_train), (X2_test, y2_test) = tf.keras.datasets.fashion_mnist.load_data()\n",
        "\n",
        "print(f'\\nDataset fashion_MNIST:\\nShape X2_train: {X2_train.shape},\\nShape y2_train: {y2_train.shape},\\nShape X2_test: {X2_test.shape}, \\nShape y2_test: {y2_test.shape}')"
      ],
      "metadata": {
        "colab": {
          "base_uri": "https://localhost:8080/"
        },
        "id": "wzTF9WNy918m",
        "outputId": "94efae15-ddda-4554-d658-aeb048fca811"
      },
      "execution_count": 44,
      "outputs": [
        {
          "output_type": "stream",
          "name": "stdout",
          "text": [
            "\n",
            "Dataset fashion_MNIST:\n",
            "Shape X2_train: (60000, 28, 28),\n",
            "Shape y2_train: (60000,),\n",
            "Shape X2_test: (10000, 28, 28), \n",
            "Shape y2_test: (10000,)\n"
          ]
        }
      ]
    },
    {
      "cell_type": "markdown",
      "source": [
        "#### *Revisión dataset*"
      ],
      "metadata": {
        "id": "fyADaGdkCd7y"
      }
    },
    {
      "cell_type": "code",
      "source": [
        "image_idx = 8998 \n",
        "print(f'Label: {y2_train[image_idx]}')\n",
        "plt.imshow(X2_train[image_idx]);"
      ],
      "metadata": {
        "colab": {
          "base_uri": "https://localhost:8080/",
          "height": 283
        },
        "id": "q_ktvp20XNY1",
        "outputId": "ff2ce984-c972-4180-b3be-f413644ddc71"
      },
      "execution_count": 20,
      "outputs": [
        {
          "output_type": "stream",
          "name": "stdout",
          "text": [
            "Label: 0\n"
          ]
        },
        {
          "output_type": "display_data",
          "data": {
            "text/plain": [
              "<Figure size 432x288 with 1 Axes>"
            ],
            "image/png": "[encoded data removed]"
          },
          "metadata": {
            "needs_background": "light"
          }
        }
      ]
    },
    {
      "cell_type": "code",
      "source": [
        "for i in range(25):\n",
        "    plt.subplot(5,5,i+1)\n",
        "    plt.xticks([])\n",
        "    plt.yticks([])\n",
        "    plt.imshow(X2_train[i], cmap='gray') #imshow  takes an array ( with dimension = 2, RGB or B/W) and gives you the image that corresponds to it\n",
        "plt.show() "
      ],
      "metadata": {
        "colab": {
          "base_uri": "https://localhost:8080/",
          "height": 252
        },
        "id": "rVM_q4tZXSlj",
        "outputId": "ca992278-3f7b-4cf7-8c39-df5aa091a505"
      },
      "execution_count": 21,
      "outputs": [
        {
          "output_type": "display_data",
          "data": {
            "text/plain": [
              "<Figure size 432x288 with 25 Axes>"
            ],
            "image/png": "[encoded data removed]"
          },
          "metadata": {}
        }
      ]
    },
    {
      "cell_type": "markdown",
      "source": [
        "\n",
        "\n",
        "# **Conversión y Normalización de datos y definición de tamaño de muestra**"
      ],
      "metadata": {
        "id": "kXAkKeUSCg4H"
      }
    },
    {
      "cell_type": "code",
      "source": [
        "# Convierto array de 60000x28x28 en otro de 60000x787\n",
        "X2_train = X2_train.reshape(60000,-1) \n",
        "X2_test = X2_test.reshape(10000,-1)\n",
        "\n",
        "# Normalizo los datos\n",
        "X2_train = X2_train/255.0\n",
        "X2_test = X2_test/255.0\n",
        " \n",
        "# Defino array más pequeño con 20.000 datos de entrenamiento\n",
        "X2_train = X2_train[0:20000] \n",
        "y2_train = y2_train[0:20000]\n",
        "\n",
        "print(f'\\nDataset fashion_MNIST:\\nShape X2_train: {X2_train.shape},\\nShape y2_train: {y2_train.shape},\\nShape X2_test: {X2_test.shape}, \\nShape y2_test: {y2_test.shape}')"
      ],
      "metadata": {
        "colab": {
          "base_uri": "https://localhost:8080/"
        },
        "id": "ySedFayYWlZx",
        "outputId": "04233469-cad6-4632-dd0c-5503acda82d9"
      },
      "execution_count": 25,
      "outputs": [
        {
          "output_type": "stream",
          "name": "stdout",
          "text": [
            "\n",
            "Dataset fashion_MNIST:\n",
            "Shape X2_train: (20000, 784),\n",
            "Shape y2_train: (20000,),\n",
            "Shape X2_test: (10000, 784), \n",
            "Shape y2_test: (10000,)\n"
          ]
        }
      ]
    },
    {
      "cell_type": "markdown",
      "source": [
        "## **Definición de datos de entrenamiento y testeo, según tamaño de muestra definido anteriormente**"
      ],
      "metadata": {
        "id": "ncioGWoTC1mI"
      }
    },
    {
      "cell_type": "code",
      "source": [
        "# train test split\n",
        "X_train, X_test, y_train, y_test = train_test_split(X2_train, y2_train, test_size = 0.3, random_state = 10)"
      ],
      "metadata": {
        "id": "q8nZBj3Ab9n7"
      },
      "execution_count": 26,
      "outputs": []
    },
    {
      "cell_type": "markdown",
      "source": [
        "## **Definición de parámetros optimos para obtener el mejor modelo**"
      ],
      "metadata": {
        "id": "J7zvbz8vC-m4"
      }
    },
    {
      "cell_type": "code",
      "source": [
        "parameters = [{'kernel': ['linear'], 'C': [1, 10, 100, 1000]},\n",
        "              {'kernel': ['rbf'], 'C': [1, 10, 100, 1000]}\n",
        "              ]\n",
        "\n",
        "timeIni = time()\n",
        "grid = GridSearchCV(SVC(), parameters)\n",
        "grid.fit(X_train, y_train)\n",
        "timeEnd = time()\n",
        "timeDiff = datetime.datetime.fromtimestamp(timeEnd-timeIni).strftime(\"%M:%S:%f\")\n",
        "\n",
        "print(\"La mejor parametrización para la SVM (en el conjunto de training) es: \", grid.best_params_)\n",
        "print(\"Tiempo necesario para su cómputo: \", timeDiff)"
      ],
      "metadata": {
        "colab": {
          "base_uri": "https://localhost:8080/"
        },
        "outputId": "4396b7fb-9b2a-4457-d4c7-5f1edeeaaed2",
        "id": "wlVMaSrGb9n8"
      },
      "execution_count": 27,
      "outputs": [
        {
          "output_type": "stream",
          "name": "stdout",
          "text": [
            "La mejor parametrización para la SVM (en el conjunto de training) es:  {'C': 10, 'kernel': 'rbf'}\n",
            "Tiempo necesario para su cómputo:  20:41:116038\n"
          ]
        }
      ]
    },
    {
      "cell_type": "markdown",
      "source": [
        "## **Revisión de parámetros óptimos en la predicción de nuevos casos**"
      ],
      "metadata": {
        "id": "H-Zx48W4DG25"
      }
    },
    {
      "cell_type": "code",
      "source": [
        "minAcc = 100\n",
        "maxAcc = 0\n",
        "rapidoAcc = 0\n",
        "lentoAcc = 0\n",
        "mejorTime = 0\n",
        "peorTime = 0\n",
        "minTime = 1000000000\n",
        "maxTime = 0\n",
        "\n",
        "mejorModelo = SVC()\n",
        "peorModelo = SVC()\n",
        "rapidoModelo = SVC()\n",
        "lentoModelo = SVC()"
      ],
      "metadata": {
        "id": "_epKS3Fhb9n8"
      },
      "execution_count": 28,
      "outputs": []
    },
    {
      "cell_type": "code",
      "source": [
        "kernel = \"linear\"\n",
        "\n",
        "for c in (1, 10, 100, 1000):\n",
        "  print(\"Kernel lineal con C=\", c)\n",
        "  \n",
        "  timeIni = time()\n",
        "  modelo = SVC(kernel = kernel, C=c).fit(X_train, y_train)\n",
        "  print(modelo)\n",
        "  timeEnd = time()\n",
        "  timeDiff = datetime.datetime.fromtimestamp(timeEnd-timeIni).strftime(\"%M:%S:%f\")\n",
        "\n",
        "  acc = modelo.score(X_test, y_test)\n",
        "  print(\"Precisión (accuracy): \", acc)\n",
        "  print(\"Tiempo entrenamiento: \", timeDiff)\n",
        "\n",
        "  predicciones = modelo.predict(X_test)\n",
        "  print(\"Matriz de confusión:\")\n",
        "  print(confusion_matrix(y_test, predicciones))\n",
        "  print(classification_report(y_test, predicciones))\n",
        "  print(\"---------------------------------------\")\n",
        "  print()\n",
        "\n",
        "  if (maxAcc < acc):\n",
        "      maxAcc = acc\n",
        "      mejorTime = timeEnd-timeIni\n",
        "      mejorModelo = modelo\n",
        "\n",
        "  if (minAcc > acc):\n",
        "      minAcc = acc\n",
        "      peorTime = timeEnd-timeIni\n",
        "      peorModelo = modelo\n",
        "\n",
        "  if (timeEnd-timeIni > maxTime):\n",
        "      lentoAcc = acc\n",
        "      maxTime = timeEnd-timeIni\n",
        "      lentoModelo = modelo\n",
        "\n",
        "  if (timeEnd-timeIni < minTime):\n",
        "      rapidoAcc = acc\n",
        "      minTime = timeEnd-timeIni\n",
        "      rapidoModelo = modelo"
      ],
      "metadata": {
        "colab": {
          "base_uri": "https://localhost:8080/"
        },
        "outputId": "13fbffc2-6614-4a76-dd37-440aaa9a7093",
        "id": "iM1u8dDob9n8"
      },
      "execution_count": 29,
      "outputs": [
        {
          "output_type": "stream",
          "name": "stdout",
          "text": [
            "Kernel lineal con C= 1\n",
            "SVC(C=1, kernel='linear')\n",
            "Precisión (accuracy):  0.8263333333333334\n",
            "Tiempo entrenamiento:  00:17:410416\n",
            "Matriz de confusión:\n",
            "[[466   5  18  20   3   0  75   0   7   0]\n",
            " [  8 590   3   7   0   0   1   0   0   0]\n",
            " [ 15   0 430   9  80   0  64   0   1   0]\n",
            " [ 33  14  15 493  19   0  23   0   1   0]\n",
            " [  1   2  78  21 425   0  51   0   2   0]\n",
            " [  0   0   0   0   0 552   0  32   2  20]\n",
            " [ 98   2  78  21  78   0 375   0   8   1]\n",
            " [  0   0   0   0   0  20   0 537   0  21]\n",
            " [  9   1   6   6   2   4  14   3 531   0]\n",
            " [  0   0   0   0   0  14   0  25   1 559]]\n",
            "              precision    recall  f1-score   support\n",
            "\n",
            "           0       0.74      0.78      0.76       594\n",
            "           1       0.96      0.97      0.96       609\n",
            "           2       0.68      0.72      0.70       599\n",
            "           3       0.85      0.82      0.84       598\n",
            "           4       0.70      0.73      0.72       580\n",
            "           5       0.94      0.91      0.92       606\n",
            "           6       0.62      0.57      0.59       661\n",
            "           7       0.90      0.93      0.91       578\n",
            "           8       0.96      0.92      0.94       576\n",
            "           9       0.93      0.93      0.93       599\n",
            "\n",
            "    accuracy                           0.83      6000\n",
            "   macro avg       0.83      0.83      0.83      6000\n",
            "weighted avg       0.83      0.83      0.83      6000\n",
            "\n",
            "---------------------------------------\n",
            "\n",
            "Kernel lineal con C= 10\n",
            "SVC(C=10, kernel='linear')\n",
            "Precisión (accuracy):  0.8111666666666667\n",
            "Tiempo entrenamiento:  00:40:684624\n",
            "Matriz de confusión:\n",
            "[[456   6  18  23   4   0  80   0   7   0]\n",
            " [  5 593   5   5   0   0   1   0   0   0]\n",
            " [ 18   1 438   8  66   0  67   0   1   0]\n",
            " [ 43  19  20 476  17   0  22   0   1   0]\n",
            " [  4   2 105  16 397   0  54   0   2   0]\n",
            " [  0   0   0   0   0 554   0  32   2  18]\n",
            " [105   3  83  22  79   0 360   0   8   1]\n",
            " [  0   0   0   0   0  33   0 516   0  29]\n",
            " [  9   1   5   6   3   4  15   2 530   1]\n",
            " [  0   0   0   0   0  17   0  34   1 547]]\n",
            "              precision    recall  f1-score   support\n",
            "\n",
            "           0       0.71      0.77      0.74       594\n",
            "           1       0.95      0.97      0.96       609\n",
            "           2       0.65      0.73      0.69       599\n",
            "           3       0.86      0.80      0.82       598\n",
            "           4       0.70      0.68      0.69       580\n",
            "           5       0.91      0.91      0.91       606\n",
            "           6       0.60      0.54      0.57       661\n",
            "           7       0.88      0.89      0.89       578\n",
            "           8       0.96      0.92      0.94       576\n",
            "           9       0.92      0.91      0.92       599\n",
            "\n",
            "    accuracy                           0.81      6000\n",
            "   macro avg       0.81      0.81      0.81      6000\n",
            "weighted avg       0.81      0.81      0.81      6000\n",
            "\n",
            "---------------------------------------\n",
            "\n",
            "Kernel lineal con C= 100\n",
            "SVC(C=100, kernel='linear')\n",
            "Precisión (accuracy):  0.7996666666666666\n",
            "Tiempo entrenamiento:  02:44:935076\n",
            "Matriz de confusión:\n",
            "[[441   6  17  18   5   0 100   0   7   0]\n",
            " [  6 593   3   5   1   0   1   0   0   0]\n",
            " [ 20   3 422   8  72   0  73   0   1   0]\n",
            " [ 51  19  17 474  18   0  18   0   1   0]\n",
            " [  2   2 134  15 375   0  50   0   2   0]\n",
            " [  0   0   0   0   0 549   0  37   2  18]\n",
            " [106   2 107  21  70   0 345   0   9   1]\n",
            " [  0   0   0   0   0  29   0 522   0  27]\n",
            " [  9   1   7   6   2   4  14   2 530   1]\n",
            " [  0   0   0   0   0  18   0  33   1 547]]\n",
            "              precision    recall  f1-score   support\n",
            "\n",
            "           0       0.69      0.74      0.72       594\n",
            "           1       0.95      0.97      0.96       609\n",
            "           2       0.60      0.70      0.65       599\n",
            "           3       0.87      0.79      0.83       598\n",
            "           4       0.69      0.65      0.67       580\n",
            "           5       0.92      0.91      0.91       606\n",
            "           6       0.57      0.52      0.55       661\n",
            "           7       0.88      0.90      0.89       578\n",
            "           8       0.96      0.92      0.94       576\n",
            "           9       0.92      0.91      0.92       599\n",
            "\n",
            "    accuracy                           0.80      6000\n",
            "   macro avg       0.80      0.80      0.80      6000\n",
            "weighted avg       0.80      0.80      0.80      6000\n",
            "\n",
            "---------------------------------------\n",
            "\n",
            "Kernel lineal con C= 1000\n",
            "SVC(C=1000, kernel='linear')\n",
            "Precisión (accuracy):  0.7943333333333333\n",
            "Tiempo entrenamiento:  15:42:643918\n",
            "Matriz de confusión:\n",
            "[[438   6  18  18   4   0 103   0   7   0]\n",
            " [  7 592   3   5   0   0   2   0   0   0]\n",
            " [ 19   3 427   8  72   0  69   0   1   0]\n",
            " [ 47  19  20 478  18   0  15   0   1   0]\n",
            " [  5   2 146  21 352   0  52   0   2   0]\n",
            " [  0   0   0   0   0 549   0  37   2  18]\n",
            " [111   2 111  23  74   0 331   0   8   1]\n",
            " [  0   0   0   0   0  29   0 522   0  27]\n",
            " [  8   1   8   6   2   4  14   2 530   1]\n",
            " [  0   0   0   0   0  18   0  33   1 547]]\n",
            "              precision    recall  f1-score   support\n",
            "\n",
            "           0       0.69      0.74      0.71       594\n",
            "           1       0.95      0.97      0.96       609\n",
            "           2       0.58      0.71      0.64       599\n",
            "           3       0.86      0.80      0.83       598\n",
            "           4       0.67      0.61      0.64       580\n",
            "           5       0.92      0.91      0.91       606\n",
            "           6       0.56      0.50      0.53       661\n",
            "           7       0.88      0.90      0.89       578\n",
            "           8       0.96      0.92      0.94       576\n",
            "           9       0.92      0.91      0.92       599\n",
            "\n",
            "    accuracy                           0.79      6000\n",
            "   macro avg       0.80      0.80      0.80      6000\n",
            "weighted avg       0.80      0.79      0.79      6000\n",
            "\n",
            "---------------------------------------\n",
            "\n"
          ]
        }
      ]
    },
    {
      "cell_type": "code",
      "source": [
        "kernel = \"rbf\"\n",
        "\n",
        "for c in (1, 10, 100, 1000):\n",
        "    print(\"Kernel Gaussiano con C=\", c)\n",
        "    timeIni = time()\n",
        "    modelo = SVC(kernel = kernel, C=c).fit(X_train, y_train)\n",
        "    print(modelo.fit(X_train, y_train))\n",
        "    timeEnd = time()\n",
        "    timeDiff = datetime.datetime.fromtimestamp(timeEnd-timeIni).strftime(\"%M:%S:%f\")\n",
        "\n",
        "    acc = modelo.score(X_test, y_test)\n",
        "    print(\"Precisión (accuracy): \", acc)\n",
        "    print(\"Tiempo entrenamiento: \", timeDiff)\n",
        "\n",
        "    predicciones = modelo.predict(X_test)\n",
        "    print(\"Matriz de confusión:\")\n",
        "    print(confusion_matrix(y_test, predicciones))\n",
        "    print(classification_report(y_test, predicciones))\n",
        "    print(\"---------------------------------------\")\n",
        "    print()\n",
        "\n",
        "    if (maxAcc < acc):\n",
        "      maxAcc = acc\n",
        "      mejorTime = timeEnd-timeIni\n",
        "      mejorModelo = modelo\n",
        "\n",
        "    if (minAcc > acc):\n",
        "      minAcc = acc\n",
        "      peorTime = timeEnd-timeIni\n",
        "      peorModelo = modelo\n",
        "\n",
        "    if (timeEnd-timeIni > maxTime):\n",
        "      lentoAcc = acc\n",
        "      maxTime = timeEnd-timeIni\n",
        "      lentoModelo = modelo\n",
        "\n",
        "    if (timeEnd-timeIni < minTime):\n",
        "      rapidoAcc = acc\n",
        "      minTime = timeEnd-timeIni\n",
        "      rapidoModelo = modelo"
      ],
      "metadata": {
        "colab": {
          "base_uri": "https://localhost:8080/"
        },
        "outputId": "f1d2eeb6-25c2-4bb8-c426-f36da133c46b",
        "id": "12UE0aGNb9n8"
      },
      "execution_count": 30,
      "outputs": [
        {
          "output_type": "stream",
          "name": "stdout",
          "text": [
            "Kernel Gaussiano con C= 1\n",
            "SVC(C=1)\n",
            "Precisión (accuracy):  0.8601666666666666\n",
            "Tiempo entrenamiento:  00:37:543034\n",
            "Matriz de confusión:\n",
            "[[487   3   8  27   2   0  60   0   7   0]\n",
            " [  3 589   9   7   0   0   1   0   0   0]\n",
            " [ 10   0 459   2  64   0  61   0   3   0]\n",
            " [ 26   2  10 521  22   0  17   0   0   0]\n",
            " [  0   1  57  18 462   0  40   0   2   0]\n",
            " [  0   0   0   0   0 569   0  24   3  10]\n",
            " [ 90   0  68  22  64   0 408   0   8   1]\n",
            " [  0   0   0   0   0  17   0 543   0  18]\n",
            " [  3   1   0   3   1   4  10   2 552   0]\n",
            " [  0   0   0   0   0   8   0  20   0 571]]\n",
            "              precision    recall  f1-score   support\n",
            "\n",
            "           0       0.79      0.82      0.80       594\n",
            "           1       0.99      0.97      0.98       609\n",
            "           2       0.75      0.77      0.76       599\n",
            "           3       0.87      0.87      0.87       598\n",
            "           4       0.75      0.80      0.77       580\n",
            "           5       0.95      0.94      0.95       606\n",
            "           6       0.68      0.62      0.65       661\n",
            "           7       0.92      0.94      0.93       578\n",
            "           8       0.96      0.96      0.96       576\n",
            "           9       0.95      0.95      0.95       599\n",
            "\n",
            "    accuracy                           0.86      6000\n",
            "   macro avg       0.86      0.86      0.86      6000\n",
            "weighted avg       0.86      0.86      0.86      6000\n",
            "\n",
            "---------------------------------------\n",
            "\n",
            "Kernel Gaussiano con C= 10\n",
            "SVC(C=10)\n",
            "Precisión (accuracy):  0.8786666666666667\n",
            "Tiempo entrenamiento:  00:37:351149\n",
            "Matriz de confusión:\n",
            "[[495   2   8  19   2   0  64   0   4   0]\n",
            " [  2 597   3   5   0   0   2   0   0   0]\n",
            " [ 13   0 476   3  54   0  51   0   2   0]\n",
            " [ 23   4  10 521  21   0  18   0   1   0]\n",
            " [  0   1  66  20 457   0  35   0   1   0]\n",
            " [  0   0   0   0   0 578   0  21   0   7]\n",
            " [ 75   0  52  19  50   0 458   0   6   1]\n",
            " [  0   0   0   0   0  14   0 554   0  10]\n",
            " [  3   1   0   4   0   1  11   2 554   0]\n",
            " [  0   0   0   0   0   4   0  13   0 582]]\n",
            "              precision    recall  f1-score   support\n",
            "\n",
            "           0       0.81      0.83      0.82       594\n",
            "           1       0.99      0.98      0.98       609\n",
            "           2       0.77      0.79      0.78       599\n",
            "           3       0.88      0.87      0.88       598\n",
            "           4       0.78      0.79      0.79       580\n",
            "           5       0.97      0.95      0.96       606\n",
            "           6       0.72      0.69      0.70       661\n",
            "           7       0.94      0.96      0.95       578\n",
            "           8       0.98      0.96      0.97       576\n",
            "           9       0.97      0.97      0.97       599\n",
            "\n",
            "    accuracy                           0.88      6000\n",
            "   macro avg       0.88      0.88      0.88      6000\n",
            "weighted avg       0.88      0.88      0.88      6000\n",
            "\n",
            "---------------------------------------\n",
            "\n",
            "Kernel Gaussiano con C= 100\n",
            "SVC(C=100)\n",
            "Precisión (accuracy):  0.8736666666666667\n",
            "Tiempo entrenamiento:  00:35:468753\n",
            "Matriz de confusión:\n",
            "[[490   2   8  21   2   0  67   0   4   0]\n",
            " [  2 599   3   4   0   0   1   0   0   0]\n",
            " [ 15   0 482   4  49   0  47   0   2   0]\n",
            " [ 22   3  13 521  24   0  14   0   1   0]\n",
            " [  0   1  76  19 438   0  45   0   1   0]\n",
            " [  0   0   0   0   0 576   0  23   0   7]\n",
            " [ 74   0  61  16  44   0 459   0   6   1]\n",
            " [  0   0   0   0   0  18   0 547   0  13]\n",
            " [  6   1   0   3   0   1   9   1 554   1]\n",
            " [  0   0   0   0   0   5   0  18   0 576]]\n",
            "              precision    recall  f1-score   support\n",
            "\n",
            "           0       0.80      0.82      0.81       594\n",
            "           1       0.99      0.98      0.99       609\n",
            "           2       0.75      0.80      0.78       599\n",
            "           3       0.89      0.87      0.88       598\n",
            "           4       0.79      0.76      0.77       580\n",
            "           5       0.96      0.95      0.96       606\n",
            "           6       0.71      0.69      0.70       661\n",
            "           7       0.93      0.95      0.94       578\n",
            "           8       0.98      0.96      0.97       576\n",
            "           9       0.96      0.96      0.96       599\n",
            "\n",
            "    accuracy                           0.87      6000\n",
            "   macro avg       0.88      0.88      0.88      6000\n",
            "weighted avg       0.87      0.87      0.87      6000\n",
            "\n",
            "---------------------------------------\n",
            "\n",
            "Kernel Gaussiano con C= 1000\n",
            "SVC(C=1000)\n",
            "Precisión (accuracy):  0.8736666666666667\n",
            "Tiempo entrenamiento:  00:36:087692\n",
            "Matriz de confusión:\n",
            "[[490   2   8  21   2   0  67   0   4   0]\n",
            " [  2 599   3   4   0   0   1   0   0   0]\n",
            " [ 15   0 482   4  49   0  47   0   2   0]\n",
            " [ 22   3  13 521  24   0  14   0   1   0]\n",
            " [  0   1  76  19 438   0  45   0   1   0]\n",
            " [  0   0   0   0   0 576   0  23   0   7]\n",
            " [ 74   0  61  16  44   0 459   0   6   1]\n",
            " [  0   0   0   0   0  18   0 547   0  13]\n",
            " [  6   1   0   3   0   1   9   1 554   1]\n",
            " [  0   0   0   0   0   5   0  18   0 576]]\n",
            "              precision    recall  f1-score   support\n",
            "\n",
            "           0       0.80      0.82      0.81       594\n",
            "           1       0.99      0.98      0.99       609\n",
            "           2       0.75      0.80      0.78       599\n",
            "           3       0.89      0.87      0.88       598\n",
            "           4       0.79      0.76      0.77       580\n",
            "           5       0.96      0.95      0.96       606\n",
            "           6       0.71      0.69      0.70       661\n",
            "           7       0.93      0.95      0.94       578\n",
            "           8       0.98      0.96      0.97       576\n",
            "           9       0.96      0.96      0.96       599\n",
            "\n",
            "    accuracy                           0.87      6000\n",
            "   macro avg       0.88      0.88      0.88      6000\n",
            "weighted avg       0.87      0.87      0.87      6000\n",
            "\n",
            "---------------------------------------\n",
            "\n"
          ]
        }
      ]
    },
    {
      "cell_type": "code",
      "source": [
        "print(\"El mejor modelo es: \", mejorModelo.kernel)\n",
        "print(mejorModelo)\n",
        "print(\"Accuracy: \", maxAcc)\n",
        "print(\"Tiempo: \", datetime.datetime.fromtimestamp(mejorTime).strftime(\"%M:%S:%f\"))\n",
        "print()\n",
        "\n",
        "print(\"El peor modelo es: \", peorModelo.kernel)\n",
        "print(peorModelo)\n",
        "print(\"Accuracy: \", minAcc)\n",
        "print(\"Tiempo: \", datetime.datetime.fromtimestamp(peorTime).strftime(\"%M:%S:%f\"))\n",
        "print()\n",
        "\n",
        "print(\"El modelo más rápido es: \", rapidoModelo.kernel)\n",
        "print(rapidoModelo)\n",
        "print(\"Accuracy: \", rapidoAcc)\n",
        "print(\"Tiempo: \", datetime.datetime.fromtimestamp(minTime).strftime(\"%M:%S:%f\"))\n",
        "print()\n",
        "\n",
        "print(\"El modelo más lento es: \", lentoModelo.kernel)\n",
        "print(lentoModelo)\n",
        "print(\"Accuracy: \", lentoAcc)\n",
        "print(\"Tiempo: \", datetime.datetime.fromtimestamp(maxTime).strftime(\"%M:%S:%f\"))"
      ],
      "metadata": {
        "colab": {
          "base_uri": "https://localhost:8080/"
        },
        "outputId": "a79e8aa9-def7-450f-9e16-7a3fe7eadcc6",
        "id": "4yvPX9kKb9n9"
      },
      "execution_count": 31,
      "outputs": [
        {
          "output_type": "stream",
          "name": "stdout",
          "text": [
            "El mejor modelo es:  rbf\n",
            "SVC(C=10)\n",
            "Accuracy:  0.8786666666666667\n",
            "Tiempo:  00:37:351149\n",
            "\n",
            "El peor modelo es:  linear\n",
            "SVC(C=1000, kernel='linear')\n",
            "Accuracy:  0.7943333333333333\n",
            "Tiempo:  15:42:643918\n",
            "\n",
            "El modelo más rápido es:  linear\n",
            "SVC(C=1, kernel='linear')\n",
            "Accuracy:  0.8263333333333334\n",
            "Tiempo:  00:17:410416\n",
            "\n",
            "El modelo más lento es:  linear\n",
            "SVC(C=1000, kernel='linear')\n",
            "Accuracy:  0.7943333333333333\n",
            "Tiempo:  15:42:643918\n"
          ]
        }
      ]
    },
    {
      "cell_type": "markdown",
      "source": [
        "Luego de realizar el proceso anterior, en que hemos entrenado un set de datos de 14.000 observaciones y lo hemos podido testear con otro de 6.000 observaciones, podemos comprobar que el mejor modelo es aquel que se entrena mediante Kernel Gaussiano, con un valor de la variable de ajuste de 10 (c=10). Con esto, obtenemos una accuracy o precisión del 87,6% y un tiempo de ejecución de 37 minutos.\n",
        "\n",
        "Finalmente, volvemos a validar el modelo, esta vez con los datos apartados al principio (X2_test). Estos datos no han sido ingresados al modelo para entrenar ni testear, por lo que nos permitirá realizar una validación bastante buena de nuestro modelo."
      ],
      "metadata": {
        "id": "hwaop0c_DkQd"
      }
    },
    {
      "cell_type": "code",
      "source": [
        "acc = mejorModelo.score(X2_test, y2_test)\n",
        "print(\"Precisión (accuracy): \", acc)\n",
        "print(\"Tiempo entrenamiento: \", timeDiff)\n",
        "\n",
        "predicciones = mejorModelo.predict(X2_test)\n",
        "print(\"Matriz de confusión:\")\n",
        "print(confusion_matrix(y2_test, predicciones))\n",
        "print(classification_report(y2_test, predicciones))\n",
        "print(\"---------------------------------------\")\n",
        "print()"
      ],
      "metadata": {
        "colab": {
          "base_uri": "https://localhost:8080/"
        },
        "outputId": "87384c45-4e82-4567-af99-9ea5ecb41453",
        "id": "XIQHmBUVb9n9"
      },
      "execution_count": 32,
      "outputs": [
        {
          "output_type": "stream",
          "name": "stdout",
          "text": [
            "Precisión (accuracy):  0.8732\n",
            "Tiempo entrenamiento:  00:36:087692\n",
            "Matriz de confusión:\n",
            "[[806   0  15  37   1   2 127   0  12   0]\n",
            " [  5 962   4  25   1   0   3   0   0   0]\n",
            " [ 19   2 815  11  91   0  60   0   2   0]\n",
            " [ 36   9  13 877  38   0  24   0   3   0]\n",
            " [  4   1 102  26 798   0  67   0   2   0]\n",
            " [  0   0   0   1   0 959   0  26   1  13]\n",
            " [124   1 107  31  67   0 658   0  12   0]\n",
            " [  0   0   0   0   0  30   0 944   0  26]\n",
            " [  3   1   6   6   4   3   8   4 965   0]\n",
            " [  0   0   0   0   0  14   0  37   1 948]]\n",
            "              precision    recall  f1-score   support\n",
            "\n",
            "           0       0.81      0.81      0.81      1000\n",
            "           1       0.99      0.96      0.97      1000\n",
            "           2       0.77      0.81      0.79      1000\n",
            "           3       0.86      0.88      0.87      1000\n",
            "           4       0.80      0.80      0.80      1000\n",
            "           5       0.95      0.96      0.96      1000\n",
            "           6       0.69      0.66      0.68      1000\n",
            "           7       0.93      0.94      0.94      1000\n",
            "           8       0.97      0.96      0.97      1000\n",
            "           9       0.96      0.95      0.95      1000\n",
            "\n",
            "    accuracy                           0.87     10000\n",
            "   macro avg       0.87      0.87      0.87     10000\n",
            "weighted avg       0.87      0.87      0.87     10000\n",
            "\n",
            "---------------------------------------\n",
            "\n"
          ]
        }
      ]
    },
    {
      "cell_type": "markdown",
      "source": [
        "En esta última validación, hemos llegado a una precisión de 87,3% (con un shape de 10.000 datos para validación). Las etiquetas peor predecidas son la 6 y 2 con un 69% y 77% de precisión respectivamente. Dichas etiquetas corresponden a shirt y pullover, indicando que son estas prendas las con más dificultad de ser predichas."
      ],
      "metadata": {
        "id": "ZKm6iwp8D1xE"
      }
    },
    {
      "cell_type": "code",
      "source": [
        "result = mejorModelo.predict(X2_test)"
      ],
      "metadata": {
        "id": "TjeXClArc9sO"
      },
      "execution_count": 33,
      "outputs": []
    },
    {
      "cell_type": "markdown",
      "source": [
        "## **Visualización de predicciones**"
      ],
      "metadata": {
        "id": "9obXQGCIEyBv"
      }
    },
    {
      "cell_type": "code",
      "source": [
        "a = np.random.randint(1,400,5)\n",
        "for i in a:\n",
        "    two_d = (np.reshape(X2_test[i], (28, 28)) * 255).astype(np.uint8)\n",
        "    plt.title('Predicted Label: {0}'.format(result[i]))\n",
        "    plt.imshow(two_d, interpolation='nearest',cmap='gray')\n",
        "    plt.show()"
      ],
      "metadata": {
        "colab": {
          "base_uri": "https://localhost:8080/",
          "height": 1000
        },
        "id": "VRMgvrpu4R_u",
        "outputId": "29fea497-9b69-4640-d4b5-eaf523a95cb0"
      },
      "execution_count": 34,
      "outputs": [
        {
          "output_type": "display_data",
          "data": {
            "text/plain": [
              "<Figure size 432x288 with 1 Axes>"
            ],
            "image/png": "[encoded data removed]"
          },
          "metadata": {
            "needs_background": "light"
          }
        },
        {
          "output_type": "display_data",
          "data": {
            "text/plain": [
              "<Figure size 432x288 with 1 Axes>"
            ],
            "image/png": "[encoded data removed]"
          },
          "metadata": {
            "needs_background": "light"
          }
        },
        {
          "output_type": "display_data",
          "data": {
            "text/plain": [
              "<Figure size 432x288 with 1 Axes>"
            ],
            "image/png": "[encoded data removed]"
          },
          "metadata": {
            "needs_background": "light"
          }
        },
        {
          "output_type": "display_data",
          "data": {
            "text/plain": [
              "<Figure size 432x288 with 1 Axes>"
            ],
            "image/png": "[encoded data removed]"
          },
          "metadata": {
            "needs_background": "light"
          }
        },
        {
          "output_type": "display_data",
          "data": {
            "text/plain": [
              "<Figure size 432x288 with 1 Axes>"
            ],
            "image/png": "[encoded data removed]"
          },
          "metadata": {
            "needs_background": "light"
          }
        }
      ]
    },
    {
      "cell_type": "markdown",
      "source": [
        "## **Conclusión**\n",
        "\n",
        "Luego de realizar este ejercicio, es posible comprobar que para ambos datasets el mejor modelo de clasificación es el de Kernel Radial o Gaussiano, logrando accuracy de 97% y 87% para cada dataset, lo que es bastante bueno.\n",
        "\n"
      ],
      "metadata": {
        "id": "8FTNETSjE3nn"
      }
    }
  ]
}