{
  "nbformat": 4,
  "nbformat_minor": 0,
  "metadata": {
    "colab": {
      "name": "M2_AI1_VallejoPaula.ipynb",
      "provenance": [],
      "collapsed_sections": [],
      "toc_visible": true,
      "authorship_tag": "ABX9TyPbuUzpa10uZqwtmgxen6V2",
      "include_colab_link": true
    },
    "kernelspec": {
      "name": "python3",
      "display_name": "Python 3"
    },
    "language_info": {
      "name": "python"
    }
  },
  "cells": [
    {
      "cell_type": "markdown",
      "metadata": {
        "id": "view-in-github",
        "colab_type": "text"
      },
      "source": [
        "<a href=\"https://colab.research.google.com/github/PauForestal/master_bdds/blob/main/M2_AI1_VallejoPaula.ipynb\" target=\"_parent\"><img src=\"https://colab.research.google.com/assets/colab-badge.svg\" alt=\"Open In Colab\"/></a>"
      ]
    },
    {
      "cell_type": "code",
      "execution_count": 2,
      "metadata": {
        "id": "4_EMHhdWjttG"
      },
      "outputs": [],
      "source": [
        "import pandas as pd\n",
        "import numpy as np\n",
        "import matplotlib.pyplot as plt\n",
        "import seaborn as sns\n",
        "import math\n",
        "%matplotlib inline"
      ]
    },
    {
      "cell_type": "markdown",
      "source": [
        "---\n",
        "\n",
        "## **LECTURA Y PRIMERA REVISIÓN DEL DATAFRAME**\n",
        "\n",
        "---"
      ],
      "metadata": {
        "id": "8ILyy62803TS"
      }
    },
    {
      "cell_type": "code",
      "source": [
        "archivo = 'https://raw.githubusercontent.com/md-lorente/data/master/precio_gasolina.csv'\n",
        "df = pd.read_csv(archivo, sep = ';', decimal = ',', header = 'infer')"
      ],
      "metadata": {
        "id": "bRIm0BV3kKuM"
      },
      "execution_count": 3,
      "outputs": []
    },
    {
      "cell_type": "code",
      "source": [
        "df.head()"
      ],
      "metadata": {
        "colab": {
          "base_uri": "https://localhost:8080/",
          "height": 372
        },
        "id": "CpqJfcD1kzj0",
        "outputId": "ee748c18-8349-499e-90bd-27d2dadcb88a"
      },
      "execution_count": 4,
      "outputs": [
        {
          "output_type": "execute_result",
          "data": {
            "text/html": [
              "\n",
              "  <div id=\"df-393b03b9-9e9c-4bb9-bb1e-401732c7c948\">\n",
              "    <div class=\"colab-df-container\">\n",
              "      <div>\n",
              "<style scoped>\n",
              "    .dataframe tbody tr th:only-of-type {\n",
              "        vertical-align: middle;\n",
              "    }\n",
              "\n",
              "    .dataframe tbody tr th {\n",
              "        vertical-align: top;\n",
              "    }\n",
              "\n",
              "    .dataframe thead th {\n",
              "        text-align: right;\n",
              "    }\n",
              "</style>\n",
              "<table border=\"1\" class=\"dataframe\">\n",
              "  <thead>\n",
              "    <tr style=\"text-align: right;\">\n",
              "      <th></th>\n",
              "      <th>Provincia</th>\n",
              "      <th>Localidad</th>\n",
              "      <th>Codigo_postal</th>\n",
              "      <th>Direccion</th>\n",
              "      <th>Margen</th>\n",
              "      <th>Toma_de_datos</th>\n",
              "      <th>Precio</th>\n",
              "      <th>Rotulo</th>\n",
              "      <th>Tipo_venta</th>\n",
              "      <th>Rem</th>\n",
              "      <th>Horario</th>\n",
              "      <th>Tipo_servicio</th>\n",
              "      <th>Fecha_extraccion</th>\n",
              "    </tr>\n",
              "  </thead>\n",
              "  <tbody>\n",
              "    <tr>\n",
              "      <th>0</th>\n",
              "      <td>SANTA CRUZ DE TENERIFE</td>\n",
              "      <td>CUESTA LA</td>\n",
              "      <td>38320</td>\n",
              "      <td>AVENIDA LOS MENCEYES 223</td>\n",
              "      <td>D</td>\n",
              "      <td>01 08 2020 1353</td>\n",
              "      <td>0.758</td>\n",
              "      <td>PCAN</td>\n",
              "      <td>P</td>\n",
              "      <td>dm</td>\n",
              "      <td>LD 24H</td>\n",
              "      <td>LD 24H  A</td>\n",
              "      <td>01 08 2020</td>\n",
              "    </tr>\n",
              "    <tr>\n",
              "      <th>1</th>\n",
              "      <td>SANTA CRUZ DE TENERIFE</td>\n",
              "      <td>LA LAGUNA</td>\n",
              "      <td>38200</td>\n",
              "      <td>CARRETERA TF111 KM 8 346</td>\n",
              "      <td>D</td>\n",
              "      <td>01 08 2020 0900</td>\n",
              "      <td>0.759</td>\n",
              "      <td>OCEANO</td>\n",
              "      <td>P</td>\n",
              "      <td>dm</td>\n",
              "      <td>LS 06002200 D 07002200</td>\n",
              "      <td>LS 06002200  A  D 07002200  A</td>\n",
              "      <td>01 08 2020</td>\n",
              "    </tr>\n",
              "    <tr>\n",
              "      <th>2</th>\n",
              "      <td>SANTA CRUZ DE TENERIFE</td>\n",
              "      <td>SANTA CRUZ DE TENERIFE</td>\n",
              "      <td>38110</td>\n",
              "      <td>CALLE LAURA GROTE DE LA PUERTA 2</td>\n",
              "      <td>D</td>\n",
              "      <td>27 07 2020 1202</td>\n",
              "      <td>0.769</td>\n",
              "      <td>GMOIL</td>\n",
              "      <td>P</td>\n",
              "      <td>dm</td>\n",
              "      <td>LV 24H S 06002000 D 08001500</td>\n",
              "      <td>LV 24H  A  S 06002000  A  D 08001500  A</td>\n",
              "      <td>01 08 2020</td>\n",
              "    </tr>\n",
              "    <tr>\n",
              "      <th>3</th>\n",
              "      <td>SANTA CRUZ DE TENERIFE</td>\n",
              "      <td>SANTA CRUZ DE TENERIFE</td>\n",
              "      <td>38010</td>\n",
              "      <td>POLIGONO EL MAYORAZGO SN</td>\n",
              "      <td>N</td>\n",
              "      <td>29 07 2020 0000</td>\n",
              "      <td>0.789</td>\n",
              "      <td>TGASTU TREBOL</td>\n",
              "      <td>P</td>\n",
              "      <td>dm</td>\n",
              "      <td>LS 07302100 D 08001400</td>\n",
              "      <td>LS 07302100  A  D 08001400  A</td>\n",
              "      <td>01 08 2020</td>\n",
              "    </tr>\n",
              "    <tr>\n",
              "      <th>4</th>\n",
              "      <td>SANTA CRUZ DE TENERIFE</td>\n",
              "      <td>ADEJE</td>\n",
              "      <td>38670</td>\n",
              "      <td>CALLE CHARFA ESQUINA AVENIDA LAS PALMITAS SN</td>\n",
              "      <td>D</td>\n",
              "      <td>27 07 2020 1159</td>\n",
              "      <td>0.789</td>\n",
              "      <td>GMOIL</td>\n",
              "      <td>P</td>\n",
              "      <td>dm</td>\n",
              "      <td>LS 07002200 D 09001600</td>\n",
              "      <td>LS 07002200  A  D 09001600  A</td>\n",
              "      <td>01 08 2020</td>\n",
              "    </tr>\n",
              "  </tbody>\n",
              "</table>\n",
              "</div>\n",
              "      <button class=\"colab-df-convert\" onclick=\"convertToInteractive('df-393b03b9-9e9c-4bb9-bb1e-401732c7c948')\"\n",
              "              title=\"Convert this dataframe to an interactive table.\"\n",
              "              style=\"display:none;\">\n",
              "        \n",
              "  <svg xmlns=\"http://www.w3.org/2000/svg\" height=\"24px\"viewBox=\"0 0 24 24\"\n",
              "       width=\"24px\">\n",
              "    <path d=\"M0 0h24v24H0V0z\" fill=\"none\"/>\n",
              "    <path d=\"M18.56 5.44l.94 2.06.94-2.06 2.06-.94-2.06-.94-.94-2.06-.94 2.06-2.06.94zm-11 1L8.5 8.5l.94-2.06 2.06-.94-2.06-.94L8.5 2.5l-.94 2.06-2.06.94zm10 10l.94 2.06.94-2.06 2.06-.94-2.06-.94-.94-2.06-.94 2.06-2.06.94z\"/><path d=\"M17.41 7.96l-1.37-1.37c-.4-.4-.92-.59-1.43-.59-.52 0-1.04.2-1.43.59L10.3 9.45l-7.72 7.72c-.78.78-.78 2.05 0 2.83L4 21.41c.39.39.9.59 1.41.59.51 0 1.02-.2 1.41-.59l7.78-7.78 2.81-2.81c.8-.78.8-2.07 0-2.86zM5.41 20L4 18.59l7.72-7.72 1.47 1.35L5.41 20z\"/>\n",
              "  </svg>\n",
              "      </button>\n",
              "      \n",
              "  <style>\n",
              "    .colab-df-container {\n",
              "      display:flex;\n",
              "      flex-wrap:wrap;\n",
              "      gap: 12px;\n",
              "    }\n",
              "\n",
              "    .colab-df-convert {\n",
              "      background-color: #E8F0FE;\n",
              "      border: none;\n",
              "      border-radius: 50%;\n",
              "      cursor: pointer;\n",
              "      display: none;\n",
              "      fill: #1967D2;\n",
              "      height: 32px;\n",
              "      padding: 0 0 0 0;\n",
              "      width: 32px;\n",
              "    }\n",
              "\n",
              "    .colab-df-convert:hover {\n",
              "      background-color: #E2EBFA;\n",
              "      box-shadow: 0px 1px 2px rgba(60, 64, 67, 0.3), 0px 1px 3px 1px rgba(60, 64, 67, 0.15);\n",
              "      fill: #174EA6;\n",
              "    }\n",
              "\n",
              "    [theme=dark] .colab-df-convert {\n",
              "      background-color: #3B4455;\n",
              "      fill: #D2E3FC;\n",
              "    }\n",
              "\n",
              "    [theme=dark] .colab-df-convert:hover {\n",
              "      background-color: #434B5C;\n",
              "      box-shadow: 0px 1px 3px 1px rgba(0, 0, 0, 0.15);\n",
              "      filter: drop-shadow(0px 1px 2px rgba(0, 0, 0, 0.3));\n",
              "      fill: #FFFFFF;\n",
              "    }\n",
              "  </style>\n",
              "\n",
              "      <script>\n",
              "        const buttonEl =\n",
              "          document.querySelector('#df-393b03b9-9e9c-4bb9-bb1e-401732c7c948 button.colab-df-convert');\n",
              "        buttonEl.style.display =\n",
              "          google.colab.kernel.accessAllowed ? 'block' : 'none';\n",
              "\n",
              "        async function convertToInteractive(key) {\n",
              "          const element = document.querySelector('#df-393b03b9-9e9c-4bb9-bb1e-401732c7c948');\n",
              "          const dataTable =\n",
              "            await google.colab.kernel.invokeFunction('convertToInteractive',\n",
              "                                                     [key], {});\n",
              "          if (!dataTable) return;\n",
              "\n",
              "          const docLinkHtml = 'Like what you see? Visit the ' +\n",
              "            '<a target=\"_blank\" href=https://colab.research.google.com/notebooks/data_table.ipynb>data table notebook</a>'\n",
              "            + ' to learn more about interactive tables.';\n",
              "          element.innerHTML = '';\n",
              "          dataTable['output_type'] = 'display_data';\n",
              "          await google.colab.output.renderOutput(dataTable, element);\n",
              "          const docLink = document.createElement('div');\n",
              "          docLink.innerHTML = docLinkHtml;\n",
              "          element.appendChild(docLink);\n",
              "        }\n",
              "      </script>\n",
              "    </div>\n",
              "  </div>\n",
              "  "
            ],
            "text/plain": [
              "                Provincia  ... Fecha_extraccion\n",
              "0  SANTA CRUZ DE TENERIFE  ...       01 08 2020\n",
              "1  SANTA CRUZ DE TENERIFE  ...       01 08 2020\n",
              "2  SANTA CRUZ DE TENERIFE  ...       01 08 2020\n",
              "3  SANTA CRUZ DE TENERIFE  ...       01 08 2020\n",
              "4  SANTA CRUZ DE TENERIFE  ...       01 08 2020\n",
              "\n",
              "[5 rows x 13 columns]"
            ]
          },
          "metadata": {},
          "execution_count": 4
        }
      ]
    },
    {
      "cell_type": "code",
      "source": [
        "print(df.info())"
      ],
      "metadata": {
        "colab": {
          "base_uri": "https://localhost:8080/"
        },
        "id": "MzMuezssZrek",
        "outputId": "99d593ca-26e0-429a-d9b2-23bfab12459a"
      },
      "execution_count": 5,
      "outputs": [
        {
          "output_type": "stream",
          "name": "stdout",
          "text": [
            "<class 'pandas.core.frame.DataFrame'>\n",
            "RangeIndex: 9991 entries, 0 to 9990\n",
            "Data columns (total 13 columns):\n",
            " #   Column            Non-Null Count  Dtype  \n",
            "---  ------            --------------  -----  \n",
            " 0   Provincia         9991 non-null   object \n",
            " 1   Localidad         9991 non-null   object \n",
            " 2   Codigo_postal     9991 non-null   int64  \n",
            " 3   Direccion         9991 non-null   object \n",
            " 4   Margen            9991 non-null   object \n",
            " 5   Toma_de_datos     9991 non-null   object \n",
            " 6   Precio            9991 non-null   float64\n",
            " 7   Rotulo            9990 non-null   object \n",
            " 8   Tipo_venta        9991 non-null   object \n",
            " 9   Rem               9991 non-null   object \n",
            " 10  Horario           9991 non-null   object \n",
            " 11  Tipo_servicio     9845 non-null   object \n",
            " 12  Fecha_extraccion  9991 non-null   object \n",
            "dtypes: float64(1), int64(1), object(11)\n",
            "memory usage: 1014.8+ KB\n",
            "None\n"
          ]
        }
      ]
    },
    {
      "cell_type": "code",
      "source": [
        "print(df.isnull().sum())"
      ],
      "metadata": {
        "colab": {
          "base_uri": "https://localhost:8080/"
        },
        "id": "8Y6v2Ji3bvkn",
        "outputId": "d6914fb8-9782-4fcf-e79c-3f1564848f50"
      },
      "execution_count": 6,
      "outputs": [
        {
          "output_type": "stream",
          "name": "stdout",
          "text": [
            "Provincia             0\n",
            "Localidad             0\n",
            "Codigo_postal         0\n",
            "Direccion             0\n",
            "Margen                0\n",
            "Toma_de_datos         0\n",
            "Precio                0\n",
            "Rotulo                1\n",
            "Tipo_venta            0\n",
            "Rem                   0\n",
            "Horario               0\n",
            "Tipo_servicio       146\n",
            "Fecha_extraccion      0\n",
            "dtype: int64\n"
          ]
        }
      ]
    },
    {
      "cell_type": "markdown",
      "source": [
        "> *En una primera revisión, al realizar df.info, se observa que sólo dos variables son numéricas (tanto integer como float), el resto de variables están todas como object lo que podría indicar que son categóricas o cualitativas. Para poder ahondar en este tema, realizaré una copia del dataframe y analizaré en primera instancia bajo el supuesto que esta descripción es correcta.*"
      ],
      "metadata": {
        "id": "Vd9aOlrYxDq2"
      }
    },
    {
      "cell_type": "code",
      "source": [
        "#Copia de dataframe, separando por variables numéricas y categóricas, según la información proveída por \"df.info\"\n",
        "df_numeric = df.select_dtypes(exclude=['object']).copy()\n",
        "df_categorical = df.select_dtypes(include=['object']).copy()"
      ],
      "metadata": {
        "id": "Xui99WfBrEgm"
      },
      "execution_count": 7,
      "outputs": []
    },
    {
      "cell_type": "markdown",
      "source": [
        "---\n",
        "\n",
        "## **ANALISIS POR VARIABLES**\n",
        "\n",
        "\n",
        "---"
      ],
      "metadata": {
        "id": "-IEXOg4s0tEs"
      }
    },
    {
      "cell_type": "markdown",
      "source": [
        "## **Variable: Codigo_postal**"
      ],
      "metadata": {
        "id": "bwPCAY5W4M5d"
      }
    },
    {
      "cell_type": "code",
      "source": [
        "n_categorias = df_numeric['Codigo_postal'].value_counts().count()\n",
        "tabla_frecuencia = df_numeric['Codigo_postal'].value_counts()\n",
        "\n",
        "print(f\"La cantidad de categorías de la variable Codigo_postal es: {n_categorias}. Su tabla de frecuencias se observa a continuación:\\n{tabla_frecuencia}\")"
      ],
      "metadata": {
        "colab": {
          "base_uri": "https://localhost:8080/"
        },
        "id": "jt28oF4WyVEy",
        "outputId": "bbd04699-c75e-434e-bce3-efe30fc816f1"
      },
      "execution_count": 8,
      "outputs": [
        {
          "output_type": "stream",
          "name": "stdout",
          "text": [
            "La cantidad de categorías de la variable Codigo_postal es: 4198. Su tabla de frecuencias se observa a continuación:\n",
            "41500    23\n",
            "11500    22\n",
            "4700     21\n",
            "11130    21\n",
            "30500    20\n",
            "         ..\n",
            "36612     1\n",
            "36670     1\n",
            "36890     1\n",
            "33570     1\n",
            "18860     1\n",
            "Name: Codigo_postal, Length: 4198, dtype: int64\n"
          ]
        }
      ]
    },
    {
      "cell_type": "code",
      "source": [
        "plt.figure(figsize=[9, 6])\n",
        "df.Codigo_postal.hist(color='slateblue');"
      ],
      "metadata": {
        "colab": {
          "base_uri": "https://localhost:8080/",
          "height": 374
        },
        "id": "79f9-33CyaU9",
        "outputId": "c79eb9ab-2bf7-4943-93cb-f1554ab5934f"
      },
      "execution_count": 9,
      "outputs": [
        {
          "output_type": "display_data",
          "data": {
            "image/png": "[encoded data removed]",
            "text/plain": [
              "<Figure size 648x432 with 1 Axes>"
            ]
          },
          "metadata": {
            "needs_background": "light"
          }
        }
      ]
    },
    {
      "cell_type": "markdown",
      "source": [
        "**CONCLUSIÓN DE LA VARIABLE 'Codigo_postal'**\n",
        "\n",
        "\n",
        "---\n",
        "\n",
        "\n",
        "> Es interesante observar que la variable \"Codigo_postal\" está compuesta por números pero realmente no aporta información de manera cuantitativa. Es imposible realizar un análisis de ella como tal ya que el número que la compone representa una esquema que se asigna a distintas zonas o lugares de un país con el objetivo de mecanizar el correo.\n",
        "\n",
        "Dicho lo anterior, se concluye que aún cuando se recoge de manera numérica, esta variable es una **variable categórica o cualitativa de tipo ordinal y en relación al análisis de los datos, también es categórica o de clasificación**\n",
        "\n",
        "\n",
        "\n",
        "---\n",
        "\n",
        "\n",
        "\n",
        "---\n",
        "\n",
        "\n"
      ],
      "metadata": {
        "id": "9zGDD3qfyzNd"
      }
    },
    {
      "cell_type": "markdown",
      "source": [
        "## **Variable: Precio**\n"
      ],
      "metadata": {
        "id": "eqBRkqht4hvk"
      }
    },
    {
      "cell_type": "markdown",
      "source": [
        "Esta variable es una **variable cuantitativa de tipo continua** ya que a través de ella podemos conocer el valor a pagar por la gasolina. Debido a esto, es que para poder realizar una tabla de frecuencias se debe estimar la cantidad de intervalos para que su análisis sea comprensible y lógico. Una manera de calcular esto es a través de la regla de Sturges que una regla práctica que permite calcular el número de clases que se deben considerar al elaborarse un histograma.\n",
        "\n",
        "El valor de número de clases es común redondearlo, si el entero del resultado previo al redondeo es \"par\" se redondea a la alta y si el entero es \"impar\" se redondea a la baja."
      ],
      "metadata": {
        "id": "N7RD_-OLQf3r"
      }
    },
    {
      "cell_type": "code",
      "source": [
        "# Cálculo del número de intervalos, según la regla de Sturges\n",
        "k = 1 + 3.322 * math.log10(len(df))\n",
        "#k = math.ceil(k)\n",
        "print(f'El número de clases o intervalos calculados según la regla de Sturges es {k}.\\n\\nDado que el número entero es par, éste se redondea al alza por lo que la cantidad de intervalos a utilizar es: {math.ceil(k)}')"
      ],
      "metadata": {
        "colab": {
          "base_uri": "https://localhost:8080/"
        },
        "id": "YRGzqVxqvo7C",
        "outputId": "89d1cd65-8edb-414d-bec1-4b06ad356af6"
      },
      "execution_count": 10,
      "outputs": [
        {
          "output_type": "stream",
          "name": "stdout",
          "text": [
            "El número de clases o intervalos calculados según la regla de Sturges es 14.286700961703048.\n",
            "\n",
            "Dado que el número entero es par, éste se redondea al alza por lo que la cantidad de intervalos a utilizar es: 15\n"
          ]
        }
      ]
    },
    {
      "cell_type": "code",
      "source": [
        "df.Precio.value_counts(bins=15).sort_index()"
      ],
      "metadata": {
        "colab": {
          "base_uri": "https://localhost:8080/"
        },
        "id": "EiN34yJEwJ7G",
        "outputId": "fd12bd7b-83a0-44b1-e761-6f11bc0d9e25"
      },
      "execution_count": 11,
      "outputs": [
        {
          "output_type": "execute_result",
          "data": {
            "text/plain": [
              "(0.756, 0.804]       6\n",
              "(0.804, 0.85]       24\n",
              "(0.85, 0.896]      105\n",
              "(0.896, 0.942]      82\n",
              "(0.942, 0.988]     103\n",
              "(0.988, 1.034]     358\n",
              "(1.034, 1.08]      790\n",
              "(1.08, 1.126]     1138\n",
              "(1.126, 1.172]    2182\n",
              "(1.172, 1.218]    3185\n",
              "(1.218, 1.264]    1925\n",
              "(1.264, 1.31]       89\n",
              "(1.31, 1.356]        2\n",
              "(1.356, 1.402]       0\n",
              "(1.402, 1.448]       2\n",
              "Name: Precio, dtype: int64"
            ]
          },
          "metadata": {},
          "execution_count": 11
        }
      ]
    },
    {
      "cell_type": "code",
      "source": [
        "plt.figure(figsize=[9, 6])\n",
        "df.Precio.hist(color='slateblue', bins=15);"
      ],
      "metadata": {
        "colab": {
          "base_uri": "https://localhost:8080/",
          "height": 374
        },
        "id": "0zGpfc-OPCUe",
        "outputId": "d4c4fec6-b87f-458c-d958-bfcfaa9d0f0e"
      },
      "execution_count": 12,
      "outputs": [
        {
          "output_type": "display_data",
          "data": {
            "image/png": "[encoded data removed]",
            "text/plain": [
              "<Figure size 648x432 with 1 Axes>"
            ]
          },
          "metadata": {
            "needs_background": "light"
          }
        }
      ]
    },
    {
      "cell_type": "markdown",
      "source": [
        "**CONCLUSIÓN DE LA VARIABLE  'Precio'**\n",
        "\n",
        "\n",
        "---\n",
        "En función del análisis de datos, esta variable es del tipo **analítica o cuantitativa**\n",
        "\n",
        "\n",
        "---\n",
        "\n",
        "\n",
        "\n",
        "---\n",
        "\n"
      ],
      "metadata": {
        "id": "Mj9-s3MP46ir"
      }
    },
    {
      "cell_type": "markdown",
      "source": [
        "## **Variable: Provincia**"
      ],
      "metadata": {
        "id": "-q_54co-5y-G"
      }
    },
    {
      "cell_type": "markdown",
      "source": [
        "En el caso de las variables definidas previamente como 'object' en el df.info(), se observó que varias de ellas tenían muchos espacios al inicio y final de la celda, para ello, se realizará una limpieza previa utilizando el método strip(). De esta manera, se eliminan dichos espacios y se asegura que la agrupación de categorías sea más ajustada a la realidad."
      ],
      "metadata": {
        "id": "o9gWtcV2TXwH"
      }
    },
    {
      "cell_type": "code",
      "source": [
        "for k,v in df_categorical.items():\n",
        "    df_categorical[k] = df_categorical[k].str.strip()"
      ],
      "metadata": {
        "id": "1bBpoAiGltuM"
      },
      "execution_count": 13,
      "outputs": []
    },
    {
      "cell_type": "code",
      "source": [
        "n_categorias = df_categorical['Provincia'].value_counts().count()\n",
        "tabla_frecuencia = df_categorical['Provincia'].value_counts()\n",
        "\n",
        "print(f\"La cantidad de categorías de la variable Provincia es: {n_categorias}. Su tabla de frecuencias se observa a continuación:\\n{tabla_frecuencia}\")"
      ],
      "metadata": {
        "colab": {
          "base_uri": "https://localhost:8080/"
        },
        "id": "AssslWczcWzU",
        "outputId": "3daeeaa3-59aa-480c-b530-8ae05edf162a"
      },
      "execution_count": 14,
      "outputs": [
        {
          "output_type": "stream",
          "name": "stdout",
          "text": [
            "La cantidad de categorías de la variable Provincia es: 52. Su tabla de frecuencias se observa a continuación:\n",
            "MADRID                    730\n",
            "BARCELONA                 723\n",
            "VALENCIA                  568\n",
            "ALICANTE                  408\n",
            "SEVILLA                   385\n",
            "MURCIA                    384\n",
            "MALAGA                    296\n",
            "CORUNA A                  257\n",
            "GRANADA                   250\n",
            "CADIZ                     244\n",
            "GIRONA                    243\n",
            "TOLEDO                    235\n",
            "PALMAS LAS                231\n",
            "JAEN                      225\n",
            "SANTA CRUZ DE TENERIFE    223\n",
            "TARRAGONA                 212\n",
            "ZARAGOZA                  212\n",
            "BADAJOZ                   207\n",
            "ASTURIAS                  203\n",
            "NAVARRA                   202\n",
            "CORDOBA                   195\n",
            "BALEARS ILLES             194\n",
            "ALMERIA                   184\n",
            "PONTEVEDRA                184\n",
            "CIUDAD REAL               183\n",
            "CASTELLON  CASTELLO       172\n",
            "LLEIDA                    166\n",
            "LEON                      159\n",
            "CANTABRIA                 143\n",
            "ALBACETE                  133\n",
            "CACERES                   131\n",
            "BURGOS                    129\n",
            "VALLADOLID                127\n",
            "HUELVA                    120\n",
            "LUGO                      118\n",
            "BIZKAIA                   117\n",
            "GIPUZKOA                  112\n",
            "CUENCA                    107\n",
            "HUESCA                    104\n",
            "SALAMANCA                  96\n",
            "GUADALAJARA                80\n",
            "OURENSE                    80\n",
            "ZAMORA                     73\n",
            "SEGOVIA                    71\n",
            "RIOJA LA                   70\n",
            "TERUEL                     62\n",
            "PALENCIA                   62\n",
            "AVILA                      62\n",
            "ARABA ALAVA                61\n",
            "SORIA                      36\n",
            "MELILLA                    13\n",
            "CEUTA                       9\n",
            "Name: Provincia, dtype: int64\n"
          ]
        }
      ]
    },
    {
      "cell_type": "code",
      "source": [
        "plt.figure(figsize=[16, 16])\n",
        "sns.set(style=\"darkgrid\")\n",
        "\n",
        "provincia_count = df_categorical['Provincia'].value_counts()\n",
        "sns.barplot(x=provincia_count.values, y=provincia_count.index, alpha=0.9);\n",
        "plt.title('DISTRIBUCIÓN DE FRECUENCIAS DE PROVINCIAS');\n",
        "plt.ylabel('PROVINCIA', fontsize=12);\n",
        "plt.xlabel('FRECUENCIA', fontsize=12);"
      ],
      "metadata": {
        "colab": {
          "base_uri": "https://localhost:8080/",
          "height": 953
        },
        "id": "43EY2eAVcW4x",
        "outputId": "ead70a2f-c568-4f8d-dc60-fe9c04296765"
      },
      "execution_count": 15,
      "outputs": [
        {
          "output_type": "display_data",
          "data": {
            "image/png": "[encoded data removed]",
            "text/plain": [
              "<Figure size 1152x1152 with 1 Axes>"
            ]
          },
          "metadata": {
            "needs_background": "light"
          }
        }
      ]
    },
    {
      "cell_type": "markdown",
      "source": [
        "**CONCLUSIÓN DE LA VARIABLE  'Provincia'**\n",
        "\n",
        "---\n",
        "\n",
        "Al analizar la variable Provincia, es fácilmente deducible que ésta es una **variable Cualitativa o Categórica Nominal**, dado que las categorías corresponden a los nombres de las Provincias de España y en sí no indican que puedan ser ordenadas (como para considerarlas ordinales). Asimismo, en relación a su análisis, también se considera **categórica o de clasificación.**\n",
        "\n",
        "\n",
        "---\n",
        "\n",
        "\n",
        "\n",
        "---\n",
        "\n"
      ],
      "metadata": {
        "id": "2OgT3FwrUHle"
      }
    },
    {
      "cell_type": "markdown",
      "source": [
        "## **Variable: Localidad**"
      ],
      "metadata": {
        "id": "wA_6GKNEZ_kL"
      }
    },
    {
      "cell_type": "code",
      "source": [
        "df_categorical.Localidad.unique()"
      ],
      "metadata": {
        "colab": {
          "base_uri": "https://localhost:8080/"
        },
        "id": "Z9stRWCKhwau",
        "outputId": "3192d32e-d074-4a5b-90b9-ca264ea7a13c"
      },
      "execution_count": 16,
      "outputs": [
        {
          "output_type": "execute_result",
          "data": {
            "text/plain": [
              "array(['CUESTA LA', 'LA LAGUNA', 'SANTA CRUZ DE TENERIFE', ...,\n",
              "       'MONTSENY', 'VERGER EL', 'BAUL'], dtype=object)"
            ]
          },
          "metadata": {},
          "execution_count": 16
        }
      ]
    },
    {
      "cell_type": "code",
      "source": [
        "n_categorias = df_categorical['Localidad'].value_counts().count()\n",
        "tabla_frecuencia = df_categorical['Localidad'].value_counts()\n",
        "\n",
        "print(f\"La cantidad de categorías de la variable Localidad es: {n_categorias}. Su tabla de frecuencias se observa a continuación:\\n{tabla_frecuencia}\")"
      ],
      "metadata": {
        "colab": {
          "base_uri": "https://localhost:8080/"
        },
        "id": "g9UCpZi6cW7O",
        "outputId": "4a95a34e-fb88-4f0e-af48-672199664e78"
      },
      "execution_count": 17,
      "outputs": [
        {
          "output_type": "stream",
          "name": "stdout",
          "text": [
            "La cantidad de categorías de la variable Localidad es: 3829. Su tabla de frecuencias se observa a continuación:\n",
            "MADRID       203\n",
            "BARCELONA     85\n",
            "SEVILLA       65\n",
            "VALENCIA      58\n",
            "MALAGA        54\n",
            "            ... \n",
            "LIENDO         1\n",
            "VEREA          1\n",
            "BANDE          1\n",
            "VALEIXE        1\n",
            "BAUL           1\n",
            "Name: Localidad, Length: 3829, dtype: int64\n"
          ]
        }
      ]
    },
    {
      "cell_type": "markdown",
      "source": [
        "**CONCLUSIÓN DE LA VARIABLE  'Localidad'**\n",
        "\n",
        "---\n",
        "\n",
        "Al igual que la variable Provincia, la variable Localidad es una **variable Cualitativa o Categórica del tipo Nominal**. Esta variable permite conocer con más precisión la ubicación del lugar que se está analizando. A su vez, en función del análisis de los datos, es una variable **Categórica o de Clasificación.**\n",
        "\n",
        "\n",
        "---\n",
        "\n",
        "\n",
        "\n",
        "---\n",
        "\n"
      ],
      "metadata": {
        "id": "8_3Y53Luf4Nf"
      }
    },
    {
      "cell_type": "markdown",
      "source": [
        "## **Variable: Dirección**"
      ],
      "metadata": {
        "id": "6YO7k6tagHVx"
      }
    },
    {
      "cell_type": "code",
      "source": [
        "n_categorias = df_categorical['Direccion'].value_counts().count()\n",
        "tabla_frecuencia = df_categorical['Direccion'].value_counts()\n",
        "\n",
        "print(f\"La cantidad de categorías de la variable Dirección es: {n_categorias}. Su tabla de frecuencias se observa a continuación:\\n{tabla_frecuencia}\")"
      ],
      "metadata": {
        "colab": {
          "base_uri": "https://localhost:8080/"
        },
        "id": "4kXKTXcAmiLp",
        "outputId": "8105c2b9-4e14-45a8-8944-4fa2ab4bbbde"
      },
      "execution_count": 14,
      "outputs": [
        {
          "output_type": "stream",
          "name": "stdout",
          "text": [
            "La cantidad de categorías de la variable Dirección es: 9697. Su tabla de frecuencias se observa a continuación:\n",
            "AVENIDA ANDALUCIA SN                                        11\n",
            "AVENIDA JUAN CARLOS I SN                                     7\n",
            "AVENIDA CONSTITUCION SN                                      5\n",
            "AVENIDA DEL MEDITERRANEO SN                                  4\n",
            "AVENIDA PORTUGAL SN                                          3\n",
            "                                                            ..\n",
            "POLIGONO POLIGONO INDUSTRIAL EL CERRO LUZ DE CASTILLA SN     1\n",
            "AVENIDA FEDERICO SILVA MUNOZ 21                              1\n",
            "CR N631 43 4                                                 1\n",
            "CARRETERA N620 KM 307 000                                    1\n",
            "AUTOVIA A92 KM 322                                           1\n",
            "Name: Direccion, Length: 9697, dtype: int64\n"
          ]
        }
      ]
    },
    {
      "cell_type": "markdown",
      "source": [
        "**CONCLUSIÓN DE LA VARIABLE  'Dirección'**\n",
        "\n",
        "---\n",
        "\n",
        "Al igual que la variable Provincia y Localidad, la variable **Direccion** es una **variable Cualitativa o Categórica del tipo Nominal** y en relación al análisis de los datos, es una variable **Categórica o de Clasificación.**\n",
        "\n",
        "\n",
        "---\n",
        "\n",
        "\n",
        "\n",
        "---\n",
        "\n"
      ],
      "metadata": {
        "id": "5ytRrfeRSF6G"
      }
    },
    {
      "cell_type": "markdown",
      "source": [
        "## **Variable: Margen**"
      ],
      "metadata": {
        "id": "ZeSJxqG6WOkO"
      }
    },
    {
      "cell_type": "code",
      "source": [
        "n_categorias = df_categorical['Margen'].value_counts().count()\n",
        "tabla_frecuencia = df_categorical['Margen'].value_counts()\n",
        "\n",
        "print(f\"La cantidad de categorías de la variable Margen es: {n_categorias}. Su tabla de frecuencias se observa a continuación:\\n{tabla_frecuencia}\")"
      ],
      "metadata": {
        "colab": {
          "base_uri": "https://localhost:8080/"
        },
        "id": "nUdYtzQDkb03",
        "outputId": "d4032394-28d3-4d6d-e348-16fc519fb1c5"
      },
      "execution_count": 15,
      "outputs": [
        {
          "output_type": "stream",
          "name": "stdout",
          "text": [
            "La cantidad de categorías de la variable Margen es: 3. Su tabla de frecuencias se observa a continuación:\n",
            "D    5016\n",
            "I    2596\n",
            "N    2379\n",
            "Name: Margen, dtype: int64\n"
          ]
        }
      ]
    },
    {
      "cell_type": "code",
      "source": [
        "plt.figure(figsize=[9, 6])\n",
        "\n",
        "ax = df.Margen.value_counts().sort_values().plot(kind = 'bar', color='cornflowerblue', align='center');\n",
        "ax.set_xlabel('MARGEN', labelpad=20)\n",
        "ax.set_ylabel('FRECUENCIA', labelpad=20)\n",
        "ax.set_title('FRECUENCIA DE MARGEN')\n",
        "ax.set_xticklabels(['No Aplica','Izquierdo','Derecho'], rotation = 45);"
      ],
      "metadata": {
        "colab": {
          "base_uri": "https://localhost:8080/",
          "height": 450
        },
        "id": "6r5akLWPFpvW",
        "outputId": "bcd9e333-361b-41f9-d60e-4e50f0ce2ca1"
      },
      "execution_count": 146,
      "outputs": [
        {
          "output_type": "display_data",
          "data": {
            "image/png": "[encoded data removed]",
            "text/plain": [
              "<Figure size 648x432 with 1 Axes>"
            ]
          },
          "metadata": {
            "needs_background": "light"
          }
        }
      ]
    },
    {
      "cell_type": "markdown",
      "source": [
        "**CONCLUSIÓN DE LA VARIABLE  'Margen'**\n",
        "\n",
        "---\n",
        "\n",
        "Esta variable permite conocer si la estación de servicio está a la izquierda o derecha del conductor. Consta de 3 categorías, dos de las cuales refieren a si se encuentra a la derecha o a la izquierda. La tercera categoría \"No Aplica\" puede deberse a que no se tiene certeza de la ubicación o que simplemente no se registra en el dataset. Esta variable es **Categórica o Cualitativa del tipo Nominal.**\n",
        "\n",
        "En función del análisis de datos, es una **variable categórica o de clasificación**\n",
        "\n",
        "\n",
        "---\n",
        "\n",
        "\n",
        "\n",
        "---\n",
        "\n"
      ],
      "metadata": {
        "id": "RFLc4OI0Wd13"
      }
    },
    {
      "cell_type": "markdown",
      "source": [
        "## **Variable: Toma_de_datos**\n",
        "\n",
        "\n"
      ],
      "metadata": {
        "id": "enLauzZKb0cr"
      }
    },
    {
      "cell_type": "code",
      "source": [
        "n_categorias = df_categorical['Toma_de_datos'].value_counts().count()\n",
        "tabla_frecuencia = df_categorical['Toma_de_datos'].value_counts().sort_index().head(50)\n",
        "\n",
        "print(f\"La cantidad de categorías de la variable Toma_de_datos es: {n_categorias}. Su tabla de frecuencias se observa a continuación:\\n{tabla_frecuencia}\")"
      ],
      "metadata": {
        "colab": {
          "base_uri": "https://localhost:8080/"
        },
        "id": "kebs8uGim5q5",
        "outputId": "c01c7234-a176-4b8c-8b66-e9c63997aae1"
      },
      "execution_count": 23,
      "outputs": [
        {
          "output_type": "stream",
          "name": "stdout",
          "text": [
            "La cantidad de categorías de la variable Toma_de_datos es: 2800. Su tabla de frecuencias se observa a continuación:\n",
            "01 08 2020 0000    2857\n",
            "01 08 2020 0001      32\n",
            "01 08 2020 0003       1\n",
            "01 08 2020 0005       3\n",
            "01 08 2020 0024       1\n",
            "01 08 2020 0036       1\n",
            "01 08 2020 0043       1\n",
            "01 08 2020 0044       1\n",
            "01 08 2020 0100       1\n",
            "01 08 2020 0107       1\n",
            "01 08 2020 0121       1\n",
            "01 08 2020 0122       1\n",
            "01 08 2020 0126       1\n",
            "01 08 2020 0130       1\n",
            "01 08 2020 0132       1\n",
            "01 08 2020 0133       1\n",
            "01 08 2020 0137       2\n",
            "01 08 2020 0203       1\n",
            "01 08 2020 0206       1\n",
            "01 08 2020 0208       1\n",
            "01 08 2020 0219       1\n",
            "01 08 2020 0236       1\n",
            "01 08 2020 0243       1\n",
            "01 08 2020 0303       1\n",
            "01 08 2020 0305       1\n",
            "01 08 2020 0313       1\n",
            "01 08 2020 0326       1\n",
            "01 08 2020 0330       1\n",
            "01 08 2020 0344       1\n",
            "01 08 2020 0400       1\n",
            "01 08 2020 0415       1\n",
            "01 08 2020 0505       1\n",
            "01 08 2020 0530       5\n",
            "01 08 2020 0545       1\n",
            "01 08 2020 0555       1\n",
            "01 08 2020 0557       1\n",
            "01 08 2020 0559       1\n",
            "01 08 2020 0600     149\n",
            "01 08 2020 0605       1\n",
            "01 08 2020 0615       1\n",
            "01 08 2020 0620       1\n",
            "01 08 2020 0630      17\n",
            "01 08 2020 0636       1\n",
            "01 08 2020 0638       1\n",
            "01 08 2020 0639       1\n",
            "01 08 2020 0645       1\n",
            "01 08 2020 0646       1\n",
            "01 08 2020 0650       2\n",
            "01 08 2020 0700      21\n",
            "01 08 2020 0709       1\n",
            "Name: Toma_de_datos, dtype: int64\n"
          ]
        }
      ]
    },
    {
      "cell_type": "markdown",
      "source": [
        "**CONCLUSIÓN DE LA VARIABLE  'Toma_de_datos'**\n",
        "\n",
        "---\n",
        "\n",
        "Esta variable indica la fecha y la hora en que se tomó el registro del Precio de gasolina. Es una variable que en su origen está recolectada como cuantitativa y en efecto el tiempo como variable general es una variable cuantitativa y del tipo continua. No obstante lo anterior, se observa que el formato de recolección, tal como está, no permite que se utilice numéricamente y más bien está representada como una variable **Categórica o Cualitativa del tipo Ordinal.**\n",
        "\n",
        "En función del análisis de datos, es una **variable categórica o de clasificación**\n",
        "\n",
        "Pienso que en términos del trabajo, es una variable que debiera transformarse para poder ser utilizada como Analítica o cuantitativa. Separarla en fecha y hora, o bien, darle el formato correcto (por ejemplo: `df.Toma_de_datos = pd.to_datetime(df.Toma_de_datos)`) para que tenga una lógica de uso.\n",
        "\n",
        "\n",
        "---\n",
        "\n",
        "\n",
        "\n",
        "---\n",
        "\n"
      ],
      "metadata": {
        "id": "T-PDe43-cc9q"
      }
    },
    {
      "cell_type": "markdown",
      "source": [
        "## **Variable: Rotulo**"
      ],
      "metadata": {
        "id": "5JURAwhKiCVQ"
      }
    },
    {
      "cell_type": "code",
      "source": [
        "n_categorias = df_categorical['Rotulo'].value_counts().count()\n",
        "tabla_frecuencia = df_categorical['Rotulo'].value_counts().head(50)\n",
        "\n",
        "print(f\"La cantidad de categorías de la variable Rotulo es: {n_categorias}.\\n\\nSu tabla de frecuencias se observa a continuación:\\n{tabla_frecuencia}\")"
      ],
      "metadata": {
        "colab": {
          "base_uri": "https://localhost:8080/"
        },
        "id": "hrL6s-6loS6a",
        "outputId": "9b619bf4-a8d1-40ec-f3f1-d4c1005e1e25"
      },
      "execution_count": 19,
      "outputs": [
        {
          "output_type": "stream",
          "name": "stdout",
          "text": [
            "La cantidad de categorías de la variable Rotulo es: 2817.\n",
            "\n",
            "Su tabla de frecuencias se observa a continuación:\n",
            "REPSOL              2707\n",
            "CEPSA               1335\n",
            "GALP                 519\n",
            "SHELL                373\n",
            "BP                   219\n",
            "PETRONOR             182\n",
            "AVIA                 153\n",
            "CARREFOUR            142\n",
            "BALLENOIL            123\n",
            "CAMPSA                98\n",
            "Q8                    83\n",
            "PETROPRIX             75\n",
            "ESCLATOIL             51\n",
            "BONAREA               51\n",
            "AGLA                  47\n",
            "VALCARCE              44\n",
            "ALCAMPO               42\n",
            "EROSKI                42\n",
            "MEROIL                41\n",
            "PLENOIL               40\n",
            "GASEXPRESS            38\n",
            "DISA                  31\n",
            "TAMOIL                28\n",
            "IBERDOEX              23\n",
            "PETROCAT              22\n",
            "BEROIL                20\n",
            "SIN ROTULO            18\n",
            "PETROCAT DIRECTE      17\n",
            "PCAN                  17\n",
            "BP OIL                16\n",
            "E LECLERC             16\n",
            "CAMPSA EXPRESS        15\n",
            "AUTONET&OIL           14\n",
            "BDMED                 13\n",
            "EASYGAS               13\n",
            "CONFORT AUTO          13\n",
            "FARRUCO S A           12\n",
            "ORTEGAL OIL           11\n",
            "ES CARBURANTES        11\n",
            "GMOIL                 11\n",
            "MAXOIL                10\n",
            "PETRONIEVES            9\n",
            "GASUIR                 9\n",
            "FAMILY ENERGY          9\n",
            "GM OIL                 8\n",
            "BURAN ENERGY           8\n",
            "BP OIL ESPANA          8\n",
            "LIBRE                  8\n",
            "AN ENERGETICOS         8\n",
            "SUPECO                 7\n",
            "Name: Rotulo, dtype: int64\n"
          ]
        }
      ]
    },
    {
      "cell_type": "markdown",
      "source": [
        "**CONCLUSIÓN DE LA VARIABLE  'Rotulo'**\n",
        "\n",
        "---\n",
        "\n",
        "Esta variable indica el nombre de la empresa que distribuye la gasolina. Es una variable **Categórica o Cualitativa del tipo Nominal.**\n",
        "\n",
        "En función del análisis de datos, es una **variable categórica o de clasificación**\n",
        "\n",
        "\n",
        "---\n",
        "\n",
        "\n",
        "\n",
        "---\n",
        "\n"
      ],
      "metadata": {
        "id": "cXh5OXdmiR3c"
      }
    },
    {
      "cell_type": "markdown",
      "source": [
        "## **Variable: Tipo_venta**"
      ],
      "metadata": {
        "id": "qUP-gEksiiKB"
      }
    },
    {
      "cell_type": "code",
      "source": [
        "n_categorias = df_categorical['Tipo_venta'].value_counts().count()\n",
        "tabla_frecuencia = df_categorical['Tipo_venta'].value_counts()\n",
        "\n",
        "print(f\"La cantidad de categorías de la variable Tipo_venta es: {n_categorias}. Su tabla de frecuencias se observa a continuación:\\n{tabla_frecuencia}\")"
      ],
      "metadata": {
        "colab": {
          "base_uri": "https://localhost:8080/"
        },
        "id": "K0jjbCMnocLk",
        "outputId": "8b2c8552-1d6c-445e-ce46-1311f120ba6b"
      },
      "execution_count": 20,
      "outputs": [
        {
          "output_type": "stream",
          "name": "stdout",
          "text": [
            "La cantidad de categorías de la variable Tipo_venta es: 5. Su tabla de frecuencias se observa a continuación:\n",
            "P    9772\n",
            "R     168\n",
            "A      43\n",
            "p       6\n",
            "N       2\n",
            "Name: Tipo_venta, dtype: int64\n"
          ]
        }
      ]
    },
    {
      "cell_type": "code",
      "source": [
        "plt.figure(figsize=[9, 6])\n",
        "ax = df.Tipo_venta.hist(color='slateblue');\n",
        "ax.set_xlabel('Tipo de Venta', labelpad=20)\n",
        "ax.set_ylabel('FRECUENCIA', labelpad=20)\n",
        "ax.set_title('FRECUENCIA DE TIPO DE VENTA');"
      ],
      "metadata": {
        "colab": {
          "base_uri": "https://localhost:8080/",
          "height": 426
        },
        "id": "UUNrcaoSkgtb",
        "outputId": "d9883c38-1b41-4a5d-b20d-2400019f2514"
      },
      "execution_count": 42,
      "outputs": [
        {
          "output_type": "display_data",
          "data": {
            "image/png": "[encoded data removed]",
            "text/plain": [
              "<Figure size 648x432 with 1 Axes>"
            ]
          },
          "metadata": {}
        }
      ]
    },
    {
      "cell_type": "code",
      "source": [
        "plt.figure(figsize=[9, 6])\n",
        "sns.boxplot( x=df[\"Tipo_venta\"], y=df[\"Precio\"],  palette=\"viridis\", width=0.3);\n",
        "plt.show()"
      ],
      "metadata": {
        "colab": {
          "base_uri": "https://localhost:8080/",
          "height": 394
        },
        "id": "AmLHBiKPlhT1",
        "outputId": "b2c001c1-6b31-4fd0-8184-e62314da883a"
      },
      "execution_count": 50,
      "outputs": [
        {
          "output_type": "display_data",
          "data": {
            "image/png": "[encoded data removed]",
            "text/plain": [
              "<Figure size 648x432 with 1 Axes>"
            ]
          },
          "metadata": {}
        }
      ]
    },
    {
      "cell_type": "markdown",
      "source": [
        "**CONCLUSIÓN DE LA VARIABLE  'Tipo_venta'**\n",
        "\n",
        "---\n",
        "\n",
        "Esta variable, como su nombre lo indica, se refiere al tipo de venta, es decir si es a público general (P) o a Cooperativistas (R). Si bien, esto es lo que se explicita en el sitio oficial que entrega la información, aparecen otras categorías que no están formalmente definidas pero, a través del gráfico de boxplot desplegado en celda anterior en que se relaciona esta variable con el Precio, se podría suponer que:\n",
        "- A: Autoservicio (tiene un precio medio menor que para Publico general, esto al menos tiene lógica).\n",
        "- N: (tal como ocurre con otras variables dentro de este dataset) podría referirse a \"No Aplica\", en gráfico y tabla de frecuencias además se observa que la cantidad de datos (y su variabilidad) es muy pequeña.\n",
        "- p: un error de tipografía y significar lo mismo que P (esto es muy posible toda vez que representa sólo 6 casos del total de los datos y se posiciona muy similar a P cuando se analiza en relación al precio) \n",
        "\n",
        "Esta variable es **Categórica o Cualitativa del tipo Nominal.**\n",
        "\n",
        "En función del análisis de datos, es una **variable categórica o de clasificación**\n",
        "\n",
        "\n",
        "---\n",
        "\n",
        "\n",
        "\n",
        "---\n",
        "\n"
      ],
      "metadata": {
        "id": "MIz0dZg4inoP"
      }
    },
    {
      "cell_type": "markdown",
      "source": [
        "## **Variable: Rem**"
      ],
      "metadata": {
        "id": "qyLLhiJtoNPB"
      }
    },
    {
      "cell_type": "code",
      "source": [
        "n_categorias = df_categorical['Rem'].value_counts().count()\n",
        "tabla_frecuencia = df_categorical['Rem'].value_counts()\n",
        "\n",
        "print(f\"La cantidad de categorías de la variable Rem es: {n_categorias}. Su tabla de frecuencias se observa a continuación:\\n{tabla_frecuencia}\")"
      ],
      "metadata": {
        "colab": {
          "base_uri": "https://localhost:8080/"
        },
        "id": "JnxzF1X4og35",
        "outputId": "123a7a97-db20-4f3d-dd4c-74b10c468587"
      },
      "execution_count": 21,
      "outputs": [
        {
          "output_type": "stream",
          "name": "stdout",
          "text": [
            "La cantidad de categorías de la variable Rem es: 2. Su tabla de frecuencias se observa a continuación:\n",
            "dm    6286\n",
            "OM    3705\n",
            "Name: Rem, dtype: int64\n"
          ]
        }
      ]
    },
    {
      "cell_type": "code",
      "source": [
        "plt.figure(figsize=[9, 6])\n",
        "sns.boxplot( x=df[\"Rem\"], y=df[\"Precio\"],  palette=\"Blues\", width=0.3);\n",
        "plt.show()"
      ],
      "metadata": {
        "colab": {
          "base_uri": "https://localhost:8080/",
          "height": 394
        },
        "id": "GVk5ksABqpwH",
        "outputId": "1d36be4f-60cf-444e-ff1b-31f85dc453ce"
      },
      "execution_count": 53,
      "outputs": [
        {
          "output_type": "display_data",
          "data": {
            "image/png": "[encoded data removed]",
            "text/plain": [
              "<Figure size 648x432 with 1 Axes>"
            ]
          },
          "metadata": {}
        }
      ]
    },
    {
      "cell_type": "markdown",
      "source": [
        "**CONCLUSIÓN DE LA VARIABLE  'Rem'**\n",
        "\n",
        "---\n",
        "\n",
        "Esta variable indica si los datos provienen de un operador Mayorista (OM) o bien de un distribuidor minorista (dm). Es interesante observar en primera instancia (a través de boxplot) cómo los precios son mayores cuando el operador es Mayorista pero son más simétricos dado que la mediana está practicamente en la mitad. En el caso del distribuidor minorista se observa mas asimetría en los datos y también outliers tanto en el límite superior como en el inferior.\n",
        "\n",
        "Esta variable es **Categórica o Cualitativa del tipo Binaria.**\n",
        "\n",
        "En función del análisis de datos, es una **variable categórica o de clasificación pero dado que es binaria, también puede ser analítica**\n",
        "\n",
        "\n",
        "---\n",
        "\n",
        "\n",
        "\n",
        "---\n",
        "\n"
      ],
      "metadata": {
        "id": "4WFMSZ2Kom0v"
      }
    },
    {
      "cell_type": "markdown",
      "source": [
        "## **Variable: Horario**"
      ],
      "metadata": {
        "id": "iNkf4MtVoSrC"
      }
    },
    {
      "cell_type": "code",
      "source": [
        "n_categorias = df_categorical['Horario'].value_counts().count()\n",
        "tabla_frecuencia = df_categorical['Horario'].value_counts().sort_index().head(50)\n",
        "\n",
        "print(f\"La cantidad de categorías de la variable Horario es: {n_categorias}. Su tabla de frecuencias se observa a continuación:\\n{tabla_frecuencia}\")"
      ],
      "metadata": {
        "colab": {
          "base_uri": "https://localhost:8080/"
        },
        "id": "7-0Tv7-dom2B",
        "outputId": "534eaaad-cc4e-43bd-f914-460162035343"
      },
      "execution_count": 54,
      "outputs": [
        {
          "output_type": "stream",
          "name": "stdout",
          "text": [
            "La cantidad de categorías de la variable Horario es: 1309. Su tabla de frecuencias se observa a continuación:\n",
            "D 07002100                                       1\n",
            "D 07002300                                       1\n",
            "D 08002000                                       1\n",
            "L 00052300                                       1\n",
            "L 04002200                                       1\n",
            "L 05000000                                       1\n",
            "L 05002300                                       1\n",
            "L 05300030                                       1\n",
            "L 05302230                                       1\n",
            "L 06000000                                      13\n",
            "L 06000000 MD 24H                                1\n",
            "L 06000000 MV 06002300 SD 07002300               1\n",
            "L 06000000 VD 06000000                           1\n",
            "L 06000059                                       1\n",
            "L 06001000                                       1\n",
            "L 06001200                                       2\n",
            "L 06001345 y 14002300                            1\n",
            "L 06001500                                       1\n",
            "L 06002000                                       1\n",
            "L 06002100                                       4\n",
            "L 06002100 D 06001330                            1\n",
            "L 06002130                                       1\n",
            "L 06002200                                      72\n",
            "L 06002200 D 06002200                            1\n",
            "L 06002230                                       5\n",
            "L 06002300                                      24\n",
            "L 06002359                                       1\n",
            "L 06202200 MD 06002000                           1\n",
            "L 06302030                                       1\n",
            "L 06302130                                       3\n",
            "L 06302200                                      12\n",
            "L 06302200 SD 07002200                           1\n",
            "L 06302230                                      12\n",
            "L 06302230 MD 06301429 y 14302230                1\n",
            "L 06302230 MS 06302230 D 09002000                1\n",
            "L 06302300                                       6\n",
            "L 07000000                                       2\n",
            "L 07001000                                       1\n",
            "L 07001100                                       2\n",
            "L 07001400 y 16002000                            1\n",
            "L 07001500                                       1\n",
            "L 07002000                                       2\n",
            "L 07002000 MJ 07001900 V 07002000 S 08001400     1\n",
            "L 07002100                                       8\n",
            "L 07002100 D 08302100                            1\n",
            "L 07002130                                       1\n",
            "L 07002200                                      49\n",
            "L 07002200 D 07001430                            1\n",
            "L 07002200 S 08002100 D 08301500                 1\n",
            "L 07002200 XD 07002200                           1\n",
            "Name: Horario, dtype: int64\n"
          ]
        }
      ]
    },
    {
      "cell_type": "markdown",
      "source": [
        "**CONCLUSIÓN DE LA VARIABLE  'Horario'**\n",
        "\n",
        "---\n",
        "\n",
        "Esta variable indica los días de la semana y los horarios en que la Estación de Servicio está abierta durante la semana. Es **Categórica o Cualitativa del tipo Nominal.**\n",
        "\n",
        "En función del análisis de datos, es una **variable categórica o de clasificación**\n",
        "\n",
        "Tal como ocurre con todas las variables relacionadas a fecha o tiempo, si bien su origen es Cuantitativo del tipo continuo, se presenta con estructura de varible categórica pero bien podría trabajarse para poder darle formato con datetime y así poder hacer análisis apropiados al tipo de variable (por ejemplo cantidad de horas que permanece abierta una estación en relación al total de Estaciones, o analizar si existe alguna relación entre el precio de la gasolina y la cantidad de tiempo que permanece abierta la estación de servicio, entre otras interrogantes).\n",
        "\n",
        "---\n",
        "\n",
        "\n",
        "\n",
        "---\n",
        "\n"
      ],
      "metadata": {
        "id": "9tLUXkvToxdu"
      }
    },
    {
      "cell_type": "markdown",
      "source": [
        "## **Variable: Tipo_servicio**"
      ],
      "metadata": {
        "id": "TUCp-u0XoUxx"
      }
    },
    {
      "cell_type": "code",
      "source": [
        "n_categorias = df_categorical['Tipo_servicio'].value_counts().count()\n",
        "tabla_frecuencia = df_categorical['Tipo_servicio'].value_counts().head(50)\n",
        "\n",
        "print(f\"La cantidad de categorías de la variable Tipo_servicio es: {n_categorias}. Su tabla de frecuencias se observa a continuación:\\n{tabla_frecuencia}\")"
      ],
      "metadata": {
        "colab": {
          "base_uri": "https://localhost:8080/"
        },
        "id": "W4Kv1dUMpUf5",
        "outputId": "80e1927f-c37d-4f7c-9d35-f62cd3965757"
      },
      "execution_count": 55,
      "outputs": [
        {
          "output_type": "stream",
          "name": "stdout",
          "text": [
            "La cantidad de categorías de la variable Tipo_servicio es: 1613. Su tabla de frecuencias se observa a continuación:\n",
            "LD 24H  A                                     3318\n",
            "LD 06002200  A                                1180\n",
            "LD 07002300  A                                 616\n",
            "LD 07002200  A                                 234\n",
            "LD 06002300  A                                 214\n",
            "LD 07002300  P                                 160\n",
            "LD 24H  D                                      129\n",
            "LD 06002359  A                                 122\n",
            "LD 06302230  A                                 121\n",
            "LD 06002200  P                                 113\n",
            "LD 06000000  A                                  89\n",
            "LD 07002100  A                                  84\n",
            "L 06002200  A                                   71\n",
            "LD 24H  P                                       65\n",
            "L 07002300  A                                   65\n",
            "LD 08002200  A                                  48\n",
            "L 07002200  A                                   47\n",
            "LD 00000600  A   06002200  P   22002359  A      46\n",
            "LD 08002000  A                                  36\n",
            "LD 06302200  A                                  35\n",
            "LD 05002300  A                                  35\n",
            "LS 06002200  A                                  32\n",
            "LS 07002200  A  D 08002200  A                   32\n",
            "LS 06002200  A  D 07002200  A                   28\n",
            "LV 06002200  A  SD 07002200  A                  27\n",
            "LV 06002200  A                                  27\n",
            "LD 08002100  A                                  26\n",
            "LD 06002230  A                                  26\n",
            "LD 07002200  P                                  25\n",
            "LS 07002200  A                                  25\n",
            "L 06002300  A                                   23\n",
            "LD 06302300  A                                  22\n",
            "LS 07002100  A                                  22\n",
            "LD 07002200  P   22002300  A                    21\n",
            "LD 06002300  P                                  21\n",
            "LS 08002200  A                                  17\n",
            "LD 06302230  P                                  17\n",
            "L 24H  A                                        16\n",
            "LD 06002359  P                                  15\n",
            "LD 07002230  A                                  15\n",
            "LD 00000700  A   07002300  P   23002359  A      14\n",
            "LV 07002200  A  SD 08002200  A                  14\n",
            "LS 06002200  A  D 07002100  A                   13\n",
            "LS 06002200  A  D 08002200  A                   13\n",
            "LD 07001500  A                                  13\n",
            "LD 07000000  A                                  13\n",
            "LS 07002300  A  D 08002300  A                   13\n",
            "LD 05302330  A                                  12\n",
            "L 06302230  A                                   12\n",
            "LD 07002000  A                                  12\n",
            "Name: Tipo_servicio, dtype: int64\n"
          ]
        }
      ]
    },
    {
      "cell_type": "markdown",
      "source": [
        "**CONCLUSIÓN DE LA VARIABLE  'Tipo_servicio'**\n",
        "\n",
        "---\n",
        "\n",
        "Esta variable permite relacionar el horario de apertura y cierre de la Estación de Servicio con el tipo de servicio que ofrece:\n",
        "\n",
        "P: Servicio asistido por personal, \n",
        "A: Autoservicio por parte del cliente, con presencia de personal en la instalación, \n",
        "D: Autoservicio por parte del cliente, sin presencia de personal en la instalaciones \n",
        "\n",
        "Es una variable **Categórica o Cualitativa del tipo Nominal.**\n",
        "\n",
        "En función del análisis de datos, es una **variable categórica o de clasificación**\n",
        "\n",
        "Esta variable contiene información desagregada y por lo tanto, no existe posibilidad de tratarla de otra manera que no sea como categórica nominal (aun cuando parte de su esencia es entregar información relacionada con días y horarios). Esto dado que dependiendo del horario de apertura y cierre, algunas estaciones de servicio entregan diferentes tipo de servicios, es así como por ejemplo, se puede observar que en algunas estaciones de servicio de lunes a viernes y durante las 24 horas la estación es Autoservicio asistido por personal, no obstante el fin de semana el servicio cambia a P y en un horario de cierre hasta las 21:00 hrs.\n",
        "\n",
        "Un tratamiento que se puede dar es separarla en diferentes variables y diferenciar cuando la Estación de Servicio ofrece más de un servicio según sus horarios, pero ello implica cambiar la estructura del dataset y no es algo que se pueda decidir en esta etapa del análisis (depende básicamente de los objetivos del análisis).\n",
        "\n",
        "\n",
        "---\n",
        "\n",
        "\n",
        "\n",
        "---\n",
        "\n"
      ],
      "metadata": {
        "id": "IV8erFNaozcm"
      }
    },
    {
      "cell_type": "markdown",
      "source": [
        "## **Variable: Fecha_extraccion**"
      ],
      "metadata": {
        "id": "4ZkhqznIoZFK"
      }
    },
    {
      "cell_type": "code",
      "source": [
        "n_categorias = df_categorical['Fecha_extraccion'].value_counts().count()\n",
        "tabla_frecuencia = df_categorical['Fecha_extraccion'].value_counts()\n",
        "\n",
        "print(f\"La cantidad de categorías de la variable Fecha_extraccion es: {n_categorias}. Su tabla de frecuencias se observa a continuación:\\n{tabla_frecuencia}\")"
      ],
      "metadata": {
        "colab": {
          "base_uri": "https://localhost:8080/"
        },
        "id": "tCtISXNLp0z3",
        "outputId": "6b2a8126-821d-4d23-c5a1-79a700245cab"
      },
      "execution_count": 51,
      "outputs": [
        {
          "output_type": "stream",
          "name": "stdout",
          "text": [
            "La cantidad de categorías de la variable Fecha_extraccion es: 1. Su tabla de frecuencias se observa a continuación:\n",
            "01 08 2020    9991\n",
            "Name: Fecha_extraccion, dtype: int64\n"
          ]
        }
      ]
    },
    {
      "cell_type": "markdown",
      "source": [
        "**CONCLUSIÓN DE LA VARIABLE  'Fecha_extraccion'**\n",
        "\n",
        "---\n",
        "\n",
        "Esta variable es en origen Cuantitativa de tipo continua, pero al igual que la variable Toma_de_datos, se presenta cómo **Categórica o Cualitativa del tipo Ordinal.**\n",
        "\n",
        "En función del análisis de datos, es una **variable categórica o de clasificación** pero creo que puede trabajarse con datetime para poder analizarla apropiadamente.\n",
        "\n",
        "\n",
        "---\n",
        "\n",
        "\n",
        "\n",
        "---\n",
        "\n"
      ],
      "metadata": {
        "id": "OsVfDK6Zo2V2"
      }
    }
  ]
}