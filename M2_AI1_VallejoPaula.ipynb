{
  "nbformat": 4,
  "nbformat_minor": 0,
  "metadata": {
    "colab": {
      "name": "M2_AI1_VallejoPaula.ipynb",
      "provenance": [],
      "collapsed_sections": [],
      "authorship_tag": "ABX9TyM18icSmhIWTiKi1aEmHn+2",
      "include_colab_link": true
    },
    "kernelspec": {
      "name": "python3",
      "display_name": "Python 3"
    },
    "language_info": {
      "name": "python"
    }
  },
  "cells": [
    {
      "cell_type": "markdown",
      "metadata": {
        "id": "view-in-github",
        "colab_type": "text"
      },
      "source": [
        "<a href=\"https://colab.research.google.com/github/PauForestal/master_bdds/blob/main/M2_AI1_VallejoPaula.ipynb\" target=\"_parent\"><img src=\"https://colab.research.google.com/assets/colab-badge.svg\" alt=\"Open In Colab\"/></a>"
      ]
    },
    {
      "cell_type": "code",
      "execution_count": 1,
      "metadata": {
        "id": "4_EMHhdWjttG"
      },
      "outputs": [],
      "source": [
        "import pandas as pd\n",
        "import numpy as np\n",
        "import matplotlib.pyplot as plt\n",
        "import seaborn as sns\n",
        "import math\n",
        "%matplotlib inline"
      ]
    },
    {
      "cell_type": "markdown",
      "source": [
        "---\n",
        "\n",
        "**LECTURA Y PRIMERA REVISIÓN DEL DATAFRAME**\n",
        "\n",
        "\n",
        "---"
      ],
      "metadata": {
        "id": "8ILyy62803TS"
      }
    },
    {
      "cell_type": "code",
      "source": [
        "archivo = 'https://raw.githubusercontent.com/md-lorente/data/master/precio_gasolina.csv'\n",
        "df = pd.read_csv(archivo, sep = ';', decimal = ',', header = 'infer')"
      ],
      "metadata": {
        "id": "bRIm0BV3kKuM"
      },
      "execution_count": 2,
      "outputs": []
    },
    {
      "cell_type": "code",
      "source": [
        "df.head()"
      ],
      "metadata": {
        "colab": {
          "base_uri": "https://localhost:8080/",
          "height": 337
        },
        "id": "CpqJfcD1kzj0",
        "outputId": "d921ff36-2309-427c-e337-0a32f184b0f5"
      },
      "execution_count": 3,
      "outputs": [
        {
          "output_type": "execute_result",
          "data": {
            "text/html": [
              "\n",
              "  <div id=\"df-c05ad72b-9a43-423f-8079-7895e3c630bd\">\n",
              "    <div class=\"colab-df-container\">\n",
              "      <div>\n",
              "<style scoped>\n",
              "    .dataframe tbody tr th:only-of-type {\n",
              "        vertical-align: middle;\n",
              "    }\n",
              "\n",
              "    .dataframe tbody tr th {\n",
              "        vertical-align: top;\n",
              "    }\n",
              "\n",
              "    .dataframe thead th {\n",
              "        text-align: right;\n",
              "    }\n",
              "</style>\n",
              "<table border=\"1\" class=\"dataframe\">\n",
              "  <thead>\n",
              "    <tr style=\"text-align: right;\">\n",
              "      <th></th>\n",
              "      <th>Provincia</th>\n",
              "      <th>Localidad</th>\n",
              "      <th>Codigo_postal</th>\n",
              "      <th>Direccion</th>\n",
              "      <th>Margen</th>\n",
              "      <th>Toma_de_datos</th>\n",
              "      <th>Precio</th>\n",
              "      <th>Rotulo</th>\n",
              "      <th>Tipo_venta</th>\n",
              "      <th>Rem</th>\n",
              "      <th>Horario</th>\n",
              "      <th>Tipo_servicio</th>\n",
              "      <th>Fecha_extraccion</th>\n",
              "    </tr>\n",
              "  </thead>\n",
              "  <tbody>\n",
              "    <tr>\n",
              "      <th>0</th>\n",
              "      <td>SANTA CRUZ DE TENERIFE</td>\n",
              "      <td>CUESTA LA</td>\n",
              "      <td>38320</td>\n",
              "      <td>AVENIDA LOS MENCEYES 223</td>\n",
              "      <td>D</td>\n",
              "      <td>01 08 2020 1353</td>\n",
              "      <td>0.758</td>\n",
              "      <td>PCAN</td>\n",
              "      <td>P</td>\n",
              "      <td>dm</td>\n",
              "      <td>LD 24H</td>\n",
              "      <td>LD 24H  A</td>\n",
              "      <td>01 08 2020</td>\n",
              "    </tr>\n",
              "    <tr>\n",
              "      <th>1</th>\n",
              "      <td>SANTA CRUZ DE TENERIFE</td>\n",
              "      <td>LA LAGUNA</td>\n",
              "      <td>38200</td>\n",
              "      <td>CARRETERA TF111 KM 8 346</td>\n",
              "      <td>D</td>\n",
              "      <td>01 08 2020 0900</td>\n",
              "      <td>0.759</td>\n",
              "      <td>OCEANO</td>\n",
              "      <td>P</td>\n",
              "      <td>dm</td>\n",
              "      <td>LS 06002200 D 07002200</td>\n",
              "      <td>LS 06002200  A  D 07002200  A</td>\n",
              "      <td>01 08 2020</td>\n",
              "    </tr>\n",
              "    <tr>\n",
              "      <th>2</th>\n",
              "      <td>SANTA CRUZ DE TENERIFE</td>\n",
              "      <td>SANTA CRUZ DE TENERIFE</td>\n",
              "      <td>38110</td>\n",
              "      <td>CALLE LAURA GROTE DE LA PUERTA 2</td>\n",
              "      <td>D</td>\n",
              "      <td>27 07 2020 1202</td>\n",
              "      <td>0.769</td>\n",
              "      <td>GMOIL</td>\n",
              "      <td>P</td>\n",
              "      <td>dm</td>\n",
              "      <td>LV 24H S 06002000 D 08001500</td>\n",
              "      <td>LV 24H  A  S 06002000  A  D 08001500  A</td>\n",
              "      <td>01 08 2020</td>\n",
              "    </tr>\n",
              "    <tr>\n",
              "      <th>3</th>\n",
              "      <td>SANTA CRUZ DE TENERIFE</td>\n",
              "      <td>SANTA CRUZ DE TENERIFE</td>\n",
              "      <td>38010</td>\n",
              "      <td>POLIGONO EL MAYORAZGO SN</td>\n",
              "      <td>N</td>\n",
              "      <td>29 07 2020 0000</td>\n",
              "      <td>0.789</td>\n",
              "      <td>TGASTU TREBOL</td>\n",
              "      <td>P</td>\n",
              "      <td>dm</td>\n",
              "      <td>LS 07302100 D 08001400</td>\n",
              "      <td>LS 07302100  A  D 08001400  A</td>\n",
              "      <td>01 08 2020</td>\n",
              "    </tr>\n",
              "    <tr>\n",
              "      <th>4</th>\n",
              "      <td>SANTA CRUZ DE TENERIFE</td>\n",
              "      <td>ADEJE</td>\n",
              "      <td>38670</td>\n",
              "      <td>CALLE CHARFA ESQUINA AVENIDA LAS PALMITAS SN</td>\n",
              "      <td>D</td>\n",
              "      <td>27 07 2020 1159</td>\n",
              "      <td>0.789</td>\n",
              "      <td>GMOIL</td>\n",
              "      <td>P</td>\n",
              "      <td>dm</td>\n",
              "      <td>LS 07002200 D 09001600</td>\n",
              "      <td>LS 07002200  A  D 09001600  A</td>\n",
              "      <td>01 08 2020</td>\n",
              "    </tr>\n",
              "  </tbody>\n",
              "</table>\n",
              "</div>\n",
              "      <button class=\"colab-df-convert\" onclick=\"convertToInteractive('df-c05ad72b-9a43-423f-8079-7895e3c630bd')\"\n",
              "              title=\"Convert this dataframe to an interactive table.\"\n",
              "              style=\"display:none;\">\n",
              "        \n",
              "  <svg xmlns=\"http://www.w3.org/2000/svg\" height=\"24px\"viewBox=\"0 0 24 24\"\n",
              "       width=\"24px\">\n",
              "    <path d=\"M0 0h24v24H0V0z\" fill=\"none\"/>\n",
              "    <path d=\"M18.56 5.44l.94 2.06.94-2.06 2.06-.94-2.06-.94-.94-2.06-.94 2.06-2.06.94zm-11 1L8.5 8.5l.94-2.06 2.06-.94-2.06-.94L8.5 2.5l-.94 2.06-2.06.94zm10 10l.94 2.06.94-2.06 2.06-.94-2.06-.94-.94-2.06-.94 2.06-2.06.94z\"/><path d=\"M17.41 7.96l-1.37-1.37c-.4-.4-.92-.59-1.43-.59-.52 0-1.04.2-1.43.59L10.3 9.45l-7.72 7.72c-.78.78-.78 2.05 0 2.83L4 21.41c.39.39.9.59 1.41.59.51 0 1.02-.2 1.41-.59l7.78-7.78 2.81-2.81c.8-.78.8-2.07 0-2.86zM5.41 20L4 18.59l7.72-7.72 1.47 1.35L5.41 20z\"/>\n",
              "  </svg>\n",
              "      </button>\n",
              "      \n",
              "  <style>\n",
              "    .colab-df-container {\n",
              "      display:flex;\n",
              "      flex-wrap:wrap;\n",
              "      gap: 12px;\n",
              "    }\n",
              "\n",
              "    .colab-df-convert {\n",
              "      background-color: #E8F0FE;\n",
              "      border: none;\n",
              "      border-radius: 50%;\n",
              "      cursor: pointer;\n",
              "      display: none;\n",
              "      fill: #1967D2;\n",
              "      height: 32px;\n",
              "      padding: 0 0 0 0;\n",
              "      width: 32px;\n",
              "    }\n",
              "\n",
              "    .colab-df-convert:hover {\n",
              "      background-color: #E2EBFA;\n",
              "      box-shadow: 0px 1px 2px rgba(60, 64, 67, 0.3), 0px 1px 3px 1px rgba(60, 64, 67, 0.15);\n",
              "      fill: #174EA6;\n",
              "    }\n",
              "\n",
              "    [theme=dark] .colab-df-convert {\n",
              "      background-color: #3B4455;\n",
              "      fill: #D2E3FC;\n",
              "    }\n",
              "\n",
              "    [theme=dark] .colab-df-convert:hover {\n",
              "      background-color: #434B5C;\n",
              "      box-shadow: 0px 1px 3px 1px rgba(0, 0, 0, 0.15);\n",
              "      filter: drop-shadow(0px 1px 2px rgba(0, 0, 0, 0.3));\n",
              "      fill: #FFFFFF;\n",
              "    }\n",
              "  </style>\n",
              "\n",
              "      <script>\n",
              "        const buttonEl =\n",
              "          document.querySelector('#df-c05ad72b-9a43-423f-8079-7895e3c630bd button.colab-df-convert');\n",
              "        buttonEl.style.display =\n",
              "          google.colab.kernel.accessAllowed ? 'block' : 'none';\n",
              "\n",
              "        async function convertToInteractive(key) {\n",
              "          const element = document.querySelector('#df-c05ad72b-9a43-423f-8079-7895e3c630bd');\n",
              "          const dataTable =\n",
              "            await google.colab.kernel.invokeFunction('convertToInteractive',\n",
              "                                                     [key], {});\n",
              "          if (!dataTable) return;\n",
              "\n",
              "          const docLinkHtml = 'Like what you see? Visit the ' +\n",
              "            '<a target=\"_blank\" href=https://colab.research.google.com/notebooks/data_table.ipynb>data table notebook</a>'\n",
              "            + ' to learn more about interactive tables.';\n",
              "          element.innerHTML = '';\n",
              "          dataTable['output_type'] = 'display_data';\n",
              "          await google.colab.output.renderOutput(dataTable, element);\n",
              "          const docLink = document.createElement('div');\n",
              "          docLink.innerHTML = docLinkHtml;\n",
              "          element.appendChild(docLink);\n",
              "        }\n",
              "      </script>\n",
              "    </div>\n",
              "  </div>\n",
              "  "
            ],
            "text/plain": [
              "                Provincia  ... Fecha_extraccion\n",
              "0  SANTA CRUZ DE TENERIFE  ...       01 08 2020\n",
              "1  SANTA CRUZ DE TENERIFE  ...       01 08 2020\n",
              "2  SANTA CRUZ DE TENERIFE  ...       01 08 2020\n",
              "3  SANTA CRUZ DE TENERIFE  ...       01 08 2020\n",
              "4  SANTA CRUZ DE TENERIFE  ...       01 08 2020\n",
              "\n",
              "[5 rows x 13 columns]"
            ]
          },
          "metadata": {},
          "execution_count": 3
        }
      ]
    },
    {
      "cell_type": "code",
      "source": [
        "print(df.info())"
      ],
      "metadata": {
        "colab": {
          "base_uri": "https://localhost:8080/"
        },
        "id": "MzMuezssZrek",
        "outputId": "14af3aa2-406d-42a8-c9fc-974bdf677bae"
      },
      "execution_count": 4,
      "outputs": [
        {
          "output_type": "stream",
          "name": "stdout",
          "text": [
            "<class 'pandas.core.frame.DataFrame'>\n",
            "RangeIndex: 9991 entries, 0 to 9990\n",
            "Data columns (total 13 columns):\n",
            " #   Column            Non-Null Count  Dtype  \n",
            "---  ------            --------------  -----  \n",
            " 0   Provincia         9991 non-null   object \n",
            " 1   Localidad         9991 non-null   object \n",
            " 2   Codigo_postal     9991 non-null   int64  \n",
            " 3   Direccion         9991 non-null   object \n",
            " 4   Margen            9991 non-null   object \n",
            " 5   Toma_de_datos     9991 non-null   object \n",
            " 6   Precio            9991 non-null   float64\n",
            " 7   Rotulo            9990 non-null   object \n",
            " 8   Tipo_venta        9991 non-null   object \n",
            " 9   Rem               9991 non-null   object \n",
            " 10  Horario           9991 non-null   object \n",
            " 11  Tipo_servicio     9845 non-null   object \n",
            " 12  Fecha_extraccion  9991 non-null   object \n",
            "dtypes: float64(1), int64(1), object(11)\n",
            "memory usage: 1014.8+ KB\n",
            "None\n"
          ]
        }
      ]
    },
    {
      "cell_type": "markdown",
      "source": [
        "> En una primera revisión, al realizar df.info, se observa que sólo dos variables son numéricas (tanto integer como float), el resto de variables están todas como object lo que podría indicar que son categóricas o cualitativas. Para poder ahondar en este tema, realizaré una copia del dataframe y analizaré en primera instancia bajo el supuesto que esta descripción es correcta."
      ],
      "metadata": {
        "id": "Vd9aOlrYxDq2"
      }
    },
    {
      "cell_type": "code",
      "source": [
        "df_numeric = df.select_dtypes(exclude=['object']).copy()"
      ],
      "metadata": {
        "id": "Xui99WfBrEgm"
      },
      "execution_count": 27,
      "outputs": []
    },
    {
      "cell_type": "code",
      "source": [
        "df_numeric.info()"
      ],
      "metadata": {
        "colab": {
          "base_uri": "https://localhost:8080/"
        },
        "id": "JGhOTj4IrNAG",
        "outputId": "d70d2d68-4a75-421e-f16a-2e81eb989f4f"
      },
      "execution_count": 28,
      "outputs": [
        {
          "output_type": "stream",
          "name": "stdout",
          "text": [
            "<class 'pandas.core.frame.DataFrame'>\n",
            "RangeIndex: 9991 entries, 0 to 9990\n",
            "Data columns (total 2 columns):\n",
            " #   Column         Non-Null Count  Dtype  \n",
            "---  ------         --------------  -----  \n",
            " 0   Codigo_postal  9991 non-null   int64  \n",
            " 1   Precio         9991 non-null   float64\n",
            "dtypes: float64(1), int64(1)\n",
            "memory usage: 156.2 KB\n"
          ]
        }
      ]
    },
    {
      "cell_type": "markdown",
      "source": [
        "---\n",
        "\n",
        "**ANALISIS POR VARIABLES**\n",
        "\n",
        "\n",
        "---"
      ],
      "metadata": {
        "id": "-IEXOg4s0tEs"
      }
    },
    {
      "cell_type": "code",
      "source": [
        "n_categorias = df_numeric['Codigo_postal'].value_counts().count()\n",
        "tabla_frecuencia = df_numeric['Codigo_postal'].value_counts()\n",
        "\n",
        "print(f\"La cantidad de categorías de la variable Codigo_postal es: {n_categorias}. Su tabla de frecuencias se observa a continuación:\\n{tabla_frecuencia}\")"
      ],
      "metadata": {
        "colab": {
          "base_uri": "https://localhost:8080/"
        },
        "id": "jt28oF4WyVEy",
        "outputId": "5c9a49e4-ed03-4003-f0f8-c658712315d1"
      },
      "execution_count": 32,
      "outputs": [
        {
          "output_type": "stream",
          "name": "stdout",
          "text": [
            "La cantidad de categorías de la variable Codigo_postal es: 4198. Su tabla de frecuencias se observa a continuación:\n",
            "41500    23\n",
            "11500    22\n",
            "4700     21\n",
            "11130    21\n",
            "30500    20\n",
            "         ..\n",
            "36612     1\n",
            "36670     1\n",
            "36890     1\n",
            "33570     1\n",
            "18860     1\n",
            "Name: Codigo_postal, Length: 4198, dtype: int64\n"
          ]
        }
      ]
    },
    {
      "cell_type": "code",
      "source": [
        "plt.figure(figsize=[9, 6])\n",
        "df.Codigo_postal.hist(color='slateblue');"
      ],
      "metadata": {
        "colab": {
          "base_uri": "https://localhost:8080/",
          "height": 377
        },
        "id": "79f9-33CyaU9",
        "outputId": "91334dc6-d4df-49ad-c2f9-68f162144bf2"
      },
      "execution_count": 31,
      "outputs": [
        {
          "output_type": "display_data",
          "data": {
            "image/png": "[encoded data removed]",
            "text/plain": [
              "<Figure size 648x432 with 1 Axes>"
            ]
          },
          "metadata": {}
        }
      ]
    },
    {
      "cell_type": "markdown",
      "source": [
        "**ANALISIS DE LA VARIABLE CÓDIGO POSTAL**\n",
        "\n",
        "\n",
        "---\n",
        "\n",
        "\n",
        "> Es interesante observar que la variable \"Codigo_postal\" está compuesta por números pero realmente no aporta información de manera cuantitativa. Es imaposible realizar un análisis de ella como tal ya que el número que la compone representa una esquema que se asigna a distintas zonas o lugares de un país con el objetivo de mecanizar el correo.\n",
        "\n",
        "Dicho lo anterior, esta variable es una variable categórica o cualitativa de tipo ordinal.\n",
        "\n"
      ],
      "metadata": {
        "id": "9zGDD3qfyzNd"
      }
    },
    {
      "cell_type": "code",
      "source": [
        "df_categorical = df.select_dtypes(include=['object']).copy()"
      ],
      "metadata": {
        "id": "2YpSci2WbjsG"
      },
      "execution_count": 5,
      "outputs": []
    },
    {
      "cell_type": "code",
      "source": [
        "print(df_categorical.isnull().sum())"
      ],
      "metadata": {
        "colab": {
          "base_uri": "https://localhost:8080/"
        },
        "id": "8Y6v2Ji3bvkn",
        "outputId": "8a2fd824-c375-492c-8ed4-c3675a3a5a20"
      },
      "execution_count": 6,
      "outputs": [
        {
          "output_type": "stream",
          "name": "stdout",
          "text": [
            "Provincia             0\n",
            "Localidad             0\n",
            "Direccion             0\n",
            "Margen                0\n",
            "Toma_de_datos         0\n",
            "Rotulo                1\n",
            "Tipo_venta            0\n",
            "Rem                   0\n",
            "Horario               0\n",
            "Tipo_servicio       146\n",
            "Fecha_extraccion      0\n",
            "dtype: int64\n"
          ]
        }
      ]
    },
    {
      "cell_type": "code",
      "source": [
        "df_categorical = df_categorical.fillna(df_categorical['Tipo_servicio'].value_counts().index[0])"
      ],
      "metadata": {
        "id": "UN9dUpIccFEy"
      },
      "execution_count": 7,
      "outputs": []
    },
    {
      "cell_type": "code",
      "source": [
        "print(df_categorical.isnull().sum())"
      ],
      "metadata": {
        "colab": {
          "base_uri": "https://localhost:8080/"
        },
        "id": "67SEtDrmcKfp",
        "outputId": "1fd6b798-6faa-4fd4-c3fd-2cc56763090a"
      },
      "execution_count": 8,
      "outputs": [
        {
          "output_type": "stream",
          "name": "stdout",
          "text": [
            "Provincia           0\n",
            "Localidad           0\n",
            "Direccion           0\n",
            "Margen              0\n",
            "Toma_de_datos       0\n",
            "Rotulo              0\n",
            "Tipo_venta          0\n",
            "Rem                 0\n",
            "Horario             0\n",
            "Tipo_servicio       0\n",
            "Fecha_extraccion    0\n",
            "dtype: int64\n"
          ]
        }
      ]
    },
    {
      "cell_type": "code",
      "source": [
        "for k,v in df_categorical.items():\n",
        "    df_categorical[k] = df_categorical[k].str.strip()"
      ],
      "metadata": {
        "id": "1bBpoAiGltuM"
      },
      "execution_count": 9,
      "outputs": []
    },
    {
      "cell_type": "code",
      "source": [
        "n_categorias = df_categorical['Provincia'].value_counts().count()\n",
        "tabla_frecuencia = df_categorical['Provincia'].value_counts()\n",
        "\n",
        "print(f\"La cantidad de categorías de la variable Provincia es: {n_categorias}. Su tabla de frecuencias se observa a continuación:\\n{tabla_frecuencia}\")"
      ],
      "metadata": {
        "colab": {
          "base_uri": "https://localhost:8080/"
        },
        "id": "AssslWczcWzU",
        "outputId": "f2f09674-bedc-480c-bc43-f7f0fd8d5c69"
      },
      "execution_count": 10,
      "outputs": [
        {
          "output_type": "stream",
          "name": "stdout",
          "text": [
            "La cantidad de categorías de la variable Provincia es: 52. Su tabla de frecuencias se observa a continuación:\n",
            "MADRID                    730\n",
            "BARCELONA                 723\n",
            "VALENCIA                  568\n",
            "ALICANTE                  408\n",
            "SEVILLA                   385\n",
            "MURCIA                    384\n",
            "MALAGA                    296\n",
            "CORUNA A                  257\n",
            "GRANADA                   250\n",
            "CADIZ                     244\n",
            "GIRONA                    243\n",
            "TOLEDO                    235\n",
            "PALMAS LAS                231\n",
            "JAEN                      225\n",
            "SANTA CRUZ DE TENERIFE    223\n",
            "TARRAGONA                 212\n",
            "ZARAGOZA                  212\n",
            "BADAJOZ                   207\n",
            "ASTURIAS                  203\n",
            "NAVARRA                   202\n",
            "CORDOBA                   195\n",
            "BALEARS ILLES             194\n",
            "ALMERIA                   184\n",
            "PONTEVEDRA                184\n",
            "CIUDAD REAL               183\n",
            "CASTELLON  CASTELLO       172\n",
            "LLEIDA                    166\n",
            "LEON                      159\n",
            "CANTABRIA                 143\n",
            "ALBACETE                  133\n",
            "CACERES                   131\n",
            "BURGOS                    129\n",
            "VALLADOLID                127\n",
            "HUELVA                    120\n",
            "LUGO                      118\n",
            "BIZKAIA                   117\n",
            "GIPUZKOA                  112\n",
            "CUENCA                    107\n",
            "HUESCA                    104\n",
            "SALAMANCA                  96\n",
            "GUADALAJARA                80\n",
            "OURENSE                    80\n",
            "ZAMORA                     73\n",
            "SEGOVIA                    71\n",
            "RIOJA LA                   70\n",
            "TERUEL                     62\n",
            "PALENCIA                   62\n",
            "AVILA                      62\n",
            "ARABA ALAVA                61\n",
            "SORIA                      36\n",
            "MELILLA                    13\n",
            "CEUTA                       9\n",
            "Name: Provincia, dtype: int64\n"
          ]
        }
      ]
    },
    {
      "cell_type": "code",
      "source": [
        "plt.figure(figsize=[16, 16])\n",
        "sns.set(style=\"darkgrid\")\n",
        "\n",
        "provincia_count = df_categorical['Provincia'].value_counts()\n",
        "sns.barplot(x=provincia_count.values, y=provincia_count.index, alpha=0.9);\n",
        "plt.title('DISTRIBUCIÓN DE FRECUENCIAS DE PROVINCIAS');\n",
        "plt.ylabel('PROVINCIA', fontsize=12);\n",
        "plt.xlabel('FRECUENCIA', fontsize=12);"
      ],
      "metadata": {
        "colab": {
          "base_uri": "https://localhost:8080/",
          "height": 953
        },
        "id": "43EY2eAVcW4x",
        "outputId": "9bd53165-78f0-47fb-b1c8-8901bb152a0f"
      },
      "execution_count": 11,
      "outputs": [
        {
          "output_type": "display_data",
          "data": {
            "image/png": "[encoded data removed]",
            "text/plain": [
              "<Figure size 1152x1152 with 1 Axes>"
            ]
          },
          "metadata": {
            "needs_background": "light"
          }
        }
      ]
    },
    {
      "cell_type": "code",
      "source": [
        "df_categorical.Localidad.unique()"
      ],
      "metadata": {
        "colab": {
          "base_uri": "https://localhost:8080/"
        },
        "id": "Z9stRWCKhwau",
        "outputId": "cd89f1e7-c501-42e3-96f0-93b4c021545b"
      },
      "execution_count": 12,
      "outputs": [
        {
          "output_type": "execute_result",
          "data": {
            "text/plain": [
              "array(['CUESTA LA', 'LA LAGUNA', 'SANTA CRUZ DE TENERIFE', ...,\n",
              "       'MONTSENY', 'VERGER EL', 'BAUL'], dtype=object)"
            ]
          },
          "metadata": {},
          "execution_count": 12
        }
      ]
    },
    {
      "cell_type": "code",
      "source": [
        "n_categorias = df_categorical['Localidad'].value_counts().count()\n",
        "tabla_frecuencia = df_categorical['Localidad'].value_counts()\n",
        "\n",
        "print(f\"La cantidad de categorías de la variable Localidad es: {n_categorias}. Su tabla de frecuencias se observa a continuación:\\n{tabla_frecuencia}\")"
      ],
      "metadata": {
        "colab": {
          "base_uri": "https://localhost:8080/"
        },
        "id": "g9UCpZi6cW7O",
        "outputId": "251856fa-cfa2-474e-fe0a-8ff209d0de2e"
      },
      "execution_count": 13,
      "outputs": [
        {
          "output_type": "stream",
          "name": "stdout",
          "text": [
            "La cantidad de categorías de la variable Localidad es: 3829. Su tabla de frecuencias se observa a continuación:\n",
            "MADRID       203\n",
            "BARCELONA     85\n",
            "SEVILLA       65\n",
            "VALENCIA      58\n",
            "MALAGA        54\n",
            "            ... \n",
            "LIENDO         1\n",
            "VEREA          1\n",
            "BANDE          1\n",
            "VALEIXE        1\n",
            "BAUL           1\n",
            "Name: Localidad, Length: 3829, dtype: int64\n"
          ]
        }
      ]
    },
    {
      "cell_type": "code",
      "source": [
        "n_categorias = df_categorical['Direccion'].value_counts().count()\n",
        "tabla_frecuencia = df_categorical['Direccion'].value_counts()\n",
        "\n",
        "print(f\"La cantidad de categorías de la variable Dirección es: {n_categorias}. Su tabla de frecuencias se observa a continuación:\\n{tabla_frecuencia}\")"
      ],
      "metadata": {
        "colab": {
          "base_uri": "https://localhost:8080/"
        },
        "id": "4kXKTXcAmiLp",
        "outputId": "8105c2b9-4e14-45a8-8944-4fa2ab4bbbde"
      },
      "execution_count": 14,
      "outputs": [
        {
          "output_type": "stream",
          "name": "stdout",
          "text": [
            "La cantidad de categorías de la variable Dirección es: 9697. Su tabla de frecuencias se observa a continuación:\n",
            "AVENIDA ANDALUCIA SN                                        11\n",
            "AVENIDA JUAN CARLOS I SN                                     7\n",
            "AVENIDA CONSTITUCION SN                                      5\n",
            "AVENIDA DEL MEDITERRANEO SN                                  4\n",
            "AVENIDA PORTUGAL SN                                          3\n",
            "                                                            ..\n",
            "POLIGONO POLIGONO INDUSTRIAL EL CERRO LUZ DE CASTILLA SN     1\n",
            "AVENIDA FEDERICO SILVA MUNOZ 21                              1\n",
            "CR N631 43 4                                                 1\n",
            "CARRETERA N620 KM 307 000                                    1\n",
            "AUTOVIA A92 KM 322                                           1\n",
            "Name: Direccion, Length: 9697, dtype: int64\n"
          ]
        }
      ]
    },
    {
      "cell_type": "code",
      "source": [
        "n_categorias = df_categorical['Margen'].value_counts().count()\n",
        "tabla_frecuencia = df_categorical['Margen'].value_counts()\n",
        "\n",
        "print(f\"La cantidad de categorías de la variable Margen es: {n_categorias}. Su tabla de frecuencias se observa a continuación:\\n{tabla_frecuencia}\")"
      ],
      "metadata": {
        "colab": {
          "base_uri": "https://localhost:8080/"
        },
        "id": "nUdYtzQDkb03",
        "outputId": "d4032394-28d3-4d6d-e348-16fc519fb1c5"
      },
      "execution_count": 15,
      "outputs": [
        {
          "output_type": "stream",
          "name": "stdout",
          "text": [
            "La cantidad de categorías de la variable Margen es: 3. Su tabla de frecuencias se observa a continuación:\n",
            "D    5016\n",
            "I    2596\n",
            "N    2379\n",
            "Name: Margen, dtype: int64\n"
          ]
        }
      ]
    },
    {
      "cell_type": "code",
      "source": [
        "plt.figure(figsize=[9, 6])\n",
        "\n",
        "ax = df.Margen.value_counts().sort_values().plot(kind = 'bar', color='cornflowerblue', align='center');\n",
        "ax.set_xlabel('MARGEN', labelpad=20)\n",
        "ax.set_ylabel('FRECUENCIA', labelpad=20)\n",
        "ax.set_title('FRECUENCIA DE MARGEN')\n",
        "ax.set_xticklabels(['No Aplica','Izquierdo','Derecho'], rotation = 45);"
      ],
      "metadata": {
        "colab": {
          "base_uri": "https://localhost:8080/",
          "height": 450
        },
        "id": "6r5akLWPFpvW",
        "outputId": "bcd9e333-361b-41f9-d60e-4e50f0ce2ca1"
      },
      "execution_count": 146,
      "outputs": [
        {
          "output_type": "display_data",
          "data": {
            "image/png": "[encoded data removed]",
            "text/plain": [
              "<Figure size 648x432 with 1 Axes>"
            ]
          },
          "metadata": {
            "needs_background": "light"
          }
        }
      ]
    },
    {
      "cell_type": "code",
      "source": [
        "n_categorias = df_categorical['Toma_de_datos'].value_counts().count()\n",
        "tabla_frecuencia = df_categorical['Toma_de_datos'].value_counts().sort_index()\n",
        "\n",
        "print(f\"La cantidad de categorías de la variable Toma_de_datos es: {n_categorias}. Su tabla de frecuencias se observa a continuación:\\n{tabla_frecuencia}\")"
      ],
      "metadata": {
        "colab": {
          "base_uri": "https://localhost:8080/"
        },
        "id": "kebs8uGim5q5",
        "outputId": "59cd7724-60ca-4576-d15b-fb36701dd3e6"
      },
      "execution_count": 16,
      "outputs": [
        {
          "output_type": "stream",
          "name": "stdout",
          "text": [
            "La cantidad de categorías de la variable Toma_de_datos es: 2800. Su tabla de frecuencias se observa a continuación:\n",
            "01 08 2020 0000    2857\n",
            "01 08 2020 0001      32\n",
            "01 08 2020 0003       1\n",
            "01 08 2020 0005       3\n",
            "01 08 2020 0024       1\n",
            "                   ... \n",
            "31 07 2020 2305       1\n",
            "31 07 2020 2316       1\n",
            "31 07 2020 2317       1\n",
            "31 07 2020 2330       2\n",
            "31 07 2020 2359       1\n",
            "Name: Toma_de_datos, Length: 2800, dtype: int64\n"
          ]
        }
      ]
    },
    {
      "cell_type": "code",
      "source": [
        "n_categorias = df_categorical['Rotulo'].value_counts().count()\n",
        "tabla_frecuencia = df_categorical['Rotulo'].value_counts().head(50)\n",
        "\n",
        "print(f\"La cantidad de categorías de la variable Rotulo es: {n_categorias}.\\n\\nSu tabla de frecuencias se observa a continuación:\\n{tabla_frecuencia}\")"
      ],
      "metadata": {
        "colab": {
          "base_uri": "https://localhost:8080/"
        },
        "id": "hrL6s-6loS6a",
        "outputId": "9b619bf4-a8d1-40ec-f3f1-d4c1005e1e25"
      },
      "execution_count": 19,
      "outputs": [
        {
          "output_type": "stream",
          "name": "stdout",
          "text": [
            "La cantidad de categorías de la variable Rotulo es: 2817.\n",
            "\n",
            "Su tabla de frecuencias se observa a continuación:\n",
            "REPSOL              2707\n",
            "CEPSA               1335\n",
            "GALP                 519\n",
            "SHELL                373\n",
            "BP                   219\n",
            "PETRONOR             182\n",
            "AVIA                 153\n",
            "CARREFOUR            142\n",
            "BALLENOIL            123\n",
            "CAMPSA                98\n",
            "Q8                    83\n",
            "PETROPRIX             75\n",
            "ESCLATOIL             51\n",
            "BONAREA               51\n",
            "AGLA                  47\n",
            "VALCARCE              44\n",
            "ALCAMPO               42\n",
            "EROSKI                42\n",
            "MEROIL                41\n",
            "PLENOIL               40\n",
            "GASEXPRESS            38\n",
            "DISA                  31\n",
            "TAMOIL                28\n",
            "IBERDOEX              23\n",
            "PETROCAT              22\n",
            "BEROIL                20\n",
            "SIN ROTULO            18\n",
            "PETROCAT DIRECTE      17\n",
            "PCAN                  17\n",
            "BP OIL                16\n",
            "E LECLERC             16\n",
            "CAMPSA EXPRESS        15\n",
            "AUTONET&OIL           14\n",
            "BDMED                 13\n",
            "EASYGAS               13\n",
            "CONFORT AUTO          13\n",
            "FARRUCO S A           12\n",
            "ORTEGAL OIL           11\n",
            "ES CARBURANTES        11\n",
            "GMOIL                 11\n",
            "MAXOIL                10\n",
            "PETRONIEVES            9\n",
            "GASUIR                 9\n",
            "FAMILY ENERGY          9\n",
            "GM OIL                 8\n",
            "BURAN ENERGY           8\n",
            "BP OIL ESPANA          8\n",
            "LIBRE                  8\n",
            "AN ENERGETICOS         8\n",
            "SUPECO                 7\n",
            "Name: Rotulo, dtype: int64\n"
          ]
        }
      ]
    },
    {
      "cell_type": "code",
      "source": [
        "n_categorias = df_categorical['Tipo_venta'].value_counts().count()\n",
        "tabla_frecuencia = df_categorical['Tipo_venta'].value_counts()\n",
        "\n",
        "print(f\"La cantidad de categorías de la variable Tipo_venta es: {n_categorias}. Su tabla de frecuencias se observa a continuación:\\n{tabla_frecuencia}\")"
      ],
      "metadata": {
        "colab": {
          "base_uri": "https://localhost:8080/"
        },
        "id": "K0jjbCMnocLk",
        "outputId": "8b2c8552-1d6c-445e-ce46-1311f120ba6b"
      },
      "execution_count": 20,
      "outputs": [
        {
          "output_type": "stream",
          "name": "stdout",
          "text": [
            "La cantidad de categorías de la variable Tipo_venta es: 5. Su tabla de frecuencias se observa a continuación:\n",
            "P    9772\n",
            "R     168\n",
            "A      43\n",
            "p       6\n",
            "N       2\n",
            "Name: Tipo_venta, dtype: int64\n"
          ]
        }
      ]
    },
    {
      "cell_type": "code",
      "source": [
        "n_categorias = df_categorical['Rem'].value_counts().count()\n",
        "tabla_frecuencia = df_categorical['Rem'].value_counts()\n",
        "\n",
        "print(f\"La cantidad de categorías de la variable Rem es: {n_categorias}. Su tabla de frecuencias se observa a continuación:\\n{tabla_frecuencia}\")"
      ],
      "metadata": {
        "colab": {
          "base_uri": "https://localhost:8080/"
        },
        "id": "JnxzF1X4og35",
        "outputId": "123a7a97-db20-4f3d-dd4c-74b10c468587"
      },
      "execution_count": 21,
      "outputs": [
        {
          "output_type": "stream",
          "name": "stdout",
          "text": [
            "La cantidad de categorías de la variable Rem es: 2. Su tabla de frecuencias se observa a continuación:\n",
            "dm    6286\n",
            "OM    3705\n",
            "Name: Rem, dtype: int64\n"
          ]
        }
      ]
    },
    {
      "cell_type": "code",
      "source": [
        "n_categorias = df_categorical['Horario'].value_counts().count()\n",
        "tabla_frecuencia = df_categorical['Horario'].value_counts().sort_index().head(10)\n",
        "\n",
        "print(f\"La cantidad de categorías de la variable Horario es: {n_categorias}. Su tabla de frecuencias se observa a continuación:\\n{tabla_frecuencia}\")"
      ],
      "metadata": {
        "colab": {
          "base_uri": "https://localhost:8080/"
        },
        "id": "7-0Tv7-dom2B",
        "outputId": "7eb7f4e9-863c-4c42-8504-e2c3131cdbb6"
      },
      "execution_count": 22,
      "outputs": [
        {
          "output_type": "stream",
          "name": "stdout",
          "text": [
            "La cantidad de categorías de la variable Horario es: 1309. Su tabla de frecuencias se observa a continuación:\n",
            "D 07002100     1\n",
            "D 07002300     1\n",
            "D 08002000     1\n",
            "L 00052300     1\n",
            "L 04002200     1\n",
            "L 05000000     1\n",
            "L 05002300     1\n",
            "L 05300030     1\n",
            "L 05302230     1\n",
            "L 06000000    13\n",
            "Name: Horario, dtype: int64\n"
          ]
        }
      ]
    },
    {
      "cell_type": "code",
      "source": [
        "n_categorias = df_categorical['Tipo_servicio'].value_counts().count()\n",
        "tabla_frecuencia = df_categorical['Tipo_servicio'].value_counts().head(10)\n",
        "\n",
        "print(f\"La cantidad de categorías de la variable Tipo_servicio es: {n_categorias}. Su tabla de frecuencias se observa a continuación:\\n{tabla_frecuencia}\")"
      ],
      "metadata": {
        "colab": {
          "base_uri": "https://localhost:8080/"
        },
        "id": "W4Kv1dUMpUf5",
        "outputId": "03fd241f-3de3-4c13-b0b7-d6bbbc5708f9"
      },
      "execution_count": 23,
      "outputs": [
        {
          "output_type": "stream",
          "name": "stdout",
          "text": [
            "La cantidad de categorías de la variable Tipo_servicio es: 1613. Su tabla de frecuencias se observa a continuación:\n",
            "LD 24H  A         3464\n",
            "LD 06002200  A    1180\n",
            "LD 07002300  A     616\n",
            "LD 07002200  A     234\n",
            "LD 06002300  A     214\n",
            "LD 07002300  P     160\n",
            "LD 24H  D          129\n",
            "LD 06002359  A     122\n",
            "LD 06302230  A     121\n",
            "LD 06002200  P     113\n",
            "Name: Tipo_servicio, dtype: int64\n"
          ]
        }
      ]
    },
    {
      "cell_type": "code",
      "source": [
        "n_categorias = df_categorical['Fecha_extraccion'].value_counts().count()\n",
        "tabla_frecuencia = df_categorical['Fecha_extraccion'].value_counts()\n",
        "\n",
        "print(f\"La cantidad de categorías de la variable Fecha_extraccion es: {n_categorias}. Su tabla de frecuencias se observa a continuación:\\n{tabla_frecuencia}\")"
      ],
      "metadata": {
        "colab": {
          "base_uri": "https://localhost:8080/"
        },
        "id": "tCtISXNLp0z3",
        "outputId": "409720c8-18d5-43a2-b342-47c9e8b2e70b"
      },
      "execution_count": 24,
      "outputs": [
        {
          "output_type": "stream",
          "name": "stdout",
          "text": [
            "La cantidad de categorías de la variable Fecha_extraccion es: 1. Su tabla de frecuencias se observa a continuación:\n",
            "01 08 2020    9991\n",
            "Name: Fecha_extraccion, dtype: int64\n"
          ]
        }
      ]
    },
    {
      "cell_type": "code",
      "source": [
        "df.boxplot('Precio', 'Tipo_venta', rot = 30, figsize=(5,6));"
      ],
      "metadata": {
        "colab": {
          "base_uri": "https://localhost:8080/",
          "height": 484
        },
        "id": "x-tLW0PPZrht",
        "outputId": "814f49c1-7d36-4f4e-f4f6-51a3c3329b06"
      },
      "execution_count": 236,
      "outputs": [
        {
          "output_type": "stream",
          "name": "stderr",
          "text": [
            "/usr/local/lib/python3.7/dist-packages/numpy/core/_asarray.py:83: VisibleDeprecationWarning: Creating an ndarray from ragged nested sequences (which is a list-or-tuple of lists-or-tuples-or ndarrays with different lengths or shapes) is deprecated. If you meant to do this, you must specify 'dtype=object' when creating the ndarray\n",
            "  return array(a, dtype, copy=False, order=order)\n"
          ]
        },
        {
          "output_type": "display_data",
          "data": {
            "image/png": "[encoded data removed]",
            "text/plain": [
              "<Figure size 360x432 with 1 Axes>"
            ]
          },
          "metadata": {}
        }
      ]
    },
    {
      "cell_type": "code",
      "source": [
        ""
      ],
      "metadata": {
        "id": "hjjLR6OfbuzA"
      },
      "execution_count": null,
      "outputs": []
    },
    {
      "cell_type": "code",
      "source": [
        "# Cálculo del número de intervalos, según la regla de Sturges\n",
        "k = 1 + 3.322 * math.log10(len(df))\n",
        "k = round(k,0)\n",
        "k"
      ],
      "metadata": {
        "colab": {
          "base_uri": "https://localhost:8080/"
        },
        "id": "YRGzqVxqvo7C",
        "outputId": "167b27eb-b1b8-4f05-c1b3-169b186c1016"
      },
      "execution_count": 153,
      "outputs": [
        {
          "output_type": "execute_result",
          "data": {
            "text/plain": [
              "14.0"
            ]
          },
          "metadata": {},
          "execution_count": 153
        }
      ]
    },
    {
      "cell_type": "code",
      "source": [
        "df.Precio.value_counts(bins=14).sort_index()"
      ],
      "metadata": {
        "colab": {
          "base_uri": "https://localhost:8080/"
        },
        "id": "EiN34yJEwJ7G",
        "outputId": "e192b896-3e1c-43ba-f105-cda0902e8ca3"
      },
      "execution_count": 145,
      "outputs": [
        {
          "output_type": "execute_result",
          "data": {
            "text/plain": [
              "(0.756, 0.807]       6\n",
              "(0.807, 0.857]      29\n",
              "(0.857, 0.906]     112\n",
              "(0.906, 0.955]      86\n",
              "(0.955, 1.004]     240\n",
              "(1.004, 1.054]     456\n",
              "(1.054, 1.103]    1124\n",
              "(1.103, 1.152]    1427\n",
              "(1.152, 1.202]    3721\n",
              "(1.202, 1.251]    2543\n",
              "(1.251, 1.3]       241\n",
              "(1.3, 1.349]         4\n",
              "(1.349, 1.399]       0\n",
              "(1.399, 1.448]       2\n",
              "Name: Precio, dtype: int64"
            ]
          },
          "metadata": {},
          "execution_count": 145
        }
      ]
    },
    {
      "cell_type": "code",
      "source": [
        "plt.figure(figsize=[9, 6])\n",
        "df.Precio.hist(color='slateblue', bins=14);"
      ],
      "metadata": {
        "colab": {
          "base_uri": "https://localhost:8080/",
          "height": 374
        },
        "id": "0zGpfc-OPCUe",
        "outputId": "8c8753eb-ccf2-4af1-858e-a8a52267c5b3"
      },
      "execution_count": 152,
      "outputs": [
        {
          "output_type": "display_data",
          "data": {
            "image/png": "[encoded data removed]",
            "text/plain": [
              "<Figure size 648x432 with 1 Axes>"
            ]
          },
          "metadata": {
            "needs_background": "light"
          }
        }
      ]
    },
    {
      "cell_type": "code",
      "source": [
        "df.info()"
      ],
      "metadata": {
        "colab": {
          "base_uri": "https://localhost:8080/"
        },
        "id": "Eb75Dt6LUIGG",
        "outputId": "e2ca9a00-511d-4b27-d914-79c0b2683e02"
      },
      "execution_count": 158,
      "outputs": [
        {
          "output_type": "stream",
          "name": "stdout",
          "text": [
            "<class 'pandas.core.frame.DataFrame'>\n",
            "RangeIndex: 9991 entries, 0 to 9990\n",
            "Data columns (total 13 columns):\n",
            " #   Column            Non-Null Count  Dtype  \n",
            "---  ------            --------------  -----  \n",
            " 0   Provincia         9991 non-null   object \n",
            " 1   Localidad         9991 non-null   object \n",
            " 2   Codigo_postal     9991 non-null   int64  \n",
            " 3   Direccion         9991 non-null   object \n",
            " 4   Margen            9991 non-null   object \n",
            " 5   Toma_de_datos     9991 non-null   object \n",
            " 6   Precio            9991 non-null   float64\n",
            " 7   Rotulo            9990 non-null   object \n",
            " 8   Tipo_venta        9991 non-null   object \n",
            " 9   Rem               9991 non-null   object \n",
            " 10  Horario           9991 non-null   object \n",
            " 11  Tipo_servicio     9845 non-null   object \n",
            " 12  Fecha_extraccion  9991 non-null   object \n",
            "dtypes: float64(1), int64(1), object(11)\n",
            "memory usage: 1014.8+ KB\n"
          ]
        }
      ]
    },
    {
      "cell_type": "code",
      "source": [
        "Debes crear las sentencias necesarias en Python para resolver las siguientes tareas:\n",
        "\n",
        "Identifica el tipo de variables. \n",
        "Identifica la clasificación a la que corresponden las variables.\n",
        "Identifica el tipo de variables que sería desde el punto de vista del análisis de datos.\n",
        "Crear una tabla de frecuencias y el gráfico correspondiente para las variables siguientes: provincia, margen y precio.\n",
        "Comenta y justifica todos los resultados obtenidos en cada apartado."
      ],
      "metadata": {
        "id": "SopCM6ewk63h"
      },
      "execution_count": null,
      "outputs": []
    }
  ]
}