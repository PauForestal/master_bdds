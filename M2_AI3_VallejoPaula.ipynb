{
  "nbformat": 4,
  "nbformat_minor": 0,
  "metadata": {
    "colab": {
      "name": "M2_AI3_VallejoPaula.ipynb",
      "provenance": [],
      "toc_visible": true,
      "authorship_tag": "ABX9TyNGb7K4wITYSmyflfC1ao8C",
      "include_colab_link": true
    },
    "kernelspec": {
      "name": "python3",
      "display_name": "Python 3"
    },
    "language_info": {
      "name": "python"
    }
  },
  "cells": [
    {
      "cell_type": "markdown",
      "metadata": {
        "id": "view-in-github",
        "colab_type": "text"
      },
      "source": [
        "<a href=\"https://colab.research.google.com/github/PauForestal/master_bdds/blob/main/M2_AI3_VallejoPaula.ipynb\" target=\"_parent\"><img src=\"https://colab.research.google.com/assets/colab-badge.svg\" alt=\"Open In Colab\"/></a>"
      ]
    },
    {
      "cell_type": "code",
      "execution_count": 1,
      "metadata": {
        "id": "9kistYrHCMkC"
      },
      "outputs": [],
      "source": [
        "import pandas as pd\n",
        "import numpy as np\n",
        "import matplotlib.pyplot as plt\n",
        "import seaborn as sns\n",
        "from scipy import stats as ss\n",
        "from scipy.stats import pearsonr\n",
        "\n",
        "import warnings\n",
        "warnings.filterwarnings('ignore')\n",
        "%matplotlib inline"
      ]
    },
    {
      "cell_type": "markdown",
      "source": [
        "###**PRELIMINAR: LECTURA Y REVISIÓN DE DATAFRAME**\n",
        "\n",
        "\n",
        "---"
      ],
      "metadata": {
        "id": "mNR2if3MGJJQ"
      }
    },
    {
      "cell_type": "code",
      "source": [
        "df = pd.read_csv('https://raw.githubusercontent.com/PauForestal/master_bdds/main/Modulo2/datos_ventas.csv', sep=';',  decimal = ',')"
      ],
      "metadata": {
        "id": "5vPWWnmfCPwJ"
      },
      "execution_count": 2,
      "outputs": []
    },
    {
      "cell_type": "code",
      "source": [
        "df.head()"
      ],
      "metadata": {
        "colab": {
          "base_uri": "https://localhost:8080/",
          "height": 206
        },
        "id": "9l-7O7-5DCcS",
        "outputId": "c5c8ba9e-4b7d-4b86-b5e4-d49e79dfe683"
      },
      "execution_count": 3,
      "outputs": [
        {
          "output_type": "execute_result",
          "data": {
            "text/html": [
              "\n",
              "  <div id=\"df-dbb9d5d9-473b-4f56-aaa2-1f3c4b4f8c84\">\n",
              "    <div class=\"colab-df-container\">\n",
              "      <div>\n",
              "<style scoped>\n",
              "    .dataframe tbody tr th:only-of-type {\n",
              "        vertical-align: middle;\n",
              "    }\n",
              "\n",
              "    .dataframe tbody tr th {\n",
              "        vertical-align: top;\n",
              "    }\n",
              "\n",
              "    .dataframe thead th {\n",
              "        text-align: right;\n",
              "    }\n",
              "</style>\n",
              "<table border=\"1\" class=\"dataframe\">\n",
              "  <thead>\n",
              "    <tr style=\"text-align: right;\">\n",
              "      <th></th>\n",
              "      <th>Fecha_anual</th>\n",
              "      <th>Inversion</th>\n",
              "      <th>Ventas</th>\n",
              "    </tr>\n",
              "  </thead>\n",
              "  <tbody>\n",
              "    <tr>\n",
              "      <th>0</th>\n",
              "      <td>1980</td>\n",
              "      <td>1.0</td>\n",
              "      <td>4.61</td>\n",
              "    </tr>\n",
              "    <tr>\n",
              "      <th>1</th>\n",
              "      <td>1981</td>\n",
              "      <td>1.5</td>\n",
              "      <td>5.18</td>\n",
              "    </tr>\n",
              "    <tr>\n",
              "      <th>2</th>\n",
              "      <td>1982</td>\n",
              "      <td>2.0</td>\n",
              "      <td>5.09</td>\n",
              "    </tr>\n",
              "    <tr>\n",
              "      <th>3</th>\n",
              "      <td>1983</td>\n",
              "      <td>2.5</td>\n",
              "      <td>5.44</td>\n",
              "    </tr>\n",
              "    <tr>\n",
              "      <th>4</th>\n",
              "      <td>1984</td>\n",
              "      <td>3.0</td>\n",
              "      <td>0.62</td>\n",
              "    </tr>\n",
              "  </tbody>\n",
              "</table>\n",
              "</div>\n",
              "      <button class=\"colab-df-convert\" onclick=\"convertToInteractive('df-dbb9d5d9-473b-4f56-aaa2-1f3c4b4f8c84')\"\n",
              "              title=\"Convert this dataframe to an interactive table.\"\n",
              "              style=\"display:none;\">\n",
              "        \n",
              "  <svg xmlns=\"http://www.w3.org/2000/svg\" height=\"24px\"viewBox=\"0 0 24 24\"\n",
              "       width=\"24px\">\n",
              "    <path d=\"M0 0h24v24H0V0z\" fill=\"none\"/>\n",
              "    <path d=\"M18.56 5.44l.94 2.06.94-2.06 2.06-.94-2.06-.94-.94-2.06-.94 2.06-2.06.94zm-11 1L8.5 8.5l.94-2.06 2.06-.94-2.06-.94L8.5 2.5l-.94 2.06-2.06.94zm10 10l.94 2.06.94-2.06 2.06-.94-2.06-.94-.94-2.06-.94 2.06-2.06.94z\"/><path d=\"M17.41 7.96l-1.37-1.37c-.4-.4-.92-.59-1.43-.59-.52 0-1.04.2-1.43.59L10.3 9.45l-7.72 7.72c-.78.78-.78 2.05 0 2.83L4 21.41c.39.39.9.59 1.41.59.51 0 1.02-.2 1.41-.59l7.78-7.78 2.81-2.81c.8-.78.8-2.07 0-2.86zM5.41 20L4 18.59l7.72-7.72 1.47 1.35L5.41 20z\"/>\n",
              "  </svg>\n",
              "      </button>\n",
              "      \n",
              "  <style>\n",
              "    .colab-df-container {\n",
              "      display:flex;\n",
              "      flex-wrap:wrap;\n",
              "      gap: 12px;\n",
              "    }\n",
              "\n",
              "    .colab-df-convert {\n",
              "      background-color: #E8F0FE;\n",
              "      border: none;\n",
              "      border-radius: 50%;\n",
              "      cursor: pointer;\n",
              "      display: none;\n",
              "      fill: #1967D2;\n",
              "      height: 32px;\n",
              "      padding: 0 0 0 0;\n",
              "      width: 32px;\n",
              "    }\n",
              "\n",
              "    .colab-df-convert:hover {\n",
              "      background-color: #E2EBFA;\n",
              "      box-shadow: 0px 1px 2px rgba(60, 64, 67, 0.3), 0px 1px 3px 1px rgba(60, 64, 67, 0.15);\n",
              "      fill: #174EA6;\n",
              "    }\n",
              "\n",
              "    [theme=dark] .colab-df-convert {\n",
              "      background-color: #3B4455;\n",
              "      fill: #D2E3FC;\n",
              "    }\n",
              "\n",
              "    [theme=dark] .colab-df-convert:hover {\n",
              "      background-color: #434B5C;\n",
              "      box-shadow: 0px 1px 3px 1px rgba(0, 0, 0, 0.15);\n",
              "      filter: drop-shadow(0px 1px 2px rgba(0, 0, 0, 0.3));\n",
              "      fill: #FFFFFF;\n",
              "    }\n",
              "  </style>\n",
              "\n",
              "      <script>\n",
              "        const buttonEl =\n",
              "          document.querySelector('#df-dbb9d5d9-473b-4f56-aaa2-1f3c4b4f8c84 button.colab-df-convert');\n",
              "        buttonEl.style.display =\n",
              "          google.colab.kernel.accessAllowed ? 'block' : 'none';\n",
              "\n",
              "        async function convertToInteractive(key) {\n",
              "          const element = document.querySelector('#df-dbb9d5d9-473b-4f56-aaa2-1f3c4b4f8c84');\n",
              "          const dataTable =\n",
              "            await google.colab.kernel.invokeFunction('convertToInteractive',\n",
              "                                                     [key], {});\n",
              "          if (!dataTable) return;\n",
              "\n",
              "          const docLinkHtml = 'Like what you see? Visit the ' +\n",
              "            '<a target=\"_blank\" href=https://colab.research.google.com/notebooks/data_table.ipynb>data table notebook</a>'\n",
              "            + ' to learn more about interactive tables.';\n",
              "          element.innerHTML = '';\n",
              "          dataTable['output_type'] = 'display_data';\n",
              "          await google.colab.output.renderOutput(dataTable, element);\n",
              "          const docLink = document.createElement('div');\n",
              "          docLink.innerHTML = docLinkHtml;\n",
              "          element.appendChild(docLink);\n",
              "        }\n",
              "      </script>\n",
              "    </div>\n",
              "  </div>\n",
              "  "
            ],
            "text/plain": [
              "   Fecha_anual  Inversion  Ventas\n",
              "0         1980        1.0    4.61\n",
              "1         1981        1.5    5.18\n",
              "2         1982        2.0    5.09\n",
              "3         1983        2.5    5.44\n",
              "4         1984        3.0    0.62"
            ]
          },
          "metadata": {},
          "execution_count": 3
        }
      ]
    },
    {
      "cell_type": "code",
      "source": [
        "df.info()"
      ],
      "metadata": {
        "colab": {
          "base_uri": "https://localhost:8080/"
        },
        "id": "Q2Efay7yDHuQ",
        "outputId": "f497e1e2-693e-48ca-f64a-15d90932758a"
      },
      "execution_count": 4,
      "outputs": [
        {
          "output_type": "stream",
          "name": "stdout",
          "text": [
            "<class 'pandas.core.frame.DataFrame'>\n",
            "RangeIndex: 38 entries, 0 to 37\n",
            "Data columns (total 3 columns):\n",
            " #   Column       Non-Null Count  Dtype  \n",
            "---  ------       --------------  -----  \n",
            " 0   Fecha_anual  38 non-null     int64  \n",
            " 1   Inversion    38 non-null     float64\n",
            " 2   Ventas       38 non-null     float64\n",
            "dtypes: float64(2), int64(1)\n",
            "memory usage: 1.0 KB\n"
          ]
        }
      ]
    },
    {
      "cell_type": "code",
      "source": [
        "df.describe(include=['float64'])"
      ],
      "metadata": {
        "colab": {
          "base_uri": "https://localhost:8080/",
          "height": 300
        },
        "id": "fSx7bf72DJNa",
        "outputId": "d8a7ff34-b3df-4e08-ded8-c916ad26464c"
      },
      "execution_count": 5,
      "outputs": [
        {
          "output_type": "execute_result",
          "data": {
            "text/html": [
              "\n",
              "  <div id=\"df-ed1ddcd1-b965-4197-927d-b93c40a6038f\">\n",
              "    <div class=\"colab-df-container\">\n",
              "      <div>\n",
              "<style scoped>\n",
              "    .dataframe tbody tr th:only-of-type {\n",
              "        vertical-align: middle;\n",
              "    }\n",
              "\n",
              "    .dataframe tbody tr th {\n",
              "        vertical-align: top;\n",
              "    }\n",
              "\n",
              "    .dataframe thead th {\n",
              "        text-align: right;\n",
              "    }\n",
              "</style>\n",
              "<table border=\"1\" class=\"dataframe\">\n",
              "  <thead>\n",
              "    <tr style=\"text-align: right;\">\n",
              "      <th></th>\n",
              "      <th>Inversion</th>\n",
              "      <th>Ventas</th>\n",
              "    </tr>\n",
              "  </thead>\n",
              "  <tbody>\n",
              "    <tr>\n",
              "      <th>count</th>\n",
              "      <td>38.000000</td>\n",
              "      <td>38.000000</td>\n",
              "    </tr>\n",
              "    <tr>\n",
              "      <th>mean</th>\n",
              "      <td>10.250000</td>\n",
              "      <td>10.492895</td>\n",
              "    </tr>\n",
              "    <tr>\n",
              "      <th>std</th>\n",
              "      <td>5.556528</td>\n",
              "      <td>4.315321</td>\n",
              "    </tr>\n",
              "    <tr>\n",
              "      <th>min</th>\n",
              "      <td>1.000000</td>\n",
              "      <td>0.620000</td>\n",
              "    </tr>\n",
              "    <tr>\n",
              "      <th>25%</th>\n",
              "      <td>5.625000</td>\n",
              "      <td>7.565000</td>\n",
              "    </tr>\n",
              "    <tr>\n",
              "      <th>50%</th>\n",
              "      <td>10.250000</td>\n",
              "      <td>11.080000</td>\n",
              "    </tr>\n",
              "    <tr>\n",
              "      <th>75%</th>\n",
              "      <td>14.875000</td>\n",
              "      <td>14.032500</td>\n",
              "    </tr>\n",
              "    <tr>\n",
              "      <th>max</th>\n",
              "      <td>19.500000</td>\n",
              "      <td>17.450000</td>\n",
              "    </tr>\n",
              "  </tbody>\n",
              "</table>\n",
              "</div>\n",
              "      <button class=\"colab-df-convert\" onclick=\"convertToInteractive('df-ed1ddcd1-b965-4197-927d-b93c40a6038f')\"\n",
              "              title=\"Convert this dataframe to an interactive table.\"\n",
              "              style=\"display:none;\">\n",
              "        \n",
              "  <svg xmlns=\"http://www.w3.org/2000/svg\" height=\"24px\"viewBox=\"0 0 24 24\"\n",
              "       width=\"24px\">\n",
              "    <path d=\"M0 0h24v24H0V0z\" fill=\"none\"/>\n",
              "    <path d=\"M18.56 5.44l.94 2.06.94-2.06 2.06-.94-2.06-.94-.94-2.06-.94 2.06-2.06.94zm-11 1L8.5 8.5l.94-2.06 2.06-.94-2.06-.94L8.5 2.5l-.94 2.06-2.06.94zm10 10l.94 2.06.94-2.06 2.06-.94-2.06-.94-.94-2.06-.94 2.06-2.06.94z\"/><path d=\"M17.41 7.96l-1.37-1.37c-.4-.4-.92-.59-1.43-.59-.52 0-1.04.2-1.43.59L10.3 9.45l-7.72 7.72c-.78.78-.78 2.05 0 2.83L4 21.41c.39.39.9.59 1.41.59.51 0 1.02-.2 1.41-.59l7.78-7.78 2.81-2.81c.8-.78.8-2.07 0-2.86zM5.41 20L4 18.59l7.72-7.72 1.47 1.35L5.41 20z\"/>\n",
              "  </svg>\n",
              "      </button>\n",
              "      \n",
              "  <style>\n",
              "    .colab-df-container {\n",
              "      display:flex;\n",
              "      flex-wrap:wrap;\n",
              "      gap: 12px;\n",
              "    }\n",
              "\n",
              "    .colab-df-convert {\n",
              "      background-color: #E8F0FE;\n",
              "      border: none;\n",
              "      border-radius: 50%;\n",
              "      cursor: pointer;\n",
              "      display: none;\n",
              "      fill: #1967D2;\n",
              "      height: 32px;\n",
              "      padding: 0 0 0 0;\n",
              "      width: 32px;\n",
              "    }\n",
              "\n",
              "    .colab-df-convert:hover {\n",
              "      background-color: #E2EBFA;\n",
              "      box-shadow: 0px 1px 2px rgba(60, 64, 67, 0.3), 0px 1px 3px 1px rgba(60, 64, 67, 0.15);\n",
              "      fill: #174EA6;\n",
              "    }\n",
              "\n",
              "    [theme=dark] .colab-df-convert {\n",
              "      background-color: #3B4455;\n",
              "      fill: #D2E3FC;\n",
              "    }\n",
              "\n",
              "    [theme=dark] .colab-df-convert:hover {\n",
              "      background-color: #434B5C;\n",
              "      box-shadow: 0px 1px 3px 1px rgba(0, 0, 0, 0.15);\n",
              "      filter: drop-shadow(0px 1px 2px rgba(0, 0, 0, 0.3));\n",
              "      fill: #FFFFFF;\n",
              "    }\n",
              "  </style>\n",
              "\n",
              "      <script>\n",
              "        const buttonEl =\n",
              "          document.querySelector('#df-ed1ddcd1-b965-4197-927d-b93c40a6038f button.colab-df-convert');\n",
              "        buttonEl.style.display =\n",
              "          google.colab.kernel.accessAllowed ? 'block' : 'none';\n",
              "\n",
              "        async function convertToInteractive(key) {\n",
              "          const element = document.querySelector('#df-ed1ddcd1-b965-4197-927d-b93c40a6038f');\n",
              "          const dataTable =\n",
              "            await google.colab.kernel.invokeFunction('convertToInteractive',\n",
              "                                                     [key], {});\n",
              "          if (!dataTable) return;\n",
              "\n",
              "          const docLinkHtml = 'Like what you see? Visit the ' +\n",
              "            '<a target=\"_blank\" href=https://colab.research.google.com/notebooks/data_table.ipynb>data table notebook</a>'\n",
              "            + ' to learn more about interactive tables.';\n",
              "          element.innerHTML = '';\n",
              "          dataTable['output_type'] = 'display_data';\n",
              "          await google.colab.output.renderOutput(dataTable, element);\n",
              "          const docLink = document.createElement('div');\n",
              "          docLink.innerHTML = docLinkHtml;\n",
              "          element.appendChild(docLink);\n",
              "        }\n",
              "      </script>\n",
              "    </div>\n",
              "  </div>\n",
              "  "
            ],
            "text/plain": [
              "       Inversion     Ventas\n",
              "count  38.000000  38.000000\n",
              "mean   10.250000  10.492895\n",
              "std     5.556528   4.315321\n",
              "min     1.000000   0.620000\n",
              "25%     5.625000   7.565000\n",
              "50%    10.250000  11.080000\n",
              "75%    14.875000  14.032500\n",
              "max    19.500000  17.450000"
            ]
          },
          "metadata": {},
          "execution_count": 5
        }
      ]
    },
    {
      "cell_type": "code",
      "source": [
        "df.isnull().sum()"
      ],
      "metadata": {
        "colab": {
          "base_uri": "https://localhost:8080/"
        },
        "id": "-2G6ONWgy6sy",
        "outputId": "9946f2bd-7404-4aeb-a2d9-8286a43807bd"
      },
      "execution_count": 6,
      "outputs": [
        {
          "output_type": "execute_result",
          "data": {
            "text/plain": [
              "Fecha_anual    0\n",
              "Inversion      0\n",
              "Ventas         0\n",
              "dtype: int64"
            ]
          },
          "metadata": {},
          "execution_count": 6
        }
      ]
    },
    {
      "cell_type": "markdown",
      "source": [
        "El dataset no presenta valores nulos, según se puede observar en celda previa."
      ],
      "metadata": {
        "id": "QPoFoERLPp_V"
      }
    },
    {
      "cell_type": "code",
      "source": [
        "#Función que permite calcular las medidas de tendencia central, según la columna que se le pase.\n",
        "def central_tendency(col):\n",
        "    mean = f'MEAN: {round(df[col].mean(),2)}'\n",
        "    median = f'MEDIAN: {df[col].median()}'\n",
        "    print(f'Tendencia Central:\\n{mean}\\n{median}\\n')\n",
        "\n",
        "#Función para determinar las medidas de dispersión. Permite calcularlas según la columna que se quiera analizar.\n",
        "def dispersion_measure(col):\n",
        "    range = np.max(df[col]) - np.min(df[col])\n",
        "    variance = round(np.var(df[col], ddof=1),2)\n",
        "    standard_deviation = round(np.std(df[col], ddof=1),2)\n",
        "    cv = '{:.2%}'.format(standard_deviation / np.mean(df[col]))\n",
        "    print(f'Medidas de dispersión:\\n\\nRANGO: {range}\\nVARIANZA: {variance}\\nDESVIACIÓN ESTÁNDAR: {standard_deviation}\\nCOEFICIENTE DE VARIACIÓN: {cv}\\n')\n",
        "\n",
        "#Función para determinar las medidas de posición. Permite calcularlas según la columna que se quiera analizar.\n",
        "def position_measure(col):\n",
        "  IQR = ss.iqr(df[col], interpolation='midpoint')\n",
        "  #Q1 = np.percentile(df[col], 25, interpolation='midpoint')\n",
        "  Q1 = df[col].quantile(0.25)\n",
        "  #D3 = np.percentile(df[col], 90, interpolation='midpoint')\n",
        "  D3 = df[col].quantile(0.3)\n",
        "  print(f'Medidas de Posición:\\nIQR: {IQR}\\nQ1: {Q1}\\nD3: {D3}\\n')\n",
        "\n",
        "#Función para determinar las medidas de distribución. Permite calcularlas según la columna que se quiera analizar.\n",
        "def distribution_measure(col):\n",
        "    asimetria = round(df[col].skew(), 3)\n",
        "    curtosis = round(df[col].kurt(), 3)\n",
        "    print(f'Medidas de distribución (o concentración y forma):\\n\\nASIMETRIA: {asimetria},\\nCURTOSIS: {curtosis}\\n')\n",
        "\n",
        "def plots(col):\n",
        "    mean=df[col].mean()\n",
        "    median=df[col].median()\n",
        "    mode=df[col].mode()\n",
        "\n",
        "    fig, ax = plt.subplots(figsize=(10,6))\n",
        "    sns.distplot(df[col]);\n",
        "    plt.title(f'Gráfico de Distribución de la variable {col}')\n",
        "    plt.axvline(mean, color='red', label='Mean')\n",
        "    plt.axvline(median, color='green', label='Median', linestyle = '--')\n",
        "  \n",
        "    plt.legend();\n",
        "\n",
        "def boxplot(col):\n",
        "    data = df[col]\n",
        "    bp = plt.boxplot(data, showmeans=True)\n",
        "\n",
        "    medians = [round(item.get_ydata()[0], 1) for item in bp['medians']]\n",
        "    means = [round(item.get_ydata()[0], 1) for item in bp['means']]\n",
        "    minimums = [round(item.get_ydata()[0], 1) for item in bp['caps']][::2]\n",
        "    maximums = [round(item.get_ydata()[0], 1) for item in bp['caps']][1::2]\n",
        "    q1 = [round(min(item.get_ydata()), 1) for item in bp['boxes']]\n",
        "    q3 = [round(max(item.get_ydata()), 1) for item in bp['boxes']]\n",
        "    fliers = [item.get_ydata() for item in bp['fliers']]\n",
        "    lower_outliers = []\n",
        "    upper_outliers = []\n",
        "\n",
        "    for i in range(len(fliers)):\n",
        "        lower_outliers_by_box = []\n",
        "        upper_outliers_by_box = []\n",
        "        for outlier in fliers[i]:\n",
        "            if outlier < q1[i]:\n",
        "                lower_outliers_by_box.append(round(outlier, 1))\n",
        "            else:\n",
        "                upper_outliers_by_box.append(round(outlier, 1))\n",
        "        lower_outliers.append(lower_outliers_by_box)\n",
        "        upper_outliers.append(upper_outliers_by_box)    \n",
        "        \n",
        "    stats = [medians, means, minimums, maximums, q1, q3, lower_outliers, upper_outliers]\n",
        "    stats_names = ['Median', 'Mean', 'Minimum', 'Maximum', 'Q1', 'Q3', 'Lower outliers', 'Upper outliers']\n",
        "\n",
        "    for j in range(len(stats)):\n",
        "        print(f'{stats_names[j]}: {stats[j][i]}')\n",
        "\n",
        "    print('\\n')\n"
      ],
      "metadata": {
        "id": "9W3fhg_WzgEO"
      },
      "execution_count": 7,
      "outputs": []
    },
    {
      "cell_type": "code",
      "source": [
        "#Iteración para identificar las columnas numéricas y excluir el id. Las columnas resultantes entran a la función anteriormente descrita, para tener una visión general de ellas.\n",
        "for col, types in df.dtypes.items():\n",
        "    if col != 'Fecha_anual' and types != 'object':\n",
        "        print(f'ANÁLISIS DESCRIPTIVO DE {col.upper()}:\\n')\n",
        "        central_tendency(col)\n",
        "        dispersion_measure(col)\n",
        "        position_measure(col)\n",
        "        distribution_measure(col)"
      ],
      "metadata": {
        "colab": {
          "base_uri": "https://localhost:8080/"
        },
        "id": "p3lIB9DtzhuQ",
        "outputId": "51122562-e58b-436a-c639-b8ce4d21e68c"
      },
      "execution_count": 8,
      "outputs": [
        {
          "output_type": "stream",
          "name": "stdout",
          "text": [
            "ANÁLISIS DESCRIPTIVO DE INVERSION:\n",
            "\n",
            "Tendencia Central:\n",
            "MEAN: 10.25\n",
            "MEDIAN: 10.25\n",
            "\n",
            "Medidas de dispersión:\n",
            "\n",
            "RANGO: 18.5\n",
            "VARIANZA: 30.88\n",
            "DESVIACIÓN ESTÁNDAR: 5.56\n",
            "COEFICIENTE DE VARIACIÓN: 54.24%\n",
            "\n",
            "Medidas de Posición:\n",
            "IQR: 9.0\n",
            "Q1: 5.625\n",
            "D3: 6.55\n",
            "\n",
            "Medidas de distribución (o concentración y forma):\n",
            "\n",
            "ASIMETRIA: 0.0,\n",
            "CURTOSIS: -1.2\n",
            "\n",
            "ANÁLISIS DESCRIPTIVO DE VENTAS:\n",
            "\n",
            "Tendencia Central:\n",
            "MEAN: 10.49\n",
            "MEDIAN: 11.079999999999998\n",
            "\n",
            "Medidas de dispersión:\n",
            "\n",
            "RANGO: 16.83\n",
            "VARIANZA: 18.62\n",
            "DESVIACIÓN ESTÁNDAR: 4.32\n",
            "COEFICIENTE DE VARIACIÓN: 41.17%\n",
            "\n",
            "Medidas de Posición:\n",
            "IQR: 6.3149999999999995\n",
            "Q1: 7.565\n",
            "D3: 8.031\n",
            "\n",
            "Medidas de distribución (o concentración y forma):\n",
            "\n",
            "ASIMETRIA: -0.441,\n",
            "CURTOSIS: -0.36\n",
            "\n"
          ]
        }
      ]
    },
    {
      "cell_type": "code",
      "source": [
        "plots('Inversion')"
      ],
      "metadata": {
        "colab": {
          "base_uri": "https://localhost:8080/",
          "height": 404
        },
        "id": "3sqw2Cd_0nI7",
        "outputId": "69460c36-b5b5-487d-f333-04c1c22155a6"
      },
      "execution_count": 9,
      "outputs": [
        {
          "output_type": "display_data",
          "data": {
            "image/png": "[encoded data removed]",
            "text/plain": [
              "<Figure size 720x432 with 1 Axes>"
            ]
          },
          "metadata": {
            "needs_background": "light"
          }
        }
      ]
    },
    {
      "cell_type": "code",
      "source": [
        "plots('Ventas')"
      ],
      "metadata": {
        "colab": {
          "base_uri": "https://localhost:8080/",
          "height": 404
        },
        "id": "p-qROhyH6wFh",
        "outputId": "d3fcceae-28cd-4cd0-bc76-062a181cfc83"
      },
      "execution_count": 10,
      "outputs": [
        {
          "output_type": "display_data",
          "data": {
            "image/png": "[encoded data removed]",
            "text/plain": [
              "<Figure size 720x432 with 1 Axes>"
            ]
          },
          "metadata": {
            "needs_background": "light"
          }
        }
      ]
    },
    {
      "cell_type": "code",
      "source": [
        "boxplot('Inversion')"
      ],
      "metadata": {
        "colab": {
          "base_uri": "https://localhost:8080/",
          "height": 443
        },
        "id": "qKi8-yE36yao",
        "outputId": "75605db0-9645-467b-cc2f-7d5ea5bc1129"
      },
      "execution_count": 11,
      "outputs": [
        {
          "output_type": "stream",
          "name": "stdout",
          "text": [
            "Median: 10.2\n",
            "Mean: 10.2\n",
            "Minimum: 1.0\n",
            "Maximum: 19.5\n",
            "Q1: 5.6\n",
            "Q3: 14.9\n",
            "Lower outliers: []\n",
            "Upper outliers: []\n",
            "\n",
            "\n"
          ]
        },
        {
          "output_type": "display_data",
          "data": {
            "image/png": "[encoded data removed]",
            "text/plain": [
              "<Figure size 432x288 with 1 Axes>"
            ]
          },
          "metadata": {
            "needs_background": "light"
          }
        }
      ]
    },
    {
      "cell_type": "code",
      "source": [
        "boxplot('Ventas')"
      ],
      "metadata": {
        "colab": {
          "base_uri": "https://localhost:8080/",
          "height": 443
        },
        "id": "sG5b-Cfu62EB",
        "outputId": "dc3c71f6-3193-43aa-dc1b-033afa0fe02f"
      },
      "execution_count": 12,
      "outputs": [
        {
          "output_type": "stream",
          "name": "stdout",
          "text": [
            "Median: 11.1\n",
            "Mean: 10.5\n",
            "Minimum: 0.6\n",
            "Maximum: 17.4\n",
            "Q1: 7.6\n",
            "Q3: 14.0\n",
            "Lower outliers: []\n",
            "Upper outliers: []\n",
            "\n",
            "\n"
          ]
        },
        {
          "output_type": "display_data",
          "data": {
            "image/png": "[encoded data removed]",
            "text/plain": [
              "<Figure size 432x288 with 1 Axes>"
            ]
          },
          "metadata": {
            "needs_background": "light"
          }
        }
      ]
    },
    {
      "cell_type": "markdown",
      "source": [
        "El dataframe cuenta con una dimensión de 3 variables y 38 observaciones, y dice relación con las inversiones y ventas realizadas por una empresa entre los años 1980 y 2017. Sus variables son las siguientes:\n",
        "\n",
        "- **Fecha_anual**: Esta variable indica el año en el que ocurre cada observación. Es una variable cuyo origen es del tipo continua pero en el uso del presente dataframe es una variable cualitativa ordinal. Asimismo, en función de su análisis es una variable categórica ya que sirve para clasificar el año en que ocurrieron las observaciones.\n",
        "\n",
        "- **Inversion**: Esta variable se refiere a la inversión realizada en el periodo informado (entre 1980 y 2017). La inversión es una variable cuantitativa continua. En función del análisis de datos es una variable analítica.\n",
        "\n",
        "* Al realizar un breve análisis descriptivo tenemos que es una variable cuya distribución es normal, y tanto su media como su mediana tienen el mismo valor por lo que es una variable Simétrica (se observa también al calular su asimetría que es igual a 0). En relación a su distribución tiene una forma platicúrtica ya que su curtosis es negativa. Lo anterior nos indica que los datos están dispersos o no concentrados hacia la media. \n",
        "\n",
        "* En relación a la dispersión de las observaciones de esta variable, tenemos que el coeficiente de variación es de 54,24% (esto representa cuánto varían los datos respecto de su media), es decir la inversión media es 10.25 millones de euros, moviéndose 5.56 millones de euros hacia arriba y hacia abajo (desviación estándar).\n",
        "\n",
        "* Finalmente, y en relación a las medidas de posición, tenemos un rango intercuartil de 9 millones de euros, no observándose outliers en esta variable.\n",
        "\n",
        "\n",
        "- **Ventas**: Esta variable se refiere a las ventas ocurridas en el periodo informado y al igual que la variable \"Inversión\" es Cuantitativa Continua y en función del análisis es analítica.\n",
        "\n",
        "* En relación a sus estadísticos descriptivos esta variable presenta una distribución normal asimétrica negativa (es decir la cola de la distribución se alarga para valores inferiores a la media, o bien, las ventas tienden a concentrarse levemente más para valores bajo la media). La curtosis también es negativa mostrando una distribución platicúrtica de los datos, al igual que la inversión.\n",
        "\n",
        "* El coeficiente de variación de esta variable es levemente menor que para la inversión, no obstante es alto igual, un 41,17% lo que indica que hay una alta dispersión de los datos, moviendose las ventas entre +- 4,32 millones de euros, con un promedio de 10.5 millones de euros aproximadamente para todo el periodo en evaluación.\n",
        "\n",
        "* Al igual que la variable anterior, no se observan outliers.\n",
        "\n",
        "Tanto las variables Inversion como Ventas están expresadas en millones de Euros."
      ],
      "metadata": {
        "id": "5XTOuuMKH8zr"
      }
    },
    {
      "cell_type": "markdown",
      "source": [
        "### **OBSERVACIÓN DE VARIABLES MEDIANTE GRAFICO DE DISPERSIÓN**\n",
        "\n",
        "\n",
        "---\n",
        "\n"
      ],
      "metadata": {
        "id": "lxKw4kQmLIbv"
      }
    },
    {
      "cell_type": "code",
      "source": [
        "# raw data\n",
        "inversion = df[\"Inversion\"] \n",
        "ventas = df[\"Ventas\"] \n",
        "\n",
        "# labels\n",
        "plt.title(\"Inversión v/s Ventas\")\n",
        "plt.xlabel(\"Inversión\")\n",
        "plt.ylabel(\"Ventas\")\n",
        "\n",
        "# limits\n",
        "plt.xlim(inversion.min()-1 , inversion.max()+1 )\n",
        "plt.ylim(ventas.min()-1 , ventas.max()+1 )\n",
        "\n",
        "plt.scatter(inversion, ventas)\n",
        "plt.show()"
      ],
      "metadata": {
        "id": "UvAxdDpfLPtA",
        "colab": {
          "base_uri": "https://localhost:8080/",
          "height": 295
        },
        "outputId": "ccb5bece-e567-46d3-9ecf-0b25ea5eea81"
      },
      "execution_count": 13,
      "outputs": [
        {
          "output_type": "display_data",
          "data": {
            "image/png": "[encoded data removed]",
            "text/plain": [
              "<Figure size 432x288 with 1 Axes>"
            ]
          },
          "metadata": {
            "needs_background": "light"
          }
        }
      ]
    },
    {
      "cell_type": "markdown",
      "source": [
        "A través de la gráfica anterior, se puede observar con bastante claridad que las variables Inversión y Ventas están fuertemente relacionadas, es así que en general, cuando la inversión (variable independiente o x) crece, las ventas (variable dependiente o y) también crecen. Esto permite determinar que el modelo de ajuste será el de Regresión Lineal Simple."
      ],
      "metadata": {
        "id": "9ZcGFBICbqMT"
      }
    },
    {
      "cell_type": "markdown",
      "source": [
        "###**MODELO DE REGRESION LINEAL**"
      ],
      "metadata": {
        "id": "a_dIk2Uismib"
      }
    },
    {
      "cell_type": "code",
      "source": [
        "#Función para estimar parámetros b0 y b1 (coeficiente y pendiente)\n",
        "def estimate_b0_b1(x, y):\n",
        "    n = np.size(x)\n",
        "    #Promedios de X y de Y\n",
        "    mean_x, mean_y = np.mean(x), np.mean(y)\n",
        "\n",
        "    #Sumatoria de XY y Sumatoria de XX\n",
        "    sum_xy = np.sum((x - mean_x) * (y - mean_y))\n",
        "    sum_xx = np.sum(x * (x - mean_x))\n",
        "\n",
        "    #coeficientes de regresion\n",
        "    b_1 = sum_xy / sum_xx\n",
        "    b_0 = mean_y - b_1 * mean_x\n",
        "\n",
        "    return(b_0, b_1)\n",
        "\n",
        "#Funcion para graficar regresión lineal\n",
        "def plot_regression(x, y, b):\n",
        "    plt.figure(figsize=(9, 6))\n",
        "\n",
        "    plt.scatter(x, y, color = \"r\", marker = \"o\", s=30, label='observed')\n",
        "\n",
        "    y_pred = b[0] + b[1]*x\n",
        "    plt.plot(x, y_pred, color = \"b\", label='fit')\n",
        "\n",
        "    plt.title('Distribución de Inversión v/s Ventas')\n",
        "    plt.xlabel('Inversión')\n",
        "    plt.ylabel('Ventas')\n",
        "    plt.legend(loc='best')\n",
        "    plt.grid(linestyle='dotted')\n",
        "    plt.text(16, 1.2, r'$y = 2.88 + 0.74x$')\n",
        "    plt.show()"
      ],
      "metadata": {
        "id": "Q6DgHxlL7X3S"
      },
      "execution_count": 14,
      "outputs": []
    },
    {
      "cell_type": "code",
      "source": [
        "def main():\n",
        "    #DATASET\n",
        "    x = df['Inversion']\n",
        "    y = df['Ventas']\n",
        "\n",
        "    #Obtención de parámetros b0 y b1\n",
        "    b = estimate_b0_b1(x, y)\n",
        "\n",
        "    #Graficamos nuestra linea de regresion\n",
        "    plot_regression(x, y, b)\n",
        "\n",
        "if __name__== \"__main__\":\n",
        "    main()"
      ],
      "metadata": {
        "colab": {
          "base_uri": "https://localhost:8080/",
          "height": 404
        },
        "id": "J_tcp5YK7gym",
        "outputId": "b4b43dfa-eccd-4684-b0a6-ddbb2f7121c4"
      },
      "execution_count": 15,
      "outputs": [
        {
          "output_type": "display_data",
          "data": {
            "image/png": "[encoded data removed]",
            "text/plain": [
              "<Figure size 648x432 with 1 Axes>"
            ]
          },
          "metadata": {
            "needs_background": "light"
          }
        }
      ]
    },
    {
      "cell_type": "markdown",
      "source": [
        "#### **Parámetros del Modelo**"
      ],
      "metadata": {
        "id": "n_l8u4CTrlpl"
      }
    },
    {
      "cell_type": "markdown",
      "source": [
        "Al ajustar a través del Modelo de Regresión Lineal Simple, obtenemos un modelo bastante ajustado, esto quiere decir que la relación que existe entre la\n",
        "variable respuesta Y y la variable independiente X es lineal. Los parámetros obtenidos y su comprensión son los siguientes:\n",
        "\n",
        "- **b0**: También conocido como la ordenada en el origen (o el valor que toma la variable Y, o Ventas, cuando X, o Inversión, vale 0). Este parámetro tiene un valor de 2.88 MM de Euros cuando la Inversión es 0.\n",
        "- **b1**: También conocido como la pendiente de la recta (e indica cómo cambian las ventas al incrementar la inversión en una unidad), este parámetro al ser mayor que cero, indica que a medida que aumenta la Inversión, también aumentan las Ventas. Su valor es de 0.74 aprox."
      ],
      "metadata": {
        "id": "nEOE5aWdH6cj"
      }
    },
    {
      "cell_type": "code",
      "source": [
        "b = estimate_b0_b1(df['Inversion'], df['Ventas'])\n",
        "df['y_est'] = b[0] + b[1]*df['Inversion']"
      ],
      "metadata": {
        "id": "duDCLY94igR_"
      },
      "execution_count": 16,
      "outputs": []
    },
    {
      "cell_type": "markdown",
      "source": [
        "#### Parámetros adicionales"
      ],
      "metadata": {
        "id": "NsTLXA-js2rj"
      }
    },
    {
      "cell_type": "markdown",
      "source": [
        "Covarianza:\n",
        "\n",
        "---\n"
      ],
      "metadata": {
        "id": "NcLHWR_Tt2ab"
      }
    },
    {
      "cell_type": "code",
      "source": [
        "covarianza = df.cov()[\"Inversion\"][\"Ventas\"]\n",
        "covarianza"
      ],
      "metadata": {
        "colab": {
          "base_uri": "https://localhost:8080/"
        },
        "id": "aqLEUij2R_Gn",
        "outputId": "c086fb93-d74f-485f-9dec-f75337654dc0"
      },
      "execution_count": 17,
      "outputs": [
        {
          "output_type": "execute_result",
          "data": {
            "text/plain": [
              "22.92993243243243"
            ]
          },
          "metadata": {},
          "execution_count": 17
        }
      ]
    },
    {
      "cell_type": "markdown",
      "source": [
        "La **covarianza** es un valor que indica el grado de variación conjunta de dos variables aleatorias respecto a sus medias. Es el dato básico para determinar si existe una dependencia entre ambas variables y además es el dato necesario para estimar otros parámetros básicos, como el coeficiente de correlación lineal o la recta de regresión (Wikipedia).\n",
        "\n",
        "Cuando los valores altos de una de las variables suelen mayoritariamente corresponderse con los valores altos de la otra, y lo mismo se verifica para los pequeños valores de una con los de la otra, se corrobora que tienden a mostrar comportamiento similar lo que se refleja en un **valor positivo** de la covarianza, como en este caso en que su valor es de **22.9** mostrando la relación lineal positiva entre ambas variables."
      ],
      "metadata": {
        "id": "Wt-GdP-8s-C0"
      }
    },
    {
      "cell_type": "markdown",
      "source": [
        "Correlación y Matriz de Correlación:\n",
        "\n",
        "---"
      ],
      "metadata": {
        "id": "Yf-uk9oguCpO"
      }
    },
    {
      "cell_type": "code",
      "source": [
        "# Correlacion \n",
        "correlacion = df.corr(method=\"pearson\")[\"Inversion\"][\"Ventas\"]\n",
        "correlacion"
      ],
      "metadata": {
        "colab": {
          "base_uri": "https://localhost:8080/"
        },
        "id": "elNsqu-aSIpk",
        "outputId": "03a6d7c7-17a2-44f2-dcb5-865989ff7d03"
      },
      "execution_count": 18,
      "outputs": [
        {
          "output_type": "execute_result",
          "data": {
            "text/plain": [
              "0.9562823420491507"
            ]
          },
          "metadata": {},
          "execution_count": 18
        }
      ]
    },
    {
      "cell_type": "code",
      "source": [
        "# Matriz de correlación\n",
        "correlacion = df[['Inversion','Ventas']].corr()\n",
        "correlacion.style.background_gradient(cmap='coolwarm').set_precision(3)"
      ],
      "metadata": {
        "colab": {
          "base_uri": "https://localhost:8080/",
          "height": 112
        },
        "id": "jxs-vS4ZScHW",
        "outputId": "d49b640e-2ae3-4d72-b3cb-69e8c16c5198"
      },
      "execution_count": 19,
      "outputs": [
        {
          "output_type": "execute_result",
          "data": {
            "text/html": [
              "<style type=\"text/css\">\n",
              "#T_f704d_row0_col0, #T_f704d_row1_col1 {\n",
              "  background-color: #b40426;\n",
              "  color: #f1f1f1;\n",
              "}\n",
              "#T_f704d_row0_col1, #T_f704d_row1_col0 {\n",
              "  background-color: #3b4cc0;\n",
              "  color: #f1f1f1;\n",
              "}\n",
              "</style>\n",
              "<table id=\"T_f704d_\" class=\"dataframe\">\n",
              "  <thead>\n",
              "    <tr>\n",
              "      <th class=\"blank level0\" >&nbsp;</th>\n",
              "      <th class=\"col_heading level0 col0\" >Inversion</th>\n",
              "      <th class=\"col_heading level0 col1\" >Ventas</th>\n",
              "    </tr>\n",
              "  </thead>\n",
              "  <tbody>\n",
              "    <tr>\n",
              "      <th id=\"T_f704d_level0_row0\" class=\"row_heading level0 row0\" >Inversion</th>\n",
              "      <td id=\"T_f704d_row0_col0\" class=\"data row0 col0\" >1.000</td>\n",
              "      <td id=\"T_f704d_row0_col1\" class=\"data row0 col1\" >0.956</td>\n",
              "    </tr>\n",
              "    <tr>\n",
              "      <th id=\"T_f704d_level0_row1\" class=\"row_heading level0 row1\" >Ventas</th>\n",
              "      <td id=\"T_f704d_row1_col0\" class=\"data row1 col0\" >0.956</td>\n",
              "      <td id=\"T_f704d_row1_col1\" class=\"data row1 col1\" >1.000</td>\n",
              "    </tr>\n",
              "  </tbody>\n",
              "</table>\n"
            ],
            "text/plain": [
              "<pandas.io.formats.style.Styler at 0x7fb959ecd590>"
            ]
          },
          "metadata": {},
          "execution_count": 19
        }
      ]
    },
    {
      "cell_type": "markdown",
      "source": [
        "El Coeficiente de Correlación Lineal (correlación) busca medir la dependencia lineal que existe entre las dos variables en análisis. Este coeficiente no tiene dimensión y tiene un valor dentro del intervalo entre -1 y 1.\n",
        "\n",
        "La correlación entre Inversión y Ventas se observa visualmente en la matriz de correlación, donde la correlación de una variable consigo misma es 1 y con la otra, en este caso, toma un valor cercano a 1 (0.956)\n",
        "\n",
        "Dado que el coeficiente de correlación es positivo (r=0.956), esto indica que existe una relación directa entre las variables Inversión y\n",
        "Ventas. Además, dado que su valor es próximo a 1, indica una dependencia lineal muy fuerte."
      ],
      "metadata": {
        "id": "kTEx2s9Cua0p"
      }
    },
    {
      "cell_type": "markdown",
      "source": [
        "Coeficiente de Determinación:\n",
        "\n",
        "---"
      ],
      "metadata": {
        "id": "UAQWYWa2wJgd"
      }
    },
    {
      "cell_type": "code",
      "source": [
        "coeficiente_determinacion = correlacion ** 2\n",
        "coeficiente_determinacion"
      ],
      "metadata": {
        "colab": {
          "base_uri": "https://localhost:8080/",
          "height": 112
        },
        "id": "F8C9Ys8Ryike",
        "outputId": "831ce3f2-1d69-46f3-e9db-684331c996ff"
      },
      "execution_count": 20,
      "outputs": [
        {
          "output_type": "execute_result",
          "data": {
            "text/html": [
              "\n",
              "  <div id=\"df-4895e94b-a24b-4ad9-8ddb-7704c1935d0b\">\n",
              "    <div class=\"colab-df-container\">\n",
              "      <div>\n",
              "<style scoped>\n",
              "    .dataframe tbody tr th:only-of-type {\n",
              "        vertical-align: middle;\n",
              "    }\n",
              "\n",
              "    .dataframe tbody tr th {\n",
              "        vertical-align: top;\n",
              "    }\n",
              "\n",
              "    .dataframe thead th {\n",
              "        text-align: right;\n",
              "    }\n",
              "</style>\n",
              "<table border=\"1\" class=\"dataframe\">\n",
              "  <thead>\n",
              "    <tr style=\"text-align: right;\">\n",
              "      <th></th>\n",
              "      <th>Inversion</th>\n",
              "      <th>Ventas</th>\n",
              "    </tr>\n",
              "  </thead>\n",
              "  <tbody>\n",
              "    <tr>\n",
              "      <th>Inversion</th>\n",
              "      <td>1.000000</td>\n",
              "      <td>0.914476</td>\n",
              "    </tr>\n",
              "    <tr>\n",
              "      <th>Ventas</th>\n",
              "      <td>0.914476</td>\n",
              "      <td>1.000000</td>\n",
              "    </tr>\n",
              "  </tbody>\n",
              "</table>\n",
              "</div>\n",
              "      <button class=\"colab-df-convert\" onclick=\"convertToInteractive('df-4895e94b-a24b-4ad9-8ddb-7704c1935d0b')\"\n",
              "              title=\"Convert this dataframe to an interactive table.\"\n",
              "              style=\"display:none;\">\n",
              "        \n",
              "  <svg xmlns=\"http://www.w3.org/2000/svg\" height=\"24px\"viewBox=\"0 0 24 24\"\n",
              "       width=\"24px\">\n",
              "    <path d=\"M0 0h24v24H0V0z\" fill=\"none\"/>\n",
              "    <path d=\"M18.56 5.44l.94 2.06.94-2.06 2.06-.94-2.06-.94-.94-2.06-.94 2.06-2.06.94zm-11 1L8.5 8.5l.94-2.06 2.06-.94-2.06-.94L8.5 2.5l-.94 2.06-2.06.94zm10 10l.94 2.06.94-2.06 2.06-.94-2.06-.94-.94-2.06-.94 2.06-2.06.94z\"/><path d=\"M17.41 7.96l-1.37-1.37c-.4-.4-.92-.59-1.43-.59-.52 0-1.04.2-1.43.59L10.3 9.45l-7.72 7.72c-.78.78-.78 2.05 0 2.83L4 21.41c.39.39.9.59 1.41.59.51 0 1.02-.2 1.41-.59l7.78-7.78 2.81-2.81c.8-.78.8-2.07 0-2.86zM5.41 20L4 18.59l7.72-7.72 1.47 1.35L5.41 20z\"/>\n",
              "  </svg>\n",
              "      </button>\n",
              "      \n",
              "  <style>\n",
              "    .colab-df-container {\n",
              "      display:flex;\n",
              "      flex-wrap:wrap;\n",
              "      gap: 12px;\n",
              "    }\n",
              "\n",
              "    .colab-df-convert {\n",
              "      background-color: #E8F0FE;\n",
              "      border: none;\n",
              "      border-radius: 50%;\n",
              "      cursor: pointer;\n",
              "      display: none;\n",
              "      fill: #1967D2;\n",
              "      height: 32px;\n",
              "      padding: 0 0 0 0;\n",
              "      width: 32px;\n",
              "    }\n",
              "\n",
              "    .colab-df-convert:hover {\n",
              "      background-color: #E2EBFA;\n",
              "      box-shadow: 0px 1px 2px rgba(60, 64, 67, 0.3), 0px 1px 3px 1px rgba(60, 64, 67, 0.15);\n",
              "      fill: #174EA6;\n",
              "    }\n",
              "\n",
              "    [theme=dark] .colab-df-convert {\n",
              "      background-color: #3B4455;\n",
              "      fill: #D2E3FC;\n",
              "    }\n",
              "\n",
              "    [theme=dark] .colab-df-convert:hover {\n",
              "      background-color: #434B5C;\n",
              "      box-shadow: 0px 1px 3px 1px rgba(0, 0, 0, 0.15);\n",
              "      filter: drop-shadow(0px 1px 2px rgba(0, 0, 0, 0.3));\n",
              "      fill: #FFFFFF;\n",
              "    }\n",
              "  </style>\n",
              "\n",
              "      <script>\n",
              "        const buttonEl =\n",
              "          document.querySelector('#df-4895e94b-a24b-4ad9-8ddb-7704c1935d0b button.colab-df-convert');\n",
              "        buttonEl.style.display =\n",
              "          google.colab.kernel.accessAllowed ? 'block' : 'none';\n",
              "\n",
              "        async function convertToInteractive(key) {\n",
              "          const element = document.querySelector('#df-4895e94b-a24b-4ad9-8ddb-7704c1935d0b');\n",
              "          const dataTable =\n",
              "            await google.colab.kernel.invokeFunction('convertToInteractive',\n",
              "                                                     [key], {});\n",
              "          if (!dataTable) return;\n",
              "\n",
              "          const docLinkHtml = 'Like what you see? Visit the ' +\n",
              "            '<a target=\"_blank\" href=https://colab.research.google.com/notebooks/data_table.ipynb>data table notebook</a>'\n",
              "            + ' to learn more about interactive tables.';\n",
              "          element.innerHTML = '';\n",
              "          dataTable['output_type'] = 'display_data';\n",
              "          await google.colab.output.renderOutput(dataTable, element);\n",
              "          const docLink = document.createElement('div');\n",
              "          docLink.innerHTML = docLinkHtml;\n",
              "          element.appendChild(docLink);\n",
              "        }\n",
              "      </script>\n",
              "    </div>\n",
              "  </div>\n",
              "  "
            ],
            "text/plain": [
              "           Inversion    Ventas\n",
              "Inversion   1.000000  0.914476\n",
              "Ventas      0.914476  1.000000"
            ]
          },
          "metadata": {},
          "execution_count": 20
        }
      ]
    },
    {
      "cell_type": "markdown",
      "source": [
        "El coeficiente de determinación indica la calidad del modelo para replicar los resultados, y la proporción de variación de los resultados que puede explicarse por el modelo.\n",
        "\n",
        "En este caso, el Coeficiente de Determinación es de 0.91 lo que puede interpretarse como que la variable predictora (X) explica en un 91% la variación de Y (ventas). Se concluye que el modelo de Regresión Lineal es robusto."
      ],
      "metadata": {
        "id": "mQYpE4HJwIhN"
      }
    },
    {
      "cell_type": "markdown",
      "source": [
        "###**ANÁLISIS DEL MODELO A TRAVÉS DE LA SUMA DE CUADRADOS DE LOS ERRORES (SCE)**"
      ],
      "metadata": {
        "id": "jQj-itBi4AzR"
      }
    },
    {
      "cell_type": "markdown",
      "source": [
        "Este método consiste en minimizar la suma de los cuadrados de los errores y es utilizado para estimar los parámetros b0 y b1 definidos previamente. De esta manera se obtiene aquella recta que mejor se ajusta a la nube de puntos de la distribución bidimensional obteniendo un menor error en las predicciones."
      ],
      "metadata": {
        "id": "qtNVZaYh4rZD"
      }
    },
    {
      "cell_type": "code",
      "source": [
        "df['Error'] = df['Ventas'] - df['y_est'] #Diferencia entre los valores reales de venta y los estimados por el modelo\n",
        "df['Error_2'] = df['Error']**2 # Cuadrado de los errores\n",
        "df['yest_ymean_2'] = (df['y_est'] - df['Ventas'].mean())**2 # Diferencia entre los valores estimados de venta y el promedio de venta"
      ],
      "metadata": {
        "id": "QK-lnrFKjthj"
      },
      "execution_count": 21,
      "outputs": []
    },
    {
      "cell_type": "code",
      "source": [
        "df.head()"
      ],
      "metadata": {
        "colab": {
          "base_uri": "https://localhost:8080/",
          "height": 206
        },
        "id": "6y3V3ULkoKsq",
        "outputId": "4805c726-e296-4950-8f0d-507d4b440558"
      },
      "execution_count": 22,
      "outputs": [
        {
          "output_type": "execute_result",
          "data": {
            "text/html": [
              "\n",
              "  <div id=\"df-7bc9d195-39be-4a31-a7f3-42cc58b66c6d\">\n",
              "    <div class=\"colab-df-container\">\n",
              "      <div>\n",
              "<style scoped>\n",
              "    .dataframe tbody tr th:only-of-type {\n",
              "        vertical-align: middle;\n",
              "    }\n",
              "\n",
              "    .dataframe tbody tr th {\n",
              "        vertical-align: top;\n",
              "    }\n",
              "\n",
              "    .dataframe thead th {\n",
              "        text-align: right;\n",
              "    }\n",
              "</style>\n",
              "<table border=\"1\" class=\"dataframe\">\n",
              "  <thead>\n",
              "    <tr style=\"text-align: right;\">\n",
              "      <th></th>\n",
              "      <th>Fecha_anual</th>\n",
              "      <th>Inversion</th>\n",
              "      <th>Ventas</th>\n",
              "      <th>y_est</th>\n",
              "      <th>Error</th>\n",
              "      <th>Error_2</th>\n",
              "      <th>yest_ymean_2</th>\n",
              "    </tr>\n",
              "  </thead>\n",
              "  <tbody>\n",
              "    <tr>\n",
              "      <th>0</th>\n",
              "      <td>1980</td>\n",
              "      <td>1.0</td>\n",
              "      <td>4.61</td>\n",
              "      <td>3.623198</td>\n",
              "      <td>0.986802</td>\n",
              "      <td>0.973777</td>\n",
              "      <td>47.192728</td>\n",
              "    </tr>\n",
              "    <tr>\n",
              "      <th>1</th>\n",
              "      <td>1981</td>\n",
              "      <td>1.5</td>\n",
              "      <td>5.18</td>\n",
              "      <td>3.994533</td>\n",
              "      <td>1.185467</td>\n",
              "      <td>1.405331</td>\n",
              "      <td>42.228701</td>\n",
              "    </tr>\n",
              "    <tr>\n",
              "      <th>2</th>\n",
              "      <td>1982</td>\n",
              "      <td>2.0</td>\n",
              "      <td>5.09</td>\n",
              "      <td>4.365868</td>\n",
              "      <td>0.724132</td>\n",
              "      <td>0.524367</td>\n",
              "      <td>37.540453</td>\n",
              "    </tr>\n",
              "    <tr>\n",
              "      <th>3</th>\n",
              "      <td>1983</td>\n",
              "      <td>2.5</td>\n",
              "      <td>5.44</td>\n",
              "      <td>4.737203</td>\n",
              "      <td>0.702797</td>\n",
              "      <td>0.493923</td>\n",
              "      <td>33.127985</td>\n",
              "    </tr>\n",
              "    <tr>\n",
              "      <th>4</th>\n",
              "      <td>1984</td>\n",
              "      <td>3.0</td>\n",
              "      <td>0.62</td>\n",
              "      <td>5.108538</td>\n",
              "      <td>-4.488538</td>\n",
              "      <td>20.146975</td>\n",
              "      <td>28.991296</td>\n",
              "    </tr>\n",
              "  </tbody>\n",
              "</table>\n",
              "</div>\n",
              "      <button class=\"colab-df-convert\" onclick=\"convertToInteractive('df-7bc9d195-39be-4a31-a7f3-42cc58b66c6d')\"\n",
              "              title=\"Convert this dataframe to an interactive table.\"\n",
              "              style=\"display:none;\">\n",
              "        \n",
              "  <svg xmlns=\"http://www.w3.org/2000/svg\" height=\"24px\"viewBox=\"0 0 24 24\"\n",
              "       width=\"24px\">\n",
              "    <path d=\"M0 0h24v24H0V0z\" fill=\"none\"/>\n",
              "    <path d=\"M18.56 5.44l.94 2.06.94-2.06 2.06-.94-2.06-.94-.94-2.06-.94 2.06-2.06.94zm-11 1L8.5 8.5l.94-2.06 2.06-.94-2.06-.94L8.5 2.5l-.94 2.06-2.06.94zm10 10l.94 2.06.94-2.06 2.06-.94-2.06-.94-.94-2.06-.94 2.06-2.06.94z\"/><path d=\"M17.41 7.96l-1.37-1.37c-.4-.4-.92-.59-1.43-.59-.52 0-1.04.2-1.43.59L10.3 9.45l-7.72 7.72c-.78.78-.78 2.05 0 2.83L4 21.41c.39.39.9.59 1.41.59.51 0 1.02-.2 1.41-.59l7.78-7.78 2.81-2.81c.8-.78.8-2.07 0-2.86zM5.41 20L4 18.59l7.72-7.72 1.47 1.35L5.41 20z\"/>\n",
              "  </svg>\n",
              "      </button>\n",
              "      \n",
              "  <style>\n",
              "    .colab-df-container {\n",
              "      display:flex;\n",
              "      flex-wrap:wrap;\n",
              "      gap: 12px;\n",
              "    }\n",
              "\n",
              "    .colab-df-convert {\n",
              "      background-color: #E8F0FE;\n",
              "      border: none;\n",
              "      border-radius: 50%;\n",
              "      cursor: pointer;\n",
              "      display: none;\n",
              "      fill: #1967D2;\n",
              "      height: 32px;\n",
              "      padding: 0 0 0 0;\n",
              "      width: 32px;\n",
              "    }\n",
              "\n",
              "    .colab-df-convert:hover {\n",
              "      background-color: #E2EBFA;\n",
              "      box-shadow: 0px 1px 2px rgba(60, 64, 67, 0.3), 0px 1px 3px 1px rgba(60, 64, 67, 0.15);\n",
              "      fill: #174EA6;\n",
              "    }\n",
              "\n",
              "    [theme=dark] .colab-df-convert {\n",
              "      background-color: #3B4455;\n",
              "      fill: #D2E3FC;\n",
              "    }\n",
              "\n",
              "    [theme=dark] .colab-df-convert:hover {\n",
              "      background-color: #434B5C;\n",
              "      box-shadow: 0px 1px 3px 1px rgba(0, 0, 0, 0.15);\n",
              "      filter: drop-shadow(0px 1px 2px rgba(0, 0, 0, 0.3));\n",
              "      fill: #FFFFFF;\n",
              "    }\n",
              "  </style>\n",
              "\n",
              "      <script>\n",
              "        const buttonEl =\n",
              "          document.querySelector('#df-7bc9d195-39be-4a31-a7f3-42cc58b66c6d button.colab-df-convert');\n",
              "        buttonEl.style.display =\n",
              "          google.colab.kernel.accessAllowed ? 'block' : 'none';\n",
              "\n",
              "        async function convertToInteractive(key) {\n",
              "          const element = document.querySelector('#df-7bc9d195-39be-4a31-a7f3-42cc58b66c6d');\n",
              "          const dataTable =\n",
              "            await google.colab.kernel.invokeFunction('convertToInteractive',\n",
              "                                                     [key], {});\n",
              "          if (!dataTable) return;\n",
              "\n",
              "          const docLinkHtml = 'Like what you see? Visit the ' +\n",
              "            '<a target=\"_blank\" href=https://colab.research.google.com/notebooks/data_table.ipynb>data table notebook</a>'\n",
              "            + ' to learn more about interactive tables.';\n",
              "          element.innerHTML = '';\n",
              "          dataTable['output_type'] = 'display_data';\n",
              "          await google.colab.output.renderOutput(dataTable, element);\n",
              "          const docLink = document.createElement('div');\n",
              "          docLink.innerHTML = docLinkHtml;\n",
              "          element.appendChild(docLink);\n",
              "        }\n",
              "      </script>\n",
              "    </div>\n",
              "  </div>\n",
              "  "
            ],
            "text/plain": [
              "   Fecha_anual  Inversion  Ventas     y_est     Error    Error_2  yest_ymean_2\n",
              "0         1980        1.0    4.61  3.623198  0.986802   0.973777     47.192728\n",
              "1         1981        1.5    5.18  3.994533  1.185467   1.405331     42.228701\n",
              "2         1982        2.0    5.09  4.365868  0.724132   0.524367     37.540453\n",
              "3         1983        2.5    5.44  4.737203  0.702797   0.493923     33.127985\n",
              "4         1984        3.0    0.62  5.108538 -4.488538  20.146975     28.991296"
            ]
          },
          "metadata": {},
          "execution_count": 22
        }
      ]
    },
    {
      "cell_type": "code",
      "source": [
        "SCE = df['Error_2'].sum()\n",
        "SCE"
      ],
      "metadata": {
        "colab": {
          "base_uri": "https://localhost:8080/"
        },
        "id": "GzrDdd-1J21G",
        "outputId": "b341c48f-f101-49f9-aa8f-b50516bcff5a"
      },
      "execution_count": 23,
      "outputs": [
        {
          "output_type": "execute_result",
          "data": {
            "text/plain": [
              "58.927288456067394"
            ]
          },
          "metadata": {},
          "execution_count": 23
        }
      ]
    },
    {
      "cell_type": "markdown",
      "source": [
        "La suma de cuadrados de los errores puede oscilar entre 0 y cualquier valor positivo. Si esta suma da 0, el modelo de regresión se ajusta perfectamente a los datos; cuanto mayor sea su valor, ello significará que más erróneas son las predicciones de la ecuación de regresión y, por lo tanto, peor su bondad como modelo predictivo. La ausencia de un techo numérico para este índice puede resultar en la dificultad para interpretar en la práctica este valor por si solo. Por ejemplo, la SCE de este ejercicio es 58.92728.\n",
        "\n",
        "Un índice, por tanto, derivado de la SCE es el que se obtiene como media aritmética del cuadrado de los errores de predicción o Varianza de los errores, que no es más que SCE dividido por el número de observaciones (n). Ambos índices descritos anteriormente son, por sí solos, dificultosos a la hora de intrepretar.\n",
        "\n",
        "Para superar el problema interpretativo de estos índices, se agrega otro punto de referencia conocido como **la igualdad de la descomposición de la Varianza de Y**, la cual se deriva del axioma que establece la puntuación observada en la variable de respuesta es igual a la predicha según el modelo de regresión más el error de predicción cometido (Y = a + bX + e). A partir de esta igualdad se deriva algebraicamente que:\n",
        "\n",
        "S2y = S2yest + S2yx\n",
        "\n",
        "Estos términos se explican y calculan a continuación."
      ],
      "metadata": {
        "id": "YLEqW8kDKFML"
      }
    },
    {
      "cell_type": "code",
      "source": [
        "#Varianza de los errores (o residuales): Suma del cuadrado de los errores dividido por el número de observaciones\n",
        "S2yx = df['Error_2'].sum() / len(df['Error_2'])\n",
        "S2yx"
      ],
      "metadata": {
        "colab": {
          "base_uri": "https://localhost:8080/"
        },
        "id": "j_i3dxcm5qo-",
        "outputId": "522a9426-9ded-415c-a00d-854155846b2b"
      },
      "execution_count": 24,
      "outputs": [
        {
          "output_type": "execute_result",
          "data": {
            "text/plain": [
              "1.5507181172649314"
            ]
          },
          "metadata": {},
          "execution_count": 24
        }
      ]
    },
    {
      "cell_type": "code",
      "source": [
        "#Varianza de puntuaciones predichas: Suma del cuadrado de las diferencias entre valor estimado y la media de Y dividido por n\n",
        "S2yest = df['yest_ymean_2'].sum() / len(df['yest_ymean_2'])\n",
        "S2yest"
      ],
      "metadata": {
        "colab": {
          "base_uri": "https://localhost:8080/"
        },
        "id": "XhDkVdNWDHVp",
        "outputId": "32b3ec6f-82ff-4820-9b49-363f6558eb9d"
      },
      "execution_count": 25,
      "outputs": [
        {
          "output_type": "execute_result",
          "data": {
            "text/plain": [
              "16.58122876639157"
            ]
          },
          "metadata": {},
          "execution_count": 25
        }
      ]
    },
    {
      "cell_type": "code",
      "source": [
        "#Descomposición de la varianza de Y (Ventas) en la suma de varianza de residuales y varianza de valores estimados por modelo\n",
        "S2Y = S2yest + S2yx\n",
        "S2Y"
      ],
      "metadata": {
        "colab": {
          "base_uri": "https://localhost:8080/"
        },
        "id": "iAkodEIbF-_u",
        "outputId": "1ddce011-2f3e-4ee4-cb65-ff71f46fdb75"
      },
      "execution_count": 26,
      "outputs": [
        {
          "output_type": "execute_result",
          "data": {
            "text/plain": [
              "18.1319468836565"
            ]
          },
          "metadata": {},
          "execution_count": 26
        }
      ]
    },
    {
      "cell_type": "markdown",
      "source": [
        "Así la varianza en las puntuaciones de la variable de respuesta (S2Y) es igual a la varianza explicada por el modelo de regresión (o varianza de las puntuaciones predichas, S2yest) más la varianza no explicada por el modelo de regresión (o varianza de los errores o residuales, S2yx)"
      ],
      "metadata": {
        "id": "Wh6xpjYqMr2Q"
      }
    },
    {
      "cell_type": "code",
      "source": [
        "#S2Y = S2yest + S2yx o bien la Varaianza de Y (o ventas) es la suma de la varianza de los errores y la varianza de la regresion o predicciones\n",
        "R2 = S2yest / (S2yx + S2yest) #Coeficiente de determinación\n",
        "R2"
      ],
      "metadata": {
        "colab": {
          "base_uri": "https://localhost:8080/"
        },
        "id": "i0NZfm3rGboU",
        "outputId": "b6b860be-36ac-4e22-c19c-5641781890b6"
      },
      "execution_count": 27,
      "outputs": [
        {
          "output_type": "execute_result",
          "data": {
            "text/plain": [
              "0.9144759177150086"
            ]
          },
          "metadata": {},
          "execution_count": 27
        }
      ]
    },
    {
      "cell_type": "markdown",
      "source": [
        "El Coeficiente de Determinación (R2) representa la proporción de la Varianza de Y (S2Y) explicada por la variable independiente en el modelo de regresión ajustado a los datos (X). Este coeficiente siempre oscila entre 0 y 1 por lo que mientras más cerca a 1 sea, indica mejor bondad de ajuste del modelo de regresión. **El valor obtenido para el Coeficiente de Determinación, R2, es 0.91 indicando una excelente Bondad de Ajuste del Modelo**"
      ],
      "metadata": {
        "id": "7ZLQQ8P3NLWA"
      }
    },
    {
      "cell_type": "markdown",
      "source": [
        "### **EVALUACIÓN DEL MODELO DE REGRESIÓN LINEAL**\n",
        "\n",
        "\n",
        "---\n",
        "\n"
      ],
      "metadata": {
        "id": "6iwwY9y6Oq7X"
      }
    },
    {
      "cell_type": "code",
      "source": [
        "# Modelo matemático utilizando el módulo stats de la librería scipy\n",
        "pendiente, coeficiente, pearson, p, error = ss.linregress(df['Inversion'], df['Ventas'])\n",
        "print(f'La pendiente de la regresión lineal es: {pendiente}\\nEl coeficiente es: {coeficiente}\\nLa correlación con método Pearson es: {pearson}\\nEl valor de p (p-value) es: {p}\\nEl error cuadrático medio es: {error}')\n",
        "\n",
        "#Función para predecir ventas según la inversión\n",
        "def prediccion_Ventas(Inversion):\n",
        "    return coeficiente + (Inversion * pendiente)"
      ],
      "metadata": {
        "colab": {
          "base_uri": "https://localhost:8080/"
        },
        "id": "2KBAI3yOW8jb",
        "outputId": "0660895c-dbfa-4eeb-f5b7-d1832148f7a6"
      },
      "execution_count": 28,
      "outputs": [
        {
          "output_type": "stream",
          "name": "stdout",
          "text": [
            "La pendiente de la regresión lineal es: 0.7426698763540868\n",
            "El coeficiente es: 2.8805285042127142\n",
            "La correlación con método Pearson es: 0.9562823420491505\n",
            "El valor de p (p-value) es: 8.25497955552195e-21\n",
            "El error cuadrático medio es: 0.0378532029452961\n"
          ]
        }
      ]
    },
    {
      "cell_type": "markdown",
      "source": [
        "Para predecir las Ventas según la Inversión realizada se debe aplicar la función definida previamente \"prediccion_Ventas\".\n",
        "\n",
        "Por ejemplo, las Ventas obtenidas para una inversión de 7 millones de euros son de 8.079 millones de euros, tal como se puede ver a continuación:"
      ],
      "metadata": {
        "id": "76OrZYWCPDMU"
      }
    },
    {
      "cell_type": "code",
      "source": [
        "prediccion_Ventas(7.0)"
      ],
      "metadata": {
        "colab": {
          "base_uri": "https://localhost:8080/"
        },
        "id": "LHE3juMgXhzt",
        "outputId": "7bffbe9f-dd42-4e31-c0de-81777b5a004c"
      },
      "execution_count": 29,
      "outputs": [
        {
          "output_type": "execute_result",
          "data": {
            "text/plain": [
              "8.079217638691322"
            ]
          },
          "metadata": {},
          "execution_count": 29
        }
      ]
    },
    {
      "cell_type": "markdown",
      "source": [
        "### **CONCLUSIONES**\n",
        "####**Análisis Unidimensional**\n",
        "---\n",
        "El análisis realizado constó de dos grandes pasos, el primero un **análisis unidimensional** que básicamente permite observar las variables por separado, y evaluarlas según un breve análisis descriptivo que incluye medidas de tendencia central, dispersión, distribución y posición. Al respecto se puede mencionar que tanto la variable Ventas como Inversión tienen una distribución normal, la primera levemente asimétrica negativa (datos distribuídos mayormente antes de la media) y la segunda una distribución normal simétrica. No se observaron outliers en el dataframe.\n",
        "\n",
        "####**Análisis Bidimensional**\n",
        "---\n",
        "El segundo paso constó de un **análisis bidimensional**, que permitió relacionar ambas variables cuantitativas continuas del dataset, es decir Inversión (Variable independiente) y Ventas (Variable dependiente). \n",
        "\n",
        "A través de este análisis se pudo determinar que ambas variables están fuertemente relacionadas (coeficiente de correlación de Pearson sobre 0.95) a través de una relación lineal positiva, es decir a medida que aumenta la Inversión, también aumentan las ventas. \n",
        "\n",
        "El modelo ajustado para estas variables es **Y = 2.88 + 0.74X**, donde se puede deducir que para un nivel de inversión 0, las ventas toman un valor de 2.88 millones de euros, asimismo por cada incremento en una unidad de la inversión, las ventas aumentan en una proporción de 0.74 millones de euros.\n",
        "\n",
        "Finalmente de acuerdo al Coeficiente de Determinación, cuyo valor es mayor al 91%, se puede concluir que la Variable Independiente (Inversión) es capaz de explicar en un 91% la variación de los valores estimados de Ventas.\n",
        "\n",
        "Finalmente se obtuvo, a través del uso de Scipy, el valor de p (p-value). Este valor es notoriamente cercano a cero por lo que se comprueba o confirma que existe una fuerte relación entre la Inversión y las Ventas."
      ],
      "metadata": {
        "id": "ae_NFhC_QExt"
      }
    },
    {
      "cell_type": "code",
      "source": [
        ""
      ],
      "metadata": {
        "id": "AlY8obcHTAPj"
      },
      "execution_count": 29,
      "outputs": []
    }
  ]
}