{
  "nbformat": 4,
  "nbformat_minor": 0,
  "metadata": {
    "colab": {
      "name": "M2_AI3_VallejoPaula.ipynb",
      "provenance": [],
      "authorship_tag": "ABX9TyPP0rW2RzuYtKBU7SmRfZeG",
      "include_colab_link": true
    },
    "kernelspec": {
      "name": "python3",
      "display_name": "Python 3"
    },
    "language_info": {
      "name": "python"
    }
  },
  "cells": [
    {
      "cell_type": "markdown",
      "metadata": {
        "id": "view-in-github",
        "colab_type": "text"
      },
      "source": [
        "<a href=\"https://colab.research.google.com/github/PauForestal/master_bdds/blob/main/M2_AI3_VallejoPaula.ipynb\" target=\"_parent\"><img src=\"https://colab.research.google.com/assets/colab-badge.svg\" alt=\"Open In Colab\"/></a>"
      ]
    },
    {
      "cell_type": "code",
      "execution_count": 1,
      "metadata": {
        "id": "9kistYrHCMkC"
      },
      "outputs": [],
      "source": [
        "import pandas as pd\n",
        "import numpy as np\n",
        "import matplotlib.pyplot as plt\n",
        "from matplotlib import style\n",
        "import seaborn as sns\n",
        "from scipy import stats as ss\n",
        "from scipy.stats import pearsonr\n",
        "\n",
        "import warnings\n",
        "warnings.filterwarnings('ignore')\n",
        "%matplotlib inline"
      ]
    },
    {
      "cell_type": "markdown",
      "source": [
        "##**PRELIMINAR: LECTURA Y REVISIÓN DE DATAFRAME**\n",
        "\n",
        "\n",
        "---"
      ],
      "metadata": {
        "id": "mNR2if3MGJJQ"
      }
    },
    {
      "cell_type": "code",
      "source": [
        "df = pd.read_csv('https://raw.githubusercontent.com/PauForestal/master_bdds/main/Modulo2/datos_ventas.csv', sep=';',  decimal = ',')"
      ],
      "metadata": {
        "id": "5vPWWnmfCPwJ"
      },
      "execution_count": 2,
      "outputs": []
    },
    {
      "cell_type": "code",
      "source": [
        "df.head()"
      ],
      "metadata": {
        "colab": {
          "base_uri": "https://localhost:8080/",
          "height": 206
        },
        "id": "9l-7O7-5DCcS",
        "outputId": "8e41aad3-e047-4fc2-ab04-b7e5458d61ff"
      },
      "execution_count": 3,
      "outputs": [
        {
          "output_type": "execute_result",
          "data": {
            "text/html": [
              "\n",
              "  <div id=\"df-eef9a8bd-6039-4505-8d7c-7cb8fee9b8d1\">\n",
              "    <div class=\"colab-df-container\">\n",
              "      <div>\n",
              "<style scoped>\n",
              "    .dataframe tbody tr th:only-of-type {\n",
              "        vertical-align: middle;\n",
              "    }\n",
              "\n",
              "    .dataframe tbody tr th {\n",
              "        vertical-align: top;\n",
              "    }\n",
              "\n",
              "    .dataframe thead th {\n",
              "        text-align: right;\n",
              "    }\n",
              "</style>\n",
              "<table border=\"1\" class=\"dataframe\">\n",
              "  <thead>\n",
              "    <tr style=\"text-align: right;\">\n",
              "      <th></th>\n",
              "      <th>Fecha_anual</th>\n",
              "      <th>Inversion</th>\n",
              "      <th>Ventas</th>\n",
              "    </tr>\n",
              "  </thead>\n",
              "  <tbody>\n",
              "    <tr>\n",
              "      <th>0</th>\n",
              "      <td>1980</td>\n",
              "      <td>1.0</td>\n",
              "      <td>4.61</td>\n",
              "    </tr>\n",
              "    <tr>\n",
              "      <th>1</th>\n",
              "      <td>1981</td>\n",
              "      <td>1.5</td>\n",
              "      <td>5.18</td>\n",
              "    </tr>\n",
              "    <tr>\n",
              "      <th>2</th>\n",
              "      <td>1982</td>\n",
              "      <td>2.0</td>\n",
              "      <td>5.09</td>\n",
              "    </tr>\n",
              "    <tr>\n",
              "      <th>3</th>\n",
              "      <td>1983</td>\n",
              "      <td>2.5</td>\n",
              "      <td>5.44</td>\n",
              "    </tr>\n",
              "    <tr>\n",
              "      <th>4</th>\n",
              "      <td>1984</td>\n",
              "      <td>3.0</td>\n",
              "      <td>0.62</td>\n",
              "    </tr>\n",
              "  </tbody>\n",
              "</table>\n",
              "</div>\n",
              "      <button class=\"colab-df-convert\" onclick=\"convertToInteractive('df-eef9a8bd-6039-4505-8d7c-7cb8fee9b8d1')\"\n",
              "              title=\"Convert this dataframe to an interactive table.\"\n",
              "              style=\"display:none;\">\n",
              "        \n",
              "  <svg xmlns=\"http://www.w3.org/2000/svg\" height=\"24px\"viewBox=\"0 0 24 24\"\n",
              "       width=\"24px\">\n",
              "    <path d=\"M0 0h24v24H0V0z\" fill=\"none\"/>\n",
              "    <path d=\"M18.56 5.44l.94 2.06.94-2.06 2.06-.94-2.06-.94-.94-2.06-.94 2.06-2.06.94zm-11 1L8.5 8.5l.94-2.06 2.06-.94-2.06-.94L8.5 2.5l-.94 2.06-2.06.94zm10 10l.94 2.06.94-2.06 2.06-.94-2.06-.94-.94-2.06-.94 2.06-2.06.94z\"/><path d=\"M17.41 7.96l-1.37-1.37c-.4-.4-.92-.59-1.43-.59-.52 0-1.04.2-1.43.59L10.3 9.45l-7.72 7.72c-.78.78-.78 2.05 0 2.83L4 21.41c.39.39.9.59 1.41.59.51 0 1.02-.2 1.41-.59l7.78-7.78 2.81-2.81c.8-.78.8-2.07 0-2.86zM5.41 20L4 18.59l7.72-7.72 1.47 1.35L5.41 20z\"/>\n",
              "  </svg>\n",
              "      </button>\n",
              "      \n",
              "  <style>\n",
              "    .colab-df-container {\n",
              "      display:flex;\n",
              "      flex-wrap:wrap;\n",
              "      gap: 12px;\n",
              "    }\n",
              "\n",
              "    .colab-df-convert {\n",
              "      background-color: #E8F0FE;\n",
              "      border: none;\n",
              "      border-radius: 50%;\n",
              "      cursor: pointer;\n",
              "      display: none;\n",
              "      fill: #1967D2;\n",
              "      height: 32px;\n",
              "      padding: 0 0 0 0;\n",
              "      width: 32px;\n",
              "    }\n",
              "\n",
              "    .colab-df-convert:hover {\n",
              "      background-color: #E2EBFA;\n",
              "      box-shadow: 0px 1px 2px rgba(60, 64, 67, 0.3), 0px 1px 3px 1px rgba(60, 64, 67, 0.15);\n",
              "      fill: #174EA6;\n",
              "    }\n",
              "\n",
              "    [theme=dark] .colab-df-convert {\n",
              "      background-color: #3B4455;\n",
              "      fill: #D2E3FC;\n",
              "    }\n",
              "\n",
              "    [theme=dark] .colab-df-convert:hover {\n",
              "      background-color: #434B5C;\n",
              "      box-shadow: 0px 1px 3px 1px rgba(0, 0, 0, 0.15);\n",
              "      filter: drop-shadow(0px 1px 2px rgba(0, 0, 0, 0.3));\n",
              "      fill: #FFFFFF;\n",
              "    }\n",
              "  </style>\n",
              "\n",
              "      <script>\n",
              "        const buttonEl =\n",
              "          document.querySelector('#df-eef9a8bd-6039-4505-8d7c-7cb8fee9b8d1 button.colab-df-convert');\n",
              "        buttonEl.style.display =\n",
              "          google.colab.kernel.accessAllowed ? 'block' : 'none';\n",
              "\n",
              "        async function convertToInteractive(key) {\n",
              "          const element = document.querySelector('#df-eef9a8bd-6039-4505-8d7c-7cb8fee9b8d1');\n",
              "          const dataTable =\n",
              "            await google.colab.kernel.invokeFunction('convertToInteractive',\n",
              "                                                     [key], {});\n",
              "          if (!dataTable) return;\n",
              "\n",
              "          const docLinkHtml = 'Like what you see? Visit the ' +\n",
              "            '<a target=\"_blank\" href=https://colab.research.google.com/notebooks/data_table.ipynb>data table notebook</a>'\n",
              "            + ' to learn more about interactive tables.';\n",
              "          element.innerHTML = '';\n",
              "          dataTable['output_type'] = 'display_data';\n",
              "          await google.colab.output.renderOutput(dataTable, element);\n",
              "          const docLink = document.createElement('div');\n",
              "          docLink.innerHTML = docLinkHtml;\n",
              "          element.appendChild(docLink);\n",
              "        }\n",
              "      </script>\n",
              "    </div>\n",
              "  </div>\n",
              "  "
            ],
            "text/plain": [
              "   Fecha_anual  Inversion  Ventas\n",
              "0         1980        1.0    4.61\n",
              "1         1981        1.5    5.18\n",
              "2         1982        2.0    5.09\n",
              "3         1983        2.5    5.44\n",
              "4         1984        3.0    0.62"
            ]
          },
          "metadata": {},
          "execution_count": 3
        }
      ]
    },
    {
      "cell_type": "code",
      "source": [
        "df.info()"
      ],
      "metadata": {
        "colab": {
          "base_uri": "https://localhost:8080/"
        },
        "id": "Q2Efay7yDHuQ",
        "outputId": "52bbee61-658a-44e9-96fa-5ea48cb5353c"
      },
      "execution_count": 4,
      "outputs": [
        {
          "output_type": "stream",
          "name": "stdout",
          "text": [
            "<class 'pandas.core.frame.DataFrame'>\n",
            "RangeIndex: 38 entries, 0 to 37\n",
            "Data columns (total 3 columns):\n",
            " #   Column       Non-Null Count  Dtype  \n",
            "---  ------       --------------  -----  \n",
            " 0   Fecha_anual  38 non-null     int64  \n",
            " 1   Inversion    38 non-null     float64\n",
            " 2   Ventas       38 non-null     float64\n",
            "dtypes: float64(2), int64(1)\n",
            "memory usage: 1.0 KB\n"
          ]
        }
      ]
    },
    {
      "cell_type": "code",
      "source": [
        "df.describe(include=['float64'])"
      ],
      "metadata": {
        "colab": {
          "base_uri": "https://localhost:8080/",
          "height": 300
        },
        "id": "fSx7bf72DJNa",
        "outputId": "18b5e5d8-f4ae-416b-d526-d2c8590ed7ec"
      },
      "execution_count": 5,
      "outputs": [
        {
          "output_type": "execute_result",
          "data": {
            "text/html": [
              "\n",
              "  <div id=\"df-cc7778f6-d451-49ac-90d7-aff39729c367\">\n",
              "    <div class=\"colab-df-container\">\n",
              "      <div>\n",
              "<style scoped>\n",
              "    .dataframe tbody tr th:only-of-type {\n",
              "        vertical-align: middle;\n",
              "    }\n",
              "\n",
              "    .dataframe tbody tr th {\n",
              "        vertical-align: top;\n",
              "    }\n",
              "\n",
              "    .dataframe thead th {\n",
              "        text-align: right;\n",
              "    }\n",
              "</style>\n",
              "<table border=\"1\" class=\"dataframe\">\n",
              "  <thead>\n",
              "    <tr style=\"text-align: right;\">\n",
              "      <th></th>\n",
              "      <th>Inversion</th>\n",
              "      <th>Ventas</th>\n",
              "    </tr>\n",
              "  </thead>\n",
              "  <tbody>\n",
              "    <tr>\n",
              "      <th>count</th>\n",
              "      <td>38.000000</td>\n",
              "      <td>38.000000</td>\n",
              "    </tr>\n",
              "    <tr>\n",
              "      <th>mean</th>\n",
              "      <td>10.250000</td>\n",
              "      <td>10.492895</td>\n",
              "    </tr>\n",
              "    <tr>\n",
              "      <th>std</th>\n",
              "      <td>5.556528</td>\n",
              "      <td>4.315321</td>\n",
              "    </tr>\n",
              "    <tr>\n",
              "      <th>min</th>\n",
              "      <td>1.000000</td>\n",
              "      <td>0.620000</td>\n",
              "    </tr>\n",
              "    <tr>\n",
              "      <th>25%</th>\n",
              "      <td>5.625000</td>\n",
              "      <td>7.565000</td>\n",
              "    </tr>\n",
              "    <tr>\n",
              "      <th>50%</th>\n",
              "      <td>10.250000</td>\n",
              "      <td>11.080000</td>\n",
              "    </tr>\n",
              "    <tr>\n",
              "      <th>75%</th>\n",
              "      <td>14.875000</td>\n",
              "      <td>14.032500</td>\n",
              "    </tr>\n",
              "    <tr>\n",
              "      <th>max</th>\n",
              "      <td>19.500000</td>\n",
              "      <td>17.450000</td>\n",
              "    </tr>\n",
              "  </tbody>\n",
              "</table>\n",
              "</div>\n",
              "      <button class=\"colab-df-convert\" onclick=\"convertToInteractive('df-cc7778f6-d451-49ac-90d7-aff39729c367')\"\n",
              "              title=\"Convert this dataframe to an interactive table.\"\n",
              "              style=\"display:none;\">\n",
              "        \n",
              "  <svg xmlns=\"http://www.w3.org/2000/svg\" height=\"24px\"viewBox=\"0 0 24 24\"\n",
              "       width=\"24px\">\n",
              "    <path d=\"M0 0h24v24H0V0z\" fill=\"none\"/>\n",
              "    <path d=\"M18.56 5.44l.94 2.06.94-2.06 2.06-.94-2.06-.94-.94-2.06-.94 2.06-2.06.94zm-11 1L8.5 8.5l.94-2.06 2.06-.94-2.06-.94L8.5 2.5l-.94 2.06-2.06.94zm10 10l.94 2.06.94-2.06 2.06-.94-2.06-.94-.94-2.06-.94 2.06-2.06.94z\"/><path d=\"M17.41 7.96l-1.37-1.37c-.4-.4-.92-.59-1.43-.59-.52 0-1.04.2-1.43.59L10.3 9.45l-7.72 7.72c-.78.78-.78 2.05 0 2.83L4 21.41c.39.39.9.59 1.41.59.51 0 1.02-.2 1.41-.59l7.78-7.78 2.81-2.81c.8-.78.8-2.07 0-2.86zM5.41 20L4 18.59l7.72-7.72 1.47 1.35L5.41 20z\"/>\n",
              "  </svg>\n",
              "      </button>\n",
              "      \n",
              "  <style>\n",
              "    .colab-df-container {\n",
              "      display:flex;\n",
              "      flex-wrap:wrap;\n",
              "      gap: 12px;\n",
              "    }\n",
              "\n",
              "    .colab-df-convert {\n",
              "      background-color: #E8F0FE;\n",
              "      border: none;\n",
              "      border-radius: 50%;\n",
              "      cursor: pointer;\n",
              "      display: none;\n",
              "      fill: #1967D2;\n",
              "      height: 32px;\n",
              "      padding: 0 0 0 0;\n",
              "      width: 32px;\n",
              "    }\n",
              "\n",
              "    .colab-df-convert:hover {\n",
              "      background-color: #E2EBFA;\n",
              "      box-shadow: 0px 1px 2px rgba(60, 64, 67, 0.3), 0px 1px 3px 1px rgba(60, 64, 67, 0.15);\n",
              "      fill: #174EA6;\n",
              "    }\n",
              "\n",
              "    [theme=dark] .colab-df-convert {\n",
              "      background-color: #3B4455;\n",
              "      fill: #D2E3FC;\n",
              "    }\n",
              "\n",
              "    [theme=dark] .colab-df-convert:hover {\n",
              "      background-color: #434B5C;\n",
              "      box-shadow: 0px 1px 3px 1px rgba(0, 0, 0, 0.15);\n",
              "      filter: drop-shadow(0px 1px 2px rgba(0, 0, 0, 0.3));\n",
              "      fill: #FFFFFF;\n",
              "    }\n",
              "  </style>\n",
              "\n",
              "      <script>\n",
              "        const buttonEl =\n",
              "          document.querySelector('#df-cc7778f6-d451-49ac-90d7-aff39729c367 button.colab-df-convert');\n",
              "        buttonEl.style.display =\n",
              "          google.colab.kernel.accessAllowed ? 'block' : 'none';\n",
              "\n",
              "        async function convertToInteractive(key) {\n",
              "          const element = document.querySelector('#df-cc7778f6-d451-49ac-90d7-aff39729c367');\n",
              "          const dataTable =\n",
              "            await google.colab.kernel.invokeFunction('convertToInteractive',\n",
              "                                                     [key], {});\n",
              "          if (!dataTable) return;\n",
              "\n",
              "          const docLinkHtml = 'Like what you see? Visit the ' +\n",
              "            '<a target=\"_blank\" href=https://colab.research.google.com/notebooks/data_table.ipynb>data table notebook</a>'\n",
              "            + ' to learn more about interactive tables.';\n",
              "          element.innerHTML = '';\n",
              "          dataTable['output_type'] = 'display_data';\n",
              "          await google.colab.output.renderOutput(dataTable, element);\n",
              "          const docLink = document.createElement('div');\n",
              "          docLink.innerHTML = docLinkHtml;\n",
              "          element.appendChild(docLink);\n",
              "        }\n",
              "      </script>\n",
              "    </div>\n",
              "  </div>\n",
              "  "
            ],
            "text/plain": [
              "       Inversion     Ventas\n",
              "count  38.000000  38.000000\n",
              "mean   10.250000  10.492895\n",
              "std     5.556528   4.315321\n",
              "min     1.000000   0.620000\n",
              "25%     5.625000   7.565000\n",
              "50%    10.250000  11.080000\n",
              "75%    14.875000  14.032500\n",
              "max    19.500000  17.450000"
            ]
          },
          "metadata": {},
          "execution_count": 5
        }
      ]
    },
    {
      "cell_type": "markdown",
      "source": [
        "El dataframe cuenta con una dimensión de 3 variables y 38 observaciones, y dice relación con las inversiones y ventas realizadas por una empresa entre los años 1980 y 2017. Sus variables son las siguientes:\n",
        "\n",
        "- **Fecha_anual**: Esta variable indica el año en el que ocurre cada observación. Es una variable cuyo origen es del tipo continua pero en el uso del presente dataframe es una varialbe cualitativa ordinal. Asimismo, en función de su análisis es una variable categórica ya que sirve para clasificar el año en que ocurrieron las observaciones.\n",
        "- **Inversion**: Esta variable se refiere a la inversión realizada en el periodo informado, es una variable cuantitativa continua. En función del análisis de datos es una variable analítica.\n",
        "- **Ventas**: Esta variable se refiere a las ventas ocurridas en el periodo informado y al igual que la variable \"Inversión\" es Cuantitativa Continua y en función del análisis es analítica.\n",
        "\n",
        "Tanto las variables Inversion como Ventas están expresadas en millones de Euros."
      ],
      "metadata": {
        "id": "5XTOuuMKH8zr"
      }
    },
    {
      "cell_type": "markdown",
      "source": [
        "### **OBSERVACIÓN DE VARIABLES MEDIANTE GRAFICO DE DISPERSIÓN**\n",
        "\n",
        "\n",
        "---\n",
        "\n"
      ],
      "metadata": {
        "id": "lxKw4kQmLIbv"
      }
    },
    {
      "cell_type": "code",
      "source": [
        "# raw data\n",
        "inversion = df[\"Inversion\"] \n",
        "ventas = df[\"Ventas\"] \n",
        "\n",
        "# labels\n",
        "plt.title(\"Inversión v/s Ventas\")\n",
        "plt.xlabel(\"Inversión\")\n",
        "plt.ylabel(\"Ventas\")\n",
        "\n",
        "# limits\n",
        "plt.xlim(inversion.min()-1 , inversion.max()+1 )\n",
        "plt.ylim(ventas.min()-1 , ventas.max()+1 )\n",
        "\n",
        "plt.scatter(inversion, ventas)\n",
        "plt.show()"
      ],
      "metadata": {
        "id": "UvAxdDpfLPtA",
        "colab": {
          "base_uri": "https://localhost:8080/",
          "height": 295
        },
        "outputId": "74927463-fdcb-4d37-8430-cc576b8b555f"
      },
      "execution_count": 32,
      "outputs": [
        {
          "output_type": "display_data",
          "data": {
            "image/png": "[encoded data removed]",
            "text/plain": [
              "<Figure size 432x288 with 1 Axes>"
            ]
          },
          "metadata": {
            "needs_background": "light"
          }
        }
      ]
    },
    {
      "cell_type": "markdown",
      "source": [
        "A través de la gráfica anterior, se puede observar con bastante claridad que las variables Inversión y Ventas están fuertemente relacionadas, es así que en general, cuando la inversión (variable independiente o x) crece, las ventas (variable dependiente o y) también crecen. Esto permite determinar que el modelo de ajuste será el de Regresión Lineal Simple."
      ],
      "metadata": {
        "id": "9ZcGFBICbqMT"
      }
    },
    {
      "cell_type": "markdown",
      "source": [
        "###**MODELO DE REGRESION LINEAL**"
      ],
      "metadata": {
        "id": "a_dIk2Uismib"
      }
    },
    {
      "cell_type": "code",
      "source": [
        "#Función para estimar parámetros b0 y b1 (coeficiente y pendiente)\n",
        "def estimate_b0_b1(x, y):\n",
        "    n = np.size(x)\n",
        "    #Promedios de X y de Y\n",
        "    mean_x, mean_y = np.mean(x), np.mean(y)\n",
        "\n",
        "    #Sumatoria de XY y Sumatoria de XX\n",
        "    sum_xy = np.sum((x - mean_x) * (y - mean_y))\n",
        "    sum_xx = np.sum(x * (x - mean_x))\n",
        "\n",
        "    #coeficientes de regresion\n",
        "    b_1 = sum_xy / sum_xx\n",
        "    b_0 = mean_y - b_1 * mean_x\n",
        "\n",
        "    return(b_0, b_1)\n",
        "\n",
        "#Funcion para graficar regresión lineal\n",
        "def plot_regression(x, y, b):\n",
        "    plt.figure(figsize=(9, 6))\n",
        "\n",
        "    plt.scatter(x, y, color = \"r\", marker = \"o\", s=30, label='observed')\n",
        "\n",
        "    y_pred = b[0] + b[1]*x\n",
        "    plt.plot(x, y_pred, color = \"b\", label='fit')\n",
        "\n",
        "    plt.title('Distribución de Inversión v/s Ventas')\n",
        "    plt.xlabel('Inversión')\n",
        "    plt.ylabel('Ventas')\n",
        "    plt.legend(loc='best')\n",
        "    plt.grid(linestyle='dotted')\n",
        "    plt.text(16, 1.2, r'$y = 2.88 + 0.74x$')\n",
        "    plt.show()"
      ],
      "metadata": {
        "id": "Q6DgHxlL7X3S"
      },
      "execution_count": 154,
      "outputs": []
    },
    {
      "cell_type": "code",
      "source": [
        "def main():\n",
        "    #DATASET\n",
        "    x = df['Inversion']\n",
        "    y = df['Ventas']\n",
        "\n",
        "    #Obtención de parámetros b0 y b1\n",
        "    b = estimate_b0_b1(x, y)\n",
        "\n",
        "    #Graficamos nuestra linea de regresion\n",
        "    plot_regression(x, y, b)\n",
        "\n",
        "if __name__== \"__main__\":\n",
        "    main()"
      ],
      "metadata": {
        "colab": {
          "base_uri": "https://localhost:8080/",
          "height": 404
        },
        "id": "J_tcp5YK7gym",
        "outputId": "c223dd10-b4de-44b6-91e7-9dedddf0c2ac"
      },
      "execution_count": 155,
      "outputs": [
        {
          "output_type": "display_data",
          "data": {
            "image/png": "[encoded data removed]",
            "text/plain": [
              "<Figure size 648x432 with 1 Axes>"
            ]
          },
          "metadata": {
            "needs_background": "light"
          }
        }
      ]
    },
    {
      "cell_type": "markdown",
      "source": [
        "Al ajustar a través del Modelo de Regresión Lineal Simple, obtenemos un modelo bastante ajustado. Los parámtros obtenidos y su comprensión son los siguientes:\n",
        "\n",
        "- **b0**: También conocido como la constante del modelo. Indica el punto de corte con el eje Y. Desde donde se comienz"
      ],
      "metadata": {
        "id": "nEOE5aWdH6cj"
      }
    },
    {
      "cell_type": "code",
      "source": [
        "covarianza = df.cov()[\"Inversion\"][\"Ventas\"]\n",
        "covarianza"
      ],
      "metadata": {
        "colab": {
          "base_uri": "https://localhost:8080/"
        },
        "id": "aqLEUij2R_Gn",
        "outputId": "56097dd5-f97f-4032-ef00-4e30d02bcd80"
      },
      "execution_count": 7,
      "outputs": [
        {
          "output_type": "execute_result",
          "data": {
            "text/plain": [
              "22.92993243243243"
            ]
          },
          "metadata": {},
          "execution_count": 7
        }
      ]
    },
    {
      "cell_type": "code",
      "source": [
        "# Correlacion \n",
        "correlacion = df.corr(method=\"pearson\")[\"Inversion\"][\"Ventas\"]\n",
        "correlacion"
      ],
      "metadata": {
        "colab": {
          "base_uri": "https://localhost:8080/"
        },
        "id": "elNsqu-aSIpk",
        "outputId": "867cb390-f43a-4cd5-eedb-3bab59615ecb"
      },
      "execution_count": 90,
      "outputs": [
        {
          "output_type": "execute_result",
          "data": {
            "text/plain": [
              "0.9562823420491507"
            ]
          },
          "metadata": {},
          "execution_count": 90
        }
      ]
    },
    {
      "cell_type": "code",
      "source": [
        "# Matriz de correlación\n",
        "correlacion = df[['Inversion','Ventas']].corr()\n",
        "correlacion.style.background_gradient(cmap='coolwarm').set_precision(3)"
      ],
      "metadata": {
        "colab": {
          "base_uri": "https://localhost:8080/",
          "height": 112
        },
        "id": "jxs-vS4ZScHW",
        "outputId": "e2f05dd3-aced-45eb-f2bc-7f0223027a24"
      },
      "execution_count": 100,
      "outputs": [
        {
          "output_type": "execute_result",
          "data": {
            "text/html": [
              "<style type=\"text/css\">\n",
              "#T_efd3a_row0_col0, #T_efd3a_row1_col1 {\n",
              "  background-color: #b40426;\n",
              "  color: #f1f1f1;\n",
              "}\n",
              "#T_efd3a_row0_col1, #T_efd3a_row1_col0 {\n",
              "  background-color: #3b4cc0;\n",
              "  color: #f1f1f1;\n",
              "}\n",
              "</style>\n",
              "<table id=\"T_efd3a_\" class=\"dataframe\">\n",
              "  <thead>\n",
              "    <tr>\n",
              "      <th class=\"blank level0\" >&nbsp;</th>\n",
              "      <th class=\"col_heading level0 col0\" >Inversion</th>\n",
              "      <th class=\"col_heading level0 col1\" >Ventas</th>\n",
              "    </tr>\n",
              "  </thead>\n",
              "  <tbody>\n",
              "    <tr>\n",
              "      <th id=\"T_efd3a_level0_row0\" class=\"row_heading level0 row0\" >Inversion</th>\n",
              "      <td id=\"T_efd3a_row0_col0\" class=\"data row0 col0\" >1.000</td>\n",
              "      <td id=\"T_efd3a_row0_col1\" class=\"data row0 col1\" >0.956</td>\n",
              "    </tr>\n",
              "    <tr>\n",
              "      <th id=\"T_efd3a_level0_row1\" class=\"row_heading level0 row1\" >Ventas</th>\n",
              "      <td id=\"T_efd3a_row1_col0\" class=\"data row1 col0\" >0.956</td>\n",
              "      <td id=\"T_efd3a_row1_col1\" class=\"data row1 col1\" >1.000</td>\n",
              "    </tr>\n",
              "  </tbody>\n",
              "</table>\n"
            ],
            "text/plain": [
              "<pandas.io.formats.style.Styler at 0x7f8699bfdcd0>"
            ]
          },
          "metadata": {},
          "execution_count": 100
        }
      ]
    },
    {
      "cell_type": "code",
      "source": [
        "coeficiente_determinacion = correlacion ** 2\n",
        "coeficiente_determinacion"
      ],
      "metadata": {
        "colab": {
          "base_uri": "https://localhost:8080/"
        },
        "id": "F8C9Ys8Ryike",
        "outputId": "ae692159-521c-4d2e-92df-deaa1f181d95"
      },
      "execution_count": 89,
      "outputs": [
        {
          "output_type": "execute_result",
          "data": {
            "text/plain": [
              "0.9144759177150089"
            ]
          },
          "metadata": {},
          "execution_count": 89
        }
      ]
    },
    {
      "cell_type": "code",
      "source": [
        "# Modelo matemático\n",
        "pendiente, coeficiente, pearson, p, error = ss.linregress(df['Inversion'], df['Ventas'])\n",
        "print(f'La pendiente de la regresión lineal es: {pendiente}\\nEl coeficiente es: {coeficiente}\\nLa correlación con método Pearson es: {pearson}\\nEl valor de p (p-value) es: {p}\\nEl error cuadrático medio es: {error}')\n",
        "\n",
        "#Función para predecir ventas según la inversión\n",
        "def Ventas(Inversion):\n",
        "    return coeficiente + (Inversion * pendiente)"
      ],
      "metadata": {
        "colab": {
          "base_uri": "https://localhost:8080/"
        },
        "id": "2KBAI3yOW8jb",
        "outputId": "3153bb4f-d8d8-4ed5-b743-ad9c10da544f"
      },
      "execution_count": 153,
      "outputs": [
        {
          "output_type": "stream",
          "name": "stdout",
          "text": [
            "La pendiente de la regresión lineal es: 0.7426698763540868\n",
            "El coeficiente es: 2.8805285042127142\n",
            "La correlación con método Pearson es: 0.9562823420491505\n",
            "El valor de p (p-value) es: 8.25497955552195e-21\n",
            "El error cuadrático medio es: 0.0378532029452961\n"
          ]
        }
      ]
    },
    {
      "cell_type": "code",
      "source": [
        "Ventas(7.0)"
      ],
      "metadata": {
        "colab": {
          "base_uri": "https://localhost:8080/"
        },
        "id": "LHE3juMgXhzt",
        "outputId": "7a0c3aea-f66d-497a-cfb4-75ffef506617"
      },
      "execution_count": 31,
      "outputs": [
        {
          "output_type": "execute_result",
          "data": {
            "text/plain": [
              "8.079217638691322"
            ]
          },
          "metadata": {},
          "execution_count": 31
        }
      ]
    },
    {
      "cell_type": "markdown",
      "source": [
        "## **Descripción de la tarea**\n",
        "Una empresa os ha facilitado las inversiones y las ventas obtenidas desde el año 1980 hasta 2017.\n",
        "\n",
        "Necesitáis realizar las siguientes tareas:\n",
        "\n",
        "1. Ajustar un modelo de regresión lineal. Obtener una estimación de los parámetros del modelo y su interpretación.\n",
        "2. ¿Cuántas ventas se obtendrían si se invirtiesen 7 millones de euros?\n",
        "3. Evaluar el modelo a través de la SCE y el coeficiente de determinación.\n",
        "4. Comenta y justifica todos los resultados obtenidos en cada apartado.\n",
        "\n",
        "**Observaciones:**\n",
        "\n",
        "1. El dataset se llama datos_ventas.csv.\n",
        "2. La unidad monetaria está en millones de euros."
      ],
      "metadata": {
        "id": "S0Reg4SKD691"
      }
    },
    {
      "cell_type": "code",
      "source": [
        ""
      ],
      "metadata": {
        "id": "L1jWBbOMBan9"
      },
      "execution_count": null,
      "outputs": []
    }
  ]
}